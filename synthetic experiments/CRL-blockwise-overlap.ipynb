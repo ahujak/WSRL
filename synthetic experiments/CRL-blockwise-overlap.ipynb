{
 "cells": [
  {
   "cell_type": "code",
   "execution_count": 3,
   "id": "1f4c27a8",
   "metadata": {},
   "outputs": [],
   "source": [
    "\n",
    "import os\n",
    "import numpy as np\n",
    "import torch\n",
    "from torch import nn\n",
    "from scipy.stats import ortho_group\n",
    "from typing import Union\n",
    "from typing_extensions import Literal\n",
    "from pytorch_lightning import LightningModule, Trainer\n",
    "from torch.nn import functional as F\n",
    "from torch.utils.data import DataLoader, random_split\n",
    "from torchmetrics import Accuracy\n",
    "from torchvision import transforms\n",
    "\n",
    "from torchvision.datasets import MNIST\n",
    "PATH_DATASETS = os.environ.get(\"PATH_DATASETS\", \".\")\n",
    "AVAIL_GPUS = min(1, torch.cuda.device_count())\n",
    "BATCH_SIZE = 10000 if AVAIL_GPUS else 64\n",
    "import matplotlib.pyplot as plt\n",
    "from scipy.optimize import linear_sum_assignment\n",
    "from scipy.linalg import block_diag\n",
    "from sklearn.linear_model import LinearRegression\n",
    "from matplotlib import rc\n",
    "#rc('font',**{'family':'sans-serif','sans-serif':['Helvetica']})\n",
    "rc('font',**{'family':'serif','serif':['Times']})\n",
    "rc('text', usetex=True)"
   ]
  },
  {
   "cell_type": "markdown",
   "id": "3e933c5e",
   "metadata": {},
   "source": [
    "## Standard MCC"
   ]
  },
  {
   "cell_type": "code",
   "execution_count": 4,
   "id": "0343966e",
   "metadata": {},
   "outputs": [],
   "source": [
    "def MCC(Z,Zp):\n",
    "    n = np.shape(Z)[1]\n",
    "    rho_matrix = np.zeros((n,n))\n",
    "    for i in range(n):\n",
    "        for j in range(n):\n",
    "            rho_matrix[i,j] = np.abs(np.corrcoef(Z[:,i], Zp[:,j])[0,1])\n",
    "    \n",
    "    print(rho_matrix)\n",
    "    r,c = linear_sum_assignment(-rho_matrix)\n",
    "    \n",
    "    return np.mean(rho_matrix[r,c])"
   ]
  },
  {
   "cell_type": "markdown",
   "id": "2303dcfc",
   "metadata": {},
   "source": [
    "## Invertible MLP function from CIDGP paper"
   ]
  },
  {
   "cell_type": "code",
   "execution_count": 5,
   "id": "b65ff926",
   "metadata": {},
   "outputs": [],
   "source": [
    "## Invertible MLP function from CIDGP paper\n",
    "\n",
    "def construct_invertible_mlp(\n",
    "    n: int = 20,\n",
    "    n_layers: int = 2,\n",
    "    n_iter_cond_thresh: int = 10000,\n",
    "    cond_thresh_ratio: float = 0.25,\n",
    "    weight_matrix_init: Union[Literal[\"pcl\"], Literal[\"rvs\"]] = \"pcl\",\n",
    "    act_fct: Union[\n",
    "        Literal[\"relu\"],\n",
    "        Literal[\"leaky_relu\"],\n",
    "        Literal[\"elu\"],\n",
    "        Literal[\"smooth_leaky_relu\"],\n",
    "        Literal[\"softplus\"],\n",
    "    ] = \"leaky_relu\",\n",
    "):\n",
    "   \n",
    "    \"\"\"\n",
    "    Create an (approximately) invertible mixing network based on an MLP.\n",
    "    Based on the mixing code by Hyvarinen et al.\n",
    "    Args:\n",
    "        n: Dimensionality of the input and output data\n",
    "        n_layers: Number of layers in the MLP.\n",
    "        n_iter_cond_thresh: How many random matrices to use as a pool to find weights.\n",
    "        cond_thresh_ratio: Relative threshold how much the invertibility\n",
    "            (based on the condition number) can be violated in each layer.\n",
    "        weight_matrix_init: How to initialize the weight matrices.\n",
    "        act_fct: Activation function for hidden layers.\n",
    "    \"\"\"\n",
    "\n",
    "    class SmoothLeakyReLU(nn.Module):\n",
    "        def __init__(self, alpha=0.2):\n",
    "            super().__init__()\n",
    "            self.alpha = alpha\n",
    "\n",
    "        def forward(self, x):\n",
    "            return self.alpha * x + (1 - self.alpha) * torch.log(1 + torch.exp(x))\n",
    "\n",
    "    def get_act_fct(act_fct):\n",
    "        if act_fct == \"relu\":\n",
    "            return torch.nn.ReLU, {}, 1\n",
    "        if act_fct == \"leaky_relu\":\n",
    "            return torch.nn.LeakyReLU, {\"negative_slope\": 0.2}, 1\n",
    "        elif act_fct == \"elu\":\n",
    "            return torch.nn.ELU, {\"alpha\": 1.0}, 1\n",
    "        elif act_fct == \"max_out\":\n",
    "            raise NotImplemented()\n",
    "        elif act_fct == \"smooth_leaky_relu\":\n",
    "            return SmoothLeakyReLU, {\"alpha\": 0.2}, 1\n",
    "        elif act_fct == \"softplus\":\n",
    "            return torch.nn.Softplus, {\"beta\": 1}, 1\n",
    "        else:\n",
    "            raise Exception(f\"activation function {act_fct} not defined.\")\n",
    "\n",
    "    layers = []\n",
    "    act_fct, act_kwargs, act_fac = get_act_fct(act_fct)\n",
    "\n",
    "    # Subfuction to normalize mixing matrix\n",
    "    def l2_normalize(Amat, axis=0):\n",
    "        # axis: 0=column-normalization, 1=row-normalization\n",
    "        l2norm = np.sqrt(np.sum(Amat * Amat, axis))\n",
    "        Amat = Amat / l2norm\n",
    "        return Amat\n",
    "    print (n_iter_cond_thresh)\n",
    "    condList = np.zeros([n_iter_cond_thresh])\n",
    "    if weight_matrix_init == \"pcl\":\n",
    "        for i in range(n_iter_cond_thresh):\n",
    "            A = np.random.uniform(-1, 1, [n, n])\n",
    "            A = l2_normalize(A, axis=0)\n",
    "            condList[i] = np.linalg.cond(A)\n",
    "        condList.sort()  # Ascending order\n",
    "    condThresh = condList[int(n_iter_cond_thresh * cond_thresh_ratio)]\n",
    "    print(\"condition number threshold: {0:f}\".format(condThresh))\n",
    "\n",
    "    for i in range(n_layers):\n",
    "\n",
    "        lin_layer = nn.Linear(n, n, bias=False)\n",
    "\n",
    "        if weight_matrix_init == \"pcl\":\n",
    "            condA = condThresh + 1\n",
    "            while condA > condThresh:\n",
    "                weight_matrix = np.random.uniform(-1, 1, (n, n))\n",
    "                weight_matrix = l2_normalize(weight_matrix, axis=0)\n",
    "\n",
    "                condA = np.linalg.cond(weight_matrix)\n",
    "                # print(\"    L{0:d}: cond={1:f}\".format(i, condA))\n",
    "            print(\n",
    "                f\"layer {i+1}/{n_layers},  condition number: {np.linalg.cond(weight_matrix)}\"\n",
    "            )\n",
    "            lin_layer.weight.data = torch.tensor(weight_matrix, dtype=torch.float32)\n",
    "\n",
    "        elif weight_matrix_init == \"rvs\":\n",
    "            weight_matrix = ortho_group.rvs(n)\n",
    "            lin_layer.weight.data = torch.tensor(weight_matrix, dtype=torch.float32)\n",
    "        elif weight_matrix_init == \"expand\":\n",
    "            pass\n",
    "        else:\n",
    "            raise Exception(f\"weight matrix {weight_matrix_init} not implemented\")\n",
    "\n",
    "        layers.append(lin_layer)\n",
    "\n",
    "        if i < n_layers - 1:\n",
    "            layers.append(act_fct(**act_kwargs))\n",
    "\n",
    "    mixing_net = nn.Sequential(*layers)\n",
    "\n",
    "    # fix parameters\n",
    "    for p in mixing_net.parameters():\n",
    "        p.requires_grad = False\n",
    "\n",
    "    return mixing_net"
   ]
  },
  {
   "cell_type": "markdown",
   "id": "c9f1ed88",
   "metadata": {},
   "source": [
    "## Data generation function"
   ]
  },
  {
   "cell_type": "code",
   "execution_count": 6,
   "id": "96731c60",
   "metadata": {},
   "outputs": [],
   "source": [
    "def data_generation_MLP(n, n_layers, cond_thresh_ratio, n_iter_cond_thresh, n_data, distribution): \n",
    "    if(distribution == \"uniform_non_linear\"): # all components of z are uniform i.i.d.\n",
    "        data_Z        = np.random.rand(n_data, n)*5.0\n",
    "        tensor_Z      = torch.Tensor(data_Z)\n",
    "\n",
    "    if(distribution == \"normal_non_linear\"): # all components of z are uniform i.i.d.            \n",
    "        A1 = np.ones((n//2,n//2))\n",
    "        A2 = np.ones((n//2,n//2))\n",
    "        A = block_diag(A1,A2)\n",
    "        data_Z = np.random.multivariate_normal(mean=np.zeros(n), cov=np.eye(n) + A@A.T, size=n_data, check_valid='warn', tol=1e-8)\n",
    "        tensor_Z      = torch.Tensor(data_Z)\n",
    "\n",
    "    g = construct_invertible_mlp(n, n_layers,   n_iter_cond_thresh, cond_thresh_ratio)  \n",
    "    data = g(tensor_Z)\n",
    "    data_Z_list   = [tensor_Z]\n",
    "    data_X_list     = [data]\n",
    "    offset = torch.cat((torch.ones((n_data,1)), torch.ones((n_data,1))), axis=1)\n",
    "    for i in range(n):\n",
    "        if(i<=n-2):\n",
    "            tensor_Z_copy = torch.clone(tensor_Z)\n",
    "            tensor_Z_copy[:,i:i+2] = tensor_Z_copy[:,i:i+2] + offset\n",
    "            data_copy = g(tensor_Z_copy)\n",
    "            data_Z_list.append(tensor_Z_copy)\n",
    "            data_X_list.append(data_copy)\n",
    "            data_X_tuple = tuple(data_X_list)\n",
    "            data_Z_tuple  = tuple(data_Z_list)\n",
    "        else:\n",
    "            tensor_Z_copy = torch.clone(tensor_Z)\n",
    "            tensor_Z_copy[:,n-1] = tensor_Z_copy[:,n-1] + offset[:,0]\n",
    "            tensor_Z_copy[:,0] = tensor_Z_copy[:,0] + offset[:,1]\n",
    "            data_copy = g(tensor_Z_copy)\n",
    "            data_Z_list.append(tensor_Z_copy)\n",
    "            data_X_list.append(data_copy)\n",
    "            data_X_tuple = tuple(data_X_list)\n",
    "            data_Z_tuple  = tuple(data_Z_list)\n",
    "\n",
    "\n",
    "    return data_X_list, data_Z_list"
   ]
  },
  {
   "cell_type": "markdown",
   "id": "b3708477",
   "metadata": {},
   "source": [
    "## Construct the model and loss (compares intervened and default latent)\n"
   ]
  },
  {
   "cell_type": "code",
   "execution_count": 7,
   "id": "658bec20",
   "metadata": {},
   "outputs": [],
   "source": [
    "class Latent_comparison_model(LightningModule):\n",
    "    def __init__(self,n):\n",
    "        super().__init__()\n",
    "        self.n     = n\n",
    "        num_hidden = 100\n",
    "        self.linear1 = nn.Linear(self.n, num_hidden)\n",
    "        self.act_fn1 = nn.ReLU()\n",
    "        self.linear2 = nn.Linear(num_hidden, num_hidden)\n",
    "        self.act_fn2 = nn.ReLU()\n",
    "        self.linear3 = nn.Linear(num_hidden, self.n)\n",
    "        offset_matrix = torch.Tensor(np.random.RandomState(1).uniform(1, 5, size=(self.n,2)))\n",
    "        self.offset_matrix = torch.nn.Parameter(offset_matrix, requires_grad=True)\n",
    "        \n",
    "    def forward(self, x):       \n",
    "        \n",
    "        x = self.linear1(x)\n",
    "        x = self.act_fn1(x)\n",
    "        x = self.linear2(x)\n",
    "        x = self.act_fn2(x)\n",
    "        x = self.linear3(x)\n",
    "        \n",
    "        return x\n",
    "\n",
    "    def training_step(self, batch_X_list):\n",
    "        L      = len(batch_X_list)\n",
    "        X_0    = batch_X_list[0]\n",
    "        n_d    = X_0.size()[0]\n",
    "        \n",
    "        loss   = 0.0\n",
    "              \n",
    "        \n",
    "        for i in range(1,L):\n",
    "            if(i<=L-2):\n",
    "                offset = torch.ones((n_d,2))*self.offset_matrix[i-1]\n",
    "                Z_target  = self(batch_X_list[i])\n",
    "                Z_predict = self(X_0) \n",
    "                Z_predict[:,i-1:i+1] = Z_predict[:,i-1:i+1] + offset \n",
    "                loss = loss + F.mse_loss(Z_predict, Z_target)\n",
    "            else:\n",
    "                offset = torch.ones((n_d,2))*self.offset_matrix[i-1]\n",
    "                Z_target  = self(batch_X_list[i])\n",
    "                Z_predict = self(X_0) \n",
    "                Z_predict[:,0]   = Z_predict[:,0] + offset[:,1] \n",
    "                Z_predict[:,L-2] = Z_predict[:,L-2] + offset[:,0]\n",
    "                loss = loss + F.mse_loss(Z_predict, Z_target)\n",
    "\n",
    "            \n",
    "        return loss\n",
    "    \n",
    "    def validation_step(self, batch_X_list):\n",
    "        L      = len(batch_X_list)\n",
    "        X_0    = batch_X_list[0]\n",
    "        n_d    = X_0.size()[0]\n",
    "        offset = torch.cat((torch.ones((n_data,1)), torch.ones((n_data,1))), axis=1)\n",
    "        loss   = 0.0\n",
    "        for i in range(1,L-1):\n",
    "            Z_target  = self(batch_X_list[i])\n",
    "            Z_predict = self(X_0) \n",
    "            Z_predict[:,i-1] = Z_predict[:,i-1] + offset \n",
    "            loss = loss + F.mse_loss(Z_predict, Z_target)\n",
    "            \n",
    "            \n",
    "        return loss\n",
    "\n",
    "    def configure_optimizers(self):\n",
    "        return torch.optim.Adam(self.parameters(), lr=0.005)"
   ]
  },
  {
   "cell_type": "code",
   "execution_count": 8,
   "id": "135f3116",
   "metadata": {},
   "outputs": [
    {
     "name": "stdout",
     "output_type": "stream",
     "text": [
      "25000\n",
      "condition number threshold: 3.823613\n",
      "layer 1/2,  condition number: 3.7329970332366824\n",
      "layer 2/2,  condition number: 3.676483051784568\n"
     ]
    }
   ],
   "source": [
    "n=10\n",
    "data_X, data_Z = data_generation_MLP(n=n, n_layers=2, cond_thresh_ratio=0.0, n_iter_cond_thresh=25000, n_data=15000, distribution=\"normal_non_linear\")\n",
    "k= len(data_X)\n",
    "train_data_X = []\n",
    "test_data_X  = []\n",
    "train_data_Z = []\n",
    "test_data_Z  = []\n",
    "train_size = 10000\n",
    "for i in range(k):\n",
    "    train_data_X.append(data_X[i][:train_size])\n",
    "    train_data_Z.append(data_Z[i][:train_size])\n",
    "    test_data_X.append(data_X[i][train_size:])\n",
    "    test_data_Z.append(data_Z[i][train_size:])  "
   ]
  },
  {
   "cell_type": "markdown",
   "id": "ff7eb8f7",
   "metadata": {},
   "source": [
    "## Train model"
   ]
  },
  {
   "cell_type": "code",
   "execution_count": 9,
   "id": "3d8d198d",
   "metadata": {},
   "outputs": [
    {
     "name": "stderr",
     "output_type": "stream",
     "text": [
      "/Users/kartik/Desktop/causal_latent_DAG/env_DAG/lib/python3.7/site-packages/pytorch_lightning/trainer/connectors/callback_connector.py:91: LightningDeprecationWarning: Setting `Trainer(progress_bar_refresh_rate=20)` is deprecated in v1.5 and will be removed in v1.7. Please pass `pytorch_lightning.callbacks.progress.TQDMProgressBar` with `refresh_rate` directly to the Trainer's `callbacks` argument instead. Or, to disable the progress bar pass `enable_progress_bar = False` to the Trainer.\n",
      "  f\"Setting `Trainer(progress_bar_refresh_rate={progress_bar_refresh_rate})` is deprecated in v1.5 and\"\n",
      "GPU available: False, used: False\n",
      "TPU available: False, using: 0 TPU cores\n",
      "IPU available: False, using: 0 IPUs\n",
      "/Users/kartik/Desktop/causal_latent_DAG/env_DAG/lib/python3.7/site-packages/pytorch_lightning/trainer/configuration_validator.py:122: UserWarning: You defined a `validation_step` but have no `val_dataloader`. Skipping val loop.\n",
      "  rank_zero_warn(\"You defined a `validation_step` but have no `val_dataloader`. Skipping val loop.\")\n",
      "\n",
      "  | Name    | Type   | Params\n",
      "-----------------------------------\n",
      "0 | linear1 | Linear | 1.1 K \n",
      "1 | act_fn1 | ReLU   | 0     \n",
      "2 | linear2 | Linear | 10.1 K\n",
      "3 | act_fn2 | ReLU   | 0     \n",
      "4 | linear3 | Linear | 1.0 K \n",
      "-----------------------------------\n",
      "12.2 K    Trainable params\n",
      "0         Non-trainable params\n",
      "12.2 K    Total params\n",
      "0.049     Total estimated model params size (MB)\n",
      "/Users/kartik/Desktop/causal_latent_DAG/env_DAG/lib/python3.7/site-packages/pytorch_lightning/trainer/data_loading.py:133: UserWarning: The dataloader, train_dataloader, does not have many workers which may be a bottleneck. Consider increasing the value of the `num_workers` argument` (try 8 which is the number of cpus on this machine) in the `DataLoader` init to improve performance.\n",
      "  f\"The dataloader, {name}, does not have many workers which may be a bottleneck.\"\n",
      "/Users/kartik/Desktop/causal_latent_DAG/env_DAG/lib/python3.7/site-packages/pytorch_lightning/trainer/data_loading.py:433: UserWarning: The number of training samples (1) is smaller than the logging interval Trainer(log_every_n_steps=50). Set a lower value for log_every_n_steps if you want to see logs for the training epoch.\n",
      "  f\"The number of training samples ({self.num_training_batches}) is smaller than the logging interval\"\n"
     ]
    },
    {
     "data": {
      "application/vnd.jupyter.widget-view+json": {
       "model_id": "1f4cfb2e2e0d4bff856b80ec52e4bf9a",
       "version_major": 2,
       "version_minor": 0
      },
      "text/plain": [
       "Training: 0it [00:00, ?it/s]"
      ]
     },
     "metadata": {},
     "output_type": "display_data"
    }
   ],
   "source": [
    "latent_comparison_model = Latent_comparison_model(n)\n",
    "train_loader = DataLoader(train_data_X, batch_size=BATCH_SIZE)\n",
    "\n",
    "trainer = Trainer(\n",
    "    gpus=AVAIL_GPUS,\n",
    "    max_epochs=2000,\n",
    "    progress_bar_refresh_rate=20,\n",
    ")\n",
    "trainer.fit(latent_comparison_model, train_loader)"
   ]
  },
  {
   "cell_type": "markdown",
   "id": "a1abe914",
   "metadata": {},
   "source": [
    "## Output MCC and correlation matrix"
   ]
  },
  {
   "cell_type": "code",
   "execution_count": 10,
   "id": "6d6693fe",
   "metadata": {},
   "outputs": [
    {
     "name": "stdout",
     "output_type": "stream",
     "text": [
      "[[0.95056893 0.85640462 0.67319054 0.86880189 0.63419747 0.0506155\n",
      "  0.1044074  0.36452849 0.10036566 0.08821738]\n",
      " [0.75988396 0.99394847 0.77825208 0.81064099 0.74805876 0.03044542\n",
      "  0.07409823 0.2353338  0.0631116  0.05804326]\n",
      " [0.8224138  0.8512081  0.87884032 0.87013193 0.6181342  0.04459452\n",
      "  0.11438425 0.35031432 0.08824554 0.07262047]\n",
      " [0.75990456 0.83100403 0.77953764 0.96016196 0.74870264 0.02460647\n",
      "  0.0845488  0.22733769 0.05822663 0.04894682]\n",
      " [0.82874998 0.85100165 0.66253119 0.86987627 0.83060817 0.04183645\n",
      "  0.11990141 0.35142024 0.08627299 0.07072339]\n",
      " [0.22572623 0.0875264  0.28967539 0.18980412 0.34142367 0.99475192\n",
      "  0.85799084 0.61060904 0.76155454 0.80195779]\n",
      " [0.15009282 0.06088166 0.18448876 0.12937881 0.21416505 0.83012052\n",
      "  0.98759707 0.74087209 0.80352248 0.83888382]\n",
      " [0.22077517 0.08409672 0.28579145 0.18926706 0.33847424 0.81548737\n",
      "  0.86061503 0.81499973 0.76809076 0.80609898]\n",
      " [0.15944783 0.06484712 0.18608971 0.13107335 0.22064058 0.83429103\n",
      "  0.83162166 0.7371792  0.98035174 0.83654125]\n",
      " [0.21659076 0.07409676 0.2962984  0.17813008 0.34893858 0.81121742\n",
      "  0.86178409 0.61004713 0.76108785 0.98907989]]\n"
     ]
    },
    {
     "data": {
      "text/plain": [
       "0.9380908207827865"
      ]
     },
     "execution_count": 10,
     "metadata": {},
     "output_type": "execute_result"
    }
   ],
   "source": [
    "Zp=latent_comparison_model(test_data_X[0])\n",
    "Z = test_data_Z[0]\n",
    "MCC(Z.detach().numpy(),Zp.detach().numpy())"
   ]
  },
  {
   "cell_type": "markdown",
   "id": "c03067a6",
   "metadata": {},
   "source": [
    "## Linear regression comparing the predicted and true latents"
   ]
  },
  {
   "cell_type": "code",
   "execution_count": 25,
   "id": "f4f0ce48",
   "metadata": {},
   "outputs": [],
   "source": [
    "Zp_np = np.array([Zp.detach().numpy()[:,0]]).T\n",
    "Z_np = np.array([Z.detach().numpy()[:,0]]).T\n",
    "reg = LinearRegression().fit(Z_np, Zp_np)\n",
    "m = reg.coef_[0]\n",
    "b = reg.intercept_[0]\n",
    "x = Z_np"
   ]
  },
  {
   "cell_type": "code",
   "execution_count": 27,
   "id": "a7de5f5d",
   "metadata": {},
   "outputs": [],
   "source": [
    "Zp_np = np.array([Zp.detach().numpy()[:,1]]).T\n",
    "Z_np = np.array([Z.detach().numpy()[:,1]]).T\n",
    "reg = LinearRegression().fit(Z_np, Zp_np)\n",
    "m1 = reg.coef_[0]\n",
    "b1 = reg.intercept_[0]\n",
    "x1 = Z_np"
   ]
  },
  {
   "cell_type": "code",
   "execution_count": 39,
   "id": "7170a80a",
   "metadata": {},
   "outputs": [
    {
     "data": {
      "image/png": "[encoded data removed]",
      "text/plain": [
       "<Figure size 648x432 with 2 Axes>"
      ]
     },
     "metadata": {
      "needs_background": "light"
     },
     "output_type": "display_data"
    }
   ],
   "source": [
    "plt.figure(figsize=(9, 6))\n",
    "plt.subplot(1, 2, 1)\n",
    "plt.scatter(Z.detach().numpy()[:400,0], Zp.detach().numpy()[:400,0], c='m', s=20)\n",
    "\n",
    "plt.plot(x, m*x+b, 'k')\n",
    "plt.xlabel(\"True Z1\", fontsize=16)\n",
    "plt.ylabel(\"Predicted Z1\", fontsize=16)\n",
    "plt.text(2.5, -2, r'$m=2.4$',\n",
    "         fontsize=15)\n",
    "plt.subplot(1, 2, 2)\n",
    "plt.scatter(Z.detach().numpy()[:400,1], Zp.detach().numpy()[:400,1], c='g', s=20)\n",
    "\n",
    "plt.plot(x1, m1*x1+b1, 'k')\n",
    "plt.xlabel(\"True Z2\", fontsize=16)\n",
    "plt.ylabel(\"Predicted Z2\", fontsize=16)\n",
    "plt.text(3, 0.4, r'$m=3$',\n",
    "         fontsize=15)\n",
    "\n",
    "plt.savefig(\"overlap_d12.pdf\")\n"
   ]
  },
  {
   "cell_type": "markdown",
   "id": "9798442d",
   "metadata": {},
   "source": [
    "## Generate results"
   ]
  },
  {
   "cell_type": "code",
   "execution_count": null,
   "id": "03761bdf",
   "metadata": {},
   "outputs": [],
   "source": [
    "n_trials=5\n",
    "dim_list = [6,10,20]\n",
    "s = len(dim_list)\n",
    "MCC_result = np.zeros((s,n_trials))\n",
    "m=0\n",
    "for d in dim_list:\n",
    "    for trial in range(n_trials):\n",
    "        data_X, data_Z = data_generation_MLP(n=d, n_layers=2, cond_thresh_ratio=0.0, n_iter_cond_thresh=25000, n_data=15000, distribution=\"normal_non_linear\")\n",
    "        k= len(data_X)\n",
    "        train_data_X = []\n",
    "        test_data_X  = []\n",
    "        train_data_Z = []\n",
    "        test_data_Z  = []\n",
    "        train_size = 10000\n",
    "        for i in range(k):\n",
    "            train_data_X.append(data_X[i][:train_size])\n",
    "            train_data_Z.append(data_Z[i][:train_size])\n",
    "            test_data_X.append(data_X[i][train_size:])\n",
    "            test_data_Z.append(data_Z[i][train_size:])  \n",
    "        latent_comparison_model = Latent_comparison_model(d)\n",
    "        train_loader = DataLoader(train_data_X, batch_size=BATCH_SIZE)\n",
    "        trainer = Trainer(\n",
    "            gpus=AVAIL_GPUS,\n",
    "            max_epochs=4000,\n",
    "            progress_bar_refresh_rate=20,\n",
    "        )\n",
    "        trainer.fit(latent_comparison_model, train_loader)\n",
    "        \n",
    "        Zp=latent_comparison_model(test_data_X[0])\n",
    "        Z = test_data_Z[0]\n",
    "        MCC_result[m][trial] = MCC(Z.detach().numpy(),Zp.detach().numpy())\n",
    "    \n",
    "    m=m+1\n",
    "        \n",
    "    \n",
    "        "
   ]
  },
  {
   "cell_type": "code",
   "execution_count": 15,
   "id": "edde3464",
   "metadata": {},
   "outputs": [
    {
     "data": {
      "text/plain": [
       "array([[0.94211869, 0.94183405, 0.92964791, 0.93018671, 0.95439786],\n",
       "       [0.97230094, 0.97695666, 0.97844847, 0.96380652, 0.94925787],\n",
       "       [0.98802075, 0.99296727, 0.99456586, 0.99163228, 0.99224883]])"
      ]
     },
     "execution_count": 15,
     "metadata": {},
     "output_type": "execute_result"
    }
   ],
   "source": [
    "MCC_result"
   ]
  },
  {
   "cell_type": "code",
   "execution_count": 26,
   "id": "dbb8e4ff",
   "metadata": {},
   "outputs": [
    {
     "data": {
      "text/plain": [
       "array([[0.96358681, 0.95285845, 0.96271743, 0.94744586, 0.94213341],\n",
       "       [0.98045691, 0.96504597, 0.97452048, 0.96606567, 0.97530899],\n",
       "       [0.98035716, 0.99050753, 0.99079972, 0.994346  , 0.99295047]])"
      ]
     },
     "execution_count": 26,
     "metadata": {},
     "output_type": "execute_result"
    }
   ],
   "source": [
    "MCC_result"
   ]
  },
  {
   "cell_type": "code",
   "execution_count": 41,
   "id": "e59c6f80",
   "metadata": {},
   "outputs": [],
   "source": [
    "MCC_result = np.array([[0.96358681, 0.95285845, 0.96271743, 0.94744586, 0.94213341],\n",
    "       [0.98045691, 0.96504597, 0.97452048, 0.96606567, 0.97530899],\n",
    "       [0.98035716, 0.99050753, 0.99079972, 0.994346  , 0.99295047]])"
   ]
  },
  {
   "cell_type": "code",
   "execution_count": 42,
   "id": "045ec4a8",
   "metadata": {},
   "outputs": [
    {
     "name": "stdout",
     "output_type": "stream",
     "text": [
      "[0.00839833107971913, 0.005865244663342191, 0.004924602261927776]\n"
     ]
    }
   ],
   "source": [
    "print ([np.std(MCC_result[i,:]) for i in range(3)])"
   ]
  },
  {
   "cell_type": "code",
   "execution_count": 19,
   "id": "9bb29c11",
   "metadata": {},
   "outputs": [
    {
     "name": "stdout",
     "output_type": "stream",
     "text": [
      "25000\n",
      "condition number threshold: 2.128932\n",
      "layer 1/2,  condition number: 1.9409605628851925\n"
     ]
    },
    {
     "name": "stderr",
     "output_type": "stream",
     "text": [
      "GPU available: False, used: False\n",
      "TPU available: False, using: 0 TPU cores\n",
      "IPU available: False, using: 0 IPUs\n",
      "\n",
      "  | Name    | Type   | Params\n",
      "-----------------------------------\n",
      "0 | linear1 | Linear | 700   \n",
      "1 | act_fn1 | ReLU   | 0     \n",
      "2 | linear2 | Linear | 10.1 K\n",
      "3 | act_fn2 | ReLU   | 0     \n",
      "4 | linear3 | Linear | 606   \n",
      "-----------------------------------\n",
      "11.4 K    Trainable params\n",
      "0         Non-trainable params\n",
      "11.4 K    Total params\n",
      "0.046     Total estimated model params size (MB)\n"
     ]
    },
    {
     "name": "stdout",
     "output_type": "stream",
     "text": [
      "layer 2/2,  condition number: 1.9477018439787184\n"
     ]
    },
    {
     "data": {
      "application/vnd.jupyter.widget-view+json": {
       "model_id": "b2c583e9946947cea0e1ba3ee7d46d0f",
       "version_major": 2,
       "version_minor": 0
      },
      "text/plain": [
       "Training: 0it [00:00, ?it/s]"
      ]
     },
     "metadata": {},
     "output_type": "display_data"
    },
    {
     "name": "stdout",
     "output_type": "stream",
     "text": [
      "[[0.89424354 0.2716287  0.18915048 0.25375003 0.21809566 0.04526426]\n",
      " [0.19215332 0.80018129 0.20407233 0.25920087 0.21906551 0.04379405]\n",
      " [0.19682605 0.28682517 0.91370519 0.25964981 0.20825808 0.04443099]\n",
      " [0.18601861 0.27600626 0.186689   0.81249752 0.22512428 0.04209682]\n",
      " [0.19640403 0.26771399 0.18212697 0.26278398 0.87791197 0.02583368]\n",
      " [0.19927526 0.27083121 0.17402742 0.26747533 0.22816087 0.99557407]]\n",
      "25000\n",
      "condition number threshold: 2.104319\n",
      "layer 1/2,  condition number: 2.0386668041894254\n"
     ]
    },
    {
     "name": "stderr",
     "output_type": "stream",
     "text": [
      "GPU available: False, used: False\n",
      "TPU available: False, using: 0 TPU cores\n",
      "IPU available: False, using: 0 IPUs\n",
      "\n",
      "  | Name    | Type   | Params\n",
      "-----------------------------------\n",
      "0 | linear1 | Linear | 700   \n",
      "1 | act_fn1 | ReLU   | 0     \n",
      "2 | linear2 | Linear | 10.1 K\n",
      "3 | act_fn2 | ReLU   | 0     \n",
      "4 | linear3 | Linear | 606   \n",
      "-----------------------------------\n",
      "11.4 K    Trainable params\n",
      "0         Non-trainable params\n",
      "11.4 K    Total params\n",
      "0.046     Total estimated model params size (MB)\n"
     ]
    },
    {
     "name": "stdout",
     "output_type": "stream",
     "text": [
      "layer 2/2,  condition number: 2.0588176175430593\n"
     ]
    },
    {
     "data": {
      "application/vnd.jupyter.widget-view+json": {
       "model_id": "d8c5789365c6442783ec43e7bf75f0e5",
       "version_major": 2,
       "version_minor": 0
      },
      "text/plain": [
       "Training: 0it [00:00, ?it/s]"
      ]
     },
     "metadata": {},
     "output_type": "display_data"
    },
    {
     "name": "stdout",
     "output_type": "stream",
     "text": [
      "[[0.89665524 0.08214493 0.14289889 0.06302774 0.30357311 0.37807876]\n",
      " [0.21984718 0.97559741 0.15286875 0.027189   0.30659273 0.3880884 ]\n",
      " [0.20361273 0.1052983  0.94305812 0.06961598 0.28249641 0.38149729]\n",
      " [0.20568507 0.11686636 0.16211906 0.99225709 0.31096741 0.38897231]\n",
      " [0.20679256 0.10383712 0.11206386 0.07045641 0.73719807 0.42101476]\n",
      " [0.19843875 0.09711835 0.11859054 0.06738551 0.33207079 0.49695625]]\n",
      "25000\n",
      "condition number threshold: 2.153919\n",
      "layer 1/2,  condition number: 2.0500215284561287\n"
     ]
    },
    {
     "name": "stderr",
     "output_type": "stream",
     "text": [
      "GPU available: False, used: False\n",
      "TPU available: False, using: 0 TPU cores\n",
      "IPU available: False, using: 0 IPUs\n",
      "\n",
      "  | Name    | Type   | Params\n",
      "-----------------------------------\n",
      "0 | linear1 | Linear | 700   \n",
      "1 | act_fn1 | ReLU   | 0     \n",
      "2 | linear2 | Linear | 10.1 K\n",
      "3 | act_fn2 | ReLU   | 0     \n",
      "4 | linear3 | Linear | 606   \n",
      "-----------------------------------\n",
      "11.4 K    Trainable params\n",
      "0         Non-trainable params\n",
      "11.4 K    Total params\n",
      "0.046     Total estimated model params size (MB)\n"
     ]
    },
    {
     "name": "stdout",
     "output_type": "stream",
     "text": [
      "layer 2/2,  condition number: 2.1180870910207767\n"
     ]
    },
    {
     "data": {
      "application/vnd.jupyter.widget-view+json": {
       "model_id": "60c8cd82f6cc407dbf05057963734b89",
       "version_major": 2,
       "version_minor": 0
      },
      "text/plain": [
       "Training: 0it [00:00, ?it/s]"
      ]
     },
     "metadata": {},
     "output_type": "display_data"
    },
    {
     "name": "stdout",
     "output_type": "stream",
     "text": [
      "[[0.79412589 0.31697812 0.08710821 0.03285695 0.17341456 0.38019841]\n",
      " [0.26271065 0.69125284 0.0890408  0.03013336 0.1962708  0.37164606]\n",
      " [0.28435097 0.32658007 0.97255583 0.03338802 0.21588368 0.3393771 ]\n",
      " [0.27120942 0.32223827 0.10842797 0.99783322 0.18049247 0.38953895]\n",
      " [0.25577205 0.33402874 0.07380066 0.03142772 0.91193519 0.35428493]\n",
      " [0.2976388  0.32114149 0.12206839 0.02568722 0.19634774 0.55826491]]\n",
      "25000\n",
      "condition number threshold: 1.792060\n",
      "layer 1/2,  condition number: 1.720414452763104\n"
     ]
    },
    {
     "name": "stderr",
     "output_type": "stream",
     "text": [
      "GPU available: False, used: False\n",
      "TPU available: False, using: 0 TPU cores\n",
      "IPU available: False, using: 0 IPUs\n",
      "\n",
      "  | Name    | Type   | Params\n",
      "-----------------------------------\n",
      "0 | linear1 | Linear | 700   \n",
      "1 | act_fn1 | ReLU   | 0     \n",
      "2 | linear2 | Linear | 10.1 K\n",
      "3 | act_fn2 | ReLU   | 0     \n",
      "4 | linear3 | Linear | 606   \n",
      "-----------------------------------\n",
      "11.4 K    Trainable params\n",
      "0         Non-trainable params\n",
      "11.4 K    Total params\n",
      "0.046     Total estimated model params size (MB)\n"
     ]
    },
    {
     "name": "stdout",
     "output_type": "stream",
     "text": [
      "layer 2/2,  condition number: 1.7799283095362042\n"
     ]
    },
    {
     "data": {
      "application/vnd.jupyter.widget-view+json": {
       "model_id": "4b7b6822b67b45649c0fa149db6535d4",
       "version_major": 2,
       "version_minor": 0
      },
      "text/plain": [
       "Training: 0it [00:00, ?it/s]"
      ]
     },
     "metadata": {},
     "output_type": "display_data"
    },
    {
     "name": "stdout",
     "output_type": "stream",
     "text": [
      "[[0.71676704 0.10380684 0.11028212 0.10777899 0.26663639 0.15867651]\n",
      " [0.30088573 0.97107241 0.11370763 0.13684699 0.26296533 0.15333915]\n",
      " [0.30362442 0.11098486 0.96991848 0.14127865 0.24474901 0.14508897]\n",
      " [0.29527688 0.1239805  0.13103615 0.96253383 0.24731766 0.15105864]\n",
      " [0.32147587 0.12083901 0.10579526 0.11640841 0.82187112 0.15337565]\n",
      " [0.31520563 0.10965653 0.10412361 0.11969689 0.25380486 0.93893388]]\n",
      "25000\n",
      "condition number threshold: 1.955830\n",
      "layer 1/2,  condition number: 1.9273036335973195\n"
     ]
    },
    {
     "name": "stderr",
     "output_type": "stream",
     "text": [
      "GPU available: False, used: False\n",
      "TPU available: False, using: 0 TPU cores\n",
      "IPU available: False, using: 0 IPUs\n",
      "\n",
      "  | Name    | Type   | Params\n",
      "-----------------------------------\n",
      "0 | linear1 | Linear | 700   \n",
      "1 | act_fn1 | ReLU   | 0     \n",
      "2 | linear2 | Linear | 10.1 K\n",
      "3 | act_fn2 | ReLU   | 0     \n",
      "4 | linear3 | Linear | 606   \n",
      "-----------------------------------\n",
      "11.4 K    Trainable params\n",
      "0         Non-trainable params\n",
      "11.4 K    Total params\n",
      "0.046     Total estimated model params size (MB)\n"
     ]
    },
    {
     "name": "stdout",
     "output_type": "stream",
     "text": [
      "layer 2/2,  condition number: 1.9418240652907386\n"
     ]
    },
    {
     "data": {
      "application/vnd.jupyter.widget-view+json": {
       "model_id": "7a7b844f8da54d278b77818eb5c0cef2",
       "version_major": 2,
       "version_minor": 0
      },
      "text/plain": [
       "Training: 0it [00:00, ?it/s]"
      ]
     },
     "metadata": {},
     "output_type": "display_data"
    },
    {
     "name": "stdout",
     "output_type": "stream",
     "text": [
      "[[0.71803878 0.0810709  0.07510296 0.08465548 0.40791482 0.17154929]\n",
      " [0.29485481 0.97280001 0.08646502 0.07700668 0.37864955 0.17854818]\n",
      " [0.29421787 0.09407344 0.97419792 0.07961211 0.38942924 0.17431834]\n",
      " [0.30696471 0.1026732  0.09471667 0.98789297 0.38781501 0.16798867]\n",
      " [0.33158217 0.09184362 0.09734877 0.07238622 0.52745574 0.16901536]\n",
      " [0.30830463 0.10718478 0.0960757  0.07815178 0.37801746 0.92336446]]\n",
      "25000\n",
      "condition number threshold: 4.015113\n",
      "layer 1/2,  condition number: 3.7851360520777897\n",
      "layer 2/2,  condition number: 3.7768743515900107\n"
     ]
    },
    {
     "name": "stderr",
     "output_type": "stream",
     "text": [
      "GPU available: False, used: False\n",
      "TPU available: False, using: 0 TPU cores\n",
      "IPU available: False, using: 0 IPUs\n",
      "\n",
      "  | Name    | Type   | Params\n",
      "-----------------------------------\n",
      "0 | linear1 | Linear | 1.1 K \n",
      "1 | act_fn1 | ReLU   | 0     \n",
      "2 | linear2 | Linear | 10.1 K\n",
      "3 | act_fn2 | ReLU   | 0     \n",
      "4 | linear3 | Linear | 1.0 K \n",
      "-----------------------------------\n",
      "12.2 K    Trainable params\n",
      "0         Non-trainable params\n",
      "12.2 K    Total params\n",
      "0.049     Total estimated model params size (MB)\n"
     ]
    },
    {
     "data": {
      "application/vnd.jupyter.widget-view+json": {
       "model_id": "c86c03c43c6f4ca48cd609594a724278",
       "version_major": 2,
       "version_minor": 0
      },
      "text/plain": [
       "Training: 0it [00:00, ?it/s]"
      ]
     },
     "metadata": {},
     "output_type": "display_data"
    },
    {
     "name": "stdout",
     "output_type": "stream",
     "text": [
      "[[0.94100802 0.182982   0.28113737 0.0126464  0.02878231 0.05235002\n",
      "  0.09083901 0.21469423 0.27534546 0.05128974]\n",
      " [0.09136789 0.81855405 0.277059   0.03648725 0.02463203 0.03559312\n",
      "  0.11104877 0.24102022 0.27609925 0.06569122]\n",
      " [0.10786326 0.15859162 0.52738971 0.03482926 0.03874318 0.02562477\n",
      "  0.10292611 0.22725374 0.24995451 0.05433698]\n",
      " [0.10266618 0.1920044  0.294975   0.99569451 0.0232144  0.03800722\n",
      "  0.10330801 0.22359444 0.2369668  0.03583344]\n",
      " [0.11415835 0.18722283 0.29125981 0.01558498 0.99505813 0.03440261\n",
      "  0.0714299  0.2478817  0.22465813 0.08984222]\n",
      " [0.09007478 0.18384035 0.29181901 0.02644873 0.03295301 0.99542138\n",
      "  0.10750709 0.21413244 0.2554433  0.03430383]\n",
      " [0.12143942 0.19232948 0.27823445 0.01483665 0.0531937  0.05226633\n",
      "  0.96235845 0.23290874 0.24478879 0.06901316]\n",
      " [0.09019532 0.18924543 0.26940955 0.02565058 0.05202453 0.03819283\n",
      "  0.08366324 0.74304265 0.24423542 0.03782779]\n",
      " [0.14067711 0.20573519 0.27884056 0.01867742 0.00788089 0.01407096\n",
      "  0.09699026 0.23085005 0.68595289 0.08202107]\n",
      " [0.1211552  0.1823344  0.29419239 0.05251858 0.00383296 0.01334972\n",
      "  0.10467368 0.2404886  0.21722121 0.98748011]]\n",
      "25000\n",
      "condition number threshold: 4.116441\n",
      "layer 1/2,  condition number: 3.985326587651328\n"
     ]
    },
    {
     "name": "stderr",
     "output_type": "stream",
     "text": [
      "GPU available: False, used: False\n",
      "TPU available: False, using: 0 TPU cores\n",
      "IPU available: False, using: 0 IPUs\n",
      "\n",
      "  | Name    | Type   | Params\n",
      "-----------------------------------\n",
      "0 | linear1 | Linear | 1.1 K \n",
      "1 | act_fn1 | ReLU   | 0     \n",
      "2 | linear2 | Linear | 10.1 K\n",
      "3 | act_fn2 | ReLU   | 0     \n",
      "4 | linear3 | Linear | 1.0 K \n",
      "-----------------------------------\n",
      "12.2 K    Trainable params\n",
      "0         Non-trainable params\n",
      "12.2 K    Total params\n",
      "0.049     Total estimated model params size (MB)\n"
     ]
    },
    {
     "name": "stdout",
     "output_type": "stream",
     "text": [
      "layer 2/2,  condition number: 4.089118077526547\n"
     ]
    },
    {
     "data": {
      "application/vnd.jupyter.widget-view+json": {
       "model_id": "574b323a3ed94316a6d5429b994105b3",
       "version_major": 2,
       "version_minor": 0
      },
      "text/plain": [
       "Training: 0it [00:00, ?it/s]"
      ]
     },
     "metadata": {},
     "output_type": "display_data"
    },
    {
     "name": "stdout",
     "output_type": "stream",
     "text": [
      "[[8.35182813e-01 1.54753678e-02 1.07356590e-01 2.13215950e-01\n",
      "  4.12635043e-03 6.39587187e-02 1.00398090e-01 2.07819020e-01\n",
      "  2.15289798e-02 1.03694946e-01]\n",
      " [1.77391916e-01 9.97688413e-01 7.41632099e-02 2.17665574e-01\n",
      "  1.35815842e-03 5.61151023e-02 1.30295976e-01 2.02080238e-01\n",
      "  2.81565984e-02 1.04100400e-01]\n",
      " [2.08184751e-01 1.31819714e-02 9.69313527e-01 2.02295357e-01\n",
      "  3.00443743e-03 4.28212974e-02 7.86590327e-02 2.51013069e-01\n",
      "  1.29069329e-02 1.17720478e-01]\n",
      " [1.86779949e-01 2.93246335e-02 6.49387400e-02 7.56531152e-01\n",
      "  1.99136505e-02 4.87439541e-02 1.05123350e-01 2.50368240e-01\n",
      "  3.32031902e-02 8.18864130e-02]\n",
      " [1.88910995e-01 1.97729171e-02 9.64330230e-02 2.10258892e-01\n",
      "  9.99903299e-01 5.33379844e-02 1.25345396e-01 2.31674874e-01\n",
      "  2.64911362e-04 8.93336867e-02]\n",
      " [1.83287323e-01 3.39854647e-02 6.12641976e-02 2.05887736e-01\n",
      "  5.09302266e-03 9.86925396e-01 1.07433494e-01 2.36245997e-01\n",
      "  1.15884383e-02 1.35046926e-01]\n",
      " [1.74872974e-01 4.58262258e-02 5.13826923e-02 2.08403451e-01\n",
      "  1.12471626e-02 5.44145954e-02 9.46515199e-01 2.05505297e-01\n",
      "  3.02341028e-02 1.18745812e-01]\n",
      " [1.67784203e-01 8.38615760e-03 1.13915442e-01 2.34287108e-01\n",
      "  4.67879588e-03 7.80405167e-02 9.46055935e-02 7.52817983e-01\n",
      "  6.41094031e-03 1.01499445e-01]\n",
      " [1.93945874e-01 2.31738036e-02 8.47943828e-02 2.30137493e-01\n",
      "  1.57511309e-02 5.05539105e-02 1.21359024e-01 2.04191791e-01\n",
      "  9.98831998e-01 1.14855229e-01]\n",
      " [1.81828246e-01 2.41325390e-02 9.40238121e-02 1.88511215e-01\n",
      "  2.06314812e-02 8.37541816e-02 1.20555475e-01 2.15979601e-01\n",
      "  2.75177215e-02 9.48665958e-01]]\n",
      "25000\n",
      "condition number threshold: 4.353834\n",
      "layer 1/2,  condition number: 3.9063287770141524\n"
     ]
    },
    {
     "name": "stderr",
     "output_type": "stream",
     "text": [
      "GPU available: False, used: False\n",
      "TPU available: False, using: 0 TPU cores\n",
      "IPU available: False, using: 0 IPUs\n",
      "\n",
      "  | Name    | Type   | Params\n",
      "-----------------------------------\n",
      "0 | linear1 | Linear | 1.1 K \n",
      "1 | act_fn1 | ReLU   | 0     \n",
      "2 | linear2 | Linear | 10.1 K\n",
      "3 | act_fn2 | ReLU   | 0     \n",
      "4 | linear3 | Linear | 1.0 K \n",
      "-----------------------------------\n",
      "12.2 K    Trainable params\n",
      "0         Non-trainable params\n",
      "12.2 K    Total params\n",
      "0.049     Total estimated model params size (MB)\n"
     ]
    },
    {
     "name": "stdout",
     "output_type": "stream",
     "text": [
      "layer 2/2,  condition number: 3.885522395992318\n"
     ]
    },
    {
     "data": {
      "application/vnd.jupyter.widget-view+json": {
       "model_id": "2495a554beaa4274a2ac2589a75d6579",
       "version_major": 2,
       "version_minor": 0
      },
      "text/plain": [
       "Training: 0it [00:00, ?it/s]"
      ]
     },
     "metadata": {},
     "output_type": "display_data"
    },
    {
     "name": "stdout",
     "output_type": "stream",
     "text": [
      "[[0.99980079 0.06426761 0.18082151 0.24696036 0.18825806 0.21106209\n",
      "  0.18118331 0.04777085 0.0186643  0.09837069]\n",
      " [0.01077344 0.99019259 0.18597158 0.23988252 0.16963212 0.19732825\n",
      "  0.18054833 0.05349184 0.01950347 0.07700069]\n",
      " [0.00601623 0.07125056 0.86042242 0.23726356 0.17529916 0.16786895\n",
      "  0.20923153 0.08325235 0.01459518 0.11431453]\n",
      " [0.01080459 0.04525144 0.16716793 0.65449852 0.2041504  0.19570124\n",
      "  0.20498669 0.04646518 0.0184337  0.11125896]\n",
      " [0.00518686 0.04360851 0.16656298 0.26013094 0.84242114 0.21845084\n",
      "  0.19641744 0.06806432 0.00905518 0.12986018]\n",
      " [0.00585733 0.04328271 0.13188082 0.23759089 0.19825944 0.7731504\n",
      "  0.19689415 0.070245   0.00716955 0.09277277]\n",
      " [0.01276803 0.04798553 0.19032067 0.25242313 0.18563496 0.20812556\n",
      "  0.82109296 0.04803486 0.00578119 0.10623522]\n",
      " [0.01409369 0.04598033 0.18954714 0.23521273 0.18772437 0.2140235\n",
      "  0.17337956 0.98488376 0.00419215 0.09037419]\n",
      " [0.00157009 0.04637892 0.16727685 0.2421008  0.18147415 0.21329123\n",
      "  0.1928096  0.06698504 0.99767848 0.10381733]\n",
      " [0.00373827 0.07264345 0.15870484 0.25457197 0.14605196 0.23361867\n",
      "  0.18860001 0.07100813 0.03213023 0.95097217]]\n",
      "25000\n",
      "condition number threshold: 4.450742\n",
      "layer 1/2,  condition number: 3.7245945564389276\n"
     ]
    },
    {
     "name": "stderr",
     "output_type": "stream",
     "text": [
      "GPU available: False, used: False\n",
      "TPU available: False, using: 0 TPU cores\n",
      "IPU available: False, using: 0 IPUs\n",
      "\n",
      "  | Name    | Type   | Params\n",
      "-----------------------------------\n",
      "0 | linear1 | Linear | 1.1 K \n",
      "1 | act_fn1 | ReLU   | 0     \n",
      "2 | linear2 | Linear | 10.1 K\n",
      "3 | act_fn2 | ReLU   | 0     \n",
      "4 | linear3 | Linear | 1.0 K \n",
      "-----------------------------------\n",
      "12.2 K    Trainable params\n",
      "0         Non-trainable params\n",
      "12.2 K    Total params\n",
      "0.049     Total estimated model params size (MB)\n"
     ]
    },
    {
     "name": "stdout",
     "output_type": "stream",
     "text": [
      "layer 2/2,  condition number: 4.20802508043607\n"
     ]
    },
    {
     "data": {
      "application/vnd.jupyter.widget-view+json": {
       "model_id": "40745877ff0b4e788a6e8b5672dd4d0a",
       "version_major": 2,
       "version_minor": 0
      },
      "text/plain": [
       "Training: 0it [00:00, ?it/s]"
      ]
     },
     "metadata": {},
     "output_type": "display_data"
    },
    {
     "name": "stdout",
     "output_type": "stream",
     "text": [
      "[[0.69469567 0.06433393 0.11959073 0.1567286  0.0435163  0.10194872\n",
      "  0.17852417 0.16857425 0.03824237 0.12787774]\n",
      " [0.254152   0.97444185 0.11338922 0.15842025 0.02753913 0.08159073\n",
      "  0.18649809 0.20209947 0.02527637 0.1071109 ]\n",
      " [0.21100601 0.10231863 0.89516894 0.15771002 0.0172057  0.14414037\n",
      "  0.15266234 0.1688683  0.05233555 0.12731976]\n",
      " [0.23918737 0.08172634 0.16090708 0.88011352 0.06083737 0.12658383\n",
      "  0.1718524  0.22701274 0.00170361 0.0915488 ]\n",
      " [0.23325645 0.07119722 0.16572783 0.13377507 0.99516695 0.09077306\n",
      "  0.18333872 0.19553177 0.03314941 0.10953013]\n",
      " [0.2427285  0.09977765 0.1951728  0.17289025 0.05013982 0.94791463\n",
      "  0.1501625  0.18028916 0.04253659 0.10699657]\n",
      " [0.24798137 0.07074398 0.13554776 0.15940616 0.02643149 0.08176669\n",
      "  0.85571603 0.17619942 0.02762402 0.12831319]\n",
      " [0.23471604 0.06681932 0.14545901 0.19614603 0.02910409 0.10033465\n",
      "  0.16178549 0.82778713 0.00812098 0.08829017]\n",
      " [0.24694411 0.07807299 0.17039487 0.13943575 0.02547291 0.12271551\n",
      "  0.17148329 0.16964139 0.99672793 0.0868451 ]\n",
      " [0.25756215 0.08294474 0.17618809 0.1394354  0.03917224 0.10720114\n",
      "  0.18896153 0.16796525 0.00129097 0.94207634]]\n",
      "25000\n",
      "condition number threshold: 3.581144\n",
      "layer 1/2,  condition number: 3.3684521526272664\n"
     ]
    },
    {
     "name": "stderr",
     "output_type": "stream",
     "text": [
      "GPU available: False, used: False\n",
      "TPU available: False, using: 0 TPU cores\n",
      "IPU available: False, using: 0 IPUs\n",
      "\n",
      "  | Name    | Type   | Params\n",
      "-----------------------------------\n",
      "0 | linear1 | Linear | 1.1 K \n",
      "1 | act_fn1 | ReLU   | 0     \n",
      "2 | linear2 | Linear | 10.1 K\n",
      "3 | act_fn2 | ReLU   | 0     \n",
      "4 | linear3 | Linear | 1.0 K \n",
      "-----------------------------------\n",
      "12.2 K    Trainable params\n",
      "0         Non-trainable params\n",
      "12.2 K    Total params\n",
      "0.049     Total estimated model params size (MB)\n"
     ]
    },
    {
     "name": "stdout",
     "output_type": "stream",
     "text": [
      "layer 2/2,  condition number: 3.5792205230733436\n"
     ]
    },
    {
     "data": {
      "application/vnd.jupyter.widget-view+json": {
       "model_id": "406712455d3741eab36144c9d5028be1",
       "version_major": 2,
       "version_minor": 0
      },
      "text/plain": [
       "Training: 0it [00:00, ?it/s]"
      ]
     },
     "metadata": {},
     "output_type": "display_data"
    },
    {
     "name": "stdout",
     "output_type": "stream",
     "text": [
      "[[0.93116834 0.16260125 0.30261816 0.23303091 0.02301519 0.18690926\n",
      "  0.17134399 0.04890052 0.07409973 0.07824106]\n",
      " [0.11011563 0.8696062  0.30384163 0.25693223 0.04253004 0.21012933\n",
      "  0.18101928 0.05654684 0.03233384 0.06106431]\n",
      " [0.09025935 0.13805696 0.36099454 0.23553096 0.03106685 0.19312698\n",
      "  0.17079626 0.05606806 0.05582357 0.02556688]\n",
      " [0.11376352 0.17416209 0.30653353 0.67555164 0.03034974 0.17654882\n",
      "  0.17869391 0.06750864 0.08562824 0.07824254]\n",
      " [0.11728618 0.15724932 0.31015372 0.25379261 0.994669   0.22664925\n",
      "  0.20141739 0.09740673 0.04341857 0.08079878]\n",
      " [0.12795702 0.17901303 0.32270262 0.23250807 0.02396989 0.78905943\n",
      "  0.15232816 0.0632402  0.06698778 0.08678967]\n",
      " [0.12260431 0.17376664 0.31703402 0.25864091 0.01976536 0.18595432\n",
      "  0.84586299 0.06413074 0.06106722 0.08972875]\n",
      " [0.09832585 0.17667493 0.30518992 0.23420625 0.05981351 0.20632776\n",
      "  0.17856597 0.97639169 0.05829821 0.0638145 ]\n",
      " [0.1025476  0.13703474 0.31477361 0.26894231 0.04266088 0.21147605\n",
      "  0.18326715 0.07314525 0.98557721 0.0836658 ]\n",
      " [0.13944494 0.18639004 0.34970656 0.25025918 0.05028645 0.20293157\n",
      "  0.16261343 0.0744171  0.03344582 0.979242  ]]\n",
      "25000\n",
      "condition number threshold: 9.816730\n",
      "layer 1/2,  condition number: 8.228012164044662\n"
     ]
    },
    {
     "name": "stderr",
     "output_type": "stream",
     "text": [
      "GPU available: False, used: False\n",
      "TPU available: False, using: 0 TPU cores\n",
      "IPU available: False, using: 0 IPUs\n",
      "\n",
      "  | Name    | Type   | Params\n",
      "-----------------------------------\n",
      "0 | linear1 | Linear | 2.1 K \n",
      "1 | act_fn1 | ReLU   | 0     \n",
      "2 | linear2 | Linear | 10.1 K\n",
      "3 | act_fn2 | ReLU   | 0     \n",
      "4 | linear3 | Linear | 2.0 K \n",
      "-----------------------------------\n",
      "14.3 K    Trainable params\n",
      "0         Non-trainable params\n",
      "14.3 K    Total params\n",
      "0.057     Total estimated model params size (MB)\n"
     ]
    },
    {
     "name": "stdout",
     "output_type": "stream",
     "text": [
      "layer 2/2,  condition number: 9.377591285119049\n"
     ]
    },
    {
     "data": {
      "application/vnd.jupyter.widget-view+json": {
       "model_id": "6f73ce3f143a4367b8c6ee34fa80eaf2",
       "version_major": 2,
       "version_minor": 0
      },
      "text/plain": [
       "Training: 0it [00:00, ?it/s]"
      ]
     },
     "metadata": {},
     "output_type": "display_data"
    },
    {
     "name": "stdout",
     "output_type": "stream",
     "text": [
      "[[9.32924601e-01 6.53407100e-02 1.54598974e-01 7.83475322e-02\n",
      "  1.29651972e-01 8.69638393e-02 9.46739208e-02 1.98085048e-01\n",
      "  1.05922191e-01 1.59900302e-02 8.95562210e-02 1.73992082e-01\n",
      "  2.05765033e-01 1.30765262e-02 8.95276889e-02 6.00578705e-03\n",
      "  1.02135541e-01 1.35750384e-01 1.14707251e-01 9.82472271e-02]\n",
      " [6.26890344e-02 9.75226398e-01 1.70496117e-01 3.69075409e-02\n",
      "  1.70864926e-01 8.14622747e-02 1.41869915e-01 2.27656288e-01\n",
      "  6.40378895e-02 4.17488350e-03 1.09482092e-01 1.48280933e-01\n",
      "  1.80566931e-01 1.59970800e-02 9.51348225e-02 1.70090689e-02\n",
      "  6.25832539e-02 1.22697795e-01 1.45045763e-01 9.58196396e-02]\n",
      " [3.71368408e-02 4.62309909e-03 9.06273822e-01 7.19021285e-03\n",
      "  1.20161177e-01 1.02758312e-01 1.16405572e-01 2.18045745e-01\n",
      "  5.82407441e-02 9.21247014e-03 8.12938566e-02 1.06462163e-01\n",
      "  2.16932851e-01 1.64041028e-02 8.40455802e-02 4.28989238e-02\n",
      "  6.23950847e-02 8.11973863e-02 1.10838896e-01 1.11493874e-01]\n",
      " [5.50650500e-02 1.34240369e-02 8.46469638e-02 9.22299471e-01\n",
      "  1.28270410e-01 9.98158646e-02 1.13740401e-01 2.39248985e-01\n",
      "  5.61701756e-02 8.93418460e-03 9.98206883e-02 8.14574971e-02\n",
      "  1.76060990e-01 4.11949648e-03 8.61727523e-02 1.58412261e-02\n",
      "  2.14482092e-02 1.03024745e-01 1.31843446e-01 6.23821242e-02]\n",
      " [4.81709044e-02 2.71626639e-03 3.68435587e-02 6.90641775e-02\n",
      "  6.14291515e-01 9.07702123e-02 1.21243699e-01 2.30162465e-01\n",
      "  7.91036440e-02 1.90179860e-03 2.72563683e-02 3.32202343e-02\n",
      "  1.81572726e-01 2.27626308e-04 6.78867410e-02 2.74864485e-02\n",
      "  3.03158460e-02 9.97121991e-02 1.11835858e-01 1.03297115e-01]\n",
      " [6.33856568e-03 3.45018996e-03 7.12783967e-02 6.83014485e-02\n",
      "  2.13758052e-01 9.45591972e-01 8.52908583e-02 2.33784234e-01\n",
      "  1.01163315e-01 3.26742612e-02 3.75454704e-02 4.96571637e-02\n",
      "  1.56104413e-01 6.68725111e-03 6.85200864e-02 5.38330457e-03\n",
      "  5.12691406e-03 8.02093141e-02 1.12421050e-01 7.84017181e-02]\n",
      " [9.24471321e-04 3.56146069e-02 6.74444819e-02 5.43117496e-02\n",
      "  2.07342833e-01 7.95732784e-02 7.49373455e-01 2.62293228e-01\n",
      "  1.18844416e-01 1.82325267e-02 9.91727604e-03 7.55702030e-03\n",
      "  1.63464871e-01 2.06729702e-02 8.32954793e-02 3.46881327e-02\n",
      "  1.05638911e-02 1.06015334e-01 1.24679245e-01 6.76835783e-02]\n",
      " [1.59867929e-02 8.02178333e-03 3.98123471e-02 6.33754987e-02\n",
      "  2.09982922e-01 1.05438218e-01 1.91513236e-01 5.72748881e-01\n",
      "  1.41935868e-01 1.20188243e-02 5.88576900e-03 2.84785549e-02\n",
      "  1.70549678e-01 9.48556844e-03 1.07012379e-01 3.04063851e-02\n",
      "  5.07524697e-02 1.11344830e-01 1.07808930e-01 1.03165012e-01]\n",
      " [2.15003305e-02 2.44070749e-02 5.50295197e-02 8.15169092e-02\n",
      "  2.14328774e-01 1.00751052e-01 2.04345972e-01 9.61717031e-02\n",
      "  9.33273044e-01 3.51621122e-02 5.07301646e-03 4.65848678e-02\n",
      "  1.67458604e-01 2.08629756e-02 1.07099875e-01 5.15474506e-02\n",
      "  8.72770703e-02 1.03528425e-01 4.51125620e-02 9.39825256e-02]\n",
      " [3.37261428e-02 4.49844681e-02 4.90273183e-02 1.24527475e-01\n",
      "  2.04249361e-01 8.80146864e-02 2.17254546e-01 9.79997321e-02\n",
      "  6.68666616e-02 9.88743127e-01 2.15000766e-02 9.08476357e-02\n",
      "  1.49099580e-01 6.57077093e-02 9.83723004e-02 4.12467578e-02\n",
      "  9.92036084e-02 9.06100803e-02 9.60986068e-02 8.46178726e-02]\n",
      " [2.97016130e-02 7.81248260e-02 3.81800511e-02 1.89264064e-01\n",
      "  1.70745242e-01 1.04881743e-01 1.91091646e-01 8.10656873e-02\n",
      "  3.78275231e-02 8.77790829e-02 5.83194963e-01 1.70725559e-01\n",
      "  1.42116378e-01 6.86468731e-02 7.56253218e-02 2.99307350e-02\n",
      "  1.49575938e-01 8.60965993e-02 9.39930983e-02 6.32386382e-02]\n",
      " [2.64057203e-02 7.97317923e-02 6.24104915e-02 1.63465666e-01\n",
      "  1.82052215e-01 1.17461781e-01 1.96249449e-01 1.34091223e-01\n",
      "  4.68569065e-02 6.06136845e-02 4.35929052e-01 6.71757785e-01\n",
      "  1.47001188e-01 9.02465183e-02 6.28718686e-02 3.45742688e-02\n",
      "  1.50042386e-01 7.76251824e-02 9.93950532e-02 6.28062467e-02]\n",
      " [4.76902086e-02 3.42807256e-02 1.01091681e-01 1.15806646e-01\n",
      "  1.95565372e-01 7.84315756e-02 1.94619444e-01 1.53164735e-01\n",
      "  5.00239200e-02 3.96179893e-02 3.82791468e-01 2.66014768e-01\n",
      "  5.65680943e-01 7.01209139e-02 9.25635567e-02 3.75274897e-02\n",
      "  1.02390199e-01 5.95639182e-02 5.41849571e-02 9.93967675e-02]\n",
      " [5.67559592e-02 4.58501052e-02 8.23365366e-02 1.04068452e-01\n",
      "  1.93530313e-01 4.39539338e-02 1.72688399e-01 1.44171302e-01\n",
      "  7.03585919e-02 2.80353128e-02 3.18366497e-01 2.58790099e-01\n",
      "  2.26168164e-01 9.85507613e-01 8.48896901e-02 6.19783704e-02\n",
      "  8.13751726e-02 6.68708002e-02 7.49407920e-02 9.33917609e-02]\n",
      " [8.30671995e-02 4.99838723e-02 8.05048873e-02 5.78404427e-02\n",
      "  1.66519754e-01 1.16645303e-02 1.35046310e-01 1.25636345e-01\n",
      "  4.50713795e-02 2.17662333e-02 2.43277678e-01 2.08445874e-01\n",
      "  1.95819695e-01 5.33509449e-03 9.06077227e-01 9.39251879e-02\n",
      "  6.36506713e-02 6.34059583e-02 5.04390221e-02 1.36857099e-01]\n",
      " [1.08591618e-01 2.23278493e-02 8.36798262e-02 2.88212063e-02\n",
      "  1.98666570e-01 3.20649927e-02 1.19741121e-01 1.47163009e-01\n",
      "  7.22500105e-02 2.86311862e-02 2.23807761e-01 2.38138494e-01\n",
      "  1.97722178e-01 2.06810217e-02 8.83928624e-02 9.89387021e-01\n",
      "  8.73167759e-02 7.44986290e-02 7.02978669e-02 1.47684915e-01]\n",
      " [1.38529175e-01 5.03386360e-02 1.25394997e-01 1.08560973e-02\n",
      "  1.78431823e-01 7.51324799e-03 1.30287754e-01 1.63870928e-01\n",
      "  4.27326395e-02 2.53741125e-02 1.73160473e-01 2.41270133e-01\n",
      "  2.11334001e-01 1.83692341e-02 9.04621646e-02 1.74977434e-03\n",
      "  9.31404915e-01 6.57290667e-02 6.85436286e-02 1.95841144e-01]\n",
      " [1.47276575e-01 4.01501027e-02 1.01466566e-01 1.27834079e-02\n",
      "  1.61974765e-01 1.56198085e-03 1.03549657e-01 1.75008674e-01\n",
      "  5.60683464e-02 1.34788951e-02 1.65446721e-01 2.18206261e-01\n",
      "  1.73496768e-01 1.46189779e-02 1.01748567e-01 2.10379340e-02\n",
      "  1.07317443e-01 9.06260115e-01 8.62441718e-02 2.21665852e-01]\n",
      " [1.56541050e-01 7.79660574e-02 1.33713617e-01 3.41779502e-02\n",
      "  1.61276361e-01 6.50043727e-02 1.03800140e-01 1.90636334e-01\n",
      "  2.13740064e-02 2.67459276e-02 1.44855350e-01 2.10089763e-01\n",
      "  1.84335041e-01 2.08327678e-02 1.06812750e-01 7.03526320e-03\n",
      "  1.10877107e-01 1.59762376e-01 9.08307539e-01 1.75534505e-01]\n",
      " [1.66791722e-01 4.86218570e-02 1.62311626e-01 7.84669919e-02\n",
      "  1.96126301e-01 4.97092081e-02 1.37282482e-01 2.22885903e-01\n",
      "  8.67042672e-02 3.53067661e-02 1.45320613e-01 2.32712589e-01\n",
      "  2.11166588e-01 1.10406055e-02 1.16447156e-01 1.17206312e-03\n",
      "  9.35794923e-02 1.71295420e-01 9.80755108e-02 8.38422597e-01]]\n",
      "25000\n",
      "condition number threshold: 8.337322\n",
      "layer 1/2,  condition number: 7.919228784876866\n"
     ]
    },
    {
     "name": "stderr",
     "output_type": "stream",
     "text": [
      "GPU available: False, used: False\n",
      "TPU available: False, using: 0 TPU cores\n",
      "IPU available: False, using: 0 IPUs\n",
      "\n",
      "  | Name    | Type   | Params\n",
      "-----------------------------------\n",
      "0 | linear1 | Linear | 2.1 K \n",
      "1 | act_fn1 | ReLU   | 0     \n",
      "2 | linear2 | Linear | 10.1 K\n",
      "3 | act_fn2 | ReLU   | 0     \n",
      "4 | linear3 | Linear | 2.0 K \n",
      "-----------------------------------\n",
      "14.3 K    Trainable params\n",
      "0         Non-trainable params\n",
      "14.3 K    Total params\n",
      "0.057     Total estimated model params size (MB)\n"
     ]
    },
    {
     "name": "stdout",
     "output_type": "stream",
     "text": [
      "layer 2/2,  condition number: 7.611972532034463\n"
     ]
    },
    {
     "data": {
      "application/vnd.jupyter.widget-view+json": {
       "model_id": "f887934cb33f49809fe192e15f119077",
       "version_major": 2,
       "version_minor": 0
      },
      "text/plain": [
       "Training: 0it [00:00, ?it/s]"
      ]
     },
     "metadata": {},
     "output_type": "display_data"
    },
    {
     "name": "stdout",
     "output_type": "stream",
     "text": [
      "[[9.38275059e-01 1.86989034e-01 2.83936000e-01 1.02420789e-01\n",
      "  1.71763483e-02 3.05290882e-04 1.75072479e-01 4.24376555e-02\n",
      "  1.15244846e-01 2.33831736e-01 1.59649344e-01 1.98883195e-01\n",
      "  3.71318511e-04 1.68243431e-01 6.90572747e-02 8.30496186e-03\n",
      "  6.54470469e-02 2.02112478e-01 1.84078256e-01 1.01343063e-01]\n",
      " [1.11006168e-01 7.92964650e-01 3.30070006e-01 8.51775993e-02\n",
      "  2.59688190e-02 7.56163348e-03 1.47385154e-01 3.01711498e-02\n",
      "  1.28690803e-01 2.09772563e-01 1.15857642e-01 2.08113919e-01\n",
      "  3.84162166e-02 1.75909965e-01 9.16536760e-02 5.86258333e-02\n",
      "  6.77904211e-02 1.92865260e-01 1.89894292e-01 7.94324642e-02]\n",
      " [1.09488974e-01 1.68170904e-01 4.25987261e-01 6.02735322e-02\n",
      "  5.50012539e-02 4.52959429e-02 1.54961774e-01 1.82477180e-02\n",
      "  8.54731767e-02 1.97866358e-01 1.20498512e-01 2.41101476e-01\n",
      "  7.42063284e-02 1.73781797e-01 1.26592064e-01 7.50829881e-02\n",
      "  6.10897323e-02 1.54506667e-01 1.64117951e-01 5.70205023e-02]\n",
      " [7.44231586e-02 1.28245653e-01 1.89630511e-01 9.31606243e-01\n",
      "  6.77763482e-02 8.86137865e-02 1.34729553e-01 1.37491331e-02\n",
      "  6.35184137e-02 1.35068474e-01 8.57680351e-02 2.19928014e-01\n",
      "  1.53793118e-01 1.38672971e-01 1.32807762e-01 9.47383383e-02\n",
      "  5.06702107e-02 1.29174874e-01 1.21698915e-01 1.95800715e-02]\n",
      " [1.17498751e-01 1.33198830e-01 2.31440463e-01 7.37428349e-02\n",
      "  7.14659008e-01 1.31560241e-01 1.44586850e-01 2.15351847e-02\n",
      "  9.65935456e-02 1.01286683e-01 8.69671035e-02 2.51541130e-01\n",
      "  6.49510146e-02 1.08058905e-01 2.15839545e-01 8.62971487e-02\n",
      "  7.55467445e-02 1.13127441e-01 1.48953234e-01 2.14939689e-02]\n",
      " [8.67637621e-02 7.73204304e-02 1.55069297e-01 4.38880363e-02\n",
      "  3.20452884e-01 9.40115657e-01 1.17249880e-01 3.69124222e-03\n",
      "  1.01493892e-01 3.24403438e-04 7.20224324e-02 2.28078265e-01\n",
      "  8.20074332e-02 6.97788397e-02 1.36055995e-01 3.92989125e-02\n",
      "  3.80328569e-02 6.60476907e-02 1.40668729e-01 4.40852957e-03]\n",
      " [9.42837966e-02 1.12184508e-01 1.75970342e-01 7.54696141e-02\n",
      "  2.90107516e-01 8.69816016e-02 6.90353022e-01 3.02442200e-02\n",
      "  1.29392889e-01 9.87601039e-04 9.93450086e-02 2.18996579e-01\n",
      "  1.37043873e-02 5.73318949e-02 1.27897875e-01 3.51959842e-02\n",
      "  6.97282809e-02 6.22719267e-02 1.52700241e-01 9.24799389e-03]\n",
      " [9.67421913e-02 1.24389776e-01 1.66475755e-01 9.18092756e-02\n",
      "  2.41328312e-01 6.78480156e-02 1.69559202e-01 9.67008876e-01\n",
      "  1.63505999e-01 4.39297609e-02 1.16478523e-01 2.37009864e-01\n",
      "  5.68351467e-02 3.22500269e-02 1.12554287e-01 1.12443025e-02\n",
      "  8.05187436e-02 4.55885935e-02 1.47452605e-01 1.31568265e-03]\n",
      " [9.00385164e-02 1.57738726e-01 1.95459331e-01 1.28876302e-01\n",
      "  2.49963876e-01 1.00767118e-01 1.90747041e-01 2.51002723e-02\n",
      "  8.94956957e-01 1.98963171e-02 1.63296331e-01 2.84151532e-01\n",
      "  6.12015231e-02 4.02387733e-02 1.92071086e-01 2.69954476e-03\n",
      "  1.12059232e-01 3.36413638e-02 1.86128874e-01 2.99897267e-02]\n",
      " [8.29665611e-02 1.19514397e-01 1.67361285e-01 8.20874244e-02\n",
      "  2.34520855e-01 1.24608149e-01 1.72063804e-01 3.63747112e-02\n",
      "  1.50490418e-01 7.81828045e-01 1.38304600e-01 2.67395132e-01\n",
      "  4.23242885e-02 6.35775957e-03 1.79030971e-01 3.03287445e-02\n",
      "  8.82418325e-02 2.88752414e-02 1.34811195e-01 6.61794315e-02]\n",
      " [4.33588976e-02 1.39751451e-01 1.67841579e-01 1.19888667e-02\n",
      "  2.03296506e-01 1.48849171e-01 1.50055579e-01 1.78065406e-02\n",
      "  1.57231161e-01 1.00552823e-01 8.48056202e-01 2.58131118e-01\n",
      "  1.72008501e-02 9.71310945e-03 1.87621824e-01 3.41838520e-02\n",
      "  9.84541594e-02 3.11929710e-02 7.78890259e-02 4.87441250e-02]\n",
      " [1.81386692e-02 1.01388442e-01 1.76755257e-01 1.24946553e-02\n",
      "  1.99556453e-01 1.12543000e-01 1.45623841e-01 1.14422558e-02\n",
      "  1.27503732e-01 1.21031787e-01 9.28238867e-02 5.26365336e-01\n",
      "  3.90423053e-02 2.82563434e-02 1.80980358e-01 5.06585840e-02\n",
      "  6.19056147e-02 1.81470775e-03 6.09753086e-02 4.62974921e-03]\n",
      " [1.80454671e-02 1.24868713e-01 1.58318275e-01 6.60988484e-02\n",
      "  9.46267835e-02 1.36732001e-01 1.44808358e-01 1.77801588e-02\n",
      "  1.31622570e-01 1.33757396e-01 8.75788831e-02 7.61603613e-02\n",
      "  8.89949429e-01 6.41599584e-02 1.31238089e-01 9.95822923e-02\n",
      "  4.86792030e-02 1.31380589e-02 1.03632640e-02 2.83829605e-03]\n",
      " [7.91182691e-02 1.11167427e-01 1.23590028e-01 3.49554383e-02\n",
      "  6.38041446e-02 8.29059355e-02 1.56937444e-01 7.74756895e-02\n",
      "  1.24252394e-01 1.12247298e-01 2.97612026e-02 8.43824328e-02\n",
      "  2.97860708e-01 8.39261106e-01 9.46529976e-02 6.26884082e-02\n",
      "  2.70305987e-02 2.37908031e-03 2.36520725e-03 2.31541331e-02]\n",
      " [7.27830707e-02 1.29517706e-01 1.50875468e-01 8.66433834e-03\n",
      "  4.17710265e-03 3.87760078e-02 1.95766538e-01 1.13734311e-01\n",
      "  9.59422217e-02 1.40015413e-01 3.71857409e-02 3.82166543e-02\n",
      "  1.98627008e-01 1.22350586e-01 8.38885177e-01 3.32275154e-02\n",
      "  2.93859637e-02 2.95264329e-02 6.19113979e-02 5.59879452e-02]\n",
      " [1.04829883e-01 9.21515054e-02 1.37274983e-01 3.07191303e-02\n",
      "  3.59941313e-03 1.10868072e-02 1.70355736e-01 1.23925288e-01\n",
      "  4.00450449e-02 9.37843353e-02 6.83278776e-02 1.41480838e-02\n",
      "  1.18986479e-01 1.14862341e-01 9.01776052e-02 9.63010147e-01\n",
      "  4.55179661e-02 6.27011121e-02 8.11909219e-02 1.28237151e-01]\n",
      " [7.09866267e-02 1.39310749e-01 2.01172461e-01 7.88997238e-02\n",
      "  7.76764726e-03 1.21628205e-02 1.99201754e-01 1.03952888e-01\n",
      "  5.63467158e-03 1.62300347e-01 1.25270437e-01 4.43625565e-02\n",
      "  5.90511907e-02 1.51213978e-01 3.33991473e-02 1.72504866e-02\n",
      "  9.53372553e-01 4.80131048e-02 1.06033763e-01 1.74302679e-01]\n",
      " [7.68274716e-02 1.74617660e-01 2.26794682e-01 9.67294923e-02\n",
      "  4.39129806e-02 3.07981374e-02 1.93250562e-01 6.97229305e-02\n",
      "  1.61302511e-02 1.79688400e-01 1.32446919e-01 9.20419068e-02\n",
      "  1.47753840e-02 1.58723149e-01 2.37636517e-02 3.94903849e-02\n",
      "  9.43305891e-02 8.86977624e-01 1.36460071e-01 2.06335016e-01]\n",
      " [4.06310452e-02 1.87880482e-01 2.72582361e-01 1.28041262e-01\n",
      "  3.87595789e-02 1.48171626e-02 1.99459060e-01 7.02333892e-02\n",
      "  7.15909678e-02 2.00328161e-01 1.60239804e-01 1.10890138e-01\n",
      "  6.08488202e-02 1.94680213e-01 5.83437884e-02 5.73056794e-02\n",
      "  8.04357223e-02 2.11579841e-01 8.00165083e-01 2.32064787e-01]\n",
      " [7.96179124e-02 1.84259686e-01 2.68968448e-01 1.35615569e-01\n",
      "  4.36438017e-02 1.76452322e-02 2.00511329e-01 6.83490517e-02\n",
      "  5.40018433e-02 2.29095137e-01 1.93184658e-01 1.90496299e-01\n",
      "  3.04809477e-02 1.72722923e-01 6.42283661e-02 4.11419923e-02\n",
      "  6.42674502e-02 1.88901556e-01 2.55805530e-01 9.08490671e-01]]\n",
      "25000\n",
      "condition number threshold: 9.196186\n",
      "layer 1/2,  condition number: 7.759591089965243\n"
     ]
    },
    {
     "name": "stderr",
     "output_type": "stream",
     "text": [
      "GPU available: False, used: False\n",
      "TPU available: False, using: 0 TPU cores\n",
      "IPU available: False, using: 0 IPUs\n",
      "\n",
      "  | Name    | Type   | Params\n",
      "-----------------------------------\n",
      "0 | linear1 | Linear | 2.1 K \n",
      "1 | act_fn1 | ReLU   | 0     \n",
      "2 | linear2 | Linear | 10.1 K\n",
      "3 | act_fn2 | ReLU   | 0     \n",
      "4 | linear3 | Linear | 2.0 K \n",
      "-----------------------------------\n",
      "14.3 K    Trainable params\n",
      "0         Non-trainable params\n",
      "14.3 K    Total params\n",
      "0.057     Total estimated model params size (MB)\n"
     ]
    },
    {
     "name": "stdout",
     "output_type": "stream",
     "text": [
      "layer 2/2,  condition number: 9.139152461769887\n"
     ]
    },
    {
     "data": {
      "application/vnd.jupyter.widget-view+json": {
       "model_id": "a3838018882945bca237a088739597da",
       "version_major": 2,
       "version_minor": 0
      },
      "text/plain": [
       "Training: 0it [00:00, ?it/s]"
      ]
     },
     "metadata": {},
     "output_type": "display_data"
    },
    {
     "name": "stdout",
     "output_type": "stream",
     "text": [
      "[[0.69459385 0.11292291 0.07431769 0.29054763 0.27347727 0.23470585\n",
      "  0.11218368 0.14432112 0.1666967  0.12205465 0.02226784 0.02431027\n",
      "  0.08247914 0.08634596 0.21740387 0.05617988 0.104381   0.18971345\n",
      "  0.12547987 0.08624806]\n",
      " [0.24133479 0.98192811 0.08012565 0.28338791 0.2686312  0.24907636\n",
      "  0.14351664 0.12156569 0.12131413 0.10048626 0.00955246 0.04579429\n",
      "  0.06798851 0.05290976 0.18943981 0.0305555  0.13924101 0.16662835\n",
      "  0.0685933  0.06051777]\n",
      " [0.23252887 0.01570547 0.93361379 0.28284264 0.25709863 0.22486763\n",
      "  0.18354195 0.13489651 0.12143197 0.15625315 0.05007484 0.09278199\n",
      "  0.05560892 0.07663699 0.19485802 0.02306899 0.15962496 0.14659645\n",
      "  0.00884963 0.04075098]\n",
      " [0.18786124 0.00633794 0.09731683 0.69217922 0.24516191 0.26348729\n",
      "  0.23245397 0.12836719 0.11145959 0.20618451 0.06179528 0.1012669\n",
      "  0.00338757 0.10547774 0.18280892 0.00452731 0.17848989 0.13286493\n",
      "  0.01452507 0.0149061 ]\n",
      " [0.2596919  0.02183311 0.11057279 0.08427795 0.360283   0.2825222\n",
      "  0.24246175 0.15237248 0.15013449 0.20200951 0.03412806 0.1246985\n",
      "  0.03061626 0.12878686 0.22472847 0.03048844 0.17554994 0.12095265\n",
      "  0.07327623 0.02579651]\n",
      " [0.218354   0.02555381 0.10146494 0.05883471 0.34460614 0.71051954\n",
      "  0.23814959 0.14909255 0.14393621 0.21062713 0.07531161 0.11345236\n",
      "  0.01196566 0.14074996 0.20066556 0.01134481 0.15094996 0.14547588\n",
      "  0.03547204 0.02497625]\n",
      " [0.15034693 0.00821238 0.06067138 0.01934456 0.29328436 0.09426667\n",
      "  0.85084771 0.13120024 0.1402439  0.2400393  0.07366781 0.11295969\n",
      "  0.01006156 0.15906261 0.16475738 0.03818928 0.17917456 0.13521439\n",
      "  0.03229151 0.05472579]\n",
      " [0.08650217 0.02827064 0.01862195 0.00523056 0.22174744 0.10675318\n",
      "  0.00244141 0.85847399 0.08338541 0.23770315 0.11870156 0.1102176\n",
      "  0.05063822 0.18116925 0.0995165  0.04089815 0.18136132 0.0906695\n",
      "  0.05172073 0.0760238 ]\n",
      " [0.05021644 0.03745653 0.00449905 0.00582398 0.17776937 0.09999657\n",
      "  0.00683906 0.15522562 0.87095604 0.28521965 0.11895857 0.11060072\n",
      "  0.00494678 0.16094493 0.04472227 0.07907766 0.16921519 0.07873156\n",
      "  0.03313606 0.10808288]\n",
      " [0.08079002 0.06143165 0.02709188 0.01058399 0.1392566  0.1010217\n",
      "  0.01325459 0.15574908 0.17699652 0.80036182 0.14914369 0.1213391\n",
      "  0.03803222 0.16337184 0.04731717 0.10259482 0.17083677 0.09924783\n",
      "  0.05252706 0.11462142]\n",
      " [0.08229403 0.07265557 0.04270514 0.0484245  0.15428094 0.04266325\n",
      "  0.00944799 0.11625151 0.1092191  0.00242441 0.88726946 0.11544728\n",
      "  0.00182648 0.19425394 0.05199032 0.06129696 0.18062637 0.09223045\n",
      "  0.03055086 0.11613879]\n",
      " [0.08580407 0.0414755  0.04779523 0.06670701 0.13462296 0.03813909\n",
      "  0.01702779 0.10905177 0.11450999 0.02678249 0.17096938 0.94017825\n",
      "  0.01283968 0.17517319 0.03266509 0.08709089 0.15272948 0.11052326\n",
      "  0.00559973 0.10208414]\n",
      " [0.0968173  0.04260574 0.0895008  0.0987448  0.14945731 0.01457033\n",
      "  0.01635294 0.06342169 0.10474359 0.02311204 0.16271477 0.01287767\n",
      "  0.98440923 0.21075384 0.03683724 0.09520703 0.17294137 0.09855181\n",
      "  0.02448776 0.10137013]\n",
      " [0.09917078 0.0663211  0.08818335 0.07917219 0.10233814 0.00473914\n",
      "  0.02413423 0.0944103  0.08705021 0.00802166 0.16020132 0.0059012\n",
      "  0.00676162 0.83484781 0.03170624 0.1336993  0.15239722 0.06668356\n",
      "  0.00366634 0.081509  ]\n",
      " [0.06757048 0.04382629 0.09975703 0.10180456 0.11191427 0.01833941\n",
      "  0.03306941 0.04985766 0.08645563 0.00395895 0.15992356 0.02350865\n",
      "  0.01308517 0.05095799 0.76468024 0.14773138 0.18543874 0.03744578\n",
      "  0.00153967 0.08288588]\n",
      " [0.11440028 0.03997581 0.0905632  0.1497422  0.16628094 0.02376345\n",
      "  0.06727726 0.00921143 0.04641315 0.04793321 0.10843812 0.01742147\n",
      "  0.00782592 0.07426729 0.10093557 0.94890802 0.19284268 0.07553174\n",
      "  0.0065633  0.07449497]\n",
      " [0.15376798 0.00701552 0.1032715  0.15491165 0.15222907 0.06237521\n",
      "  0.06952228 0.00969593 0.00764903 0.03104745 0.10148476 0.02187635\n",
      "  0.01353956 0.05039872 0.11819708 0.06371752 0.71818451 0.04112045\n",
      "  0.0055703  0.03633236]\n",
      " [0.19544294 0.01430925 0.09662468 0.2140634  0.16718683 0.1656717\n",
      "  0.09347169 0.04135178 0.05883261 0.04123799 0.06386474 0.00778081\n",
      "  0.03032338 0.06023153 0.17585694 0.04082552 0.0682733  0.81590814\n",
      "  0.04140767 0.00562584]\n",
      " [0.25194997 0.02662363 0.06807025 0.26315169 0.20796501 0.20513096\n",
      "  0.10706676 0.08424428 0.08480991 0.0390354  0.05473896 0.01712108\n",
      "  0.02749432 0.07900073 0.19478778 0.05941473 0.09551664 0.25027816\n",
      "  0.96480543 0.01772906]\n",
      " [0.25089307 0.07185275 0.09120495 0.27797409 0.22044021 0.23852795\n",
      "  0.11453148 0.07681027 0.1132546  0.04972341 0.02364019 0.00531431\n",
      "  0.06102378 0.06337742 0.19138195 0.06206455 0.08221736 0.2153317\n",
      "  0.17263632 0.93895423]]\n",
      "25000\n",
      "condition number threshold: 8.365790\n",
      "layer 1/2,  condition number: 8.169344565622199\n"
     ]
    },
    {
     "name": "stderr",
     "output_type": "stream",
     "text": [
      "GPU available: False, used: False\n",
      "TPU available: False, using: 0 TPU cores\n",
      "IPU available: False, using: 0 IPUs\n",
      "\n",
      "  | Name    | Type   | Params\n",
      "-----------------------------------\n",
      "0 | linear1 | Linear | 2.1 K \n",
      "1 | act_fn1 | ReLU   | 0     \n",
      "2 | linear2 | Linear | 10.1 K\n",
      "3 | act_fn2 | ReLU   | 0     \n",
      "4 | linear3 | Linear | 2.0 K \n",
      "-----------------------------------\n",
      "14.3 K    Trainable params\n",
      "0         Non-trainable params\n",
      "14.3 K    Total params\n",
      "0.057     Total estimated model params size (MB)\n"
     ]
    },
    {
     "name": "stdout",
     "output_type": "stream",
     "text": [
      "layer 2/2,  condition number: 8.005577264075626\n"
     ]
    },
    {
     "data": {
      "application/vnd.jupyter.widget-view+json": {
       "model_id": "606d5f5c6d2e4e5f81996f126dc9d3e4",
       "version_major": 2,
       "version_minor": 0
      },
      "text/plain": [
       "Training: 0it [00:00, ?it/s]"
      ]
     },
     "metadata": {},
     "output_type": "display_data"
    },
    {
     "name": "stdout",
     "output_type": "stream",
     "text": [
      "[[4.72383873e-01 2.65307078e-01 6.96157711e-03 1.26071137e-01\n",
      "  3.07151273e-02 1.42679394e-01 9.89645840e-02 1.78209159e-01\n",
      "  2.64494659e-02 6.23744288e-02 8.85019247e-02 7.55179053e-02\n",
      "  7.13674775e-02 4.83593103e-02 6.45013052e-02 2.13052140e-02\n",
      "  1.51611268e-02 1.66858970e-01 2.35714599e-01 1.58554511e-01]\n",
      " [4.18475659e-02 6.93687707e-01 3.71296160e-02 2.11106856e-01\n",
      "  3.90403600e-02 1.81399417e-01 1.14551458e-01 2.26872206e-01\n",
      "  1.93129070e-02 6.27450026e-02 1.28593296e-01 6.84556997e-02\n",
      "  6.86109358e-02 1.00011944e-01 1.32005119e-01 2.03148411e-02\n",
      "  4.38221885e-02 1.14945126e-01 1.29679533e-01 1.37752259e-01]\n",
      " [4.37011943e-03 3.84219061e-01 8.17249871e-01 2.43955050e-01\n",
      "  1.45744501e-02 2.55711589e-01 5.53211819e-02 8.69692917e-02\n",
      "  2.69302113e-02 1.10725062e-01 1.58351614e-01 2.21898678e-02\n",
      "  3.20241588e-02 7.45934034e-02 1.51641320e-01 1.09402600e-01\n",
      "  1.06198934e-01 6.35076784e-02 1.32155663e-01 1.33087650e-01]\n",
      " [7.64611309e-03 3.35391106e-01 2.01032462e-01 8.99955333e-01\n",
      "  2.67066292e-02 3.37372314e-01 1.61760862e-02 1.02486305e-02\n",
      "  6.35592227e-03 1.41657601e-01 1.42375303e-01 7.58506336e-02\n",
      "  8.33100994e-03 4.95469025e-02 1.09591818e-01 1.56571707e-01\n",
      "  1.07574171e-01 8.83606385e-03 1.33767948e-01 1.36770873e-01]\n",
      " [2.90157850e-02 1.80919452e-01 1.81687576e-01 3.42724486e-02\n",
      "  9.49506726e-01 4.38791831e-01 7.59637059e-03 1.44066526e-01\n",
      "  2.25942133e-02 1.87702446e-01 1.32554882e-01 1.77904982e-01\n",
      "  3.93024855e-02 1.75844228e-02 1.15043697e-01 2.23690739e-01\n",
      "  9.70468568e-02 1.05101492e-01 2.05277712e-01 1.16381262e-01]\n",
      " [8.88320889e-02 8.46988644e-02 1.91855440e-01 6.94347818e-02\n",
      "  9.14678711e-02 6.16327027e-01 6.04253193e-02 2.89873829e-01\n",
      "  1.23413250e-01 1.70172275e-01 1.79685142e-01 2.07553045e-01\n",
      "  6.57053797e-02 8.31129265e-02 1.16035519e-01 1.60270014e-01\n",
      "  9.94726777e-02 1.93528520e-01 2.53656115e-01 5.37065720e-02]\n",
      " [1.05970656e-01 4.72012385e-02 1.68877974e-01 1.03277616e-01\n",
      "  1.42537289e-02 1.32096226e-01 7.56186737e-01 4.07595304e-01\n",
      "  5.66831715e-02 1.62575608e-01 1.78914094e-01 1.52175155e-01\n",
      "  3.10526701e-02 1.02952046e-01 1.79083785e-01 6.60187000e-02\n",
      "  2.07535523e-02 2.07902163e-01 2.29809446e-01 2.26304851e-02]\n",
      " [7.08428893e-02 8.76899174e-02 1.98015693e-01 1.18725131e-01\n",
      "  2.01169940e-02 1.46827041e-01 2.01780609e-01 5.94016516e-01\n",
      "  1.30487935e-01 2.26142806e-01 1.56890436e-01 1.93855644e-01\n",
      "  3.92116321e-03 2.16989102e-01 1.38088975e-01 5.26152237e-02\n",
      "  4.32397311e-02 2.76459380e-01 2.28037428e-01 2.73749617e-02]\n",
      " [1.97563576e-02 6.12893659e-02 1.86066161e-01 8.06116205e-02\n",
      "  6.26780678e-03 3.47755025e-02 1.92125771e-01 2.06584831e-01\n",
      "  9.16696243e-01 3.04572416e-01 1.52181202e-01 1.10659400e-01\n",
      "  7.52509160e-02 2.20872026e-01 1.65388818e-01 8.42623047e-02\n",
      "  1.50945724e-02 2.02696977e-01 8.53068955e-02 1.02384998e-02]\n",
      " [1.03280545e-01 7.22327671e-02 1.99474595e-01 8.21506138e-02\n",
      "  1.07642480e-02 1.52942325e-02 1.33787551e-01 1.75991379e-01\n",
      "  1.98999197e-01 7.23975163e-01 1.15829947e-01 8.44683439e-02\n",
      "  9.84809096e-02 2.96629419e-01 1.64043045e-01 1.24171986e-01\n",
      "  3.76243009e-02 2.05282459e-01 9.08398337e-04 3.66191862e-02]\n",
      " [1.33044791e-01 3.61641123e-02 1.85049557e-01 6.95344847e-02\n",
      "  6.41581296e-02 6.74740279e-03 1.19183610e-01 1.70831510e-01\n",
      "  1.74937568e-01 7.58721156e-02 8.24322098e-01 1.72968308e-02\n",
      "  1.46293859e-01 3.03090213e-01 1.47678912e-01 5.98742153e-02\n",
      "  2.91894982e-02 1.59492665e-01 4.25515567e-02 5.16000283e-02]\n",
      " [1.99175188e-01 2.26764427e-02 1.40447286e-01 5.44945070e-02\n",
      "  6.86533783e-02 9.48897194e-02 8.44457917e-02 1.48560645e-01\n",
      "  1.59887811e-01 1.00583539e-01 1.67682259e-01 8.72461686e-01\n",
      "  1.23903188e-01 3.50885646e-01 1.22775655e-01 9.05535335e-02\n",
      "  3.72965432e-02 1.36970757e-01 8.27122277e-02 7.16014546e-02]\n",
      " [2.92009596e-01 9.82414341e-02 1.26089694e-01 4.13115011e-02\n",
      "  2.16306911e-02 6.06094707e-02 4.37275806e-02 7.98086072e-02\n",
      "  1.24813139e-01 1.56710462e-01 1.24559246e-01 1.12709265e-01\n",
      "  8.47575362e-01 4.18341054e-01 1.08611799e-01 1.28184509e-01\n",
      "  4.17140117e-02 1.88670431e-01 1.28269484e-01 9.89647044e-02]\n",
      " [3.35912912e-01 1.71646804e-01 1.06348415e-01 3.94506349e-02\n",
      "  3.41779443e-02 2.14345567e-02 1.43297084e-01 3.12529491e-02\n",
      "  5.03110118e-02 2.03366849e-01 8.27497380e-02 1.03144000e-01\n",
      "  3.00943962e-01 5.90893046e-01 1.16814588e-01 2.28804355e-01\n",
      "  3.22837702e-02 2.24028784e-01 1.04868868e-01 7.59335762e-02]\n",
      " [3.54501391e-01 1.75420331e-01 1.01811981e-02 3.21045180e-02\n",
      "  1.54526928e-01 1.01311950e-01 2.95196475e-01 3.53798173e-02\n",
      "  9.28635902e-03 2.02564920e-01 4.02695525e-02 8.24088731e-02\n",
      "  2.42241355e-01 6.09338776e-02 8.26613097e-01 3.39892271e-01\n",
      "  1.52004221e-02 2.34370072e-01 7.34896819e-02 4.15416652e-02]\n",
      " [3.50259479e-01 1.18954115e-01 3.44295265e-02 4.09756843e-02\n",
      "  1.94759987e-01 1.16455827e-01 3.09575488e-01 1.01325216e-01\n",
      "  1.88196060e-02 2.17858822e-01 1.89045811e-02 9.02048068e-02\n",
      "  1.62454396e-01 4.24105869e-02 1.86426837e-01 7.57004416e-01\n",
      "  7.98875796e-03 2.87406334e-01 8.47049898e-02 8.12915652e-02]\n",
      " [3.09768895e-01 1.95678040e-02 1.85865544e-02 5.23352876e-02\n",
      "  1.10849060e-01 1.56382002e-01 1.91505536e-01 1.47236918e-01\n",
      "  2.69664776e-02 8.63201314e-02 6.59336723e-02 7.85913140e-03\n",
      "  1.36531559e-01 7.97744246e-02 1.06931964e-01 1.50845446e-01\n",
      "  9.76670480e-01 2.91962331e-01 9.55470508e-02 1.54867392e-01]\n",
      " [2.58210247e-01 7.57378100e-02 4.03798042e-02 4.34758543e-02\n",
      "  3.93651582e-03 1.19961963e-01 5.32628092e-02 2.31168153e-01\n",
      "  3.72064152e-02 1.96825123e-02 1.20098957e-01 8.85188624e-02\n",
      "  6.71334887e-02 1.19479270e-01 4.25582169e-02 1.77169532e-01\n",
      "  1.12892413e-02 5.25821564e-01 1.32649302e-01 2.77733939e-01]\n",
      " [1.85191857e-01 7.99359657e-02 2.73675263e-02 5.54726254e-03\n",
      "  1.95101293e-02 2.09458102e-01 1.00845748e-01 1.38854922e-01\n",
      "  1.04152121e-01 9.27980891e-03 1.09498855e-01 9.01003972e-02\n",
      "  4.45881411e-02 9.56178224e-02 2.38527790e-03 1.33227251e-01\n",
      "  6.62944077e-04 1.66468859e-01 6.62375864e-01 3.18526171e-01]\n",
      " [2.11972479e-01 1.49428251e-01 1.03787252e-02 4.13397996e-02\n",
      "  5.08985838e-02 1.97011304e-01 1.50846866e-01 1.69290073e-01\n",
      "  9.05163241e-02 1.01194780e-02 1.17316988e-01 8.46362138e-02\n",
      "  7.06951840e-02 8.10057490e-02 4.71747938e-02 1.15405446e-01\n",
      "  2.40495008e-02 1.44838410e-01 3.75699793e-01 8.04367336e-01]]\n",
      "25000\n",
      "condition number threshold: 8.910054\n",
      "layer 1/2,  condition number: 8.455453987695986\n"
     ]
    },
    {
     "name": "stderr",
     "output_type": "stream",
     "text": [
      "GPU available: False, used: False\n",
      "TPU available: False, using: 0 TPU cores\n",
      "IPU available: False, using: 0 IPUs\n",
      "\n",
      "  | Name    | Type   | Params\n",
      "-----------------------------------\n",
      "0 | linear1 | Linear | 2.1 K \n",
      "1 | act_fn1 | ReLU   | 0     \n",
      "2 | linear2 | Linear | 10.1 K\n",
      "3 | act_fn2 | ReLU   | 0     \n",
      "4 | linear3 | Linear | 2.0 K \n",
      "-----------------------------------\n",
      "14.3 K    Trainable params\n",
      "0         Non-trainable params\n",
      "14.3 K    Total params\n",
      "0.057     Total estimated model params size (MB)\n"
     ]
    },
    {
     "name": "stdout",
     "output_type": "stream",
     "text": [
      "layer 2/2,  condition number: 8.754714234534141\n"
     ]
    },
    {
     "data": {
      "application/vnd.jupyter.widget-view+json": {
       "model_id": "1110f1233b4746d4932ca3b28d6ebc28",
       "version_major": 2,
       "version_minor": 0
      },
      "text/plain": [
       "Training: 0it [00:00, ?it/s]"
      ]
     },
     "metadata": {},
     "output_type": "display_data"
    },
    {
     "name": "stdout",
     "output_type": "stream",
     "text": [
      "[[9.71656777e-01 3.32768188e-01 4.19706089e-02 1.49268395e-01\n",
      "  2.40629887e-02 1.09683439e-01 4.52681502e-02 1.09363458e-01\n",
      "  5.95152669e-03 9.53901977e-02 1.53540237e-01 8.14668179e-02\n",
      "  1.17526747e-01 4.44087920e-02 2.41134864e-01 7.04657545e-02\n",
      "  2.34665009e-01 4.64253816e-03 3.24992587e-02 1.65442697e-01]\n",
      " [6.02558736e-02 6.90374916e-01 3.52700865e-02 2.16809068e-01\n",
      "  2.89274920e-02 1.10972455e-01 6.55111252e-02 1.03361768e-01\n",
      "  9.01189169e-03 9.48601756e-02 1.98019819e-01 3.73585728e-02\n",
      "  6.96022730e-02 5.66506214e-02 1.78715545e-01 3.10601110e-02\n",
      "  2.12717733e-01 7.10442274e-03 3.58342253e-02 1.81043540e-01]\n",
      " [6.43393804e-02 1.34578525e-01 4.50203782e-01 3.06283571e-01\n",
      "  2.21106334e-02 6.82836452e-02 2.98103774e-02 4.69040001e-02\n",
      "  1.08415378e-02 8.70148566e-02 2.48091825e-01 3.79099419e-02\n",
      "  4.37865477e-03 6.11449015e-02 1.44517930e-01 8.66652372e-03\n",
      "  1.55984646e-01 2.68670994e-03 1.34870865e-01 2.43395938e-01]\n",
      " [2.42231328e-02 7.59891362e-02 4.08998775e-01 7.72675699e-01\n",
      "  1.47401227e-02 8.23481970e-02 1.02408284e-02 3.74354527e-02\n",
      "  1.45042823e-02 7.40636840e-02 2.42626101e-01 6.21745587e-02\n",
      "  7.77998850e-03 3.08024785e-02 1.12279378e-01 8.76345745e-03\n",
      "  1.46338225e-01 3.29735834e-02 1.12475820e-01 1.78366520e-01]\n",
      " [2.86771841e-02 2.39071438e-02 3.52512882e-01 2.21131941e-01\n",
      "  9.57522329e-01 1.03252843e-01 2.12395104e-02 8.19034577e-02\n",
      "  8.85437856e-02 3.20405695e-02 2.07519267e-01 6.80523162e-02\n",
      "  1.11841032e-02 3.92664076e-03 7.66443976e-02 3.43295530e-02\n",
      "  1.28128454e-01 9.13052161e-02 1.82964623e-02 1.05907845e-01]\n",
      " [1.62472458e-02 5.39390720e-02 3.34791847e-01 2.02515089e-01\n",
      "  9.29071732e-02 8.11396224e-01 3.27779864e-02 1.67903823e-01\n",
      "  9.49033266e-02 2.69689281e-02 2.08560619e-01 6.52441337e-02\n",
      "  4.17827738e-03 2.51439857e-02 1.63899837e-02 1.30350618e-02\n",
      "  1.39833402e-01 8.33795313e-02 1.93548865e-02 1.21888490e-01]\n",
      " [3.80249908e-02 8.82299392e-02 3.19252509e-01 1.83382095e-01\n",
      "  1.05730819e-01 2.32568569e-03 8.63669953e-01 2.17014646e-01\n",
      "  1.45523110e-01 5.31189937e-02 2.50189046e-01 6.19423900e-02\n",
      "  2.53821946e-02 3.29521203e-02 1.13040186e-02 5.30770576e-02\n",
      "  1.41061836e-01 5.60069257e-02 9.21583928e-02 1.37009684e-01]\n",
      " [1.15312848e-02 7.85392794e-02 2.15583907e-01 1.92057562e-01\n",
      "  1.08677669e-01 3.67293344e-02 4.41399716e-02 9.04796792e-01\n",
      "  2.12502534e-01 9.68848928e-02 2.03910486e-01 8.31531230e-02\n",
      "  2.08520102e-02 7.53804160e-02 4.27191146e-02 3.02038021e-02\n",
      "  1.04830744e-01 3.67392172e-02 7.55671910e-02 1.27413900e-01]\n",
      " [1.13618822e-02 5.86858063e-02 1.76972239e-01 1.24954993e-01\n",
      "  7.70488788e-02 4.32301410e-02 5.29470629e-02 8.12381437e-02\n",
      "  8.61388451e-01 1.03415881e-01 2.07420139e-01 1.37269377e-02\n",
      "  2.14308741e-02 9.26817107e-02 5.12803026e-02 2.43135191e-02\n",
      "  1.06910517e-01 2.33250803e-02 2.79298837e-02 9.97955128e-02]\n",
      " [3.18783926e-02 2.92866738e-02 1.62053894e-01 9.51106343e-02\n",
      "  9.87601640e-02 7.16167918e-02 8.47832010e-02 1.72845977e-02\n",
      "  3.65649153e-02 9.45634320e-01 2.39318987e-01 2.77412859e-03\n",
      "  1.98126543e-02 1.05913226e-01 3.51657182e-02 2.69697996e-02\n",
      "  1.42890084e-01 3.48836614e-02 2.98753703e-02 1.02915077e-01]\n",
      " [3.53528479e-02 9.75948482e-03 9.16945402e-02 5.48668274e-02\n",
      "  7.37008129e-02 1.12763730e-01 8.14687862e-02 2.15498816e-02\n",
      "  5.26646454e-02 4.67035550e-02 7.05138304e-01 8.28119766e-02\n",
      "  4.76154393e-02 1.17178461e-01 5.41475172e-03 1.97727706e-02\n",
      "  1.61594955e-01 5.88071971e-02 8.22202984e-02 4.66552625e-02]\n",
      " [5.06508316e-02 5.89764677e-02 1.06649617e-02 2.04200235e-02\n",
      "  4.79681960e-02 1.72752094e-01 1.45987152e-01 4.81936355e-03\n",
      "  1.29812267e-01 8.06114844e-02 7.40652772e-02 9.48846588e-01\n",
      "  1.07326073e-01 1.46869882e-01 2.08518522e-02 8.28264874e-03\n",
      "  2.18022867e-01 6.79602222e-02 1.30752605e-01 1.30662254e-02]\n",
      " [1.25022900e-02 8.55443907e-02 1.01225383e-01 5.71415469e-02\n",
      "  5.80810527e-03 1.98368448e-01 1.72654537e-01 6.59304089e-02\n",
      "  1.56116829e-01 9.48126234e-02 1.88628673e-02 9.84423790e-02\n",
      "  5.20692852e-01 2.07681290e-01 6.27892066e-03 2.00345557e-02\n",
      "  2.12173138e-01 7.52989544e-02 2.05603721e-01 5.33266999e-02]\n",
      " [6.52105244e-03 9.85596160e-02 1.31803183e-01 3.18441828e-02\n",
      "  2.10115669e-02 1.70477396e-01 1.89542277e-01 9.25081610e-02\n",
      "  1.86616578e-01 9.24412373e-02 1.03467154e-02 5.12373296e-02\n",
      "  4.13202897e-01 9.43569158e-01 5.28357726e-02 6.42994311e-02\n",
      "  1.61996982e-01 8.53131340e-02 2.72719183e-01 7.99235731e-02]\n",
      " [4.95802167e-03 1.61896398e-01 1.68786391e-01 1.88479499e-02\n",
      "  3.45827732e-02 1.87129468e-01 1.71975828e-01 1.24269404e-01\n",
      "  1.93127924e-01 1.02991089e-01 7.37335118e-03 1.85628882e-02\n",
      "  3.61951224e-01 2.08301879e-02 6.89451148e-01 3.33909954e-02\n",
      "  1.50223252e-01 2.26323452e-02 2.37217152e-01 1.00915922e-01]\n",
      " [3.73308805e-02 1.98839781e-01 1.92563812e-01 2.59622432e-02\n",
      "  9.11635022e-02 2.00255211e-01 2.04216068e-01 2.06045154e-02\n",
      "  1.75117120e-01 2.99779739e-02 1.32826295e-03 9.29391351e-02\n",
      "  3.49587777e-01 3.85107901e-02 3.05462512e-01 9.57757450e-01\n",
      "  1.62430827e-01 4.66057863e-02 2.59703275e-01 1.26671575e-01]\n",
      " [6.33759766e-02 2.19917636e-01 1.44511035e-01 1.32060465e-02\n",
      "  4.95120457e-02 1.67279540e-01 1.55133099e-01 5.67245905e-02\n",
      "  1.11299127e-01 6.21636628e-04 2.26088204e-02 1.26958835e-01\n",
      "  3.22644948e-01 4.70107088e-03 2.80843278e-01 1.42300607e-01\n",
      "  6.14079923e-01 4.67432168e-02 2.69032898e-01 5.77151216e-02]\n",
      " [8.47703572e-02 2.55845661e-01 1.04997365e-01 1.97122202e-02\n",
      "  2.43315517e-02 1.38115182e-01 1.60874338e-01 5.25486506e-02\n",
      "  1.23069978e-01 2.88126138e-02 4.28250645e-02 9.81415785e-02\n",
      "  2.71205240e-01 2.02986928e-02 2.49924506e-01 1.27793575e-01\n",
      "  2.72393986e-01 9.78732902e-01 2.56614801e-01 6.35723247e-02]\n",
      " [8.28437021e-02 3.08500633e-01 1.44345957e-01 4.39246461e-02\n",
      "  8.04699335e-02 1.78269450e-01 1.60821145e-01 1.21749332e-01\n",
      "  7.44948330e-02 6.22177183e-02 1.06087333e-01 8.59697342e-02\n",
      "  2.33266398e-01 2.52007219e-02 2.86062318e-01 1.10099737e-01\n",
      "  2.76944008e-01 3.87539006e-03 7.33513597e-01 7.73631624e-02]\n",
      " [1.20720040e-01 2.96569378e-01 6.06190002e-02 1.08160852e-01\n",
      "  2.06602224e-02 1.21138171e-01 7.51751046e-02 9.69852801e-02\n",
      "  3.51331239e-02 9.62940639e-02 1.12643676e-01 7.56823354e-02\n",
      "  1.74242039e-01 3.13638748e-02 2.59777634e-01 5.59802980e-02\n",
      "  2.60149592e-01 1.63335883e-02 1.55960651e-02 8.46767926e-01]]\n"
     ]
    }
   ],
   "source": [
    "n_trials=5\n",
    "dim_list = [6,10,20]\n",
    "s = len(dim_list)\n",
    "MCC_result = np.zeros((s,n_trials))\n",
    "m=0\n",
    "for d in dim_list:\n",
    "    for trial in range(n_trials):\n",
    "        data_X, data_Z = data_generation_MLP(n=d, n_layers=2, cond_thresh_ratio=0.0, n_iter_cond_thresh=25000, n_data=15000, distribution=\"uniform_non_linear\")\n",
    "        k= len(data_X)\n",
    "        train_data_X = []\n",
    "        test_data_X  = []\n",
    "        train_data_Z = []\n",
    "        test_data_Z  = []\n",
    "        train_size = 10000\n",
    "        for i in range(k):\n",
    "            train_data_X.append(data_X[i][:train_size])\n",
    "            train_data_Z.append(data_Z[i][:train_size])\n",
    "            test_data_X.append(data_X[i][train_size:])\n",
    "            test_data_Z.append(data_Z[i][train_size:])  \n",
    "        latent_comparison_model = Latent_comparison_model(d)\n",
    "        train_loader = DataLoader(train_data_X, batch_size=BATCH_SIZE)\n",
    "        trainer = Trainer(\n",
    "            gpus=AVAIL_GPUS,\n",
    "            max_epochs=2000,\n",
    "            progress_bar_refresh_rate=20,\n",
    "        )\n",
    "        trainer.fit(latent_comparison_model, train_loader)\n",
    "        \n",
    "        Zp=latent_comparison_model(test_data_X[0])\n",
    "        Z = test_data_Z[0]\n",
    "        MCC_result[m][trial] = MCC(Z.detach().numpy(),Zp.detach().numpy())\n",
    "    \n",
    "    m=m+1\n",
    "        \n",
    "    "
   ]
  },
  {
   "cell_type": "code",
   "execution_count": 20,
   "id": "b3e8ffb6",
   "metadata": {},
   "outputs": [
    {
     "data": {
      "text/plain": [
       "array([[0.88235226, 0.84028703, 0.82099465, 0.89684946, 0.85062498],\n",
       "       [0.86519599, 0.91923757, 0.88751132, 0.9009809 , 0.8408123 ],\n",
       "       [0.84133735, 0.82661441, 0.82759512, 0.75640451, 0.80839345]])"
      ]
     },
     "execution_count": 20,
     "metadata": {},
     "output_type": "execute_result"
    }
   ],
   "source": [
    "MCC_result"
   ]
  },
  {
   "cell_type": "code",
   "execution_count": 43,
   "id": "9d80659f",
   "metadata": {},
   "outputs": [],
   "source": [
    "MCC_result = np.array([[0.88235226, 0.84028703, 0.82099465, 0.89684946, 0.85062498],\n",
    "       [0.86519599, 0.91923757, 0.88751132, 0.9009809 , 0.8408123 ],\n",
    "       [0.84133735, 0.82661441, 0.82759512, 0.75640451, 0.80839345]])"
   ]
  },
  {
   "cell_type": "code",
   "execution_count": 44,
   "id": "2d39169e",
   "metadata": {},
   "outputs": [
    {
     "name": "stdout",
     "output_type": "stream",
     "text": [
      "[0.027711382365367895, 0.027398147993651388, 0.02973654580075663]\n"
     ]
    }
   ],
   "source": [
    "print ([np.std(MCC_result[i,:]) for i in range(3)])"
   ]
  },
  {
   "cell_type": "code",
   "execution_count": null,
   "id": "252c25c5",
   "metadata": {},
   "outputs": [],
   "source": []
  }
 ],
 "metadata": {
  "kernelspec": {
   "display_name": "Python 3 (ipykernel)",
   "language": "python",
   "name": "python3"
  },
  "language_info": {
   "codemirror_mode": {
    "name": "ipython",
    "version": 3
   },
   "file_extension": ".py",
   "mimetype": "text/x-python",
   "name": "python",
   "nbconvert_exporter": "python",
   "pygments_lexer": "ipython3",
   "version": "3.7.4"
  }
 },
 "nbformat": 4,
 "nbformat_minor": 5
}
