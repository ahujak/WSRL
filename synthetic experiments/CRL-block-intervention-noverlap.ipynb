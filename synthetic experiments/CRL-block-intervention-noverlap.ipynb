{
 "cells": [
  {
   "cell_type": "code",
   "execution_count": 98,
   "id": "1f4c27a8",
   "metadata": {},
   "outputs": [],
   "source": [
    "\n",
    "import os\n",
    "import numpy as np\n",
    "import torch\n",
    "from torch import nn\n",
    "from scipy.stats import ortho_group\n",
    "from typing import Union\n",
    "from typing_extensions import Literal\n",
    "from pytorch_lightning import LightningModule, Trainer\n",
    "from torch.nn import functional as F\n",
    "from torch.utils.data import DataLoader, random_split\n",
    "from torchmetrics import Accuracy\n",
    "from torchvision import transforms\n",
    "\n",
    "from torchvision.datasets import MNIST\n",
    "PATH_DATASETS = os.environ.get(\"PATH_DATASETS\", \".\")\n",
    "AVAIL_GPUS = min(1, torch.cuda.device_count())\n",
    "BATCH_SIZE = 10000 if AVAIL_GPUS else 64\n",
    "import matplotlib.pyplot as plt\n",
    "from scipy.optimize import linear_sum_assignment\n",
    "from scipy.linalg import block_diag\n",
    "from sklearn.linear_model import LinearRegression\n",
    "from matplotlib import rc\n",
    "#rc('font',**{'family':'sans-serif','sans-serif':['Helvetica']})\n",
    "rc('font',**{'family':'serif','serif':['Times']})\n",
    "rc('text', usetex=True)\n",
    "plt.rcParams['font.size'] = 14"
   ]
  },
  {
   "cell_type": "markdown",
   "id": "f2c9591b",
   "metadata": {},
   "source": [
    "## Blockwise MCC (instead of summing |correlations| this sums R2 across blocks)"
   ]
  },
  {
   "cell_type": "code",
   "execution_count": 25,
   "id": "0343966e",
   "metadata": {},
   "outputs": [],
   "source": [
    "def MCC_block_r2(Z,Zp,b):\n",
    "    n = np.shape(Z)[1]\n",
    "    s = np.arange(0,n,b)\n",
    "    l = np.shape(s)[0]\n",
    "    R2_matrix = np.zeros((l,l))\n",
    "    c=0\n",
    "    for i in list(s):\n",
    "        d=0\n",
    "        for j in list(s):\n",
    "            \n",
    "            reg = LinearRegression().fit(Z[:,i:i+b], Zp[:,j:j+b])\n",
    "            R2_matrix[c,d] = reg.score(Z[:,i:i+b], Zp[:,j:j+b])\n",
    "            d=d+1\n",
    "        c=c+1\n",
    "    print(R2_matrix)\n",
    "    \n",
    "    r,c = linear_sum_assignment(-R2_matrix)\n",
    "    \n",
    "    return np.mean(R2_matrix[r,c])"
   ]
  },
  {
   "cell_type": "code",
   "execution_count": 26,
   "id": "e075f65b",
   "metadata": {},
   "outputs": [],
   "source": [
    "def MCC(Z,Zp):\n",
    "    n = np.shape(Z)[1]\n",
    "#     print (n)\n",
    "    rho_matrix = np.zeros((n,n))\n",
    "    for i in range(n):\n",
    "        for j in range(n):\n",
    "            rho_matrix[i,j] = np.abs(np.corrcoef(Z[:,i], Zp[:,j])[0,1])\n",
    "    \n",
    "    r,c = linear_sum_assignment(-rho_matrix)\n",
    "    \n",
    "    return np.mean(rho_matrix[r,c])"
   ]
  },
  {
   "cell_type": "markdown",
   "id": "3ae54184",
   "metadata": {},
   "source": [
    "## Invertible MLP function from CIDGP paper"
   ]
  },
  {
   "cell_type": "code",
   "execution_count": 27,
   "id": "b65ff926",
   "metadata": {},
   "outputs": [],
   "source": [
    "## Invertible MLP function from CIDGP paper\n",
    "\n",
    "def construct_invertible_mlp(\n",
    "    n: int = 20,\n",
    "    n_layers: int = 2,\n",
    "    n_iter_cond_thresh: int = 10000,\n",
    "    cond_thresh_ratio: float = 0.25,\n",
    "    weight_matrix_init: Union[Literal[\"pcl\"], Literal[\"rvs\"]] = \"pcl\",\n",
    "    act_fct: Union[\n",
    "        Literal[\"relu\"],\n",
    "        Literal[\"leaky_relu\"],\n",
    "        Literal[\"elu\"],\n",
    "        Literal[\"smooth_leaky_relu\"],\n",
    "        Literal[\"softplus\"],\n",
    "    ] = \"leaky_relu\",\n",
    "):\n",
    "   \n",
    "    \"\"\"\n",
    "    Create an (approximately) invertible mixing network based on an MLP.\n",
    "    Based on the mixing code by Hyvarinen et al.\n",
    "    Args:\n",
    "        n: Dimensionality of the input and output data\n",
    "        n_layers: Number of layers in the MLP.\n",
    "        n_iter_cond_thresh: How many random matrices to use as a pool to find weights.\n",
    "        cond_thresh_ratio: Relative threshold how much the invertibility\n",
    "            (based on the condition number) can be violated in each layer.\n",
    "        weight_matrix_init: How to initialize the weight matrices.\n",
    "        act_fct: Activation function for hidden layers.\n",
    "    \"\"\"\n",
    "\n",
    "    class SmoothLeakyReLU(nn.Module):\n",
    "        def __init__(self, alpha=0.2):\n",
    "            super().__init__()\n",
    "            self.alpha = alpha\n",
    "\n",
    "        def forward(self, x):\n",
    "            return self.alpha * x + (1 - self.alpha) * torch.log(1 + torch.exp(x))\n",
    "\n",
    "    def get_act_fct(act_fct):\n",
    "        if act_fct == \"relu\":\n",
    "            return torch.nn.ReLU, {}, 1\n",
    "        if act_fct == \"leaky_relu\":\n",
    "            return torch.nn.LeakyReLU, {\"negative_slope\": 0.2}, 1\n",
    "        elif act_fct == \"elu\":\n",
    "            return torch.nn.ELU, {\"alpha\": 1.0}, 1\n",
    "        elif act_fct == \"max_out\":\n",
    "            raise NotImplemented()\n",
    "        elif act_fct == \"smooth_leaky_relu\":\n",
    "            return SmoothLeakyReLU, {\"alpha\": 0.2}, 1\n",
    "        elif act_fct == \"softplus\":\n",
    "            return torch.nn.Softplus, {\"beta\": 1}, 1\n",
    "        else:\n",
    "            raise Exception(f\"activation function {act_fct} not defined.\")\n",
    "\n",
    "    layers = []\n",
    "    act_fct, act_kwargs, act_fac = get_act_fct(act_fct)\n",
    "\n",
    "    # Subfuction to normalize mixing matrix\n",
    "    def l2_normalize(Amat, axis=0):\n",
    "        # axis: 0=column-normalization, 1=row-normalization\n",
    "        l2norm = np.sqrt(np.sum(Amat * Amat, axis))\n",
    "        Amat = Amat / l2norm\n",
    "        return Amat\n",
    "    print (n_iter_cond_thresh)\n",
    "    condList = np.zeros([n_iter_cond_thresh])\n",
    "    if weight_matrix_init == \"pcl\":\n",
    "        for i in range(n_iter_cond_thresh):\n",
    "            A = np.random.uniform(-1, 1, [n, n])\n",
    "            A = l2_normalize(A, axis=0)\n",
    "            condList[i] = np.linalg.cond(A)\n",
    "        condList.sort()  # Ascending order\n",
    "    condThresh = condList[int(n_iter_cond_thresh * cond_thresh_ratio)]\n",
    "    print(\"condition number threshold: {0:f}\".format(condThresh))\n",
    "\n",
    "    for i in range(n_layers):\n",
    "\n",
    "        lin_layer = nn.Linear(n, n, bias=False)\n",
    "\n",
    "        if weight_matrix_init == \"pcl\":\n",
    "            condA = condThresh + 1\n",
    "            while condA > condThresh:\n",
    "                weight_matrix = np.random.uniform(-1, 1, (n, n))\n",
    "                weight_matrix = l2_normalize(weight_matrix, axis=0)\n",
    "\n",
    "                condA = np.linalg.cond(weight_matrix)\n",
    "                # print(\"    L{0:d}: cond={1:f}\".format(i, condA))\n",
    "            print(\n",
    "                f\"layer {i+1}/{n_layers},  condition number: {np.linalg.cond(weight_matrix)}\"\n",
    "            )\n",
    "            lin_layer.weight.data = torch.tensor(weight_matrix, dtype=torch.float32)\n",
    "\n",
    "        elif weight_matrix_init == \"rvs\":\n",
    "            weight_matrix = ortho_group.rvs(n)\n",
    "            lin_layer.weight.data = torch.tensor(weight_matrix, dtype=torch.float32)\n",
    "        elif weight_matrix_init == \"expand\":\n",
    "            pass\n",
    "        else:\n",
    "            raise Exception(f\"weight matrix {weight_matrix_init} not implemented\")\n",
    "\n",
    "        layers.append(lin_layer)\n",
    "\n",
    "        if i < n_layers - 1:\n",
    "            layers.append(act_fct(**act_kwargs))\n",
    "\n",
    "    mixing_net = nn.Sequential(*layers)\n",
    "\n",
    "    # fix parameters\n",
    "    for p in mixing_net.parameters():\n",
    "        p.requires_grad = False\n",
    "\n",
    "    return mixing_net"
   ]
  },
  {
   "cell_type": "markdown",
   "id": "0d230ae1",
   "metadata": {},
   "source": [
    "## Data generation function "
   ]
  },
  {
   "cell_type": "code",
   "execution_count": 28,
   "id": "c575ee65",
   "metadata": {},
   "outputs": [],
   "source": [
    "def data_generation_MLP(n, n_layers, cond_thresh_ratio, n_iter_cond_thresh, n_data, distribution):\n",
    "    \n",
    "    if(distribution == \"uniform_non_linear_block\"): # all components of z are uniform i.i.d.\n",
    "        data_Z        = np.random.rand(n_data, n)*5.0\n",
    "        tensor_Z      = torch.Tensor(data_Z)\n",
    "\n",
    "\n",
    "    if(distribution == \"normal_non_linear_block\"): # all components of z are uniform i.i.d.\n",
    "        A1 = np.ones((n//2,n//2))\n",
    "        A2 = np.ones((n//2,n//2))\n",
    "        A = block_diag(A1,A2)\n",
    "        data_Z = np.random.multivariate_normal(mean=np.zeros(n), cov=np.eye(n)+ A@A.T, size=n_data, check_valid='warn', tol=1e-8)\n",
    "        tensor_Z      = torch.Tensor(data_Z)\n",
    "\n",
    "    g = construct_invertible_mlp(n, n_layers,   n_iter_cond_thresh, cond_thresh_ratio)  \n",
    "    data = g(tensor_Z)\n",
    "\n",
    "\n",
    "    data_Z_list   = [tensor_Z]\n",
    "    data_X_list     = [data]\n",
    "    offset_1 = torch.ones(n_data,2)\n",
    "    offset_2 = torch.cat((torch.ones((n_data,1)), 2.0*torch.ones((n_data,1))), axis=1)\n",
    "\n",
    "    for i in range(n):\n",
    "\n",
    "        if(i<=n//2-1):\n",
    "\n",
    "            tensor_Z_copy = torch.clone(tensor_Z)\n",
    "            tensor_Z_copy[:,2*i:2*i+2] = tensor_Z_copy[:,2*i:2*i+2] + offset_1\n",
    "            data_copy = g(tensor_Z_copy)\n",
    "            data_Z_list.append(tensor_Z_copy)\n",
    "            data_X_list.append(data_copy)\n",
    "        else:\n",
    "            j = i-n//2\n",
    "            tensor_Z_copy = torch.clone(tensor_Z)\n",
    "            tensor_Z_copy[:,2*j:2*j+2] = tensor_Z_copy[:,2*j:2*j+2] + offset_2\n",
    "            data_copy = g(tensor_Z_copy)\n",
    "            data_Z_list.append(tensor_Z_copy)\n",
    "            data_X_list.append(data_copy)                   \n",
    "\n",
    "    return data_X_list, data_Z_list  \n",
    "        "
   ]
  },
  {
   "cell_type": "markdown",
   "id": "63c990ab",
   "metadata": {},
   "source": [
    "## Construct the model and loss (compares intervened and default latent)"
   ]
  },
  {
   "cell_type": "code",
   "execution_count": 29,
   "id": "4f3822dc",
   "metadata": {},
   "outputs": [],
   "source": [
    "class Latent_comparison_model(LightningModule):\n",
    "    def __init__(self,n):\n",
    "        super().__init__()\n",
    "        self.n     = n\n",
    "        num_hidden = 100\n",
    "        self.linear1 = nn.Linear(self.n, num_hidden)\n",
    "        self.act_fn1 = nn.ReLU()\n",
    "        self.linear2 = nn.Linear(num_hidden, num_hidden)\n",
    "        self.act_fn2 = nn.ReLU()\n",
    "        self.linear3 = nn.Linear(num_hidden, self.n)\n",
    "        \n",
    "    def forward(self, x):\n",
    "       \n",
    "        x = self.linear1(x)\n",
    "        x = self.act_fn1(x)\n",
    "        x = self.linear2(x)\n",
    "        x = self.act_fn2(x)\n",
    "        x = self.linear3(x)\n",
    "        \n",
    "        return x\n",
    "\n",
    "    def training_step(self, batch_X_list):\n",
    "        L      = len(batch_X_list)\n",
    "        X_0    = batch_X_list[0]\n",
    "        n_d    = X_0.size()[0]\n",
    "        offset = torch.ones(n_d)\n",
    "        loss   = 0.0      \n",
    "        offset_matrix1 = np.random.RandomState(1).uniform(1, 5, size=(self.n,2))\n",
    "        offset_matrix2 = np.random.RandomState(2).uniform(1, 5, size=(self.n,2))\n",
    "#       \n",
    "       \n",
    "        for i in range(L-1):\n",
    "            if(i <=(L-1)//2-1):\n",
    "                offset_1 = torch.ones((n_d,2))*offset_matrix1[i]\n",
    "                Z_target  = self(batch_X_list[i+1])\n",
    "                Z_predict = self(X_0) \n",
    "                Z_predict[:,2*i:2*i+2] = Z_predict[:,2*i:2*i+2] + offset_1 \n",
    "                loss = loss + F.mse_loss(Z_predict, Z_target)\n",
    "            else:\n",
    "                offset_2 = torch.ones((n_d,2))*offset_matrix2[i]\n",
    "                j=i-(L-1)//2\n",
    "                Z_target  = self(batch_X_list[i+1])\n",
    "                Z_predict = self(X_0) \n",
    "                Z_predict[:,2*j:2*j+2] = Z_predict[:,2*j:2*j+2] + offset_2 \n",
    "                loss = loss + F.mse_loss(Z_predict, Z_target)\n",
    "        return loss\n",
    "    \n",
    "    def validation_step(self, batch_X_list):\n",
    "        L      = len(batch_X_list)\n",
    "        X_0    = batch_X_list[0]\n",
    "        n_d    = X_0.size()[0]\n",
    "        offset = torch.ones(n_d)\n",
    "        loss   = 0.0\n",
    "        for i in range(1,L):\n",
    "            Z_target  = self(batch_X_list[i])\n",
    "            Z_predict = self(X_0) \n",
    "            Z_predict[:,i-1] = Z_predict[:,i-1] + offset \n",
    "            loss = loss + F.mse_loss(Z_predict, Z_target)\n",
    "            \n",
    "            \n",
    "        return loss\n",
    "\n",
    "    def configure_optimizers(self):\n",
    "        return torch.optim.Adam(self.parameters(), lr=0.005)"
   ]
  },
  {
   "cell_type": "markdown",
   "id": "816c5999",
   "metadata": {},
   "source": [
    "## Generate data"
   ]
  },
  {
   "cell_type": "code",
   "execution_count": 30,
   "id": "9c19d074",
   "metadata": {},
   "outputs": [
    {
     "name": "stdout",
     "output_type": "stream",
     "text": [
      "25000\n",
      "condition number threshold: 3.808828\n",
      "layer 1/1,  condition number: 3.4803772092920506\n"
     ]
    }
   ],
   "source": [
    "n=10\n",
    "data_X, data_Z = data_generation_MLP(n=n, n_layers=1, cond_thresh_ratio=0.0, n_iter_cond_thresh=25000, n_data=15000, distribution=\"uniform_non_linear_block\")\n",
    "\n",
    "k= len(data_X)\n",
    "train_data_X = []\n",
    "test_data_X  = []\n",
    "train_data_Z = []\n",
    "test_data_Z  = []\n",
    "train_size = 10000\n",
    "for i in range(k):\n",
    "    train_data_X.append(data_X[i][:train_size])\n",
    "    train_data_Z.append(data_Z[i][:train_size])\n",
    "    test_data_X.append(data_X[i][train_size:])\n",
    "    test_data_Z.append(data_Z[i][train_size:])"
   ]
  },
  {
   "cell_type": "markdown",
   "id": "189925e6",
   "metadata": {},
   "source": [
    "## Train model "
   ]
  },
  {
   "cell_type": "code",
   "execution_count": 31,
   "id": "c1e3190c",
   "metadata": {},
   "outputs": [
    {
     "name": "stderr",
     "output_type": "stream",
     "text": [
      "/Users/kartik/Desktop/causal_latent_DAG/env_DAG/lib/python3.7/site-packages/pytorch_lightning/trainer/connectors/callback_connector.py:91: LightningDeprecationWarning: Setting `Trainer(progress_bar_refresh_rate=20)` is deprecated in v1.5 and will be removed in v1.7. Please pass `pytorch_lightning.callbacks.progress.TQDMProgressBar` with `refresh_rate` directly to the Trainer's `callbacks` argument instead. Or, to disable the progress bar pass `enable_progress_bar = False` to the Trainer.\n",
      "  f\"Setting `Trainer(progress_bar_refresh_rate={progress_bar_refresh_rate})` is deprecated in v1.5 and\"\n",
      "GPU available: False, used: False\n",
      "TPU available: False, using: 0 TPU cores\n",
      "IPU available: False, using: 0 IPUs\n",
      "/Users/kartik/Desktop/causal_latent_DAG/env_DAG/lib/python3.7/site-packages/pytorch_lightning/trainer/configuration_validator.py:122: UserWarning: You defined a `validation_step` but have no `val_dataloader`. Skipping val loop.\n",
      "  rank_zero_warn(\"You defined a `validation_step` but have no `val_dataloader`. Skipping val loop.\")\n",
      "\n",
      "  | Name    | Type   | Params\n",
      "-----------------------------------\n",
      "0 | linear1 | Linear | 1.1 K \n",
      "1 | act_fn1 | ReLU   | 0     \n",
      "2 | linear2 | Linear | 10.1 K\n",
      "3 | act_fn2 | ReLU   | 0     \n",
      "4 | linear3 | Linear | 1.0 K \n",
      "-----------------------------------\n",
      "12.2 K    Trainable params\n",
      "0         Non-trainable params\n",
      "12.2 K    Total params\n",
      "0.049     Total estimated model params size (MB)\n",
      "/Users/kartik/Desktop/causal_latent_DAG/env_DAG/lib/python3.7/site-packages/pytorch_lightning/trainer/data_loading.py:133: UserWarning: The dataloader, train_dataloader, does not have many workers which may be a bottleneck. Consider increasing the value of the `num_workers` argument` (try 8 which is the number of cpus on this machine) in the `DataLoader` init to improve performance.\n",
      "  f\"The dataloader, {name}, does not have many workers which may be a bottleneck.\"\n",
      "/Users/kartik/Desktop/causal_latent_DAG/env_DAG/lib/python3.7/site-packages/pytorch_lightning/trainer/data_loading.py:433: UserWarning: The number of training samples (1) is smaller than the logging interval Trainer(log_every_n_steps=50). Set a lower value for log_every_n_steps if you want to see logs for the training epoch.\n",
      "  f\"The number of training samples ({self.num_training_batches}) is smaller than the logging interval\"\n"
     ]
    },
    {
     "data": {
      "application/vnd.jupyter.widget-view+json": {
       "model_id": "9602486e9a1046dd9d307e114e43d931",
       "version_major": 2,
       "version_minor": 0
      },
      "text/plain": [
       "Training: 0it [00:00, ?it/s]"
      ]
     },
     "metadata": {},
     "output_type": "display_data"
    }
   ],
   "source": [
    "latent_comparison_model = Latent_comparison_model(n)\n",
    "train_loader = DataLoader(train_data_X, batch_size=BATCH_SIZE)\n",
    "\n",
    "trainer = Trainer(\n",
    "    gpus=AVAIL_GPUS,\n",
    "    max_epochs=2000,\n",
    "    progress_bar_refresh_rate=20,\n",
    ")\n",
    "trainer.fit(latent_comparison_model, train_loader)"
   ]
  },
  {
   "cell_type": "markdown",
   "id": "9a865b72",
   "metadata": {},
   "source": [
    "## Output BMCC and R2 matrix "
   ]
  },
  {
   "cell_type": "code",
   "execution_count": 32,
   "id": "4441d4f8",
   "metadata": {},
   "outputs": [
    {
     "name": "stdout",
     "output_type": "stream",
     "text": [
      "[[9.99997739e-01 5.27518346e-04 9.29967367e-04 5.59339865e-04\n",
      "  3.10385549e-04]\n",
      " [5.26843556e-04 9.99993415e-01 2.82735643e-04 3.53248189e-04\n",
      "  1.78464436e-04]\n",
      " [9.81019893e-04 2.76630864e-04 9.99993023e-01 6.26349244e-04\n",
      "  8.51935685e-05]\n",
      " [6.63439220e-04 3.81079412e-04 5.69731824e-04 9.99984573e-01\n",
      "  4.94359683e-04]\n",
      " [2.50444376e-04 1.67962184e-04 7.92842106e-05 6.86247312e-04\n",
      "  9.99982227e-01]]\n"
     ]
    },
    {
     "data": {
      "text/plain": [
       "0.9999901953512607"
      ]
     },
     "execution_count": 32,
     "metadata": {},
     "output_type": "execute_result"
    }
   ],
   "source": [
    "Zp=latent_comparison_model(test_data_X[0])\n",
    "Z = test_data_Z[0]\n",
    "Zp_np= Zp.detach().numpy()\n",
    "Z_np    = Z.detach().numpy()\n",
    "MCC_block_r2(Zp_np,Z_np,2)"
   ]
  },
  {
   "cell_type": "markdown",
   "id": "7356ed47",
   "metadata": {},
   "source": [
    "## Generate results (Uniform)"
   ]
  },
  {
   "cell_type": "code",
   "execution_count": 12,
   "id": "41ecb02d",
   "metadata": {},
   "outputs": [
    {
     "name": "stdout",
     "output_type": "stream",
     "text": [
      "25000\n",
      "condition number threshold: 1.867214\n",
      "layer 1/2,  condition number: 1.8654361586918646\n"
     ]
    },
    {
     "name": "stderr",
     "output_type": "stream",
     "text": [
      "/Users/kartik/Desktop/causal_latent_DAG/env_DAG/lib/python3.7/site-packages/pytorch_lightning/trainer/connectors/callback_connector.py:91: LightningDeprecationWarning: Setting `Trainer(progress_bar_refresh_rate=20)` is deprecated in v1.5 and will be removed in v1.7. Please pass `pytorch_lightning.callbacks.progress.TQDMProgressBar` with `refresh_rate` directly to the Trainer's `callbacks` argument instead. Or, to disable the progress bar pass `enable_progress_bar = False` to the Trainer.\n",
      "  f\"Setting `Trainer(progress_bar_refresh_rate={progress_bar_refresh_rate})` is deprecated in v1.5 and\"\n",
      "GPU available: False, used: False\n",
      "TPU available: False, using: 0 TPU cores\n",
      "IPU available: False, using: 0 IPUs\n",
      "/Users/kartik/Desktop/causal_latent_DAG/env_DAG/lib/python3.7/site-packages/pytorch_lightning/trainer/configuration_validator.py:122: UserWarning: You defined a `validation_step` but have no `val_dataloader`. Skipping val loop.\n",
      "  rank_zero_warn(\"You defined a `validation_step` but have no `val_dataloader`. Skipping val loop.\")\n",
      "\n",
      "  | Name    | Type   | Params\n",
      "-----------------------------------\n",
      "0 | linear1 | Linear | 700   \n",
      "1 | act_fn1 | ReLU   | 0     \n",
      "2 | linear2 | Linear | 10.1 K\n",
      "3 | act_fn2 | ReLU   | 0     \n",
      "4 | linear3 | Linear | 606   \n",
      "-----------------------------------\n",
      "11.4 K    Trainable params\n",
      "0         Non-trainable params\n",
      "11.4 K    Total params\n",
      "0.046     Total estimated model params size (MB)\n"
     ]
    },
    {
     "name": "stdout",
     "output_type": "stream",
     "text": [
      "layer 2/2,  condition number: 1.735258525951\n"
     ]
    },
    {
     "name": "stderr",
     "output_type": "stream",
     "text": [
      "/Users/kartik/Desktop/causal_latent_DAG/env_DAG/lib/python3.7/site-packages/pytorch_lightning/trainer/data_loading.py:133: UserWarning: The dataloader, train_dataloader, does not have many workers which may be a bottleneck. Consider increasing the value of the `num_workers` argument` (try 8 which is the number of cpus on this machine) in the `DataLoader` init to improve performance.\n",
      "  f\"The dataloader, {name}, does not have many workers which may be a bottleneck.\"\n",
      "/Users/kartik/Desktop/causal_latent_DAG/env_DAG/lib/python3.7/site-packages/pytorch_lightning/trainer/data_loading.py:433: UserWarning: The number of training samples (1) is smaller than the logging interval Trainer(log_every_n_steps=50). Set a lower value for log_every_n_steps if you want to see logs for the training epoch.\n",
      "  f\"The number of training samples ({self.num_training_batches}) is smaller than the logging interval\"\n"
     ]
    },
    {
     "data": {
      "application/vnd.jupyter.widget-view+json": {
       "model_id": "b3f1cdb33e834d7ba81152fa8c8be45e",
       "version_major": 2,
       "version_minor": 0
      },
      "text/plain": [
       "Training: 0it [00:00, ?it/s]"
      ]
     },
     "metadata": {},
     "output_type": "display_data"
    },
    {
     "name": "stdout",
     "output_type": "stream",
     "text": [
      "[[9.99996187e-01 8.93615394e-04 6.22536848e-04]\n",
      " [2.39509470e-04 9.99994839e-01 1.18157864e-04]\n",
      " [4.80919536e-04 5.54596530e-04 9.99997446e-01]]\n",
      "25000\n",
      "condition number threshold: 1.954855\n",
      "layer 1/2,  condition number: 1.8619961493317756\n"
     ]
    },
    {
     "name": "stderr",
     "output_type": "stream",
     "text": [
      "/Users/kartik/Desktop/causal_latent_DAG/env_DAG/lib/python3.7/site-packages/pytorch_lightning/trainer/connectors/callback_connector.py:91: LightningDeprecationWarning: Setting `Trainer(progress_bar_refresh_rate=20)` is deprecated in v1.5 and will be removed in v1.7. Please pass `pytorch_lightning.callbacks.progress.TQDMProgressBar` with `refresh_rate` directly to the Trainer's `callbacks` argument instead. Or, to disable the progress bar pass `enable_progress_bar = False` to the Trainer.\n",
      "  f\"Setting `Trainer(progress_bar_refresh_rate={progress_bar_refresh_rate})` is deprecated in v1.5 and\"\n",
      "GPU available: False, used: False\n",
      "TPU available: False, using: 0 TPU cores\n",
      "IPU available: False, using: 0 IPUs\n",
      "/Users/kartik/Desktop/causal_latent_DAG/env_DAG/lib/python3.7/site-packages/pytorch_lightning/trainer/configuration_validator.py:122: UserWarning: You defined a `validation_step` but have no `val_dataloader`. Skipping val loop.\n",
      "  rank_zero_warn(\"You defined a `validation_step` but have no `val_dataloader`. Skipping val loop.\")\n",
      "\n",
      "  | Name    | Type   | Params\n",
      "-----------------------------------\n",
      "0 | linear1 | Linear | 700   \n",
      "1 | act_fn1 | ReLU   | 0     \n",
      "2 | linear2 | Linear | 10.1 K\n",
      "3 | act_fn2 | ReLU   | 0     \n",
      "4 | linear3 | Linear | 606   \n",
      "-----------------------------------\n",
      "11.4 K    Trainable params\n",
      "0         Non-trainable params\n",
      "11.4 K    Total params\n",
      "0.046     Total estimated model params size (MB)\n"
     ]
    },
    {
     "name": "stdout",
     "output_type": "stream",
     "text": [
      "layer 2/2,  condition number: 1.932525937713316\n"
     ]
    },
    {
     "name": "stderr",
     "output_type": "stream",
     "text": [
      "/Users/kartik/Desktop/causal_latent_DAG/env_DAG/lib/python3.7/site-packages/pytorch_lightning/trainer/data_loading.py:133: UserWarning: The dataloader, train_dataloader, does not have many workers which may be a bottleneck. Consider increasing the value of the `num_workers` argument` (try 8 which is the number of cpus on this machine) in the `DataLoader` init to improve performance.\n",
      "  f\"The dataloader, {name}, does not have many workers which may be a bottleneck.\"\n",
      "/Users/kartik/Desktop/causal_latent_DAG/env_DAG/lib/python3.7/site-packages/pytorch_lightning/trainer/data_loading.py:433: UserWarning: The number of training samples (1) is smaller than the logging interval Trainer(log_every_n_steps=50). Set a lower value for log_every_n_steps if you want to see logs for the training epoch.\n",
      "  f\"The number of training samples ({self.num_training_batches}) is smaller than the logging interval\"\n"
     ]
    },
    {
     "data": {
      "application/vnd.jupyter.widget-view+json": {
       "model_id": "04f2753854764b17b347018e148d8889",
       "version_major": 2,
       "version_minor": 0
      },
      "text/plain": [
       "Training: 0it [00:00, ?it/s]"
      ]
     },
     "metadata": {},
     "output_type": "display_data"
    },
    {
     "name": "stdout",
     "output_type": "stream",
     "text": [
      "[[9.99981330e-01 4.90254186e-04 4.20843698e-04]\n",
      " [6.32411832e-04 9.99968756e-01 2.16285962e-04]\n",
      " [5.30105032e-04 1.46187111e-04 9.99970230e-01]]\n",
      "25000\n",
      "condition number threshold: 2.079968\n",
      "layer 1/2,  condition number: 2.0386101790037294\n"
     ]
    },
    {
     "name": "stderr",
     "output_type": "stream",
     "text": [
      "/Users/kartik/Desktop/causal_latent_DAG/env_DAG/lib/python3.7/site-packages/pytorch_lightning/trainer/connectors/callback_connector.py:91: LightningDeprecationWarning: Setting `Trainer(progress_bar_refresh_rate=20)` is deprecated in v1.5 and will be removed in v1.7. Please pass `pytorch_lightning.callbacks.progress.TQDMProgressBar` with `refresh_rate` directly to the Trainer's `callbacks` argument instead. Or, to disable the progress bar pass `enable_progress_bar = False` to the Trainer.\n",
      "  f\"Setting `Trainer(progress_bar_refresh_rate={progress_bar_refresh_rate})` is deprecated in v1.5 and\"\n",
      "GPU available: False, used: False\n",
      "TPU available: False, using: 0 TPU cores\n",
      "IPU available: False, using: 0 IPUs\n",
      "/Users/kartik/Desktop/causal_latent_DAG/env_DAG/lib/python3.7/site-packages/pytorch_lightning/trainer/configuration_validator.py:122: UserWarning: You defined a `validation_step` but have no `val_dataloader`. Skipping val loop.\n",
      "  rank_zero_warn(\"You defined a `validation_step` but have no `val_dataloader`. Skipping val loop.\")\n",
      "\n",
      "  | Name    | Type   | Params\n",
      "-----------------------------------\n",
      "0 | linear1 | Linear | 700   \n",
      "1 | act_fn1 | ReLU   | 0     \n",
      "2 | linear2 | Linear | 10.1 K\n",
      "3 | act_fn2 | ReLU   | 0     \n",
      "4 | linear3 | Linear | 606   \n",
      "-----------------------------------\n",
      "11.4 K    Trainable params\n",
      "0         Non-trainable params\n",
      "11.4 K    Total params\n",
      "0.046     Total estimated model params size (MB)\n"
     ]
    },
    {
     "name": "stdout",
     "output_type": "stream",
     "text": [
      "layer 2/2,  condition number: 2.0611598208676876\n"
     ]
    },
    {
     "name": "stderr",
     "output_type": "stream",
     "text": [
      "/Users/kartik/Desktop/causal_latent_DAG/env_DAG/lib/python3.7/site-packages/pytorch_lightning/trainer/data_loading.py:133: UserWarning: The dataloader, train_dataloader, does not have many workers which may be a bottleneck. Consider increasing the value of the `num_workers` argument` (try 8 which is the number of cpus on this machine) in the `DataLoader` init to improve performance.\n",
      "  f\"The dataloader, {name}, does not have many workers which may be a bottleneck.\"\n",
      "/Users/kartik/Desktop/causal_latent_DAG/env_DAG/lib/python3.7/site-packages/pytorch_lightning/trainer/data_loading.py:433: UserWarning: The number of training samples (1) is smaller than the logging interval Trainer(log_every_n_steps=50). Set a lower value for log_every_n_steps if you want to see logs for the training epoch.\n",
      "  f\"The number of training samples ({self.num_training_batches}) is smaller than the logging interval\"\n"
     ]
    },
    {
     "data": {
      "application/vnd.jupyter.widget-view+json": {
       "model_id": "5d5afc6a2bde4be29900045f67858ff5",
       "version_major": 2,
       "version_minor": 0
      },
      "text/plain": [
       "Training: 0it [00:00, ?it/s]"
      ]
     },
     "metadata": {},
     "output_type": "display_data"
    },
    {
     "name": "stdout",
     "output_type": "stream",
     "text": [
      "[[9.99998903e-01 1.09853015e-04 4.62685279e-04]\n",
      " [1.01018589e-05 9.99995362e-01 9.57519760e-04]\n",
      " [5.05854368e-04 5.35454100e-04 9.99996277e-01]]\n",
      "25000\n",
      "condition number threshold: 2.137966\n",
      "layer 1/2,  condition number: 2.0106226205990865"
     ]
    },
    {
     "name": "stderr",
     "output_type": "stream",
     "text": [
      "/Users/kartik/Desktop/causal_latent_DAG/env_DAG/lib/python3.7/site-packages/pytorch_lightning/trainer/connectors/callback_connector.py:91: LightningDeprecationWarning: Setting `Trainer(progress_bar_refresh_rate=20)` is deprecated in v1.5 and will be removed in v1.7. Please pass `pytorch_lightning.callbacks.progress.TQDMProgressBar` with `refresh_rate` directly to the Trainer's `callbacks` argument instead. Or, to disable the progress bar pass `enable_progress_bar = False` to the Trainer.\n",
      "  f\"Setting `Trainer(progress_bar_refresh_rate={progress_bar_refresh_rate})` is deprecated in v1.5 and\"\n",
      "GPU available: False, used: False\n",
      "TPU available: False, using: 0 TPU cores\n",
      "IPU available: False, using: 0 IPUs\n",
      "/Users/kartik/Desktop/causal_latent_DAG/env_DAG/lib/python3.7/site-packages/pytorch_lightning/trainer/configuration_validator.py:122: UserWarning: You defined a `validation_step` but have no `val_dataloader`. Skipping val loop.\n",
      "  rank_zero_warn(\"You defined a `validation_step` but have no `val_dataloader`. Skipping val loop.\")\n",
      "\n",
      "  | Name    | Type   | Params\n",
      "-----------------------------------\n",
      "0 | linear1 | Linear | 700   \n",
      "1 | act_fn1 | ReLU   | 0     \n",
      "2 | linear2 | Linear | 10.1 K\n",
      "3 | act_fn2 | ReLU   | 0     \n",
      "4 | linear3 | Linear | 606   \n",
      "-----------------------------------\n",
      "11.4 K    Trainable params\n",
      "0         Non-trainable params\n",
      "11.4 K    Total params\n",
      "0.046     Total estimated model params size (MB)\n"
     ]
    },
    {
     "name": "stdout",
     "output_type": "stream",
     "text": [
      "\n",
      "layer 2/2,  condition number: 2.0620399027572054\n"
     ]
    },
    {
     "name": "stderr",
     "output_type": "stream",
     "text": [
      "/Users/kartik/Desktop/causal_latent_DAG/env_DAG/lib/python3.7/site-packages/pytorch_lightning/trainer/data_loading.py:133: UserWarning: The dataloader, train_dataloader, does not have many workers which may be a bottleneck. Consider increasing the value of the `num_workers` argument` (try 8 which is the number of cpus on this machine) in the `DataLoader` init to improve performance.\n",
      "  f\"The dataloader, {name}, does not have many workers which may be a bottleneck.\"\n",
      "/Users/kartik/Desktop/causal_latent_DAG/env_DAG/lib/python3.7/site-packages/pytorch_lightning/trainer/data_loading.py:433: UserWarning: The number of training samples (1) is smaller than the logging interval Trainer(log_every_n_steps=50). Set a lower value for log_every_n_steps if you want to see logs for the training epoch.\n",
      "  f\"The number of training samples ({self.num_training_batches}) is smaller than the logging interval\"\n"
     ]
    },
    {
     "data": {
      "application/vnd.jupyter.widget-view+json": {
       "model_id": "3589ea4d7a6d496eaabf2a2ee8d59dfe",
       "version_major": 2,
       "version_minor": 0
      },
      "text/plain": [
       "Training: 0it [00:00, ?it/s]"
      ]
     },
     "metadata": {},
     "output_type": "display_data"
    },
    {
     "name": "stdout",
     "output_type": "stream",
     "text": [
      "[[9.99929359e-01 3.53754380e-04 2.25895873e-04]\n",
      " [1.03407370e-04 9.99937874e-01 2.92580634e-04]\n",
      " [6.89338420e-04 6.44322321e-04 9.99917155e-01]]\n",
      "25000\n",
      "condition number threshold: 1.911110\n",
      "layer 1/2,  condition number: 1.757140822321727\n"
     ]
    },
    {
     "name": "stderr",
     "output_type": "stream",
     "text": [
      "/Users/kartik/Desktop/causal_latent_DAG/env_DAG/lib/python3.7/site-packages/pytorch_lightning/trainer/connectors/callback_connector.py:91: LightningDeprecationWarning: Setting `Trainer(progress_bar_refresh_rate=20)` is deprecated in v1.5 and will be removed in v1.7. Please pass `pytorch_lightning.callbacks.progress.TQDMProgressBar` with `refresh_rate` directly to the Trainer's `callbacks` argument instead. Or, to disable the progress bar pass `enable_progress_bar = False` to the Trainer.\n",
      "  f\"Setting `Trainer(progress_bar_refresh_rate={progress_bar_refresh_rate})` is deprecated in v1.5 and\"\n",
      "GPU available: False, used: False\n",
      "TPU available: False, using: 0 TPU cores\n",
      "IPU available: False, using: 0 IPUs\n",
      "/Users/kartik/Desktop/causal_latent_DAG/env_DAG/lib/python3.7/site-packages/pytorch_lightning/trainer/configuration_validator.py:122: UserWarning: You defined a `validation_step` but have no `val_dataloader`. Skipping val loop.\n",
      "  rank_zero_warn(\"You defined a `validation_step` but have no `val_dataloader`. Skipping val loop.\")\n",
      "\n",
      "  | Name    | Type   | Params\n",
      "-----------------------------------\n",
      "0 | linear1 | Linear | 700   \n",
      "1 | act_fn1 | ReLU   | 0     \n",
      "2 | linear2 | Linear | 10.1 K\n",
      "3 | act_fn2 | ReLU   | 0     \n",
      "4 | linear3 | Linear | 606   \n",
      "-----------------------------------\n",
      "11.4 K    Trainable params\n",
      "0         Non-trainable params\n",
      "11.4 K    Total params\n",
      "0.046     Total estimated model params size (MB)\n"
     ]
    },
    {
     "name": "stdout",
     "output_type": "stream",
     "text": [
      "layer 2/2,  condition number: 1.5377379048389912\n"
     ]
    },
    {
     "name": "stderr",
     "output_type": "stream",
     "text": [
      "/Users/kartik/Desktop/causal_latent_DAG/env_DAG/lib/python3.7/site-packages/pytorch_lightning/trainer/data_loading.py:133: UserWarning: The dataloader, train_dataloader, does not have many workers which may be a bottleneck. Consider increasing the value of the `num_workers` argument` (try 8 which is the number of cpus on this machine) in the `DataLoader` init to improve performance.\n",
      "  f\"The dataloader, {name}, does not have many workers which may be a bottleneck.\"\n",
      "/Users/kartik/Desktop/causal_latent_DAG/env_DAG/lib/python3.7/site-packages/pytorch_lightning/trainer/data_loading.py:433: UserWarning: The number of training samples (1) is smaller than the logging interval Trainer(log_every_n_steps=50). Set a lower value for log_every_n_steps if you want to see logs for the training epoch.\n",
      "  f\"The number of training samples ({self.num_training_batches}) is smaller than the logging interval\"\n"
     ]
    },
    {
     "data": {
      "application/vnd.jupyter.widget-view+json": {
       "model_id": "2528dce3eb20463d93794ed72f37f02d",
       "version_major": 2,
       "version_minor": 0
      },
      "text/plain": [
       "Training: 0it [00:00, ?it/s]"
      ]
     },
     "metadata": {},
     "output_type": "display_data"
    },
    {
     "name": "stdout",
     "output_type": "stream",
     "text": [
      "[[9.99998944e-01 6.93155596e-04 9.12550544e-04]\n",
      " [9.53878533e-04 9.99998660e-01 7.01132226e-04]\n",
      " [1.24193268e-04 3.53425465e-04 9.99999157e-01]]\n",
      "25000\n",
      "condition number threshold: 4.197077\n",
      "layer 1/2,  condition number: 4.083422100677182\n"
     ]
    },
    {
     "name": "stderr",
     "output_type": "stream",
     "text": [
      "/Users/kartik/Desktop/causal_latent_DAG/env_DAG/lib/python3.7/site-packages/pytorch_lightning/trainer/connectors/callback_connector.py:91: LightningDeprecationWarning: Setting `Trainer(progress_bar_refresh_rate=20)` is deprecated in v1.5 and will be removed in v1.7. Please pass `pytorch_lightning.callbacks.progress.TQDMProgressBar` with `refresh_rate` directly to the Trainer's `callbacks` argument instead. Or, to disable the progress bar pass `enable_progress_bar = False` to the Trainer.\n",
      "  f\"Setting `Trainer(progress_bar_refresh_rate={progress_bar_refresh_rate})` is deprecated in v1.5 and\"\n",
      "GPU available: False, used: False\n",
      "TPU available: False, using: 0 TPU cores\n",
      "IPU available: False, using: 0 IPUs\n",
      "/Users/kartik/Desktop/causal_latent_DAG/env_DAG/lib/python3.7/site-packages/pytorch_lightning/trainer/configuration_validator.py:122: UserWarning: You defined a `validation_step` but have no `val_dataloader`. Skipping val loop.\n",
      "  rank_zero_warn(\"You defined a `validation_step` but have no `val_dataloader`. Skipping val loop.\")\n",
      "\n",
      "  | Name    | Type   | Params\n",
      "-----------------------------------\n",
      "0 | linear1 | Linear | 1.1 K \n",
      "1 | act_fn1 | ReLU   | 0     \n",
      "2 | linear2 | Linear | 10.1 K\n",
      "3 | act_fn2 | ReLU   | 0     \n",
      "4 | linear3 | Linear | 1.0 K \n",
      "-----------------------------------\n",
      "12.2 K    Trainable params\n",
      "0         Non-trainable params\n",
      "12.2 K    Total params\n",
      "0.049     Total estimated model params size (MB)\n"
     ]
    },
    {
     "name": "stdout",
     "output_type": "stream",
     "text": [
      "layer 2/2,  condition number: 4.1381422071921055\n"
     ]
    },
    {
     "name": "stderr",
     "output_type": "stream",
     "text": [
      "/Users/kartik/Desktop/causal_latent_DAG/env_DAG/lib/python3.7/site-packages/pytorch_lightning/trainer/data_loading.py:133: UserWarning: The dataloader, train_dataloader, does not have many workers which may be a bottleneck. Consider increasing the value of the `num_workers` argument` (try 8 which is the number of cpus on this machine) in the `DataLoader` init to improve performance.\n",
      "  f\"The dataloader, {name}, does not have many workers which may be a bottleneck.\"\n",
      "/Users/kartik/Desktop/causal_latent_DAG/env_DAG/lib/python3.7/site-packages/pytorch_lightning/trainer/data_loading.py:433: UserWarning: The number of training samples (1) is smaller than the logging interval Trainer(log_every_n_steps=50). Set a lower value for log_every_n_steps if you want to see logs for the training epoch.\n",
      "  f\"The number of training samples ({self.num_training_batches}) is smaller than the logging interval\"\n"
     ]
    },
    {
     "data": {
      "application/vnd.jupyter.widget-view+json": {
       "model_id": "2cd12320e8424275b5fe3b72abc20307",
       "version_major": 2,
       "version_minor": 0
      },
      "text/plain": [
       "Training: 0it [00:00, ?it/s]"
      ]
     },
     "metadata": {},
     "output_type": "display_data"
    },
    {
     "name": "stdout",
     "output_type": "stream",
     "text": [
      "[[9.99736470e-01 7.05055259e-04 2.40099628e-04 8.12568943e-04\n",
      "  3.27284121e-04]\n",
      " [2.29158194e-04 9.99846506e-01 3.76978378e-04 5.59519880e-04\n",
      "  1.81544590e-04]\n",
      " [5.96321930e-04 6.40508388e-04 9.99899610e-01 2.63801444e-04\n",
      "  1.88633832e-04]\n",
      " [1.31789305e-03 7.76925422e-04 2.44224407e-04 9.99666946e-01\n",
      "  1.06345311e-03]\n",
      " [4.26804190e-04 4.45060232e-04 1.48300076e-04 1.16639538e-03\n",
      "  9.99750768e-01]]\n",
      "25000\n",
      "condition number threshold: 4.253594\n"
     ]
    },
    {
     "name": "stderr",
     "output_type": "stream",
     "text": [
      "/Users/kartik/Desktop/causal_latent_DAG/env_DAG/lib/python3.7/site-packages/pytorch_lightning/trainer/connectors/callback_connector.py:91: LightningDeprecationWarning: Setting `Trainer(progress_bar_refresh_rate=20)` is deprecated in v1.5 and will be removed in v1.7. Please pass `pytorch_lightning.callbacks.progress.TQDMProgressBar` with `refresh_rate` directly to the Trainer's `callbacks` argument instead. Or, to disable the progress bar pass `enable_progress_bar = False` to the Trainer.\n",
      "  f\"Setting `Trainer(progress_bar_refresh_rate={progress_bar_refresh_rate})` is deprecated in v1.5 and\"\n",
      "GPU available: False, used: False\n",
      "TPU available: False, using: 0 TPU cores\n",
      "IPU available: False, using: 0 IPUs\n",
      "/Users/kartik/Desktop/causal_latent_DAG/env_DAG/lib/python3.7/site-packages/pytorch_lightning/trainer/configuration_validator.py:122: UserWarning: You defined a `validation_step` but have no `val_dataloader`. Skipping val loop.\n",
      "  rank_zero_warn(\"You defined a `validation_step` but have no `val_dataloader`. Skipping val loop.\")\n",
      "\n",
      "  | Name    | Type   | Params\n",
      "-----------------------------------\n",
      "0 | linear1 | Linear | 1.1 K \n",
      "1 | act_fn1 | ReLU   | 0     \n",
      "2 | linear2 | Linear | 10.1 K\n",
      "3 | act_fn2 | ReLU   | 0     \n",
      "4 | linear3 | Linear | 1.0 K \n",
      "-----------------------------------\n",
      "12.2 K    Trainable params\n",
      "0         Non-trainable params\n",
      "12.2 K    Total params\n",
      "0.049     Total estimated model params size (MB)\n"
     ]
    },
    {
     "name": "stdout",
     "output_type": "stream",
     "text": [
      "layer 1/2,  condition number: 4.128753720134301\n",
      "layer 2/2,  condition number: 4.058928301791323\n"
     ]
    },
    {
     "name": "stderr",
     "output_type": "stream",
     "text": [
      "/Users/kartik/Desktop/causal_latent_DAG/env_DAG/lib/python3.7/site-packages/pytorch_lightning/trainer/data_loading.py:133: UserWarning: The dataloader, train_dataloader, does not have many workers which may be a bottleneck. Consider increasing the value of the `num_workers` argument` (try 8 which is the number of cpus on this machine) in the `DataLoader` init to improve performance.\n",
      "  f\"The dataloader, {name}, does not have many workers which may be a bottleneck.\"\n",
      "/Users/kartik/Desktop/causal_latent_DAG/env_DAG/lib/python3.7/site-packages/pytorch_lightning/trainer/data_loading.py:433: UserWarning: The number of training samples (1) is smaller than the logging interval Trainer(log_every_n_steps=50). Set a lower value for log_every_n_steps if you want to see logs for the training epoch.\n",
      "  f\"The number of training samples ({self.num_training_batches}) is smaller than the logging interval\"\n"
     ]
    },
    {
     "data": {
      "application/vnd.jupyter.widget-view+json": {
       "model_id": "5e424cc2891e4db9962303695681f9c4",
       "version_major": 2,
       "version_minor": 0
      },
      "text/plain": [
       "Training: 0it [00:00, ?it/s]"
      ]
     },
     "metadata": {},
     "output_type": "display_data"
    },
    {
     "name": "stdout",
     "output_type": "stream",
     "text": [
      "[[9.99755330e-01 1.40293543e-04 7.84810212e-04 9.26879218e-04\n",
      "  2.85965716e-04]\n",
      " [1.41405170e-03 9.99305669e-01 1.64826519e-04 6.30472550e-04\n",
      "  1.33340311e-03]\n",
      " [3.40541444e-04 5.84024297e-04 9.99398677e-01 4.09192544e-04\n",
      "  1.42270808e-04]\n",
      " [1.25641270e-03 9.09648569e-04 3.14241978e-04 9.99828067e-01\n",
      "  1.38427504e-04]\n",
      " [5.66182766e-04 1.05066389e-03 1.30244956e-04 8.34351376e-05\n",
      "  9.99579432e-01]]\n",
      "25000\n",
      "condition number threshold: 4.133631\n",
      "layer 1/2,  condition number: 4.015182346876323\n"
     ]
    },
    {
     "name": "stderr",
     "output_type": "stream",
     "text": [
      "/Users/kartik/Desktop/causal_latent_DAG/env_DAG/lib/python3.7/site-packages/pytorch_lightning/trainer/connectors/callback_connector.py:91: LightningDeprecationWarning: Setting `Trainer(progress_bar_refresh_rate=20)` is deprecated in v1.5 and will be removed in v1.7. Please pass `pytorch_lightning.callbacks.progress.TQDMProgressBar` with `refresh_rate` directly to the Trainer's `callbacks` argument instead. Or, to disable the progress bar pass `enable_progress_bar = False` to the Trainer.\n",
      "  f\"Setting `Trainer(progress_bar_refresh_rate={progress_bar_refresh_rate})` is deprecated in v1.5 and\"\n",
      "GPU available: False, used: False\n",
      "TPU available: False, using: 0 TPU cores\n",
      "IPU available: False, using: 0 IPUs\n",
      "/Users/kartik/Desktop/causal_latent_DAG/env_DAG/lib/python3.7/site-packages/pytorch_lightning/trainer/configuration_validator.py:122: UserWarning: You defined a `validation_step` but have no `val_dataloader`. Skipping val loop.\n",
      "  rank_zero_warn(\"You defined a `validation_step` but have no `val_dataloader`. Skipping val loop.\")\n",
      "\n",
      "  | Name    | Type   | Params\n",
      "-----------------------------------\n",
      "0 | linear1 | Linear | 1.1 K \n",
      "1 | act_fn1 | ReLU   | 0     \n",
      "2 | linear2 | Linear | 10.1 K\n",
      "3 | act_fn2 | ReLU   | 0     \n",
      "4 | linear3 | Linear | 1.0 K \n",
      "-----------------------------------\n",
      "12.2 K    Trainable params\n",
      "0         Non-trainable params\n",
      "12.2 K    Total params\n",
      "0.049     Total estimated model params size (MB)\n"
     ]
    },
    {
     "name": "stdout",
     "output_type": "stream",
     "text": [
      "layer 2/2,  condition number: 3.6779420498380704\n"
     ]
    },
    {
     "name": "stderr",
     "output_type": "stream",
     "text": [
      "/Users/kartik/Desktop/causal_latent_DAG/env_DAG/lib/python3.7/site-packages/pytorch_lightning/trainer/data_loading.py:133: UserWarning: The dataloader, train_dataloader, does not have many workers which may be a bottleneck. Consider increasing the value of the `num_workers` argument` (try 8 which is the number of cpus on this machine) in the `DataLoader` init to improve performance.\n",
      "  f\"The dataloader, {name}, does not have many workers which may be a bottleneck.\"\n",
      "/Users/kartik/Desktop/causal_latent_DAG/env_DAG/lib/python3.7/site-packages/pytorch_lightning/trainer/data_loading.py:433: UserWarning: The number of training samples (1) is smaller than the logging interval Trainer(log_every_n_steps=50). Set a lower value for log_every_n_steps if you want to see logs for the training epoch.\n",
      "  f\"The number of training samples ({self.num_training_batches}) is smaller than the logging interval\"\n"
     ]
    },
    {
     "data": {
      "application/vnd.jupyter.widget-view+json": {
       "model_id": "4505c01cf2d44038bb94232b08a2466e",
       "version_major": 2,
       "version_minor": 0
      },
      "text/plain": [
       "Training: 0it [00:00, ?it/s]"
      ]
     },
     "metadata": {},
     "output_type": "display_data"
    },
    {
     "name": "stdout",
     "output_type": "stream",
     "text": [
      "[[9.99950602e-01 2.19720835e-04 1.07827809e-03 5.27112955e-04\n",
      "  3.77564545e-04]\n",
      " [2.46897015e-04 9.99759702e-01 1.77271899e-04 3.16541198e-04\n",
      "  3.07753636e-04]\n",
      " [3.70849403e-04 2.85480461e-04 9.99913713e-01 1.60219389e-04\n",
      "  3.99390244e-04]\n",
      " [7.90552299e-05 2.40662679e-04 2.39347163e-04 9.99847087e-01\n",
      "  6.74301211e-04]\n",
      " [5.15374614e-04 9.45224506e-04 3.41919164e-04 6.77879702e-04\n",
      "  9.99727311e-01]]\n",
      "25000\n",
      "condition number threshold: 4.201496\n",
      "layer 1/2,  condition number: 3.9179556694581708\n"
     ]
    },
    {
     "name": "stderr",
     "output_type": "stream",
     "text": [
      "/Users/kartik/Desktop/causal_latent_DAG/env_DAG/lib/python3.7/site-packages/pytorch_lightning/trainer/connectors/callback_connector.py:91: LightningDeprecationWarning: Setting `Trainer(progress_bar_refresh_rate=20)` is deprecated in v1.5 and will be removed in v1.7. Please pass `pytorch_lightning.callbacks.progress.TQDMProgressBar` with `refresh_rate` directly to the Trainer's `callbacks` argument instead. Or, to disable the progress bar pass `enable_progress_bar = False` to the Trainer.\n",
      "  f\"Setting `Trainer(progress_bar_refresh_rate={progress_bar_refresh_rate})` is deprecated in v1.5 and\"\n",
      "GPU available: False, used: False\n",
      "TPU available: False, using: 0 TPU cores\n",
      "IPU available: False, using: 0 IPUs\n",
      "/Users/kartik/Desktop/causal_latent_DAG/env_DAG/lib/python3.7/site-packages/pytorch_lightning/trainer/configuration_validator.py:122: UserWarning: You defined a `validation_step` but have no `val_dataloader`. Skipping val loop.\n",
      "  rank_zero_warn(\"You defined a `validation_step` but have no `val_dataloader`. Skipping val loop.\")\n",
      "\n",
      "  | Name    | Type   | Params\n",
      "-----------------------------------\n",
      "0 | linear1 | Linear | 1.1 K \n",
      "1 | act_fn1 | ReLU   | 0     \n",
      "2 | linear2 | Linear | 10.1 K\n",
      "3 | act_fn2 | ReLU   | 0     \n",
      "4 | linear3 | Linear | 1.0 K \n",
      "-----------------------------------\n",
      "12.2 K    Trainable params\n",
      "0         Non-trainable params\n",
      "12.2 K    Total params\n",
      "0.049     Total estimated model params size (MB)\n"
     ]
    },
    {
     "name": "stdout",
     "output_type": "stream",
     "text": [
      "layer 2/2,  condition number: 3.7970324903600776\n"
     ]
    },
    {
     "name": "stderr",
     "output_type": "stream",
     "text": [
      "/Users/kartik/Desktop/causal_latent_DAG/env_DAG/lib/python3.7/site-packages/pytorch_lightning/trainer/data_loading.py:133: UserWarning: The dataloader, train_dataloader, does not have many workers which may be a bottleneck. Consider increasing the value of the `num_workers` argument` (try 8 which is the number of cpus on this machine) in the `DataLoader` init to improve performance.\n",
      "  f\"The dataloader, {name}, does not have many workers which may be a bottleneck.\"\n",
      "/Users/kartik/Desktop/causal_latent_DAG/env_DAG/lib/python3.7/site-packages/pytorch_lightning/trainer/data_loading.py:433: UserWarning: The number of training samples (1) is smaller than the logging interval Trainer(log_every_n_steps=50). Set a lower value for log_every_n_steps if you want to see logs for the training epoch.\n",
      "  f\"The number of training samples ({self.num_training_batches}) is smaller than the logging interval\"\n"
     ]
    },
    {
     "data": {
      "application/vnd.jupyter.widget-view+json": {
       "model_id": "5e7d7bc0bc45466ea1c2e71900ba7fc9",
       "version_major": 2,
       "version_minor": 0
      },
      "text/plain": [
       "Training: 0it [00:00, ?it/s]"
      ]
     },
     "metadata": {},
     "output_type": "display_data"
    },
    {
     "name": "stdout",
     "output_type": "stream",
     "text": [
      "[[9.99929051e-01 1.30557346e-04 7.84584324e-04 1.96116627e-04\n",
      "  5.30875296e-05]\n",
      " [1.62769021e-04 9.99972469e-01 3.31321747e-04 3.18893888e-05\n",
      "  3.85912696e-04]\n",
      " [6.66451816e-04 5.07086206e-04 9.99956863e-01 2.65031608e-04\n",
      "  1.24617533e-03]\n",
      " [2.26953589e-04 9.40950240e-05 3.74319725e-04 9.99951043e-01\n",
      "  7.99336345e-04]\n",
      " [3.39107969e-05 7.18348212e-05 1.15416911e-03 7.07840639e-04\n",
      "  9.99974317e-01]]\n",
      "25000\n",
      "condition number threshold: 4.260722\n",
      "layer 1/2,  condition number: 3.877203642205684\n"
     ]
    },
    {
     "name": "stderr",
     "output_type": "stream",
     "text": [
      "/Users/kartik/Desktop/causal_latent_DAG/env_DAG/lib/python3.7/site-packages/pytorch_lightning/trainer/connectors/callback_connector.py:91: LightningDeprecationWarning: Setting `Trainer(progress_bar_refresh_rate=20)` is deprecated in v1.5 and will be removed in v1.7. Please pass `pytorch_lightning.callbacks.progress.TQDMProgressBar` with `refresh_rate` directly to the Trainer's `callbacks` argument instead. Or, to disable the progress bar pass `enable_progress_bar = False` to the Trainer.\n",
      "  f\"Setting `Trainer(progress_bar_refresh_rate={progress_bar_refresh_rate})` is deprecated in v1.5 and\"\n",
      "GPU available: False, used: False\n",
      "TPU available: False, using: 0 TPU cores\n",
      "IPU available: False, using: 0 IPUs\n",
      "/Users/kartik/Desktop/causal_latent_DAG/env_DAG/lib/python3.7/site-packages/pytorch_lightning/trainer/configuration_validator.py:122: UserWarning: You defined a `validation_step` but have no `val_dataloader`. Skipping val loop.\n",
      "  rank_zero_warn(\"You defined a `validation_step` but have no `val_dataloader`. Skipping val loop.\")\n",
      "\n",
      "  | Name    | Type   | Params\n",
      "-----------------------------------\n",
      "0 | linear1 | Linear | 1.1 K \n",
      "1 | act_fn1 | ReLU   | 0     \n",
      "2 | linear2 | Linear | 10.1 K\n",
      "3 | act_fn2 | ReLU   | 0     \n",
      "4 | linear3 | Linear | 1.0 K \n",
      "-----------------------------------\n",
      "12.2 K    Trainable params\n",
      "0         Non-trainable params\n",
      "12.2 K    Total params\n",
      "0.049     Total estimated model params size (MB)\n"
     ]
    },
    {
     "name": "stdout",
     "output_type": "stream",
     "text": [
      "layer 2/2,  condition number: 3.5020698343584002\n"
     ]
    },
    {
     "name": "stderr",
     "output_type": "stream",
     "text": [
      "/Users/kartik/Desktop/causal_latent_DAG/env_DAG/lib/python3.7/site-packages/pytorch_lightning/trainer/data_loading.py:133: UserWarning: The dataloader, train_dataloader, does not have many workers which may be a bottleneck. Consider increasing the value of the `num_workers` argument` (try 8 which is the number of cpus on this machine) in the `DataLoader` init to improve performance.\n",
      "  f\"The dataloader, {name}, does not have many workers which may be a bottleneck.\"\n",
      "/Users/kartik/Desktop/causal_latent_DAG/env_DAG/lib/python3.7/site-packages/pytorch_lightning/trainer/data_loading.py:433: UserWarning: The number of training samples (1) is smaller than the logging interval Trainer(log_every_n_steps=50). Set a lower value for log_every_n_steps if you want to see logs for the training epoch.\n",
      "  f\"The number of training samples ({self.num_training_batches}) is smaller than the logging interval\"\n"
     ]
    },
    {
     "data": {
      "application/vnd.jupyter.widget-view+json": {
       "model_id": "d66dd1c5a416475c9f22348191af09de",
       "version_major": 2,
       "version_minor": 0
      },
      "text/plain": [
       "Training: 0it [00:00, ?it/s]"
      ]
     },
     "metadata": {},
     "output_type": "display_data"
    },
    {
     "name": "stdout",
     "output_type": "stream",
     "text": [
      "[[9.99898873e-01 5.45886391e-05 4.01242916e-04 3.77490270e-05\n",
      "  7.85591194e-04]\n",
      " [8.76793857e-04 9.99977558e-01 1.85849488e-04 2.85650406e-04\n",
      "  7.71493549e-04]\n",
      " [2.88090172e-04 1.80507901e-04 9.99965669e-01 6.19693906e-04\n",
      "  2.32600415e-04]\n",
      " [2.55534530e-05 3.44122271e-04 7.97308244e-04 9.99954438e-01\n",
      "  5.21525531e-04]\n",
      " [3.74818431e-04 1.24012383e-03 2.17279937e-04 4.32133371e-04\n",
      "  9.99921181e-01]]\n",
      "25000\n",
      "condition number threshold: 8.858494\n",
      "layer 1/2,  condition number: 7.903365213898813\n"
     ]
    },
    {
     "name": "stderr",
     "output_type": "stream",
     "text": [
      "/Users/kartik/Desktop/causal_latent_DAG/env_DAG/lib/python3.7/site-packages/pytorch_lightning/trainer/connectors/callback_connector.py:91: LightningDeprecationWarning: Setting `Trainer(progress_bar_refresh_rate=20)` is deprecated in v1.5 and will be removed in v1.7. Please pass `pytorch_lightning.callbacks.progress.TQDMProgressBar` with `refresh_rate` directly to the Trainer's `callbacks` argument instead. Or, to disable the progress bar pass `enable_progress_bar = False` to the Trainer.\n",
      "  f\"Setting `Trainer(progress_bar_refresh_rate={progress_bar_refresh_rate})` is deprecated in v1.5 and\"\n",
      "GPU available: False, used: False\n",
      "TPU available: False, using: 0 TPU cores\n",
      "IPU available: False, using: 0 IPUs\n",
      "/Users/kartik/Desktop/causal_latent_DAG/env_DAG/lib/python3.7/site-packages/pytorch_lightning/trainer/configuration_validator.py:122: UserWarning: You defined a `validation_step` but have no `val_dataloader`. Skipping val loop.\n",
      "  rank_zero_warn(\"You defined a `validation_step` but have no `val_dataloader`. Skipping val loop.\")\n",
      "\n",
      "  | Name    | Type   | Params\n",
      "-----------------------------------\n",
      "0 | linear1 | Linear | 2.1 K \n",
      "1 | act_fn1 | ReLU   | 0     \n",
      "2 | linear2 | Linear | 10.1 K\n",
      "3 | act_fn2 | ReLU   | 0     \n",
      "4 | linear3 | Linear | 2.0 K \n",
      "-----------------------------------\n",
      "14.2 K    Trainable params\n",
      "0         Non-trainable params\n",
      "14.2 K    Total params\n",
      "0.057     Total estimated model params size (MB)\n"
     ]
    },
    {
     "name": "stdout",
     "output_type": "stream",
     "text": [
      "layer 2/2,  condition number: 8.593617357444414\n"
     ]
    },
    {
     "name": "stderr",
     "output_type": "stream",
     "text": [
      "/Users/kartik/Desktop/causal_latent_DAG/env_DAG/lib/python3.7/site-packages/pytorch_lightning/trainer/data_loading.py:133: UserWarning: The dataloader, train_dataloader, does not have many workers which may be a bottleneck. Consider increasing the value of the `num_workers` argument` (try 8 which is the number of cpus on this machine) in the `DataLoader` init to improve performance.\n",
      "  f\"The dataloader, {name}, does not have many workers which may be a bottleneck.\"\n",
      "/Users/kartik/Desktop/causal_latent_DAG/env_DAG/lib/python3.7/site-packages/pytorch_lightning/trainer/data_loading.py:433: UserWarning: The number of training samples (1) is smaller than the logging interval Trainer(log_every_n_steps=50). Set a lower value for log_every_n_steps if you want to see logs for the training epoch.\n",
      "  f\"The number of training samples ({self.num_training_batches}) is smaller than the logging interval\"\n"
     ]
    },
    {
     "data": {
      "application/vnd.jupyter.widget-view+json": {
       "model_id": "7d0ce61ca4ad4434894f6c94f60e5a24",
       "version_major": 2,
       "version_minor": 0
      },
      "text/plain": [
       "Training: 0it [00:00, ?it/s]"
      ]
     },
     "metadata": {},
     "output_type": "display_data"
    },
    {
     "name": "stdout",
     "output_type": "stream",
     "text": [
      "[[9.95939177e-01 7.16181889e-04 1.74578748e-04 1.31471484e-03\n",
      "  5.79452592e-04 6.92879759e-03 2.37157811e-04 1.38374174e-03\n",
      "  6.71654264e-04 1.20899625e-03]\n",
      " [8.06005426e-04 9.95351720e-01 6.82578218e-04 6.20889936e-04\n",
      "  7.19052264e-04 3.31677836e-03 9.74798964e-04 7.78641601e-04\n",
      "  1.21471131e-03 1.88243722e-03]\n",
      " [2.01517015e-04 5.36504463e-04 9.95428781e-01 1.11188536e-03\n",
      "  5.91644478e-04 7.69239015e-03 2.51797927e-04 3.96506841e-04\n",
      "  1.63251529e-03 5.72625202e-04]\n",
      " [1.98797805e-04 4.86953652e-04 4.09620453e-04 9.97180644e-01\n",
      "  6.19242903e-04 3.41401700e-04 2.00200715e-04 5.79035185e-04\n",
      "  1.29116199e-03 3.29526952e-04]\n",
      " [4.99706368e-04 1.50179071e-04 4.08308649e-04 5.72353594e-04\n",
      "  9.94462182e-01 4.32153725e-03 3.25672727e-04 1.25452124e-03\n",
      "  2.22385055e-04 3.35291046e-04]\n",
      " [1.03800394e-03 2.29028783e-03 5.14114214e-03 7.80239502e-05\n",
      "  3.74269643e-03 9.65181091e-01 3.37011283e-04 4.44828706e-03\n",
      "  2.60270178e-03 1.07213555e-03]\n",
      " [7.31806445e-04 1.43451288e-03 1.89786000e-04 1.91928644e-05\n",
      "  2.04004949e-04 9.96680867e-04 9.97652477e-01 6.07431139e-04\n",
      "  5.54151771e-04 3.09582074e-04]\n",
      " [1.69205557e-03 5.48816333e-04 1.30769094e-04 6.85539580e-04\n",
      "  2.11535381e-03 1.55082300e-02 1.12177820e-03 9.89849304e-01\n",
      "  9.81437628e-04 2.68647102e-04]\n",
      " [2.43224527e-04 3.58452930e-04 1.32832273e-03 9.91362733e-04\n",
      "  6.10989286e-04 4.88762543e-03 9.35981191e-04 2.08194905e-04\n",
      "  9.90861198e-01 7.27212920e-04]\n",
      " [8.47460537e-04 9.85680584e-04 4.04967930e-04 5.54494420e-04\n",
      "  1.43564088e-04 3.23944111e-04 4.23849999e-04 8.33702046e-04\n",
      "  2.50005351e-03 9.97017194e-01]]\n",
      "25000\n",
      "condition number threshold: 9.551442\n",
      "layer 1/2,  condition number: 9.332042170949713\n"
     ]
    },
    {
     "name": "stderr",
     "output_type": "stream",
     "text": [
      "/Users/kartik/Desktop/causal_latent_DAG/env_DAG/lib/python3.7/site-packages/pytorch_lightning/trainer/connectors/callback_connector.py:91: LightningDeprecationWarning: Setting `Trainer(progress_bar_refresh_rate=20)` is deprecated in v1.5 and will be removed in v1.7. Please pass `pytorch_lightning.callbacks.progress.TQDMProgressBar` with `refresh_rate` directly to the Trainer's `callbacks` argument instead. Or, to disable the progress bar pass `enable_progress_bar = False` to the Trainer.\n",
      "  f\"Setting `Trainer(progress_bar_refresh_rate={progress_bar_refresh_rate})` is deprecated in v1.5 and\"\n",
      "GPU available: False, used: False\n",
      "TPU available: False, using: 0 TPU cores\n",
      "IPU available: False, using: 0 IPUs\n",
      "/Users/kartik/Desktop/causal_latent_DAG/env_DAG/lib/python3.7/site-packages/pytorch_lightning/trainer/configuration_validator.py:122: UserWarning: You defined a `validation_step` but have no `val_dataloader`. Skipping val loop.\n",
      "  rank_zero_warn(\"You defined a `validation_step` but have no `val_dataloader`. Skipping val loop.\")\n",
      "\n",
      "  | Name    | Type   | Params\n",
      "-----------------------------------\n",
      "0 | linear1 | Linear | 2.1 K \n",
      "1 | act_fn1 | ReLU   | 0     \n",
      "2 | linear2 | Linear | 10.1 K\n",
      "3 | act_fn2 | ReLU   | 0     \n",
      "4 | linear3 | Linear | 2.0 K \n",
      "-----------------------------------\n",
      "14.2 K    Trainable params\n",
      "0         Non-trainable params\n",
      "14.2 K    Total params\n",
      "0.057     Total estimated model params size (MB)\n"
     ]
    },
    {
     "name": "stdout",
     "output_type": "stream",
     "text": [
      "layer 2/2,  condition number: 8.843849052450294\n"
     ]
    },
    {
     "name": "stderr",
     "output_type": "stream",
     "text": [
      "/Users/kartik/Desktop/causal_latent_DAG/env_DAG/lib/python3.7/site-packages/pytorch_lightning/trainer/data_loading.py:133: UserWarning: The dataloader, train_dataloader, does not have many workers which may be a bottleneck. Consider increasing the value of the `num_workers` argument` (try 8 which is the number of cpus on this machine) in the `DataLoader` init to improve performance.\n",
      "  f\"The dataloader, {name}, does not have many workers which may be a bottleneck.\"\n",
      "/Users/kartik/Desktop/causal_latent_DAG/env_DAG/lib/python3.7/site-packages/pytorch_lightning/trainer/data_loading.py:433: UserWarning: The number of training samples (1) is smaller than the logging interval Trainer(log_every_n_steps=50). Set a lower value for log_every_n_steps if you want to see logs for the training epoch.\n",
      "  f\"The number of training samples ({self.num_training_batches}) is smaller than the logging interval\"\n"
     ]
    },
    {
     "data": {
      "application/vnd.jupyter.widget-view+json": {
       "model_id": "1219f123820b4ab898992d6d771d7287",
       "version_major": 2,
       "version_minor": 0
      },
      "text/plain": [
       "Training: 0it [00:00, ?it/s]"
      ]
     },
     "metadata": {},
     "output_type": "display_data"
    },
    {
     "name": "stdout",
     "output_type": "stream",
     "text": [
      "[[8.79960816e-01 1.29391030e-03 1.25907628e-02 1.32535879e-02\n",
      "  8.96474515e-02 3.68412013e-03 3.21427241e-03 1.85035789e-02\n",
      "  1.12164531e-02 1.21446831e-02]\n",
      " [3.46464732e-03 9.14170269e-01 1.79680557e-03 1.23489840e-02\n",
      "  4.10248499e-04 9.57480753e-03 1.38650659e-02 5.98946610e-03\n",
      "  5.54591561e-03 2.53999002e-02]\n",
      " [1.71517082e-03 2.83438102e-03 8.61660876e-01 1.21527812e-02\n",
      "  2.89360120e-02 5.29457429e-03 9.98787428e-03 2.45150817e-02\n",
      "  2.21886848e-02 2.58854391e-02]\n",
      " [4.43586749e-02 9.60529233e-03 5.94699700e-03 9.02081529e-01\n",
      "  1.13440726e-02 3.18145432e-02 4.47138142e-03 3.74837840e-02\n",
      "  4.96022720e-03 1.09522682e-02]\n",
      " [1.08002581e-02 9.24887338e-04 3.95652703e-02 4.81015753e-03\n",
      "  7.13554344e-01 1.06455745e-01 8.96219622e-03 4.10005809e-02\n",
      "  5.28486318e-02 3.51164739e-02]\n",
      " [3.14110716e-03 4.55425722e-03 2.44033067e-03 9.02161192e-03\n",
      "  6.88348752e-02 8.34869902e-01 1.67967114e-03 2.59781283e-03\n",
      "  1.51857825e-03 2.44907027e-03]\n",
      " [1.77388038e-02 2.00293007e-02 1.25040445e-02 2.08954184e-03\n",
      "  5.31219676e-04 3.53597205e-04 8.65434259e-01 6.04599803e-04\n",
      "  1.89674252e-02 5.46063131e-03]\n",
      " [9.81406182e-03 9.20757532e-03 4.60158003e-04 3.02466645e-02\n",
      "  6.02325563e-03 8.02925063e-03 7.29849645e-03 8.54834655e-01\n",
      "  4.20764040e-03 8.95951593e-03]\n",
      " [8.90661969e-03 7.23035975e-03 2.83185891e-03 2.17895969e-03\n",
      "  6.55699640e-02 3.43942800e-03 2.35269926e-02 7.13932044e-03\n",
      "  8.66139704e-01 3.30038917e-02]\n",
      " [1.41469516e-02 1.68274013e-02 4.80160801e-02 1.42161417e-02\n",
      "  3.78580788e-03 5.45137461e-03 6.46664219e-02 1.03907815e-02\n",
      "  1.29447812e-02 8.34794635e-01]]\n",
      "25000\n",
      "condition number threshold: 9.333298\n",
      "layer 1/2,  condition number: 9.174187894692627\n"
     ]
    },
    {
     "name": "stderr",
     "output_type": "stream",
     "text": [
      "/Users/kartik/Desktop/causal_latent_DAG/env_DAG/lib/python3.7/site-packages/pytorch_lightning/trainer/connectors/callback_connector.py:91: LightningDeprecationWarning: Setting `Trainer(progress_bar_refresh_rate=20)` is deprecated in v1.5 and will be removed in v1.7. Please pass `pytorch_lightning.callbacks.progress.TQDMProgressBar` with `refresh_rate` directly to the Trainer's `callbacks` argument instead. Or, to disable the progress bar pass `enable_progress_bar = False` to the Trainer.\n",
      "  f\"Setting `Trainer(progress_bar_refresh_rate={progress_bar_refresh_rate})` is deprecated in v1.5 and\"\n",
      "GPU available: False, used: False\n",
      "TPU available: False, using: 0 TPU cores\n",
      "IPU available: False, using: 0 IPUs\n",
      "/Users/kartik/Desktop/causal_latent_DAG/env_DAG/lib/python3.7/site-packages/pytorch_lightning/trainer/configuration_validator.py:122: UserWarning: You defined a `validation_step` but have no `val_dataloader`. Skipping val loop.\n",
      "  rank_zero_warn(\"You defined a `validation_step` but have no `val_dataloader`. Skipping val loop.\")\n",
      "\n",
      "  | Name    | Type   | Params\n",
      "-----------------------------------\n",
      "0 | linear1 | Linear | 2.1 K \n",
      "1 | act_fn1 | ReLU   | 0     \n",
      "2 | linear2 | Linear | 10.1 K\n",
      "3 | act_fn2 | ReLU   | 0     \n",
      "4 | linear3 | Linear | 2.0 K \n",
      "-----------------------------------\n",
      "14.2 K    Trainable params\n",
      "0         Non-trainable params\n",
      "14.2 K    Total params\n",
      "0.057     Total estimated model params size (MB)\n"
     ]
    },
    {
     "name": "stdout",
     "output_type": "stream",
     "text": [
      "layer 2/2,  condition number: 8.965171697600379\n"
     ]
    },
    {
     "name": "stderr",
     "output_type": "stream",
     "text": [
      "/Users/kartik/Desktop/causal_latent_DAG/env_DAG/lib/python3.7/site-packages/pytorch_lightning/trainer/data_loading.py:133: UserWarning: The dataloader, train_dataloader, does not have many workers which may be a bottleneck. Consider increasing the value of the `num_workers` argument` (try 8 which is the number of cpus on this machine) in the `DataLoader` init to improve performance.\n",
      "  f\"The dataloader, {name}, does not have many workers which may be a bottleneck.\"\n",
      "/Users/kartik/Desktop/causal_latent_DAG/env_DAG/lib/python3.7/site-packages/pytorch_lightning/trainer/data_loading.py:433: UserWarning: The number of training samples (1) is smaller than the logging interval Trainer(log_every_n_steps=50). Set a lower value for log_every_n_steps if you want to see logs for the training epoch.\n",
      "  f\"The number of training samples ({self.num_training_batches}) is smaller than the logging interval\"\n"
     ]
    },
    {
     "data": {
      "application/vnd.jupyter.widget-view+json": {
       "model_id": "5feaa6e7bce8437f91e1754fb120513c",
       "version_major": 2,
       "version_minor": 0
      },
      "text/plain": [
       "Training: 0it [00:00, ?it/s]"
      ]
     },
     "metadata": {},
     "output_type": "display_data"
    },
    {
     "name": "stdout",
     "output_type": "stream",
     "text": [
      "[[7.11063350e-01 1.32003547e-01 1.03106976e-02 7.75214088e-03\n",
      "  7.18927655e-04 1.20293079e-02 1.23860641e-02 3.71701309e-02\n",
      "  1.81418002e-02 8.76232483e-03]\n",
      " [1.66987142e-01 7.06169419e-01 8.38312621e-03 2.55213259e-02\n",
      "  3.30623896e-02 4.93551091e-03 9.82751132e-03 3.80412828e-02\n",
      "  1.57521791e-02 1.47067403e-02]\n",
      " [9.22480235e-04 1.58126955e-03 9.52255612e-01 3.50753764e-03\n",
      "  3.52739052e-03 4.86405413e-04 1.34011499e-02 6.00416546e-03\n",
      "  7.60219388e-03 2.14243976e-03]\n",
      " [1.29338006e-02 2.57473679e-02 3.98468907e-03 8.92200897e-01\n",
      "  1.03393200e-02 1.05369161e-02 1.26041006e-02 8.59403719e-04\n",
      "  5.93750595e-03 3.29227873e-03]\n",
      " [1.36974122e-02 4.52502950e-03 8.71027046e-04 5.17415796e-03\n",
      "  9.09120790e-01 1.72804529e-03 4.42993966e-03 1.32992236e-02\n",
      "  1.03895889e-02 4.91104978e-04]\n",
      " [1.00414583e-03 1.59222674e-02 7.26975597e-04 1.85146746e-02\n",
      "  6.32783218e-04 8.22640630e-01 3.67137946e-03 5.41306499e-02\n",
      "  3.11608078e-02 1.20640455e-02]\n",
      " [1.37731179e-02 3.03257269e-03 7.91589536e-03 8.42478538e-03\n",
      "  5.90783506e-05 4.77320048e-04 8.92088540e-01 5.30379226e-03\n",
      "  4.53323894e-03 2.56610433e-02]\n",
      " [4.56102493e-02 4.86033353e-02 2.91824060e-03 1.59613276e-03\n",
      "  1.62550924e-03 4.38044930e-02 1.46085524e-02 8.20477727e-01\n",
      "  1.16076098e-03 2.29000477e-02]\n",
      " [3.36493558e-02 6.40547572e-02 8.04471419e-03 3.48145226e-02\n",
      "  3.63629129e-02 9.11448741e-02 3.13413471e-04 7.67304477e-03\n",
      "  9.02079285e-01 1.48816734e-02]\n",
      " [5.45418333e-03 4.23729322e-03 1.45461635e-03 3.63261619e-03\n",
      "  6.97693835e-04 1.40893747e-02 4.21455119e-02 8.95788187e-03\n",
      "  7.96376974e-03 8.94682669e-01]]\n",
      "25000\n",
      "condition number threshold: 9.521360\n",
      "layer 1/2,  condition number: 9.099567961454856\n"
     ]
    },
    {
     "name": "stderr",
     "output_type": "stream",
     "text": [
      "/Users/kartik/Desktop/causal_latent_DAG/env_DAG/lib/python3.7/site-packages/pytorch_lightning/trainer/connectors/callback_connector.py:91: LightningDeprecationWarning: Setting `Trainer(progress_bar_refresh_rate=20)` is deprecated in v1.5 and will be removed in v1.7. Please pass `pytorch_lightning.callbacks.progress.TQDMProgressBar` with `refresh_rate` directly to the Trainer's `callbacks` argument instead. Or, to disable the progress bar pass `enable_progress_bar = False` to the Trainer.\n",
      "  f\"Setting `Trainer(progress_bar_refresh_rate={progress_bar_refresh_rate})` is deprecated in v1.5 and\"\n",
      "GPU available: False, used: False\n",
      "TPU available: False, using: 0 TPU cores\n",
      "IPU available: False, using: 0 IPUs\n",
      "/Users/kartik/Desktop/causal_latent_DAG/env_DAG/lib/python3.7/site-packages/pytorch_lightning/trainer/configuration_validator.py:122: UserWarning: You defined a `validation_step` but have no `val_dataloader`. Skipping val loop.\n",
      "  rank_zero_warn(\"You defined a `validation_step` but have no `val_dataloader`. Skipping val loop.\")\n",
      "\n",
      "  | Name    | Type   | Params\n",
      "-----------------------------------\n",
      "0 | linear1 | Linear | 2.1 K \n",
      "1 | act_fn1 | ReLU   | 0     \n",
      "2 | linear2 | Linear | 10.1 K\n",
      "3 | act_fn2 | ReLU   | 0     \n",
      "4 | linear3 | Linear | 2.0 K \n",
      "-----------------------------------\n",
      "14.2 K    Trainable params\n",
      "0         Non-trainable params\n",
      "14.2 K    Total params\n",
      "0.057     Total estimated model params size (MB)\n"
     ]
    },
    {
     "name": "stdout",
     "output_type": "stream",
     "text": [
      "layer 2/2,  condition number: 9.259306022468639\n"
     ]
    },
    {
     "name": "stderr",
     "output_type": "stream",
     "text": [
      "/Users/kartik/Desktop/causal_latent_DAG/env_DAG/lib/python3.7/site-packages/pytorch_lightning/trainer/data_loading.py:133: UserWarning: The dataloader, train_dataloader, does not have many workers which may be a bottleneck. Consider increasing the value of the `num_workers` argument` (try 8 which is the number of cpus on this machine) in the `DataLoader` init to improve performance.\n",
      "  f\"The dataloader, {name}, does not have many workers which may be a bottleneck.\"\n",
      "/Users/kartik/Desktop/causal_latent_DAG/env_DAG/lib/python3.7/site-packages/pytorch_lightning/trainer/data_loading.py:433: UserWarning: The number of training samples (1) is smaller than the logging interval Trainer(log_every_n_steps=50). Set a lower value for log_every_n_steps if you want to see logs for the training epoch.\n",
      "  f\"The number of training samples ({self.num_training_batches}) is smaller than the logging interval\"\n"
     ]
    },
    {
     "data": {
      "application/vnd.jupyter.widget-view+json": {
       "model_id": "dd37e88777f04ce3ab404720db9e4a49",
       "version_major": 2,
       "version_minor": 0
      },
      "text/plain": [
       "Training: 0it [00:00, ?it/s]"
      ]
     },
     "metadata": {},
     "output_type": "display_data"
    },
    {
     "name": "stdout",
     "output_type": "stream",
     "text": [
      "[[6.43852365e-01 4.45751820e-02 2.86940538e-02 2.42598625e-02\n",
      "  5.30928843e-03 1.05959710e-02 8.12493353e-02 1.82900847e-01\n",
      "  1.28567170e-02 4.02385224e-03]\n",
      " [1.85191549e-02 7.23381487e-01 3.34610373e-03 3.38590447e-02\n",
      "  3.46341802e-03 8.15297468e-03 2.09671168e-02 1.79617932e-02\n",
      "  8.66150745e-03 1.10995198e-01]\n",
      " [7.67643492e-02 2.10209485e-02 6.93280606e-01 5.40569215e-03\n",
      "  1.23543139e-02 1.09615250e-01 3.83049420e-02 1.12716792e-02\n",
      "  2.82108428e-03 3.54703888e-02]\n",
      " [4.77227412e-02 2.76320262e-02 7.60045529e-03 6.74739893e-01\n",
      "  2.85406100e-02 4.26476473e-02 2.19159847e-02 9.07752395e-03\n",
      "  4.55509627e-04 3.69514392e-02]\n",
      " [3.33795191e-03 1.90271353e-02 1.78695840e-04 2.13980602e-01\n",
      "  7.48349357e-01 8.96613810e-03 7.53975831e-03 2.37763254e-04\n",
      "  9.63238394e-03 9.69747172e-03]\n",
      " [1.36054360e-03 7.90616032e-04 2.90041169e-02 3.75665249e-02\n",
      "  1.05719521e-01 7.39599810e-01 8.81946174e-03 1.22024705e-02\n",
      "  1.98822940e-04 5.78059197e-02]\n",
      " [5.62125876e-02 3.99721693e-02 7.13194210e-02 3.64111588e-04\n",
      "  8.56279706e-03 1.37390357e-03 7.30058104e-01 1.11343637e-01\n",
      "  9.76741819e-02 1.25019850e-02]\n",
      " [6.35939604e-02 3.19462767e-02 2.11067785e-02 1.14732199e-02\n",
      "  2.16975115e-03 2.89857461e-02 7.61555792e-02 6.43108350e-01\n",
      "  5.06013878e-02 1.28078331e-02]\n",
      " [6.74301697e-02 5.48946397e-03 4.83071787e-02 8.30410381e-03\n",
      "  5.56084148e-02 1.27824462e-02 1.43168048e-03 7.83392696e-03\n",
      "  7.76446132e-01 1.16358957e-02]\n",
      " [4.31029395e-03 7.77036507e-02 9.42407872e-02 6.40513393e-03\n",
      "  2.27895909e-02 1.97214997e-02 3.45556288e-02 2.20178761e-02\n",
      "  2.88589223e-02 7.19327606e-01]]\n",
      "25000\n",
      "condition number threshold: 9.792851\n",
      "layer 1/2,  condition number: 8.71211743580938\n"
     ]
    },
    {
     "name": "stderr",
     "output_type": "stream",
     "text": [
      "/Users/kartik/Desktop/causal_latent_DAG/env_DAG/lib/python3.7/site-packages/pytorch_lightning/trainer/connectors/callback_connector.py:91: LightningDeprecationWarning: Setting `Trainer(progress_bar_refresh_rate=20)` is deprecated in v1.5 and will be removed in v1.7. Please pass `pytorch_lightning.callbacks.progress.TQDMProgressBar` with `refresh_rate` directly to the Trainer's `callbacks` argument instead. Or, to disable the progress bar pass `enable_progress_bar = False` to the Trainer.\n",
      "  f\"Setting `Trainer(progress_bar_refresh_rate={progress_bar_refresh_rate})` is deprecated in v1.5 and\"\n",
      "GPU available: False, used: False\n",
      "TPU available: False, using: 0 TPU cores\n",
      "IPU available: False, using: 0 IPUs\n",
      "/Users/kartik/Desktop/causal_latent_DAG/env_DAG/lib/python3.7/site-packages/pytorch_lightning/trainer/configuration_validator.py:122: UserWarning: You defined a `validation_step` but have no `val_dataloader`. Skipping val loop.\n",
      "  rank_zero_warn(\"You defined a `validation_step` but have no `val_dataloader`. Skipping val loop.\")\n",
      "\n",
      "  | Name    | Type   | Params\n",
      "-----------------------------------\n",
      "0 | linear1 | Linear | 2.1 K \n",
      "1 | act_fn1 | ReLU   | 0     \n",
      "2 | linear2 | Linear | 10.1 K\n",
      "3 | act_fn2 | ReLU   | 0     \n",
      "4 | linear3 | Linear | 2.0 K \n",
      "-----------------------------------\n",
      "14.2 K    Trainable params\n",
      "0         Non-trainable params\n",
      "14.2 K    Total params\n",
      "0.057     Total estimated model params size (MB)\n"
     ]
    },
    {
     "name": "stdout",
     "output_type": "stream",
     "text": [
      "layer 2/2,  condition number: 7.898551531098178\n"
     ]
    },
    {
     "name": "stderr",
     "output_type": "stream",
     "text": [
      "/Users/kartik/Desktop/causal_latent_DAG/env_DAG/lib/python3.7/site-packages/pytorch_lightning/trainer/data_loading.py:133: UserWarning: The dataloader, train_dataloader, does not have many workers which may be a bottleneck. Consider increasing the value of the `num_workers` argument` (try 8 which is the number of cpus on this machine) in the `DataLoader` init to improve performance.\n",
      "  f\"The dataloader, {name}, does not have many workers which may be a bottleneck.\"\n",
      "/Users/kartik/Desktop/causal_latent_DAG/env_DAG/lib/python3.7/site-packages/pytorch_lightning/trainer/data_loading.py:433: UserWarning: The number of training samples (1) is smaller than the logging interval Trainer(log_every_n_steps=50). Set a lower value for log_every_n_steps if you want to see logs for the training epoch.\n",
      "  f\"The number of training samples ({self.num_training_batches}) is smaller than the logging interval\"\n"
     ]
    },
    {
     "data": {
      "application/vnd.jupyter.widget-view+json": {
       "model_id": "9002a7eb45a04a51ad1c2ed31573abd4",
       "version_major": 2,
       "version_minor": 0
      },
      "text/plain": [
       "Training: 0it [00:00, ?it/s]"
      ]
     },
     "metadata": {},
     "output_type": "display_data"
    },
    {
     "name": "stdout",
     "output_type": "stream",
     "text": [
      "[[8.69685599e-01 1.08888938e-02 2.15003365e-02 2.77881127e-03\n",
      "  2.47868952e-03 2.13024985e-02 1.70545764e-02 5.87282195e-03\n",
      "  1.46319917e-03 3.87156761e-02]\n",
      " [9.80067829e-03 8.04636845e-01 3.90481487e-02 3.51960650e-03\n",
      "  4.29646328e-02 4.59623513e-03 4.68315082e-03 2.26642022e-02\n",
      "  7.94055321e-03 1.70176401e-02]\n",
      " [2.01805362e-02 1.59901376e-02 7.75712927e-01 3.11111115e-02\n",
      "  1.01670882e-02 2.40980021e-02 1.05833274e-02 2.24807487e-02\n",
      "  8.05946069e-04 3.73491671e-02]\n",
      " [2.08689980e-03 7.61917620e-03 1.05350508e-02 8.04714047e-01\n",
      "  4.83770167e-03 1.06843966e-02 1.05676330e-02 1.27732992e-01\n",
      "  1.13907608e-02 9.84981246e-03]\n",
      " [6.29597354e-03 4.91699393e-02 4.78133547e-02 2.51450692e-02\n",
      "  9.06187988e-01 8.76082215e-03 2.79100658e-02 3.20658424e-03\n",
      "  3.25090325e-03 9.39163858e-04]\n",
      " [5.31223668e-03 4.02719174e-02 1.98490555e-02 2.32531454e-03\n",
      "  7.55334191e-03 8.81329672e-01 5.82474430e-04 7.18795329e-02\n",
      "  1.42129910e-02 1.79538971e-02]\n",
      " [2.29395137e-02 2.45627816e-03 1.17761822e-02 1.40031553e-02\n",
      "  2.14378373e-02 1.29475791e-03 8.55573986e-01 3.17697129e-02\n",
      "  8.02220951e-03 2.92537102e-02]\n",
      " [4.22551780e-03 2.68648711e-02 1.42261743e-02 1.00905338e-01\n",
      "  1.14564919e-05 3.31559880e-02 1.97715936e-02 6.95743611e-01\n",
      "  1.93132725e-02 2.27568581e-02]\n",
      " [6.66344889e-03 1.21728212e-02 2.52968790e-02 3.92963700e-02\n",
      "  2.56111528e-03 5.45707400e-03 1.23355434e-02 5.95128182e-03\n",
      "  9.10138396e-01 5.97049003e-03]\n",
      " [6.63089723e-02 1.81075325e-02 3.95058473e-02 5.10177016e-04\n",
      "  2.51891401e-04 2.50368793e-03 3.99665228e-02 1.55719153e-02\n",
      "  1.35656182e-02 8.26654677e-01]]\n"
     ]
    }
   ],
   "source": [
    "n_trials=5\n",
    "dim_list = [6,10,20]\n",
    "s = len(dim_list)\n",
    "MCC_result = np.zeros((s,n_trials))\n",
    "MCC_result1 = np.zeros((s,n_trials))\n",
    "m=0\n",
    "for d in dim_list:\n",
    "    for trial in range(n_trials):\n",
    "        data_X, data_Z = data_generation_MLP(n=d, n_layers=2, cond_thresh_ratio=0.0, n_iter_cond_thresh=25000, n_data=15000, distribution=\"uniform_non_linear_block\")\n",
    "        k= len(data_X)\n",
    "        train_data_X = []\n",
    "        test_data_X  = []\n",
    "        train_data_Z = []\n",
    "        test_data_Z  = []\n",
    "        train_size = 10000\n",
    "        for i in range(k):\n",
    "            train_data_X.append(data_X[i][:train_size])\n",
    "            train_data_Z.append(data_Z[i][:train_size])\n",
    "            test_data_X.append(data_X[i][train_size:])\n",
    "            test_data_Z.append(data_Z[i][train_size:])  \n",
    "        latent_comparison_model = Latent_comparison_model(d)\n",
    "        train_loader = DataLoader(train_data_X, batch_size=BATCH_SIZE)\n",
    "        trainer = Trainer(\n",
    "            gpus=AVAIL_GPUS,\n",
    "            max_epochs=2000,\n",
    "            progress_bar_refresh_rate=20,\n",
    "        )\n",
    "        trainer.fit(latent_comparison_model, train_loader)\n",
    "        \n",
    "        Zp=latent_comparison_model(test_data_X[0])\n",
    "        Z = test_data_Z[0]\n",
    "        MCC_result[m][trial] = MCC_block_r2(Z.detach().numpy(),Zp.detach().numpy(),2)\n",
    "        MCC_result1[m][trial] = MCC(Z.detach().numpy(),Zp.detach().numpy())\n",
    "    \n",
    "    m=m+1\n",
    "        "
   ]
  },
  {
   "cell_type": "code",
   "execution_count": 13,
   "id": "5b9e4e1d",
   "metadata": {},
   "outputs": [
    {
     "data": {
      "text/plain": [
       "array([[0.99999616, 0.99997344, 0.99999685, 0.99992813, 0.99999892],\n",
       "       [0.99978006, 0.99957343, 0.99983968, 0.99995675, 0.99994354],\n",
       "       [0.99189238, 0.8527501 , 0.85027789, 0.70921437, 0.83303777]])"
      ]
     },
     "execution_count": 13,
     "metadata": {},
     "output_type": "execute_result"
    }
   ],
   "source": [
    "MCC_result"
   ]
  },
  {
   "cell_type": "markdown",
   "id": "f7ecdc0d",
   "metadata": {},
   "source": [
    "## Generate results (Normal)"
   ]
  },
  {
   "cell_type": "code",
   "execution_count": 15,
   "id": "efa6285d",
   "metadata": {},
   "outputs": [
    {
     "name": "stdout",
     "output_type": "stream",
     "text": [
      "25000\n",
      "condition number threshold: 2.032986\n",
      "layer 1/2,  condition number: 2.0174957391064696\n"
     ]
    },
    {
     "name": "stderr",
     "output_type": "stream",
     "text": [
      "/Users/kartik/Desktop/causal_latent_DAG/env_DAG/lib/python3.7/site-packages/pytorch_lightning/trainer/connectors/callback_connector.py:91: LightningDeprecationWarning: Setting `Trainer(progress_bar_refresh_rate=20)` is deprecated in v1.5 and will be removed in v1.7. Please pass `pytorch_lightning.callbacks.progress.TQDMProgressBar` with `refresh_rate` directly to the Trainer's `callbacks` argument instead. Or, to disable the progress bar pass `enable_progress_bar = False` to the Trainer.\n",
      "  f\"Setting `Trainer(progress_bar_refresh_rate={progress_bar_refresh_rate})` is deprecated in v1.5 and\"\n",
      "GPU available: False, used: False\n",
      "TPU available: False, using: 0 TPU cores\n",
      "IPU available: False, using: 0 IPUs\n",
      "/Users/kartik/Desktop/causal_latent_DAG/env_DAG/lib/python3.7/site-packages/pytorch_lightning/trainer/configuration_validator.py:122: UserWarning: You defined a `validation_step` but have no `val_dataloader`. Skipping val loop.\n",
      "  rank_zero_warn(\"You defined a `validation_step` but have no `val_dataloader`. Skipping val loop.\")\n",
      "\n",
      "  | Name    | Type   | Params\n",
      "-----------------------------------\n",
      "0 | linear1 | Linear | 700   \n",
      "1 | act_fn1 | ReLU   | 0     \n",
      "2 | linear2 | Linear | 10.1 K\n",
      "3 | act_fn2 | ReLU   | 0     \n",
      "4 | linear3 | Linear | 606   \n",
      "-----------------------------------\n",
      "11.4 K    Trainable params\n",
      "0         Non-trainable params\n",
      "11.4 K    Total params\n",
      "0.046     Total estimated model params size (MB)\n"
     ]
    },
    {
     "name": "stdout",
     "output_type": "stream",
     "text": [
      "layer 2/2,  condition number: 1.9768273267870224\n"
     ]
    },
    {
     "name": "stderr",
     "output_type": "stream",
     "text": [
      "/Users/kartik/Desktop/causal_latent_DAG/env_DAG/lib/python3.7/site-packages/pytorch_lightning/trainer/data_loading.py:133: UserWarning: The dataloader, train_dataloader, does not have many workers which may be a bottleneck. Consider increasing the value of the `num_workers` argument` (try 8 which is the number of cpus on this machine) in the `DataLoader` init to improve performance.\n",
      "  f\"The dataloader, {name}, does not have many workers which may be a bottleneck.\"\n",
      "/Users/kartik/Desktop/causal_latent_DAG/env_DAG/lib/python3.7/site-packages/pytorch_lightning/trainer/data_loading.py:433: UserWarning: The number of training samples (1) is smaller than the logging interval Trainer(log_every_n_steps=50). Set a lower value for log_every_n_steps if you want to see logs for the training epoch.\n",
      "  f\"The number of training samples ({self.num_training_batches}) is smaller than the logging interval\"\n"
     ]
    },
    {
     "data": {
      "application/vnd.jupyter.widget-view+json": {
       "model_id": "bd28498b35044394bbb39c601e84346a",
       "version_major": 2,
       "version_minor": 0
      },
      "text/plain": [
       "Training: 0it [00:00, ?it/s]"
      ]
     },
     "metadata": {},
     "output_type": "display_data"
    },
    {
     "name": "stdout",
     "output_type": "stream",
     "text": [
      "[[9.99994478e-01 3.17904673e-01 1.69909063e-04]\n",
      " [4.83026050e-01 9.99995111e-01 5.01776372e-01]\n",
      " [1.01558273e-04 3.22973547e-01 9.99994415e-01]]\n",
      "25000\n",
      "condition number threshold: 2.263918\n"
     ]
    },
    {
     "name": "stderr",
     "output_type": "stream",
     "text": [
      "/Users/kartik/Desktop/causal_latent_DAG/env_DAG/lib/python3.7/site-packages/pytorch_lightning/trainer/connectors/callback_connector.py:91: LightningDeprecationWarning: Setting `Trainer(progress_bar_refresh_rate=20)` is deprecated in v1.5 and will be removed in v1.7. Please pass `pytorch_lightning.callbacks.progress.TQDMProgressBar` with `refresh_rate` directly to the Trainer's `callbacks` argument instead. Or, to disable the progress bar pass `enable_progress_bar = False` to the Trainer.\n",
      "  f\"Setting `Trainer(progress_bar_refresh_rate={progress_bar_refresh_rate})` is deprecated in v1.5 and\"\n",
      "GPU available: False, used: False\n",
      "TPU available: False, using: 0 TPU cores\n",
      "IPU available: False, using: 0 IPUs\n",
      "/Users/kartik/Desktop/causal_latent_DAG/env_DAG/lib/python3.7/site-packages/pytorch_lightning/trainer/configuration_validator.py:122: UserWarning: You defined a `validation_step` but have no `val_dataloader`. Skipping val loop.\n",
      "  rank_zero_warn(\"You defined a `validation_step` but have no `val_dataloader`. Skipping val loop.\")\n",
      "\n",
      "  | Name    | Type   | Params\n",
      "-----------------------------------\n",
      "0 | linear1 | Linear | 700   \n",
      "1 | act_fn1 | ReLU   | 0     \n",
      "2 | linear2 | Linear | 10.1 K\n",
      "3 | act_fn2 | ReLU   | 0     \n",
      "4 | linear3 | Linear | 606   \n",
      "-----------------------------------\n",
      "11.4 K    Trainable params\n",
      "0         Non-trainable params\n",
      "11.4 K    Total params\n",
      "0.046     Total estimated model params size (MB)\n"
     ]
    },
    {
     "name": "stdout",
     "output_type": "stream",
     "text": [
      "layer 1/2,  condition number: 2.170786261905988\n",
      "layer 2/2,  condition number: 2.052746119919558\n"
     ]
    },
    {
     "name": "stderr",
     "output_type": "stream",
     "text": [
      "/Users/kartik/Desktop/causal_latent_DAG/env_DAG/lib/python3.7/site-packages/pytorch_lightning/trainer/data_loading.py:133: UserWarning: The dataloader, train_dataloader, does not have many workers which may be a bottleneck. Consider increasing the value of the `num_workers` argument` (try 8 which is the number of cpus on this machine) in the `DataLoader` init to improve performance.\n",
      "  f\"The dataloader, {name}, does not have many workers which may be a bottleneck.\"\n",
      "/Users/kartik/Desktop/causal_latent_DAG/env_DAG/lib/python3.7/site-packages/pytorch_lightning/trainer/data_loading.py:433: UserWarning: The number of training samples (1) is smaller than the logging interval Trainer(log_every_n_steps=50). Set a lower value for log_every_n_steps if you want to see logs for the training epoch.\n",
      "  f\"The number of training samples ({self.num_training_batches}) is smaller than the logging interval\"\n"
     ]
    },
    {
     "data": {
      "application/vnd.jupyter.widget-view+json": {
       "model_id": "b22a3ebf8b4a4f5d8c1d0988f227fc95",
       "version_major": 2,
       "version_minor": 0
      },
      "text/plain": [
       "Training: 0it [00:00, ?it/s]"
      ]
     },
     "metadata": {},
     "output_type": "display_data"
    },
    {
     "name": "stdout",
     "output_type": "stream",
     "text": [
      "[[9.99998721e-01 3.21053082e-01 7.29817825e-04]\n",
      " [4.83688984e-01 9.99994092e-01 4.99201981e-01]\n",
      " [1.24564083e-03 3.15707037e-01 9.99979138e-01]]\n",
      "25000\n",
      "condition number threshold: 2.120995\n"
     ]
    },
    {
     "name": "stderr",
     "output_type": "stream",
     "text": [
      "/Users/kartik/Desktop/causal_latent_DAG/env_DAG/lib/python3.7/site-packages/pytorch_lightning/trainer/connectors/callback_connector.py:91: LightningDeprecationWarning: Setting `Trainer(progress_bar_refresh_rate=20)` is deprecated in v1.5 and will be removed in v1.7. Please pass `pytorch_lightning.callbacks.progress.TQDMProgressBar` with `refresh_rate` directly to the Trainer's `callbacks` argument instead. Or, to disable the progress bar pass `enable_progress_bar = False` to the Trainer.\n",
      "  f\"Setting `Trainer(progress_bar_refresh_rate={progress_bar_refresh_rate})` is deprecated in v1.5 and\"\n",
      "GPU available: False, used: False\n",
      "TPU available: False, using: 0 TPU cores\n",
      "IPU available: False, using: 0 IPUs\n",
      "/Users/kartik/Desktop/causal_latent_DAG/env_DAG/lib/python3.7/site-packages/pytorch_lightning/trainer/configuration_validator.py:122: UserWarning: You defined a `validation_step` but have no `val_dataloader`. Skipping val loop.\n",
      "  rank_zero_warn(\"You defined a `validation_step` but have no `val_dataloader`. Skipping val loop.\")\n",
      "\n",
      "  | Name    | Type   | Params\n",
      "-----------------------------------\n",
      "0 | linear1 | Linear | 700   \n",
      "1 | act_fn1 | ReLU   | 0     \n",
      "2 | linear2 | Linear | 10.1 K\n",
      "3 | act_fn2 | ReLU   | 0     \n",
      "4 | linear3 | Linear | 606   \n",
      "-----------------------------------\n",
      "11.4 K    Trainable params\n",
      "0         Non-trainable params\n",
      "11.4 K    Total params\n",
      "0.046     Total estimated model params size (MB)\n"
     ]
    },
    {
     "name": "stdout",
     "output_type": "stream",
     "text": [
      "layer 1/2,  condition number: 2.116138258211186\n",
      "layer 2/2,  condition number: 2.113989339183946\n"
     ]
    },
    {
     "name": "stderr",
     "output_type": "stream",
     "text": [
      "/Users/kartik/Desktop/causal_latent_DAG/env_DAG/lib/python3.7/site-packages/pytorch_lightning/trainer/data_loading.py:133: UserWarning: The dataloader, train_dataloader, does not have many workers which may be a bottleneck. Consider increasing the value of the `num_workers` argument` (try 8 which is the number of cpus on this machine) in the `DataLoader` init to improve performance.\n",
      "  f\"The dataloader, {name}, does not have many workers which may be a bottleneck.\"\n",
      "/Users/kartik/Desktop/causal_latent_DAG/env_DAG/lib/python3.7/site-packages/pytorch_lightning/trainer/data_loading.py:433: UserWarning: The number of training samples (1) is smaller than the logging interval Trainer(log_every_n_steps=50). Set a lower value for log_every_n_steps if you want to see logs for the training epoch.\n",
      "  f\"The number of training samples ({self.num_training_batches}) is smaller than the logging interval\"\n"
     ]
    },
    {
     "data": {
      "application/vnd.jupyter.widget-view+json": {
       "model_id": "29b257999d544165be22fd6a805a20f9",
       "version_major": 2,
       "version_minor": 0
      },
      "text/plain": [
       "Training: 0it [00:00, ?it/s]"
      ]
     },
     "metadata": {},
     "output_type": "display_data"
    },
    {
     "name": "stdout",
     "output_type": "stream",
     "text": [
      "[[9.99998555e-01 3.29215014e-01 6.47671920e-04]\n",
      " [4.97585911e-01 9.99998089e-01 4.93732551e-01]\n",
      " [7.57641522e-04 3.16197370e-01 9.99997674e-01]]\n",
      "25000\n",
      "condition number threshold: 1.858617\n",
      "layer 1/2,  condition number: 1.8240254792713697\n"
     ]
    },
    {
     "name": "stderr",
     "output_type": "stream",
     "text": [
      "/Users/kartik/Desktop/causal_latent_DAG/env_DAG/lib/python3.7/site-packages/pytorch_lightning/trainer/connectors/callback_connector.py:91: LightningDeprecationWarning: Setting `Trainer(progress_bar_refresh_rate=20)` is deprecated in v1.5 and will be removed in v1.7. Please pass `pytorch_lightning.callbacks.progress.TQDMProgressBar` with `refresh_rate` directly to the Trainer's `callbacks` argument instead. Or, to disable the progress bar pass `enable_progress_bar = False` to the Trainer.\n",
      "  f\"Setting `Trainer(progress_bar_refresh_rate={progress_bar_refresh_rate})` is deprecated in v1.5 and\"\n",
      "GPU available: False, used: False\n",
      "TPU available: False, using: 0 TPU cores\n",
      "IPU available: False, using: 0 IPUs\n",
      "/Users/kartik/Desktop/causal_latent_DAG/env_DAG/lib/python3.7/site-packages/pytorch_lightning/trainer/configuration_validator.py:122: UserWarning: You defined a `validation_step` but have no `val_dataloader`. Skipping val loop.\n",
      "  rank_zero_warn(\"You defined a `validation_step` but have no `val_dataloader`. Skipping val loop.\")\n",
      "\n",
      "  | Name    | Type   | Params\n",
      "-----------------------------------\n",
      "0 | linear1 | Linear | 700   \n",
      "1 | act_fn1 | ReLU   | 0     \n",
      "2 | linear2 | Linear | 10.1 K\n",
      "3 | act_fn2 | ReLU   | 0     \n",
      "4 | linear3 | Linear | 606   \n",
      "-----------------------------------\n",
      "11.4 K    Trainable params\n",
      "0         Non-trainable params\n",
      "11.4 K    Total params\n",
      "0.046     Total estimated model params size (MB)\n"
     ]
    },
    {
     "name": "stdout",
     "output_type": "stream",
     "text": [
      "layer 2/2,  condition number: 1.8265009838606492\n"
     ]
    },
    {
     "name": "stderr",
     "output_type": "stream",
     "text": [
      "/Users/kartik/Desktop/causal_latent_DAG/env_DAG/lib/python3.7/site-packages/pytorch_lightning/trainer/data_loading.py:133: UserWarning: The dataloader, train_dataloader, does not have many workers which may be a bottleneck. Consider increasing the value of the `num_workers` argument` (try 8 which is the number of cpus on this machine) in the `DataLoader` init to improve performance.\n",
      "  f\"The dataloader, {name}, does not have many workers which may be a bottleneck.\"\n",
      "/Users/kartik/Desktop/causal_latent_DAG/env_DAG/lib/python3.7/site-packages/pytorch_lightning/trainer/data_loading.py:433: UserWarning: The number of training samples (1) is smaller than the logging interval Trainer(log_every_n_steps=50). Set a lower value for log_every_n_steps if you want to see logs for the training epoch.\n",
      "  f\"The number of training samples ({self.num_training_batches}) is smaller than the logging interval\"\n"
     ]
    },
    {
     "data": {
      "application/vnd.jupyter.widget-view+json": {
       "model_id": "5e7352e15f0b43b991297ebb622c2eeb",
       "version_major": 2,
       "version_minor": 0
      },
      "text/plain": [
       "Training: 0it [00:00, ?it/s]"
      ]
     },
     "metadata": {},
     "output_type": "display_data"
    },
    {
     "name": "stdout",
     "output_type": "stream",
     "text": [
      "[[9.99985480e-01 3.23488515e-01 3.09899686e-04]\n",
      " [4.96671902e-01 9.99995440e-01 5.05119153e-01]\n",
      " [2.46659337e-04 3.11010308e-01 9.99997457e-01]]\n",
      "25000\n",
      "condition number threshold: 2.002473\n"
     ]
    },
    {
     "name": "stderr",
     "output_type": "stream",
     "text": [
      "/Users/kartik/Desktop/causal_latent_DAG/env_DAG/lib/python3.7/site-packages/pytorch_lightning/trainer/connectors/callback_connector.py:91: LightningDeprecationWarning: Setting `Trainer(progress_bar_refresh_rate=20)` is deprecated in v1.5 and will be removed in v1.7. Please pass `pytorch_lightning.callbacks.progress.TQDMProgressBar` with `refresh_rate` directly to the Trainer's `callbacks` argument instead. Or, to disable the progress bar pass `enable_progress_bar = False` to the Trainer.\n",
      "  f\"Setting `Trainer(progress_bar_refresh_rate={progress_bar_refresh_rate})` is deprecated in v1.5 and\"\n",
      "GPU available: False, used: False\n",
      "TPU available: False, using: 0 TPU cores\n",
      "IPU available: False, using: 0 IPUs\n",
      "/Users/kartik/Desktop/causal_latent_DAG/env_DAG/lib/python3.7/site-packages/pytorch_lightning/trainer/configuration_validator.py:122: UserWarning: You defined a `validation_step` but have no `val_dataloader`. Skipping val loop.\n",
      "  rank_zero_warn(\"You defined a `validation_step` but have no `val_dataloader`. Skipping val loop.\")\n",
      "\n",
      "  | Name    | Type   | Params\n",
      "-----------------------------------\n",
      "0 | linear1 | Linear | 700   \n",
      "1 | act_fn1 | ReLU   | 0     \n",
      "2 | linear2 | Linear | 10.1 K\n",
      "3 | act_fn2 | ReLU   | 0     \n",
      "4 | linear3 | Linear | 606   \n",
      "-----------------------------------\n",
      "11.4 K    Trainable params\n",
      "0         Non-trainable params\n",
      "11.4 K    Total params\n",
      "0.046     Total estimated model params size (MB)\n"
     ]
    },
    {
     "name": "stdout",
     "output_type": "stream",
     "text": [
      "layer 1/2,  condition number: 2.0009779544668853\n",
      "layer 2/2,  condition number: 1.8772225237816194\n"
     ]
    },
    {
     "name": "stderr",
     "output_type": "stream",
     "text": [
      "/Users/kartik/Desktop/causal_latent_DAG/env_DAG/lib/python3.7/site-packages/pytorch_lightning/trainer/data_loading.py:133: UserWarning: The dataloader, train_dataloader, does not have many workers which may be a bottleneck. Consider increasing the value of the `num_workers` argument` (try 8 which is the number of cpus on this machine) in the `DataLoader` init to improve performance.\n",
      "  f\"The dataloader, {name}, does not have many workers which may be a bottleneck.\"\n",
      "/Users/kartik/Desktop/causal_latent_DAG/env_DAG/lib/python3.7/site-packages/pytorch_lightning/trainer/data_loading.py:433: UserWarning: The number of training samples (1) is smaller than the logging interval Trainer(log_every_n_steps=50). Set a lower value for log_every_n_steps if you want to see logs for the training epoch.\n",
      "  f\"The number of training samples ({self.num_training_batches}) is smaller than the logging interval\"\n"
     ]
    },
    {
     "data": {
      "application/vnd.jupyter.widget-view+json": {
       "model_id": "10b1f9593602475c81683c275c35c660",
       "version_major": 2,
       "version_minor": 0
      },
      "text/plain": [
       "Training: 0it [00:00, ?it/s]"
      ]
     },
     "metadata": {},
     "output_type": "display_data"
    },
    {
     "name": "stdout",
     "output_type": "stream",
     "text": [
      "[[9.99997829e-01 3.29298808e-01 6.20985681e-05]\n",
      " [5.06065648e-01 9.99997541e-01 4.84210076e-01]\n",
      " [3.00008145e-05 3.12216169e-01 9.99998391e-01]]\n",
      "25000\n",
      "condition number threshold: 3.739169\n",
      "layer 1/2,  condition number: 3.58345508066753\n"
     ]
    },
    {
     "name": "stderr",
     "output_type": "stream",
     "text": [
      "/Users/kartik/Desktop/causal_latent_DAG/env_DAG/lib/python3.7/site-packages/pytorch_lightning/trainer/connectors/callback_connector.py:91: LightningDeprecationWarning: Setting `Trainer(progress_bar_refresh_rate=20)` is deprecated in v1.5 and will be removed in v1.7. Please pass `pytorch_lightning.callbacks.progress.TQDMProgressBar` with `refresh_rate` directly to the Trainer's `callbacks` argument instead. Or, to disable the progress bar pass `enable_progress_bar = False` to the Trainer.\n",
      "  f\"Setting `Trainer(progress_bar_refresh_rate={progress_bar_refresh_rate})` is deprecated in v1.5 and\"\n",
      "GPU available: False, used: False\n",
      "TPU available: False, using: 0 TPU cores\n",
      "IPU available: False, using: 0 IPUs\n",
      "/Users/kartik/Desktop/causal_latent_DAG/env_DAG/lib/python3.7/site-packages/pytorch_lightning/trainer/configuration_validator.py:122: UserWarning: You defined a `validation_step` but have no `val_dataloader`. Skipping val loop.\n",
      "  rank_zero_warn(\"You defined a `validation_step` but have no `val_dataloader`. Skipping val loop.\")\n",
      "\n",
      "  | Name    | Type   | Params\n",
      "-----------------------------------\n",
      "0 | linear1 | Linear | 1.1 K \n",
      "1 | act_fn1 | ReLU   | 0     \n",
      "2 | linear2 | Linear | 10.1 K\n",
      "3 | act_fn2 | ReLU   | 0     \n",
      "4 | linear3 | Linear | 1.0 K \n",
      "-----------------------------------\n",
      "12.2 K    Trainable params\n",
      "0         Non-trainable params\n",
      "12.2 K    Total params\n",
      "0.049     Total estimated model params size (MB)\n"
     ]
    },
    {
     "name": "stdout",
     "output_type": "stream",
     "text": [
      "layer 2/2,  condition number: 3.665705614212573\n"
     ]
    },
    {
     "name": "stderr",
     "output_type": "stream",
     "text": [
      "/Users/kartik/Desktop/causal_latent_DAG/env_DAG/lib/python3.7/site-packages/pytorch_lightning/trainer/data_loading.py:133: UserWarning: The dataloader, train_dataloader, does not have many workers which may be a bottleneck. Consider increasing the value of the `num_workers` argument` (try 8 which is the number of cpus on this machine) in the `DataLoader` init to improve performance.\n",
      "  f\"The dataloader, {name}, does not have many workers which may be a bottleneck.\"\n",
      "/Users/kartik/Desktop/causal_latent_DAG/env_DAG/lib/python3.7/site-packages/pytorch_lightning/trainer/data_loading.py:433: UserWarning: The number of training samples (1) is smaller than the logging interval Trainer(log_every_n_steps=50). Set a lower value for log_every_n_steps if you want to see logs for the training epoch.\n",
      "  f\"The number of training samples ({self.num_training_batches}) is smaller than the logging interval\"\n"
     ]
    },
    {
     "data": {
      "application/vnd.jupyter.widget-view+json": {
       "model_id": "7098eae880314c5291a3c47a7d7433a3",
       "version_major": 2,
       "version_minor": 0
      },
      "text/plain": [
       "Training: 0it [00:00, ?it/s]"
      ]
     },
     "metadata": {},
     "output_type": "display_data"
    },
    {
     "name": "stdout",
     "output_type": "stream",
     "text": [
      "[[9.99959696e-01 8.19152977e-01 4.47952572e-01 2.56174662e-04\n",
      "  1.98612075e-04]\n",
      " [7.52300286e-01 9.99976414e-01 4.42337727e-01 2.75491125e-04\n",
      "  3.15124489e-04]\n",
      " [6.86564301e-01 7.46643350e-01 9.99988014e-01 6.51001018e-01\n",
      "  6.46111787e-01]\n",
      " [1.24921699e-04 6.78364547e-05 3.11136237e-01 9.99975462e-01\n",
      "  7.09190510e-01]\n",
      " [7.80754365e-05 2.69006098e-04 3.10401484e-01 7.10826791e-01\n",
      "  9.99947847e-01]]\n",
      "25000\n",
      "condition number threshold: 3.929714\n",
      "layer 1/2,  condition number: 3.51320888474529\n"
     ]
    },
    {
     "name": "stderr",
     "output_type": "stream",
     "text": [
      "/Users/kartik/Desktop/causal_latent_DAG/env_DAG/lib/python3.7/site-packages/pytorch_lightning/trainer/connectors/callback_connector.py:91: LightningDeprecationWarning: Setting `Trainer(progress_bar_refresh_rate=20)` is deprecated in v1.5 and will be removed in v1.7. Please pass `pytorch_lightning.callbacks.progress.TQDMProgressBar` with `refresh_rate` directly to the Trainer's `callbacks` argument instead. Or, to disable the progress bar pass `enable_progress_bar = False` to the Trainer.\n",
      "  f\"Setting `Trainer(progress_bar_refresh_rate={progress_bar_refresh_rate})` is deprecated in v1.5 and\"\n",
      "GPU available: False, used: False\n",
      "TPU available: False, using: 0 TPU cores\n",
      "IPU available: False, using: 0 IPUs\n",
      "/Users/kartik/Desktop/causal_latent_DAG/env_DAG/lib/python3.7/site-packages/pytorch_lightning/trainer/configuration_validator.py:122: UserWarning: You defined a `validation_step` but have no `val_dataloader`. Skipping val loop.\n",
      "  rank_zero_warn(\"You defined a `validation_step` but have no `val_dataloader`. Skipping val loop.\")\n",
      "\n",
      "  | Name    | Type   | Params\n",
      "-----------------------------------\n",
      "0 | linear1 | Linear | 1.1 K \n",
      "1 | act_fn1 | ReLU   | 0     \n",
      "2 | linear2 | Linear | 10.1 K\n",
      "3 | act_fn2 | ReLU   | 0     \n",
      "4 | linear3 | Linear | 1.0 K \n",
      "-----------------------------------\n",
      "12.2 K    Trainable params\n",
      "0         Non-trainable params\n",
      "12.2 K    Total params\n",
      "0.049     Total estimated model params size (MB)\n"
     ]
    },
    {
     "name": "stdout",
     "output_type": "stream",
     "text": [
      "layer 2/2,  condition number: 3.8597700687526597\n"
     ]
    },
    {
     "name": "stderr",
     "output_type": "stream",
     "text": [
      "/Users/kartik/Desktop/causal_latent_DAG/env_DAG/lib/python3.7/site-packages/pytorch_lightning/trainer/data_loading.py:133: UserWarning: The dataloader, train_dataloader, does not have many workers which may be a bottleneck. Consider increasing the value of the `num_workers` argument` (try 8 which is the number of cpus on this machine) in the `DataLoader` init to improve performance.\n",
      "  f\"The dataloader, {name}, does not have many workers which may be a bottleneck.\"\n",
      "/Users/kartik/Desktop/causal_latent_DAG/env_DAG/lib/python3.7/site-packages/pytorch_lightning/trainer/data_loading.py:433: UserWarning: The number of training samples (1) is smaller than the logging interval Trainer(log_every_n_steps=50). Set a lower value for log_every_n_steps if you want to see logs for the training epoch.\n",
      "  f\"The number of training samples ({self.num_training_batches}) is smaller than the logging interval\"\n"
     ]
    },
    {
     "data": {
      "application/vnd.jupyter.widget-view+json": {
       "model_id": "fd9c4e4e051e41e0ae87a4456ae519a1",
       "version_major": 2,
       "version_minor": 0
      },
      "text/plain": [
       "Training: 0it [00:00, ?it/s]"
      ]
     },
     "metadata": {},
     "output_type": "display_data"
    },
    {
     "name": "stdout",
     "output_type": "stream",
     "text": [
      "[[9.99990236e-01 8.21522776e-01 4.44063613e-01 7.59222747e-04\n",
      "  3.49429770e-04]\n",
      " [7.52906758e-01 9.99995204e-01 4.41254640e-01 7.39376070e-04\n",
      "  6.60709003e-04]\n",
      " [6.87863822e-01 7.44900181e-01 9.99994798e-01 6.31755740e-01\n",
      "  6.25573540e-01]\n",
      " [9.24679405e-04 8.18124800e-04 3.00292563e-01 9.99966217e-01\n",
      "  6.81479627e-01]\n",
      " [6.76287129e-04 8.77941473e-04 3.00557727e-01 6.88316643e-01\n",
      "  9.99875630e-01]]\n",
      "25000\n",
      "condition number threshold: 3.931544\n",
      "layer 1/2,  condition number: 3.695511283308994\n"
     ]
    },
    {
     "name": "stderr",
     "output_type": "stream",
     "text": [
      "/Users/kartik/Desktop/causal_latent_DAG/env_DAG/lib/python3.7/site-packages/pytorch_lightning/trainer/connectors/callback_connector.py:91: LightningDeprecationWarning: Setting `Trainer(progress_bar_refresh_rate=20)` is deprecated in v1.5 and will be removed in v1.7. Please pass `pytorch_lightning.callbacks.progress.TQDMProgressBar` with `refresh_rate` directly to the Trainer's `callbacks` argument instead. Or, to disable the progress bar pass `enable_progress_bar = False` to the Trainer.\n",
      "  f\"Setting `Trainer(progress_bar_refresh_rate={progress_bar_refresh_rate})` is deprecated in v1.5 and\"\n",
      "GPU available: False, used: False\n",
      "TPU available: False, using: 0 TPU cores\n",
      "IPU available: False, using: 0 IPUs\n",
      "/Users/kartik/Desktop/causal_latent_DAG/env_DAG/lib/python3.7/site-packages/pytorch_lightning/trainer/configuration_validator.py:122: UserWarning: You defined a `validation_step` but have no `val_dataloader`. Skipping val loop.\n",
      "  rank_zero_warn(\"You defined a `validation_step` but have no `val_dataloader`. Skipping val loop.\")\n",
      "\n",
      "  | Name    | Type   | Params\n",
      "-----------------------------------\n",
      "0 | linear1 | Linear | 1.1 K \n",
      "1 | act_fn1 | ReLU   | 0     \n",
      "2 | linear2 | Linear | 10.1 K\n",
      "3 | act_fn2 | ReLU   | 0     \n",
      "4 | linear3 | Linear | 1.0 K \n",
      "-----------------------------------\n",
      "12.2 K    Trainable params\n",
      "0         Non-trainable params\n",
      "12.2 K    Total params\n",
      "0.049     Total estimated model params size (MB)\n"
     ]
    },
    {
     "name": "stdout",
     "output_type": "stream",
     "text": [
      "layer 2/2,  condition number: 3.511720474433701\n"
     ]
    },
    {
     "name": "stderr",
     "output_type": "stream",
     "text": [
      "/Users/kartik/Desktop/causal_latent_DAG/env_DAG/lib/python3.7/site-packages/pytorch_lightning/trainer/data_loading.py:133: UserWarning: The dataloader, train_dataloader, does not have many workers which may be a bottleneck. Consider increasing the value of the `num_workers` argument` (try 8 which is the number of cpus on this machine) in the `DataLoader` init to improve performance.\n",
      "  f\"The dataloader, {name}, does not have many workers which may be a bottleneck.\"\n",
      "/Users/kartik/Desktop/causal_latent_DAG/env_DAG/lib/python3.7/site-packages/pytorch_lightning/trainer/data_loading.py:433: UserWarning: The number of training samples (1) is smaller than the logging interval Trainer(log_every_n_steps=50). Set a lower value for log_every_n_steps if you want to see logs for the training epoch.\n",
      "  f\"The number of training samples ({self.num_training_batches}) is smaller than the logging interval\"\n"
     ]
    },
    {
     "data": {
      "application/vnd.jupyter.widget-view+json": {
       "model_id": "f2441abfe33f47c1b48f5ed86c656fd4",
       "version_major": 2,
       "version_minor": 0
      },
      "text/plain": [
       "Training: 0it [00:00, ?it/s]"
      ]
     },
     "metadata": {},
     "output_type": "display_data"
    },
    {
     "name": "stdout",
     "output_type": "stream",
     "text": [
      "[[9.99978232e-01 8.29221218e-01 4.59213004e-01 6.21121173e-05\n",
      "  7.27503500e-05]\n",
      " [7.59708505e-01 9.99997186e-01 4.56617457e-01 1.20465625e-04\n",
      "  5.48730737e-05]\n",
      " [7.01965045e-01 7.63766052e-01 9.99996744e-01 6.39714888e-01\n",
      "  6.41600165e-01]\n",
      " [6.12966623e-05 4.22205617e-05 3.03768675e-01 9.99994721e-01\n",
      "  6.90878436e-01]\n",
      " [3.89853203e-05 3.04621295e-05 3.04838441e-01 6.97239921e-01\n",
      "  9.99978028e-01]]\n",
      "25000\n",
      "condition number threshold: 3.371969\n",
      "layer 1/2,  condition number: 3.260558218625193\n"
     ]
    },
    {
     "name": "stderr",
     "output_type": "stream",
     "text": [
      "/Users/kartik/Desktop/causal_latent_DAG/env_DAG/lib/python3.7/site-packages/pytorch_lightning/trainer/connectors/callback_connector.py:91: LightningDeprecationWarning: Setting `Trainer(progress_bar_refresh_rate=20)` is deprecated in v1.5 and will be removed in v1.7. Please pass `pytorch_lightning.callbacks.progress.TQDMProgressBar` with `refresh_rate` directly to the Trainer's `callbacks` argument instead. Or, to disable the progress bar pass `enable_progress_bar = False` to the Trainer.\n",
      "  f\"Setting `Trainer(progress_bar_refresh_rate={progress_bar_refresh_rate})` is deprecated in v1.5 and\"\n",
      "GPU available: False, used: False\n",
      "TPU available: False, using: 0 TPU cores\n",
      "IPU available: False, using: 0 IPUs\n",
      "/Users/kartik/Desktop/causal_latent_DAG/env_DAG/lib/python3.7/site-packages/pytorch_lightning/trainer/configuration_validator.py:122: UserWarning: You defined a `validation_step` but have no `val_dataloader`. Skipping val loop.\n",
      "  rank_zero_warn(\"You defined a `validation_step` but have no `val_dataloader`. Skipping val loop.\")\n",
      "\n",
      "  | Name    | Type   | Params\n",
      "-----------------------------------\n",
      "0 | linear1 | Linear | 1.1 K \n",
      "1 | act_fn1 | ReLU   | 0     \n",
      "2 | linear2 | Linear | 10.1 K\n",
      "3 | act_fn2 | ReLU   | 0     \n",
      "4 | linear3 | Linear | 1.0 K \n",
      "-----------------------------------\n",
      "12.2 K    Trainable params\n",
      "0         Non-trainable params\n",
      "12.2 K    Total params\n",
      "0.049     Total estimated model params size (MB)\n"
     ]
    },
    {
     "name": "stdout",
     "output_type": "stream",
     "text": [
      "layer 2/2,  condition number: 2.9734475805485077\n"
     ]
    },
    {
     "name": "stderr",
     "output_type": "stream",
     "text": [
      "/Users/kartik/Desktop/causal_latent_DAG/env_DAG/lib/python3.7/site-packages/pytorch_lightning/trainer/data_loading.py:133: UserWarning: The dataloader, train_dataloader, does not have many workers which may be a bottleneck. Consider increasing the value of the `num_workers` argument` (try 8 which is the number of cpus on this machine) in the `DataLoader` init to improve performance.\n",
      "  f\"The dataloader, {name}, does not have many workers which may be a bottleneck.\"\n",
      "/Users/kartik/Desktop/causal_latent_DAG/env_DAG/lib/python3.7/site-packages/pytorch_lightning/trainer/data_loading.py:433: UserWarning: The number of training samples (1) is smaller than the logging interval Trainer(log_every_n_steps=50). Set a lower value for log_every_n_steps if you want to see logs for the training epoch.\n",
      "  f\"The number of training samples ({self.num_training_batches}) is smaller than the logging interval\"\n"
     ]
    },
    {
     "data": {
      "application/vnd.jupyter.widget-view+json": {
       "model_id": "dedeb6d7ae3944c9a804a9a5bca24fd4",
       "version_major": 2,
       "version_minor": 0
      },
      "text/plain": [
       "Training: 0it [00:00, ?it/s]"
      ]
     },
     "metadata": {},
     "output_type": "display_data"
    },
    {
     "name": "stdout",
     "output_type": "stream",
     "text": [
      "[[9.99997152e-01 8.20719195e-01 4.52624785e-01 1.19097958e-04\n",
      "  1.90369163e-04]\n",
      " [7.54363370e-01 9.99999360e-01 4.50241443e-01 1.97742012e-04\n",
      "  3.71001686e-04]\n",
      " [6.97432736e-01 7.57614896e-01 9.99993933e-01 6.39941932e-01\n",
      "  6.39985391e-01]\n",
      " [1.16560517e-04 1.73937675e-04 3.04006082e-01 9.99999526e-01\n",
      "  6.96485422e-01]\n",
      " [5.42047144e-04 1.05913885e-03 3.06750442e-01 7.04950901e-01\n",
      "  9.99988700e-01]]\n",
      "25000\n",
      "condition number threshold: 3.773191\n",
      "layer 1/2,  condition number: 3.6628370759174658\n"
     ]
    },
    {
     "name": "stderr",
     "output_type": "stream",
     "text": [
      "/Users/kartik/Desktop/causal_latent_DAG/env_DAG/lib/python3.7/site-packages/pytorch_lightning/trainer/connectors/callback_connector.py:91: LightningDeprecationWarning: Setting `Trainer(progress_bar_refresh_rate=20)` is deprecated in v1.5 and will be removed in v1.7. Please pass `pytorch_lightning.callbacks.progress.TQDMProgressBar` with `refresh_rate` directly to the Trainer's `callbacks` argument instead. Or, to disable the progress bar pass `enable_progress_bar = False` to the Trainer.\n",
      "  f\"Setting `Trainer(progress_bar_refresh_rate={progress_bar_refresh_rate})` is deprecated in v1.5 and\"\n",
      "GPU available: False, used: False\n",
      "TPU available: False, using: 0 TPU cores\n",
      "IPU available: False, using: 0 IPUs\n",
      "/Users/kartik/Desktop/causal_latent_DAG/env_DAG/lib/python3.7/site-packages/pytorch_lightning/trainer/configuration_validator.py:122: UserWarning: You defined a `validation_step` but have no `val_dataloader`. Skipping val loop.\n",
      "  rank_zero_warn(\"You defined a `validation_step` but have no `val_dataloader`. Skipping val loop.\")\n",
      "\n",
      "  | Name    | Type   | Params\n",
      "-----------------------------------\n",
      "0 | linear1 | Linear | 1.1 K \n",
      "1 | act_fn1 | ReLU   | 0     \n",
      "2 | linear2 | Linear | 10.1 K\n",
      "3 | act_fn2 | ReLU   | 0     \n",
      "4 | linear3 | Linear | 1.0 K \n",
      "-----------------------------------\n",
      "12.2 K    Trainable params\n",
      "0         Non-trainable params\n",
      "12.2 K    Total params\n",
      "0.049     Total estimated model params size (MB)\n"
     ]
    },
    {
     "name": "stdout",
     "output_type": "stream",
     "text": [
      "layer 2/2,  condition number: 3.7640373910070166\n"
     ]
    },
    {
     "name": "stderr",
     "output_type": "stream",
     "text": [
      "/Users/kartik/Desktop/causal_latent_DAG/env_DAG/lib/python3.7/site-packages/pytorch_lightning/trainer/data_loading.py:133: UserWarning: The dataloader, train_dataloader, does not have many workers which may be a bottleneck. Consider increasing the value of the `num_workers` argument` (try 8 which is the number of cpus on this machine) in the `DataLoader` init to improve performance.\n",
      "  f\"The dataloader, {name}, does not have many workers which may be a bottleneck.\"\n",
      "/Users/kartik/Desktop/causal_latent_DAG/env_DAG/lib/python3.7/site-packages/pytorch_lightning/trainer/data_loading.py:433: UserWarning: The number of training samples (1) is smaller than the logging interval Trainer(log_every_n_steps=50). Set a lower value for log_every_n_steps if you want to see logs for the training epoch.\n",
      "  f\"The number of training samples ({self.num_training_batches}) is smaller than the logging interval\"\n"
     ]
    },
    {
     "data": {
      "application/vnd.jupyter.widget-view+json": {
       "model_id": "7834f97464234ac9ad4639c2c85c4822",
       "version_major": 2,
       "version_minor": 0
      },
      "text/plain": [
       "Training: 0it [00:00, ?it/s]"
      ]
     },
     "metadata": {},
     "output_type": "display_data"
    },
    {
     "name": "stdout",
     "output_type": "stream",
     "text": [
      "[[9.99978341e-01 8.24911191e-01 4.57432978e-01 2.53995863e-04\n",
      "  3.69111174e-04]\n",
      " [7.63056158e-01 9.99990137e-01 4.55460804e-01 1.75146183e-04\n",
      "  4.60203982e-04]\n",
      " [6.99662848e-01 7.50408590e-01 9.99986703e-01 6.38730149e-01\n",
      "  6.36899241e-01]\n",
      " [3.00174290e-04 2.33945474e-04 2.99675170e-01 9.99981008e-01\n",
      "  7.02706483e-01]\n",
      " [7.29776914e-04 6.40969225e-04 3.04035274e-01 7.06952209e-01\n",
      "  9.99987927e-01]]\n",
      "25000\n",
      "condition number threshold: 9.226555\n",
      "layer 1/2,  condition number: 8.926555780966963\n"
     ]
    },
    {
     "name": "stderr",
     "output_type": "stream",
     "text": [
      "/Users/kartik/Desktop/causal_latent_DAG/env_DAG/lib/python3.7/site-packages/pytorch_lightning/trainer/connectors/callback_connector.py:91: LightningDeprecationWarning: Setting `Trainer(progress_bar_refresh_rate=20)` is deprecated in v1.5 and will be removed in v1.7. Please pass `pytorch_lightning.callbacks.progress.TQDMProgressBar` with `refresh_rate` directly to the Trainer's `callbacks` argument instead. Or, to disable the progress bar pass `enable_progress_bar = False` to the Trainer.\n",
      "  f\"Setting `Trainer(progress_bar_refresh_rate={progress_bar_refresh_rate})` is deprecated in v1.5 and\"\n",
      "GPU available: False, used: False\n",
      "TPU available: False, using: 0 TPU cores\n",
      "IPU available: False, using: 0 IPUs\n",
      "/Users/kartik/Desktop/causal_latent_DAG/env_DAG/lib/python3.7/site-packages/pytorch_lightning/trainer/configuration_validator.py:122: UserWarning: You defined a `validation_step` but have no `val_dataloader`. Skipping val loop.\n",
      "  rank_zero_warn(\"You defined a `validation_step` but have no `val_dataloader`. Skipping val loop.\")\n",
      "\n",
      "  | Name    | Type   | Params\n",
      "-----------------------------------\n",
      "0 | linear1 | Linear | 2.1 K \n",
      "1 | act_fn1 | ReLU   | 0     \n",
      "2 | linear2 | Linear | 10.1 K\n",
      "3 | act_fn2 | ReLU   | 0     \n",
      "4 | linear3 | Linear | 2.0 K \n",
      "-----------------------------------\n",
      "14.2 K    Trainable params\n",
      "0         Non-trainable params\n",
      "14.2 K    Total params\n",
      "0.057     Total estimated model params size (MB)\n"
     ]
    },
    {
     "name": "stdout",
     "output_type": "stream",
     "text": [
      "layer 2/2,  condition number: 8.13241836003153\n"
     ]
    },
    {
     "name": "stderr",
     "output_type": "stream",
     "text": [
      "/Users/kartik/Desktop/causal_latent_DAG/env_DAG/lib/python3.7/site-packages/pytorch_lightning/trainer/data_loading.py:133: UserWarning: The dataloader, train_dataloader, does not have many workers which may be a bottleneck. Consider increasing the value of the `num_workers` argument` (try 8 which is the number of cpus on this machine) in the `DataLoader` init to improve performance.\n",
      "  f\"The dataloader, {name}, does not have many workers which may be a bottleneck.\"\n",
      "/Users/kartik/Desktop/causal_latent_DAG/env_DAG/lib/python3.7/site-packages/pytorch_lightning/trainer/data_loading.py:433: UserWarning: The number of training samples (1) is smaller than the logging interval Trainer(log_every_n_steps=50). Set a lower value for log_every_n_steps if you want to see logs for the training epoch.\n",
      "  f\"The number of training samples ({self.num_training_batches}) is smaller than the logging interval\"\n"
     ]
    },
    {
     "data": {
      "application/vnd.jupyter.widget-view+json": {
       "model_id": "be90d6ebdc3e4c0fb12789def74bb847",
       "version_major": 2,
       "version_minor": 0
      },
      "text/plain": [
       "Training: 0it [00:00, ?it/s]"
      ]
     },
     "metadata": {},
     "output_type": "display_data"
    },
    {
     "name": "stdout",
     "output_type": "stream",
     "text": [
      "[[9.99625244e-01 7.61121415e-01 8.14336772e-01 8.32626627e-01\n",
      "  8.20545752e-01 6.84050115e-04 4.10663355e-05 2.11757504e-04\n",
      "  7.53371952e-04 2.43826818e-04]\n",
      " [8.01127767e-01 9.96995242e-01 8.14055790e-01 8.31098009e-01\n",
      "  8.10048390e-01 2.80052829e-03 1.04618475e-03 1.00503491e-03\n",
      "  3.41292144e-03 1.72086443e-03]\n",
      " [8.03508638e-01 7.61919785e-01 9.99488488e-01 8.33155667e-01\n",
      "  8.13205630e-01 6.27410087e-04 4.12224720e-04 1.18576815e-04\n",
      "  6.65986018e-04 2.26859899e-04]\n",
      " [8.05888871e-01 7.61579143e-01 8.16357392e-01 9.99837394e-01\n",
      "  8.12080745e-01 1.27730711e-03 1.23351442e-04 6.47763168e-04\n",
      "  1.05389548e-03 6.09994556e-04]\n",
      " [8.05290784e-01 7.62236472e-01 8.15525690e-01 8.33254777e-01\n",
      "  9.98335284e-01 1.17096494e-03 8.38749537e-05 2.75694602e-04\n",
      "  1.52114868e-03 3.19727484e-04]\n",
      " [7.59893934e-04 3.09345288e-03 4.60050308e-04 5.82191856e-05\n",
      "  7.68485932e-04 9.98123073e-01 8.39973675e-01 7.75576716e-01\n",
      "  8.81849207e-01 8.58234419e-01]\n",
      " [5.79677745e-04 2.88192671e-03 2.56097733e-04 1.25371742e-04\n",
      "  1.37720655e-03 8.26503644e-01 9.99559040e-01 7.76516344e-01\n",
      "  8.87139269e-01 8.58967743e-01]\n",
      " [5.71330591e-04 2.65499771e-03 2.06924810e-04 9.22270709e-05\n",
      "  1.08283396e-03 8.22601930e-01 8.38303652e-01 9.99440872e-01\n",
      "  8.84766278e-01 8.59668641e-01]\n",
      " [8.21332961e-04 2.91004829e-03 5.45662794e-04 1.46565301e-04\n",
      "  1.37049838e-03 8.23647396e-01 8.39716373e-01 7.74315480e-01\n",
      "  9.97584224e-01 8.59252996e-01]\n",
      " [6.58097239e-04 3.35233377e-03 3.76988771e-04 3.74456990e-05\n",
      "  7.79933312e-04 8.20246880e-01 8.35483380e-01 7.74088450e-01\n",
      "  8.82901960e-01 9.99326627e-01]]\n",
      "25000\n",
      "condition number threshold: 8.564319\n",
      "layer 1/2,  condition number: 7.855197875809685\n"
     ]
    },
    {
     "name": "stderr",
     "output_type": "stream",
     "text": [
      "/Users/kartik/Desktop/causal_latent_DAG/env_DAG/lib/python3.7/site-packages/pytorch_lightning/trainer/connectors/callback_connector.py:91: LightningDeprecationWarning: Setting `Trainer(progress_bar_refresh_rate=20)` is deprecated in v1.5 and will be removed in v1.7. Please pass `pytorch_lightning.callbacks.progress.TQDMProgressBar` with `refresh_rate` directly to the Trainer's `callbacks` argument instead. Or, to disable the progress bar pass `enable_progress_bar = False` to the Trainer.\n",
      "  f\"Setting `Trainer(progress_bar_refresh_rate={progress_bar_refresh_rate})` is deprecated in v1.5 and\"\n",
      "GPU available: False, used: False\n",
      "TPU available: False, using: 0 TPU cores\n",
      "IPU available: False, using: 0 IPUs\n",
      "/Users/kartik/Desktop/causal_latent_DAG/env_DAG/lib/python3.7/site-packages/pytorch_lightning/trainer/configuration_validator.py:122: UserWarning: You defined a `validation_step` but have no `val_dataloader`. Skipping val loop.\n",
      "  rank_zero_warn(\"You defined a `validation_step` but have no `val_dataloader`. Skipping val loop.\")\n",
      "\n",
      "  | Name    | Type   | Params\n",
      "-----------------------------------\n",
      "0 | linear1 | Linear | 2.1 K \n",
      "1 | act_fn1 | ReLU   | 0     \n",
      "2 | linear2 | Linear | 10.1 K\n",
      "3 | act_fn2 | ReLU   | 0     \n",
      "4 | linear3 | Linear | 2.0 K \n",
      "-----------------------------------\n",
      "14.2 K    Trainable params\n",
      "0         Non-trainable params\n",
      "14.2 K    Total params\n",
      "0.057     Total estimated model params size (MB)\n"
     ]
    },
    {
     "name": "stdout",
     "output_type": "stream",
     "text": [
      "layer 2/2,  condition number: 8.023959344293305\n"
     ]
    },
    {
     "name": "stderr",
     "output_type": "stream",
     "text": [
      "/Users/kartik/Desktop/causal_latent_DAG/env_DAG/lib/python3.7/site-packages/pytorch_lightning/trainer/data_loading.py:133: UserWarning: The dataloader, train_dataloader, does not have many workers which may be a bottleneck. Consider increasing the value of the `num_workers` argument` (try 8 which is the number of cpus on this machine) in the `DataLoader` init to improve performance.\n",
      "  f\"The dataloader, {name}, does not have many workers which may be a bottleneck.\"\n",
      "/Users/kartik/Desktop/causal_latent_DAG/env_DAG/lib/python3.7/site-packages/pytorch_lightning/trainer/data_loading.py:433: UserWarning: The number of training samples (1) is smaller than the logging interval Trainer(log_every_n_steps=50). Set a lower value for log_every_n_steps if you want to see logs for the training epoch.\n",
      "  f\"The number of training samples ({self.num_training_batches}) is smaller than the logging interval\"\n"
     ]
    },
    {
     "data": {
      "application/vnd.jupyter.widget-view+json": {
       "model_id": "787a9dc4b9654e729bae108e0dea0bb3",
       "version_major": 2,
       "version_minor": 0
      },
      "text/plain": [
       "Training: 0it [00:00, ?it/s]"
      ]
     },
     "metadata": {},
     "output_type": "display_data"
    },
    {
     "name": "stdout",
     "output_type": "stream",
     "text": [
      "[[9.93942933e-01 7.60208575e-01 8.16423863e-01 8.25481588e-01\n",
      "  8.10413183e-01 1.26888865e-03 2.26708196e-03 1.98363463e-03\n",
      "  6.60521224e-04 2.72648747e-03]\n",
      " [7.86898996e-01 9.98717332e-01 8.15057698e-01 8.25328161e-01\n",
      "  8.10391182e-01 1.00402848e-03 1.84813946e-03 1.89948137e-03\n",
      "  5.43348940e-04 1.81800156e-03]\n",
      " [7.87205852e-01 7.58661654e-01 9.99194056e-01 8.28928433e-01\n",
      "  8.09399001e-01 9.45280308e-04 1.63498776e-03 1.79775105e-03\n",
      "  6.13375026e-04 1.79608776e-03]\n",
      " [7.86944099e-01 7.59221802e-01 8.17100858e-01 9.96587324e-01\n",
      "  8.09703862e-01 2.57462987e-03 2.70410886e-03 3.02037213e-03\n",
      "  9.13471257e-04 3.81595853e-03]\n",
      " [7.82746393e-01 7.59592638e-01 8.14755060e-01 8.28123487e-01\n",
      "  9.97526373e-01 9.07457515e-04 1.76615855e-03 1.60900029e-03\n",
      "  5.63959052e-04 1.87866034e-03]\n",
      " [3.59483522e-03 6.71695546e-04 5.97502828e-04 3.39855781e-03\n",
      "  1.32236176e-03 9.98272546e-01 8.37913744e-01 7.75847941e-01\n",
      "  8.90821792e-01 8.58932243e-01]\n",
      " [3.97623606e-03 9.10324458e-04 5.36950271e-04 3.34189275e-03\n",
      "  1.29461004e-03 8.25856752e-01 9.97354110e-01 7.75570377e-01\n",
      "  8.91152855e-01 8.60539176e-01]\n",
      " [3.68879405e-03 8.81500615e-04 6.30867705e-04 3.49497060e-03\n",
      "  1.09338712e-03 8.22246936e-01 8.39519551e-01 9.97346806e-01\n",
      "  8.92336115e-01 8.61397397e-01]\n",
      " [3.84830511e-03 7.74510694e-04 5.43170464e-04 3.69270238e-03\n",
      "  1.45345100e-03 8.22684461e-01 8.39802018e-01 7.75441252e-01\n",
      "  9.98623504e-01 8.57117005e-01]\n",
      " [3.93551880e-03 6.54383550e-04 4.77833316e-04 2.83737753e-03\n",
      "  8.75992295e-04 8.25069936e-01 8.37543228e-01 7.75126132e-01\n",
      "  8.87534509e-01 9.97758995e-01]]\n",
      "25000\n",
      "condition number threshold: 8.703380\n",
      "layer 1/2,  condition number: 8.516231423574743\n"
     ]
    },
    {
     "name": "stderr",
     "output_type": "stream",
     "text": [
      "/Users/kartik/Desktop/causal_latent_DAG/env_DAG/lib/python3.7/site-packages/pytorch_lightning/trainer/connectors/callback_connector.py:91: LightningDeprecationWarning: Setting `Trainer(progress_bar_refresh_rate=20)` is deprecated in v1.5 and will be removed in v1.7. Please pass `pytorch_lightning.callbacks.progress.TQDMProgressBar` with `refresh_rate` directly to the Trainer's `callbacks` argument instead. Or, to disable the progress bar pass `enable_progress_bar = False` to the Trainer.\n",
      "  f\"Setting `Trainer(progress_bar_refresh_rate={progress_bar_refresh_rate})` is deprecated in v1.5 and\"\n",
      "GPU available: False, used: False\n",
      "TPU available: False, using: 0 TPU cores\n",
      "IPU available: False, using: 0 IPUs\n",
      "/Users/kartik/Desktop/causal_latent_DAG/env_DAG/lib/python3.7/site-packages/pytorch_lightning/trainer/configuration_validator.py:122: UserWarning: You defined a `validation_step` but have no `val_dataloader`. Skipping val loop.\n",
      "  rank_zero_warn(\"You defined a `validation_step` but have no `val_dataloader`. Skipping val loop.\")\n",
      "\n",
      "  | Name    | Type   | Params\n",
      "-----------------------------------\n",
      "0 | linear1 | Linear | 2.1 K \n",
      "1 | act_fn1 | ReLU   | 0     \n",
      "2 | linear2 | Linear | 10.1 K\n",
      "3 | act_fn2 | ReLU   | 0     \n",
      "4 | linear3 | Linear | 2.0 K \n",
      "-----------------------------------\n",
      "14.2 K    Trainable params\n",
      "0         Non-trainable params\n",
      "14.2 K    Total params\n",
      "0.057     Total estimated model params size (MB)\n"
     ]
    },
    {
     "name": "stdout",
     "output_type": "stream",
     "text": [
      "layer 2/2,  condition number: 7.203955581445388\n"
     ]
    },
    {
     "name": "stderr",
     "output_type": "stream",
     "text": [
      "/Users/kartik/Desktop/causal_latent_DAG/env_DAG/lib/python3.7/site-packages/pytorch_lightning/trainer/data_loading.py:133: UserWarning: The dataloader, train_dataloader, does not have many workers which may be a bottleneck. Consider increasing the value of the `num_workers` argument` (try 8 which is the number of cpus on this machine) in the `DataLoader` init to improve performance.\n",
      "  f\"The dataloader, {name}, does not have many workers which may be a bottleneck.\"\n",
      "/Users/kartik/Desktop/causal_latent_DAG/env_DAG/lib/python3.7/site-packages/pytorch_lightning/trainer/data_loading.py:433: UserWarning: The number of training samples (1) is smaller than the logging interval Trainer(log_every_n_steps=50). Set a lower value for log_every_n_steps if you want to see logs for the training epoch.\n",
      "  f\"The number of training samples ({self.num_training_batches}) is smaller than the logging interval\"\n"
     ]
    },
    {
     "data": {
      "application/vnd.jupyter.widget-view+json": {
       "model_id": "87548590d8814fb796da8b5043c26b8c",
       "version_major": 2,
       "version_minor": 0
      },
      "text/plain": [
       "Training: 0it [00:00, ?it/s]"
      ]
     },
     "metadata": {},
     "output_type": "display_data"
    },
    {
     "name": "stdout",
     "output_type": "stream",
     "text": [
      "[[9.95343064e-01 7.45304667e-01 8.06583394e-01 8.23641696e-01\n",
      "  8.07861268e-01 7.20744520e-04 4.04626918e-04 1.03260737e-03\n",
      "  2.69301670e-04 2.77084221e-04]\n",
      " [7.84688172e-01 9.98666544e-01 8.06158193e-01 8.26440268e-01\n",
      "  8.10600410e-01 3.79821198e-04 3.16140463e-04 1.21504273e-03\n",
      "  9.11234600e-05 1.90665443e-04]\n",
      " [7.85358035e-01 7.46521169e-01 9.99379760e-01 8.24539922e-01\n",
      "  8.10233156e-01 3.59201286e-04 3.54659421e-04 9.54781310e-04\n",
      "  1.70650339e-04 1.77650260e-04]\n",
      " [7.82865612e-01 7.46959516e-01 8.05950932e-01 9.99875660e-01\n",
      "  8.08054542e-01 6.63742974e-04 4.48507058e-04 1.18151528e-03\n",
      "  2.92268577e-04 2.90068493e-04]\n",
      " [7.86134446e-01 7.47470589e-01 8.07802573e-01 8.27529792e-01\n",
      "  9.98907857e-01 6.33951786e-04 4.01342190e-04 1.07841557e-03\n",
      "  2.03058951e-04 2.19675202e-04]\n",
      " [4.23104825e-03 1.05289893e-03 5.16436067e-04 3.26617691e-04\n",
      "  1.03644526e-03 9.99260640e-01 8.36109264e-01 7.66223836e-01\n",
      "  8.86454474e-01 8.54829921e-01]\n",
      " [5.14030132e-03 1.00276959e-03 5.10762873e-04 3.50783511e-04\n",
      "  3.11568579e-04 8.09270339e-01 9.99446330e-01 7.64946835e-01\n",
      "  8.85121660e-01 8.55630741e-01]\n",
      " [5.38752035e-03 1.39972954e-03 4.33702824e-04 4.49893427e-04\n",
      "  3.93146399e-04 8.07020705e-01 8.32920873e-01 9.98236117e-01\n",
      "  8.85072407e-01 8.55697868e-01]\n",
      " [5.15901356e-03 1.07942837e-03 5.16835817e-04 3.37640084e-04\n",
      "  3.25386056e-04 8.06127614e-01 8.32842807e-01 7.63848114e-01\n",
      "  9.99953092e-01 8.53652379e-01]\n",
      " [5.53349878e-03 1.45187749e-03 7.34393572e-04 6.99139177e-04\n",
      "  3.08702887e-04 8.02829524e-01 8.30448033e-01 7.63178033e-01\n",
      "  8.80868197e-01 9.99772149e-01]]\n",
      "25000\n",
      "condition number threshold: 9.834068\n",
      "layer 1/2,  condition number: 9.627120939181108\n"
     ]
    },
    {
     "name": "stderr",
     "output_type": "stream",
     "text": [
      "/Users/kartik/Desktop/causal_latent_DAG/env_DAG/lib/python3.7/site-packages/pytorch_lightning/trainer/connectors/callback_connector.py:91: LightningDeprecationWarning: Setting `Trainer(progress_bar_refresh_rate=20)` is deprecated in v1.5 and will be removed in v1.7. Please pass `pytorch_lightning.callbacks.progress.TQDMProgressBar` with `refresh_rate` directly to the Trainer's `callbacks` argument instead. Or, to disable the progress bar pass `enable_progress_bar = False` to the Trainer.\n",
      "  f\"Setting `Trainer(progress_bar_refresh_rate={progress_bar_refresh_rate})` is deprecated in v1.5 and\"\n",
      "GPU available: False, used: False\n",
      "TPU available: False, using: 0 TPU cores\n",
      "IPU available: False, using: 0 IPUs\n",
      "/Users/kartik/Desktop/causal_latent_DAG/env_DAG/lib/python3.7/site-packages/pytorch_lightning/trainer/configuration_validator.py:122: UserWarning: You defined a `validation_step` but have no `val_dataloader`. Skipping val loop.\n",
      "  rank_zero_warn(\"You defined a `validation_step` but have no `val_dataloader`. Skipping val loop.\")\n",
      "\n",
      "  | Name    | Type   | Params\n",
      "-----------------------------------\n",
      "0 | linear1 | Linear | 2.1 K \n",
      "1 | act_fn1 | ReLU   | 0     \n",
      "2 | linear2 | Linear | 10.1 K\n",
      "3 | act_fn2 | ReLU   | 0     \n",
      "4 | linear3 | Linear | 2.0 K \n",
      "-----------------------------------\n",
      "14.2 K    Trainable params\n",
      "0         Non-trainable params\n",
      "14.2 K    Total params\n",
      "0.057     Total estimated model params size (MB)\n"
     ]
    },
    {
     "name": "stdout",
     "output_type": "stream",
     "text": [
      "layer 2/2,  condition number: 9.21781394406336\n"
     ]
    },
    {
     "name": "stderr",
     "output_type": "stream",
     "text": [
      "/Users/kartik/Desktop/causal_latent_DAG/env_DAG/lib/python3.7/site-packages/pytorch_lightning/trainer/data_loading.py:133: UserWarning: The dataloader, train_dataloader, does not have many workers which may be a bottleneck. Consider increasing the value of the `num_workers` argument` (try 8 which is the number of cpus on this machine) in the `DataLoader` init to improve performance.\n",
      "  f\"The dataloader, {name}, does not have many workers which may be a bottleneck.\"\n",
      "/Users/kartik/Desktop/causal_latent_DAG/env_DAG/lib/python3.7/site-packages/pytorch_lightning/trainer/data_loading.py:433: UserWarning: The number of training samples (1) is smaller than the logging interval Trainer(log_every_n_steps=50). Set a lower value for log_every_n_steps if you want to see logs for the training epoch.\n",
      "  f\"The number of training samples ({self.num_training_batches}) is smaller than the logging interval\"\n"
     ]
    },
    {
     "data": {
      "application/vnd.jupyter.widget-view+json": {
       "model_id": "78b28ce6d1cc4a939fbb7a5ce7beb438",
       "version_major": 2,
       "version_minor": 0
      },
      "text/plain": [
       "Training: 0it [00:00, ?it/s]"
      ]
     },
     "metadata": {},
     "output_type": "display_data"
    },
    {
     "name": "stdout",
     "output_type": "stream",
     "text": [
      "[[9.80110577e-01 7.83721891e-01 8.20025825e-01 8.65732592e-01\n",
      "  8.31266759e-01 1.62333324e-03 9.58451527e-04 9.17258401e-04\n",
      "  8.94148678e-04 3.82440582e-03]\n",
      " [8.03907955e-01 9.89649062e-01 8.18766278e-01 8.62984634e-01\n",
      "  8.30717748e-01 5.88906810e-04 9.10320143e-04 3.39298370e-03\n",
      "  1.04718711e-03 9.68837062e-04]\n",
      " [8.05275727e-01 7.81751095e-01 9.86195967e-01 8.67773815e-01\n",
      "  8.30112661e-01 8.22898436e-04 6.66242411e-04 1.82240250e-03\n",
      "  1.01360486e-03 1.12262417e-03]\n",
      " [8.05887041e-01 7.83942577e-01 8.23439464e-01 9.78134487e-01\n",
      "  8.27970652e-01 1.26852319e-03 7.41148795e-04 4.65937012e-03\n",
      "  5.96089971e-04 2.55726309e-03]\n",
      " [8.02680733e-01 7.81831185e-01 8.20088168e-01 8.58642243e-01\n",
      "  9.95311812e-01 6.44036604e-05 6.12918622e-04 7.26651272e-04\n",
      "  4.81851243e-04 1.05654417e-03]\n",
      " [1.58953110e-02 1.64421893e-03 8.05898683e-03 1.13504022e-02\n",
      "  8.36506276e-04 9.96303631e-01 8.37249014e-01 7.73988835e-01\n",
      "  8.90050744e-01 8.74442593e-01]\n",
      " [1.51903800e-02 1.62146381e-03 8.16357411e-03 1.00134706e-02\n",
      "  1.05361224e-03 8.08993857e-01 9.97608252e-01 7.75264686e-01\n",
      "  8.90479847e-01 8.75063103e-01]\n",
      " [1.56166884e-02 4.05795819e-03 9.47771713e-03 1.23560469e-02\n",
      "  1.85719742e-03 8.03198087e-01 8.35011062e-01 9.87481583e-01\n",
      "  8.87780408e-01 8.75746837e-01]\n",
      " [1.61312725e-02 2.52994176e-03 1.06531151e-02 9.45885595e-03\n",
      "  1.16279740e-03 8.06682856e-01 8.37747561e-01 7.76349969e-01\n",
      "  9.98852296e-01 8.72907689e-01]\n",
      " [2.05753328e-02 2.50166340e-03 8.92691012e-03 8.39265039e-03\n",
      "  4.89802707e-04 8.09503545e-01 8.40358177e-01 7.79494902e-01\n",
      "  8.88962827e-01 9.92849931e-01]]\n",
      "25000\n",
      "condition number threshold: 9.386962\n",
      "layer 1/2,  condition number: 8.529798829269895\n"
     ]
    },
    {
     "name": "stderr",
     "output_type": "stream",
     "text": [
      "/Users/kartik/Desktop/causal_latent_DAG/env_DAG/lib/python3.7/site-packages/pytorch_lightning/trainer/connectors/callback_connector.py:91: LightningDeprecationWarning: Setting `Trainer(progress_bar_refresh_rate=20)` is deprecated in v1.5 and will be removed in v1.7. Please pass `pytorch_lightning.callbacks.progress.TQDMProgressBar` with `refresh_rate` directly to the Trainer's `callbacks` argument instead. Or, to disable the progress bar pass `enable_progress_bar = False` to the Trainer.\n",
      "  f\"Setting `Trainer(progress_bar_refresh_rate={progress_bar_refresh_rate})` is deprecated in v1.5 and\"\n",
      "GPU available: False, used: False\n",
      "TPU available: False, using: 0 TPU cores\n",
      "IPU available: False, using: 0 IPUs\n",
      "/Users/kartik/Desktop/causal_latent_DAG/env_DAG/lib/python3.7/site-packages/pytorch_lightning/trainer/configuration_validator.py:122: UserWarning: You defined a `validation_step` but have no `val_dataloader`. Skipping val loop.\n",
      "  rank_zero_warn(\"You defined a `validation_step` but have no `val_dataloader`. Skipping val loop.\")\n",
      "\n",
      "  | Name    | Type   | Params\n",
      "-----------------------------------\n",
      "0 | linear1 | Linear | 2.1 K \n",
      "1 | act_fn1 | ReLU   | 0     \n",
      "2 | linear2 | Linear | 10.1 K\n",
      "3 | act_fn2 | ReLU   | 0     \n",
      "4 | linear3 | Linear | 2.0 K \n",
      "-----------------------------------\n",
      "14.2 K    Trainable params\n",
      "0         Non-trainable params\n",
      "14.2 K    Total params\n",
      "0.057     Total estimated model params size (MB)\n"
     ]
    },
    {
     "name": "stdout",
     "output_type": "stream",
     "text": [
      "layer 2/2,  condition number: 9.034736630846542\n"
     ]
    },
    {
     "name": "stderr",
     "output_type": "stream",
     "text": [
      "/Users/kartik/Desktop/causal_latent_DAG/env_DAG/lib/python3.7/site-packages/pytorch_lightning/trainer/data_loading.py:133: UserWarning: The dataloader, train_dataloader, does not have many workers which may be a bottleneck. Consider increasing the value of the `num_workers` argument` (try 8 which is the number of cpus on this machine) in the `DataLoader` init to improve performance.\n",
      "  f\"The dataloader, {name}, does not have many workers which may be a bottleneck.\"\n",
      "/Users/kartik/Desktop/causal_latent_DAG/env_DAG/lib/python3.7/site-packages/pytorch_lightning/trainer/data_loading.py:433: UserWarning: The number of training samples (1) is smaller than the logging interval Trainer(log_every_n_steps=50). Set a lower value for log_every_n_steps if you want to see logs for the training epoch.\n",
      "  f\"The number of training samples ({self.num_training_batches}) is smaller than the logging interval\"\n"
     ]
    },
    {
     "data": {
      "application/vnd.jupyter.widget-view+json": {
       "model_id": "fec1ea64acc84ad3a3701b50831a06d4",
       "version_major": 2,
       "version_minor": 0
      },
      "text/plain": [
       "Training: 0it [00:00, ?it/s]"
      ]
     },
     "metadata": {},
     "output_type": "display_data"
    },
    {
     "name": "stdout",
     "output_type": "stream",
     "text": [
      "[[9.99782897e-01 7.53551803e-01 8.23475317e-01 8.32168312e-01\n",
      "  8.24285594e-01 3.26042860e-05 7.41775113e-04 7.79370698e-04\n",
      "  2.17210925e-04 3.53197638e-04]\n",
      " [7.99002697e-01 9.97151871e-01 8.21896683e-01 8.34696518e-01\n",
      "  8.23950786e-01 5.87099074e-04 7.45557195e-04 8.10588861e-04\n",
      "  2.88216965e-04 4.04341959e-04]\n",
      " [8.02373347e-01 7.54010795e-01 9.99819353e-01 8.32639843e-01\n",
      "  8.22585687e-01 3.32856414e-04 1.05238506e-03 8.64169850e-04\n",
      "  2.82865023e-04 7.30044334e-04]\n",
      " [7.99522100e-01 7.53005454e-01 8.21985240e-01 9.97399049e-01\n",
      "  8.23167150e-01 1.28652535e-04 1.25503928e-03 7.97600630e-04\n",
      "  2.66471871e-04 6.27025268e-04]\n",
      " [8.01040057e-01 7.54585623e-01 8.22416140e-01 8.35125713e-01\n",
      "  9.99531631e-01 1.31493193e-03 1.49605191e-03 1.42506699e-03\n",
      "  8.40784848e-04 1.20710203e-03]\n",
      " [4.84879619e-04 3.26411298e-03 1.78045459e-04 5.23979210e-04\n",
      "  1.25916225e-03 9.99240642e-01 8.38686262e-01 7.54288382e-01\n",
      "  8.82798010e-01 8.59432463e-01]\n",
      " [5.38364777e-04 3.29415306e-03 6.31159943e-04 2.14251389e-03\n",
      "  1.81061441e-03 8.21301721e-01 9.98546656e-01 7.57467525e-01\n",
      "  8.88901072e-01 8.63330597e-01]\n",
      " [8.28141208e-04 3.17869615e-03 3.91614831e-04 7.09700660e-04\n",
      "  1.01818674e-03 8.13019971e-01 8.37675032e-01 9.99419755e-01\n",
      "  8.86584623e-01 8.59931712e-01]\n",
      " [6.28982572e-04 3.73886237e-03 1.17278232e-03 8.41204854e-04\n",
      "  2.04081442e-03 8.15337614e-01 8.39580799e-01 7.56890897e-01\n",
      "  9.99701882e-01 8.61224312e-01]\n",
      " [9.71203906e-05 2.66113851e-03 4.57903050e-05 7.23447980e-04\n",
      "  6.79906703e-04 8.17165029e-01 8.39658962e-01 7.56662972e-01\n",
      "  8.88207730e-01 9.99457515e-01]]\n"
     ]
    }
   ],
   "source": [
    "n_trials=5\n",
    "dim_list = [6,10,20]\n",
    "s = len(dim_list)\n",
    "MCC_result = np.zeros((s,n_trials))\n",
    "MCC_result1 = np.zeros((s,n_trials))\n",
    "m=0\n",
    "for d in dim_list:\n",
    "    for trial in range(n_trials):\n",
    "        data_X, data_Z = data_generation_MLP(n=d, n_layers=2, cond_thresh_ratio=0.0, n_iter_cond_thresh=25000, n_data=15000, distribution=\"normal_non_linear_block\")\n",
    "        k= len(data_X)\n",
    "        train_data_X = []\n",
    "        test_data_X  = []\n",
    "        train_data_Z = []\n",
    "        test_data_Z  = []\n",
    "        train_size = 10000\n",
    "        for i in range(k):\n",
    "            train_data_X.append(data_X[i][:train_size])\n",
    "            train_data_Z.append(data_Z[i][:train_size])\n",
    "            test_data_X.append(data_X[i][train_size:])\n",
    "            test_data_Z.append(data_Z[i][train_size:])  \n",
    "        latent_comparison_model = Latent_comparison_model(d)\n",
    "        train_loader = DataLoader(train_data_X, batch_size=BATCH_SIZE)\n",
    "        trainer = Trainer(\n",
    "            gpus=AVAIL_GPUS,\n",
    "            max_epochs=2000,\n",
    "            progress_bar_refresh_rate=20,\n",
    "        )\n",
    "        trainer.fit(latent_comparison_model, train_loader)\n",
    "        \n",
    "        Zp=latent_comparison_model(test_data_X[0])\n",
    "        Z = test_data_Z[0]\n",
    "        MCC_result[m][trial] = MCC_block_r2(Z.detach().numpy(),Zp.detach().numpy(),2)\n",
    "        MCC_result1[m][trial] = MCC(Z.detach().numpy(),Zp.detach().numpy())\n",
    "        \n",
    "    m=m+1\n",
    "        "
   ]
  },
  {
   "cell_type": "code",
   "execution_count": 16,
   "id": "a099cb0b",
   "metadata": {},
   "outputs": [
    {
     "data": {
      "text/plain": [
       "array([[0.99999467, 0.99999065, 0.99999811, 0.99999279, 0.99999792],\n",
       "       [0.99996949, 0.99996442, 0.99998898, 0.99999573, 0.99998482],\n",
       "       [0.99883155, 0.9975324 , 0.99888412, 0.99024976, 0.99900513]])"
      ]
     },
     "execution_count": 16,
     "metadata": {},
     "output_type": "execute_result"
    }
   ],
   "source": [
    "MCC_result"
   ]
  },
  {
   "cell_type": "markdown",
   "id": "a9bd67dc",
   "metadata": {},
   "source": [
    "## Linear regression comparing the predicted and true latents"
   ]
  },
  {
   "cell_type": "code",
   "execution_count": 33,
   "id": "22daf3dc",
   "metadata": {},
   "outputs": [],
   "source": [
    "Zp_np = np.array([Zp.detach().numpy()[:,0]]).T\n",
    "Z_np = np.array([Z.detach().numpy()[:,0]]).T\n",
    "reg = LinearRegression().fit(Z_np, Zp_np)\n",
    "m = reg.coef_[0]\n",
    "b = reg.intercept_[0]\n",
    "x = Z_np"
   ]
  },
  {
   "cell_type": "code",
   "execution_count": 34,
   "id": "8ae3bc18",
   "metadata": {},
   "outputs": [],
   "source": [
    "Zp_np = np.array([Zp.detach().numpy()[:,1]]).T\n",
    "Z_np = np.array([Z.detach().numpy()[:,1]]).T\n",
    "reg = LinearRegression().fit(Z_np, Zp_np)\n",
    "m1 = reg.coef_[0]\n",
    "b1 = reg.intercept_[0]\n",
    "x1 = Z_np"
   ]
  },
  {
   "cell_type": "code",
   "execution_count": 94,
   "id": "8db5deab",
   "metadata": {},
   "outputs": [
    {
     "data": {
      "image/png": "[encoded data removed]",
      "text/plain": [
       "<Figure size 1008x648 with 6 Axes>"
      ]
     },
     "metadata": {
      "needs_background": "light"
     },
     "output_type": "display_data"
    }
   ],
   "source": [
    "plt.figure(figsize=(14, 9))\n",
    "plt.subplot(2, 3, 1)\n",
    "\n",
    "plt.scatter(Z.detach().numpy()[:400,2], Zp.detach().numpy()[:400,2], c='m', s=20)\n",
    "\n",
    "# \n",
    "y = Zp.detach().numpy()[:,2]\n",
    "x = Z.detach().numpy()[:,2]\n",
    "\n",
    "m, b = np.polyfit(x, y, 1)\n",
    "plt.plot(x, m*x+b, 'k')\n",
    "plt.xlabel(\"True Z1\")\n",
    "plt.ylabel(\"Predicted Z1\")\n",
    "plt.subplot(2, 3, 2)\n",
    "y = Zp.detach().numpy()[:,3]\n",
    "x = Z.detach().numpy()[:,2]\n",
    "\n",
    "m, b = np.polyfit(x, y, 1)\n",
    "plt.plot(x, m*x+b, 'k')\n",
    "plt.scatter(Z.detach().numpy()[:400,2], Zp.detach().numpy()[:400,3], c='g', s=20)\n",
    "# plt.plot(x1, m1*x1+b1, 'b')\n",
    "plt.xlabel(\"True Z1\")\n",
    "plt.ylabel(\"Predicted Z2\")\n",
    "# plt.text(3, 0.4, r'$m=3$',\n",
    "#          fontsize=15)\n",
    "\n",
    "plt.subplot(2, 3, 4)\n",
    "y = Zp.detach().numpy()[:,2]\n",
    "x = Z.detach().numpy()[:,3]\n",
    "m, b = np.polyfit(x, y, 1)\n",
    "plt.plot(x, m*x+b, 'k')\n",
    "plt.scatter(Z.detach().numpy()[:400,3], Zp.detach().numpy()[:400,2], c='k', s=20)\n",
    "plt.xlabel(\"True Z2\")\n",
    "plt.ylabel(\"Predicted Z1\")\n",
    "\n",
    "plt.subplot(2, 3, 5)\n",
    "y = Zp.detach().numpy()[:,3]\n",
    "x = Z.detach().numpy()[:,3]\n",
    "m, b = np.polyfit(x, y, 1)\n",
    "plt.plot(x, m*x+b, 'k')\n",
    "plt.scatter(Z.detach().numpy()[:400,3], Zp.detach().numpy()[:400,3], c='r', s=20)\n",
    "plt.xlabel(\"True Z2\")\n",
    "plt.ylabel(\"Predicted Z2\")\n",
    "\n",
    "plt.subplot(2, 3, 3)\n",
    "y = Zp.detach().numpy()[:,4]\n",
    "x = Z.detach().numpy()[:,2]\n",
    "\n",
    "m, b = np.polyfit(x, y, 1)\n",
    "plt.plot(x, m*x+b, 'k')\n",
    "plt.scatter(Z.detach().numpy()[:400,2], Zp.detach().numpy()[:400,4],c='b', s=20)\n",
    "plt.xlabel(\"True Z1\")\n",
    "plt.ylabel(\"Predicted Z3\")\n",
    "\n",
    "plt.subplot(2, 3, 6)\n",
    "y = Zp.detach().numpy()[:,4]\n",
    "x = Z.detach().numpy()[:,3]\n",
    "m, b = np.polyfit(x, y, 1)\n",
    "plt.plot(x, m*x+b, 'k')\n",
    "plt.scatter(Z.detach().numpy()[:400,3], Zp.detach().numpy()[:400,4], c='c', s=20)\n",
    "plt.xlabel(\"True Z2\")\n",
    "plt.ylabel(\"Predicted Z4\")\n",
    "\n",
    "# plt.savefig(\"non-overlap_panel1.pdf\")"
   ]
  },
  {
   "cell_type": "code",
   "execution_count": null,
   "id": "bc2c97f5",
   "metadata": {},
   "outputs": [],
   "source": []
  }
 ],
 "metadata": {
  "kernelspec": {
   "display_name": "Python 3 (ipykernel)",
   "language": "python",
   "name": "python3"
  },
  "language_info": {
   "codemirror_mode": {
    "name": "ipython",
    "version": 3
   },
   "file_extension": ".py",
   "mimetype": "text/x-python",
   "name": "python",
   "nbconvert_exporter": "python",
   "pygments_lexer": "ipython3",
   "version": "3.7.4"
  }
 },
 "nbformat": 4,
 "nbformat_minor": 5
}
