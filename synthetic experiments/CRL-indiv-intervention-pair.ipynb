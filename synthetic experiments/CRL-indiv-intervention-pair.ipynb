{
 "cells": [
  {
   "cell_type": "code",
   "execution_count": 3,
   "id": "1f4c27a8",
   "metadata": {},
   "outputs": [],
   "source": [
    "\n",
    "import os\n",
    "import numpy as np\n",
    "import torch\n",
    "from torch import nn\n",
    "from scipy.stats import ortho_group\n",
    "from typing import Union\n",
    "from typing_extensions import Literal\n",
    "from pytorch_lightning import LightningModule, Trainer\n",
    "from torch.nn import functional as F\n",
    "from torch.utils.data import DataLoader, random_split\n",
    "from torchmetrics import Accuracy\n",
    "from torchvision import transforms\n",
    "\n",
    "from torchvision.datasets import MNIST\n",
    "PATH_DATASETS = os.environ.get(\"PATH_DATASETS\", \".\")\n",
    "AVAIL_GPUS = min(1, torch.cuda.device_count())\n",
    "BATCH_SIZE = 10000 if AVAIL_GPUS else 64\n",
    "import matplotlib.pyplot as plt\n",
    "from scipy.optimize import linear_sum_assignment\n",
    "from scipy.linalg import block_diag\n",
    "from sklearn.linear_model import LinearRegression\n",
    "from matplotlib import rc\n",
    "#rc('font',**{'family':'sans-serif','sans-serif':['Helvetica']})\n",
    "rc('font',**{'family':'serif','serif':['Times']})\n",
    "rc('text', usetex=True)"
   ]
  },
  {
   "cell_type": "markdown",
   "id": "a6c6cb88",
   "metadata": {},
   "source": [
    "## Standard MCC"
   ]
  },
  {
   "cell_type": "code",
   "execution_count": 28,
   "id": "0343966e",
   "metadata": {},
   "outputs": [],
   "source": [
    "# Input (true Z) (predicted Zp)\n",
    "def MCC(Z,Zp):\n",
    "    n = np.shape(Z)[1]\n",
    "#     print (n)\n",
    "    rho_matrix = np.zeros((n,n))\n",
    "    for i in range(n):\n",
    "        for j in range(n):\n",
    "            rho_matrix[i,j] = np.abs(np.corrcoef(Z[:,i], Zp[:,j])[0,1])\n",
    "    \n",
    "    r,c = linear_sum_assignment(-rho_matrix)\n",
    "    \n",
    "    return np.mean(rho_matrix[r,c])"
   ]
  },
  {
   "cell_type": "markdown",
   "id": "72bfcc61",
   "metadata": {},
   "source": [
    "## Invertible MLP function from CIDGP paper"
   ]
  },
  {
   "cell_type": "code",
   "execution_count": 29,
   "id": "b65ff926",
   "metadata": {},
   "outputs": [],
   "source": [
    "def construct_invertible_mlp(\n",
    "    n: int = 20,\n",
    "    n_layers: int = 2,\n",
    "    n_iter_cond_thresh: int = 10000,\n",
    "    cond_thresh_ratio: float = 0.25,\n",
    "    weight_matrix_init: Union[Literal[\"pcl\"], Literal[\"rvs\"]] = \"pcl\",\n",
    "    act_fct: Union[\n",
    "        Literal[\"relu\"],\n",
    "        Literal[\"leaky_relu\"],\n",
    "        Literal[\"elu\"],\n",
    "        Literal[\"smooth_leaky_relu\"],\n",
    "        Literal[\"softplus\"],\n",
    "    ] = \"leaky_relu\",\n",
    "):\n",
    "   \n",
    "    \"\"\"\n",
    "    Create an (approximately) invertible mixing network based on an MLP.\n",
    "    Based on the mixing code by Hyvarinen et al.\n",
    "    Args:\n",
    "        n: Dimensionality of the input and output data\n",
    "        n_layers: Number of layers in the MLP.\n",
    "        n_iter_cond_thresh: How many random matrices to use as a pool to find weights.\n",
    "        cond_thresh_ratio: Relative threshold how much the invertibility\n",
    "            (based on the condition number) can be violated in each layer.\n",
    "        weight_matrix_init: How to initialize the weight matrices.\n",
    "        act_fct: Activation function for hidden layers.\n",
    "    \"\"\"\n",
    "\n",
    "    class SmoothLeakyReLU(nn.Module):\n",
    "        def __init__(self, alpha=0.2):\n",
    "            super().__init__()\n",
    "            self.alpha = alpha\n",
    "\n",
    "        def forward(self, x):\n",
    "            return self.alpha * x + (1 - self.alpha) * torch.log(1 + torch.exp(x))\n",
    "\n",
    "    def get_act_fct(act_fct):\n",
    "        if act_fct == \"relu\":\n",
    "            return torch.nn.ReLU, {}, 1\n",
    "        if act_fct == \"leaky_relu\":\n",
    "            return torch.nn.LeakyReLU, {\"negative_slope\": 0.2}, 1\n",
    "        elif act_fct == \"elu\":\n",
    "            return torch.nn.ELU, {\"alpha\": 1.0}, 1\n",
    "        elif act_fct == \"max_out\":\n",
    "            raise NotImplemented()\n",
    "        elif act_fct == \"smooth_leaky_relu\":\n",
    "            return SmoothLeakyReLU, {\"alpha\": 0.2}, 1\n",
    "        elif act_fct == \"softplus\":\n",
    "            return torch.nn.Softplus, {\"beta\": 1}, 1\n",
    "        else:\n",
    "            raise Exception(f\"activation function {act_fct} not defined.\")\n",
    "\n",
    "    layers = []\n",
    "    act_fct, act_kwargs, act_fac = get_act_fct(act_fct)\n",
    "\n",
    "    # Subfuction to normalize mixing matrix\n",
    "    def l2_normalize(Amat, axis=0):\n",
    "        # axis: 0=column-normalization, 1=row-normalization\n",
    "        l2norm = np.sqrt(np.sum(Amat * Amat, axis))\n",
    "        Amat = Amat / l2norm\n",
    "        return Amat\n",
    "    print (n_iter_cond_thresh)\n",
    "    condList = np.zeros([n_iter_cond_thresh])\n",
    "    if weight_matrix_init == \"pcl\":\n",
    "        for i in range(n_iter_cond_thresh):\n",
    "            A = np.random.uniform(-1, 1, [n, n])\n",
    "            A = l2_normalize(A, axis=0)\n",
    "            condList[i] = np.linalg.cond(A)\n",
    "        condList.sort()  # Ascending order\n",
    "    condThresh = condList[int(n_iter_cond_thresh * cond_thresh_ratio)]\n",
    "    print(\"condition number threshold: {0:f}\".format(condThresh))\n",
    "\n",
    "    for i in range(n_layers):\n",
    "\n",
    "        lin_layer = nn.Linear(n, n, bias=False)\n",
    "\n",
    "        if weight_matrix_init == \"pcl\":\n",
    "            condA = condThresh + 1\n",
    "            while condA > condThresh:\n",
    "                weight_matrix = np.random.uniform(-1, 1, (n, n))\n",
    "                weight_matrix = l2_normalize(weight_matrix, axis=0)\n",
    "\n",
    "                condA = np.linalg.cond(weight_matrix)\n",
    "                # print(\"    L{0:d}: cond={1:f}\".format(i, condA))\n",
    "            print(\n",
    "                f\"layer {i+1}/{n_layers},  condition number: {np.linalg.cond(weight_matrix)}\"\n",
    "            )\n",
    "            lin_layer.weight.data = torch.tensor(weight_matrix, dtype=torch.float32)\n",
    "\n",
    "        elif weight_matrix_init == \"rvs\":\n",
    "            weight_matrix = ortho_group.rvs(n)\n",
    "            lin_layer.weight.data = torch.tensor(weight_matrix, dtype=torch.float32)\n",
    "        elif weight_matrix_init == \"expand\":\n",
    "            pass\n",
    "        else:\n",
    "            raise Exception(f\"weight matrix {weight_matrix_init} not implemented\")\n",
    "\n",
    "        layers.append(lin_layer)\n",
    "\n",
    "        if i < n_layers - 1:\n",
    "            layers.append(act_fct(**act_kwargs))\n",
    "\n",
    "    mixing_net = nn.Sequential(*layers)\n",
    "\n",
    "    # fix parameters\n",
    "    for p in mixing_net.parameters():\n",
    "        p.requires_grad = False\n",
    "\n",
    "    return mixing_net"
   ]
  },
  {
   "cell_type": "markdown",
   "id": "5ca5eb4e",
   "metadata": {},
   "source": [
    "## Data generation function "
   ]
  },
  {
   "cell_type": "code",
   "execution_count": 30,
   "id": "96731c60",
   "metadata": {},
   "outputs": [],
   "source": [
    "def data_generation_MLP(n, n_layers, cond_thresh_ratio, n_iter_cond_thresh, n_data, distribution):       \n",
    "    if(distribution == \"uniform_non_linear\"): # all components of z are uniform i.i.d.\n",
    "        data_Z        = np.random.rand(n_data, n)*5.0\n",
    "        tensor_Z      = torch.Tensor(data_Z)\n",
    "\n",
    "    if(distribution == \"normal_non_linear\"): # all components of z are uniform i.i.d.\n",
    "        A1 = np.ones((n//2,n//2))\n",
    "        A2 = np.ones((n//2,n//2))\n",
    "        A = block_diag(A1,A2)\n",
    "        data_Z = np.random.multivariate_normal(mean=np.zeros(n), cov=np.eye(n) + A@A.T, size=n_data, check_valid='warn', tol=1e-8)\n",
    "        tensor_Z      = torch.Tensor(data_Z)\n",
    "\n",
    "    g = construct_invertible_mlp(n, n_layers,   n_iter_cond_thresh, cond_thresh_ratio)  \n",
    "    data = g(tensor_Z)\n",
    "    data_Z_list   = [tensor_Z]\n",
    "    data_X_list     = [data]\n",
    "    offset = torch.ones(n_data)\n",
    "    for i in range(n):\n",
    "        tensor_Z_copy = torch.clone(tensor_Z)\n",
    "        tensor_Z_copy[:,i] = tensor_Z_copy[:,i] + offset\n",
    "        data_copy = g(tensor_Z_copy)\n",
    "        data_Z_list.append(tensor_Z_copy)\n",
    "        data_X_list.append(data_copy)\n",
    "        data_X_tuple = tuple(data_X_list)\n",
    "    data_Z_tuple  = tuple(data_Z_list)\n",
    "    return data_X_list, data_Z_list\n",
    "        "
   ]
  },
  {
   "cell_type": "markdown",
   "id": "60b4a5aa",
   "metadata": {},
   "source": [
    "## Construct the model and loss (compares intervened and default latent)"
   ]
  },
  {
   "cell_type": "code",
   "execution_count": 43,
   "id": "65b6825c",
   "metadata": {},
   "outputs": [],
   "source": [
    "class Latent_comparison_model(LightningModule):\n",
    "    def __init__(self,n):\n",
    "        super().__init__()\n",
    "        self.n     = n\n",
    "        num_hidden = 100\n",
    "        self.linear1 = nn.Linear(self.n, num_hidden)\n",
    "        self.act_fn = nn.ReLU()\n",
    "        self.linear2 = nn.Linear(num_hidden, num_hidden)\n",
    "        self.act_fn2 = nn.ReLU()\n",
    "        self.linear3 = nn.Linear(num_hidden, n)\n",
    "                \n",
    "        \n",
    "    def forward(self, x):        \n",
    "        x = self.linear1(x)\n",
    "        x = self.act_fn(x)\n",
    "        x = self.linear2(x)\n",
    "        x = self.act_fn2(x)\n",
    "        x = self.linear3(x)        \n",
    "        return x\n",
    "\n",
    "    def training_step(self, batch_X_list):\n",
    "        L      = len(batch_X_list)\n",
    "        X_0    = batch_X_list[0]\n",
    "        n_d    = X_0.size()[0]\n",
    "        offset = torch.ones(n_d)\n",
    "        loss   = 0.0\n",
    "        a = np.random.RandomState(1).uniform(1,5, size= (self.n))\n",
    "        a = torch.Tensor(a)\n",
    "        i= np.random.randint(1,L)\n",
    "        Z_target  = self(batch_X_list[i])\n",
    "        Z_predict = self(X_0) \n",
    "        Z_predict[:,i-1] = Z_predict[:,i-1] + offset*a[i-1] \n",
    "        loss = loss + F.mse_loss(Z_predict, Z_target)\n",
    "        self.log('train_loss', loss)\n",
    "\n",
    "        return loss\n",
    "    \n",
    "    def validation_step(self, batch_X_list):\n",
    "        L      = len(batch_X_list)\n",
    "        X_0    = batch_X_list[0]\n",
    "        n_d    = X_0.size()[0]\n",
    "        offset = torch.ones(n_d)\n",
    "        loss   = 0.0\n",
    "        for i in range(1,L):\n",
    "            Z_target  = self(batch_X_list[i])\n",
    "            Z_predict = self(X_0) \n",
    "            Z_predict[:,i-1] = Z_predict[:,i-1] + offset \n",
    "            loss = loss + F.mse_loss(Z_predict, Z_target)\n",
    "            \n",
    "            \n",
    "        return loss\n",
    "\n",
    "    def configure_optimizers(self):\n",
    "        return torch.optim.Adam(self.parameters(), lr=0.005)"
   ]
  },
  {
   "cell_type": "markdown",
   "id": "9cf64428",
   "metadata": {},
   "source": [
    "## Generate data"
   ]
  },
  {
   "cell_type": "code",
   "execution_count": 19,
   "id": "9c19d074",
   "metadata": {},
   "outputs": [
    {
     "name": "stdout",
     "output_type": "stream",
     "text": [
      "25000\n",
      "condition number threshold: 4.161530\n",
      "layer 1/2,  condition number: 3.7869034178491954\n",
      "layer 2/2,  condition number: 3.1969469870417213\n"
     ]
    }
   ],
   "source": [
    "n=10\n",
    "data_X, data_Z = data_generation_MLP(n=n, n_layers=2, cond_thresh_ratio=0.0, n_iter_cond_thresh=25000, n_data=15000, distribution=\"normal_non_linear\")\n",
    "\n",
    "k= len(data_X)\n",
    "train_data_X = []\n",
    "test_data_X  = []\n",
    "train_data_Z = []\n",
    "test_data_Z  = []\n",
    "train_size = 10000\n",
    "for i in range(k):\n",
    "    train_data_X.append(data_X[i][:train_size])\n",
    "    train_data_Z.append(data_Z[i][:train_size])\n",
    "    test_data_X.append(data_X[i][train_size:])\n",
    "    test_data_Z.append(data_Z[i][train_size:])   "
   ]
  },
  {
   "cell_type": "markdown",
   "id": "29ca8b7c",
   "metadata": {},
   "source": [
    "## Train model"
   ]
  },
  {
   "cell_type": "code",
   "execution_count": 22,
   "id": "395fe2cd",
   "metadata": {
    "scrolled": true
   },
   "outputs": [
    {
     "name": "stderr",
     "output_type": "stream",
     "text": [
      "GPU available: False, used: False\n",
      "TPU available: False, using: 0 TPU cores\n",
      "IPU available: False, using: 0 IPUs\n",
      "\n",
      "  | Name    | Type   | Params\n",
      "-----------------------------------\n",
      "0 | linear1 | Linear | 1.1 K \n",
      "1 | act_fn  | ReLU   | 0     \n",
      "2 | linear2 | Linear | 1.0 K \n",
      "-----------------------------------\n",
      "2.1 K     Trainable params\n",
      "0         Non-trainable params\n",
      "2.1 K     Total params\n",
      "0.008     Total estimated model params size (MB)\n"
     ]
    },
    {
     "data": {
      "application/vnd.jupyter.widget-view+json": {
       "model_id": "0a763b0ee772483daff97d2f4d0c054a",
       "version_major": 2,
       "version_minor": 0
      },
      "text/plain": [
       "Training: 0it [00:00, ?it/s]"
      ]
     },
     "metadata": {},
     "output_type": "display_data"
    }
   ],
   "source": [
    "latent_comparison_model = Latent_comparison_model(n)\n",
    "train_loader = DataLoader(train_data_X, batch_size=BATCH_SIZE)\n",
    "\n",
    "trainer = Trainer(\n",
    "    gpus=AVAIL_GPUS,\n",
    "    max_epochs=2000,\n",
    "    progress_bar_refresh_rate=20,\n",
    ")\n",
    "trainer.fit(latent_comparison_model, train_loader)"
   ]
  },
  {
   "cell_type": "markdown",
   "id": "fe797dbb",
   "metadata": {},
   "source": [
    "## Output MCC "
   ]
  },
  {
   "cell_type": "code",
   "execution_count": 23,
   "id": "dc277d46",
   "metadata": {},
   "outputs": [
    {
     "data": {
      "text/plain": [
       "0.9826120782304708"
      ]
     },
     "execution_count": 23,
     "metadata": {},
     "output_type": "execute_result"
    }
   ],
   "source": [
    "Zp=latent_comparison_model(test_data_X[0])\n",
    "Z = test_data_Z[0]\n",
    "MCC(Z.detach().numpy(),Zp.detach().numpy())"
   ]
  },
  {
   "cell_type": "markdown",
   "id": "ab179f56",
   "metadata": {},
   "source": [
    "## Linear regressing predicted and true latent \n",
    "#### dim 2"
   ]
  },
  {
   "cell_type": "code",
   "execution_count": 13,
   "id": "0b9424da",
   "metadata": {},
   "outputs": [],
   "source": [
    "Zp_np = np.array([Zp.detach().numpy()[:,2]]).T\n",
    "Z_np = np.array([Z.detach().numpy()[:,2]]).T\n",
    "reg = LinearRegression().fit(Zp_np, Z_np)\n",
    "m = reg.coef_[0]\n",
    "b = reg.intercept_[0]\n",
    "x = Zp_np"
   ]
  },
  {
   "cell_type": "markdown",
   "id": "7098a1a3",
   "metadata": {},
   "source": [
    "#### dim 1"
   ]
  },
  {
   "cell_type": "code",
   "execution_count": 14,
   "id": "46cc5ce8",
   "metadata": {},
   "outputs": [],
   "source": [
    "Zp_np = np.array([Zp.detach().numpy()[:,1]]).T\n",
    "Z_np = np.array([Z.detach().numpy()[:,1]]).T\n",
    "reg = LinearRegression().fit(Zp_np, Z_np)\n",
    "m1 = reg.coef_[0]\n",
    "b1 = reg.intercept_[0]\n",
    "x1 = Zp_np"
   ]
  },
  {
   "cell_type": "markdown",
   "id": "bb8ab3ca",
   "metadata": {},
   "source": [
    "## Plot regression outputs "
   ]
  },
  {
   "cell_type": "code",
   "execution_count": 15,
   "id": "5bc3f04d",
   "metadata": {},
   "outputs": [
    {
     "data": {
      "text/plain": [
       "Text(-8, 0.4, '$m=2$')"
      ]
     },
     "execution_count": 15,
     "metadata": {},
     "output_type": "execute_result"
    },
    {
     "data": {
      "image/png": "[encoded data removed]",
      "text/plain": [
       "<Figure size 432x288 with 2 Axes>"
      ]
     },
     "metadata": {
      "needs_background": "light"
     },
     "output_type": "display_data"
    }
   ],
   "source": [
    "plt.subplot(1, 2, 1)\n",
    "\n",
    "plt.scatter(Zp.detach().numpy()[:50,2], Z.detach().numpy()[:50,2], c='m', s=150)\n",
    "\n",
    "plt.plot(x, m*x+b, 'k')\n",
    "plt.xlabel(\"True Z1\", fontsize=16)\n",
    "plt.ylabel(\"Predicted Z\", fontsize=16)\n",
    "plt.text(-20, 0.4, r'$m=0.5$',\n",
    "         fontsize=15)\n",
    "plt.subplot(1, 2, 2)\n",
    "plt.scatter(Zp.detach().numpy()[:50,1], Z.detach().numpy()[:50,1], c='g', s=150)\n",
    "\n",
    "plt.plot(x1, m1*x1+b1, 'b')\n",
    "plt.xlabel(\"True Z2\", fontsize=16)\n",
    "plt.text(-8, 0.4, r'$m=2$',\n",
    "         fontsize=15)"
   ]
  },
  {
   "cell_type": "markdown",
   "id": "6c7ba696",
   "metadata": {},
   "source": [
    "## Generate results (Normal)"
   ]
  },
  {
   "cell_type": "code",
   "execution_count": 32,
   "id": "9b23a493",
   "metadata": {},
   "outputs": [
    {
     "name": "stdout",
     "output_type": "stream",
     "text": [
      "25000\n",
      "condition number threshold: 2.086532\n",
      "layer 1/2,  condition number: 1.9715276145419587\n"
     ]
    },
    {
     "name": "stderr",
     "output_type": "stream",
     "text": [
      "GPU available: False, used: False\n",
      "TPU available: False, using: 0 TPU cores\n",
      "IPU available: False, using: 0 IPUs\n",
      "\n",
      "  | Name    | Type   | Params\n",
      "-----------------------------------\n",
      "0 | linear1 | Linear | 700   \n",
      "1 | act_fn  | ReLU   | 0     \n",
      "2 | linear2 | Linear | 10.1 K\n",
      "3 | act_fn2 | ReLU   | 0     \n",
      "4 | linear3 | Linear | 606   \n",
      "-----------------------------------\n",
      "11.4 K    Trainable params\n",
      "0         Non-trainable params\n",
      "11.4 K    Total params\n",
      "0.046     Total estimated model params size (MB)\n"
     ]
    },
    {
     "name": "stdout",
     "output_type": "stream",
     "text": [
      "layer 2/2,  condition number: 2.016324821529012\n"
     ]
    },
    {
     "data": {
      "application/vnd.jupyter.widget-view+json": {
       "model_id": "f3f6b99b87c3477f8bc4422141c8e389",
       "version_major": 2,
       "version_minor": 0
      },
      "text/plain": [
       "Training: 0it [00:00, ?it/s]"
      ]
     },
     "metadata": {},
     "output_type": "display_data"
    },
    {
     "name": "stdout",
     "output_type": "stream",
     "text": [
      "25000\n",
      "condition number threshold: 1.944833\n",
      "layer 1/2,  condition number: 1.7756739805584045\n"
     ]
    },
    {
     "name": "stderr",
     "output_type": "stream",
     "text": [
      "GPU available: False, used: False\n",
      "TPU available: False, using: 0 TPU cores\n",
      "IPU available: False, using: 0 IPUs\n",
      "\n",
      "  | Name    | Type   | Params\n",
      "-----------------------------------\n",
      "0 | linear1 | Linear | 700   \n",
      "1 | act_fn  | ReLU   | 0     \n",
      "2 | linear2 | Linear | 10.1 K\n",
      "3 | act_fn2 | ReLU   | 0     \n",
      "4 | linear3 | Linear | 606   \n",
      "-----------------------------------\n",
      "11.4 K    Trainable params\n",
      "0         Non-trainable params\n",
      "11.4 K    Total params\n",
      "0.046     Total estimated model params size (MB)\n"
     ]
    },
    {
     "name": "stdout",
     "output_type": "stream",
     "text": [
      "layer 2/2,  condition number: 1.932208374801555\n"
     ]
    },
    {
     "data": {
      "application/vnd.jupyter.widget-view+json": {
       "model_id": "449bfb0bd768471292b4362fc5f12879",
       "version_major": 2,
       "version_minor": 0
      },
      "text/plain": [
       "Training: 0it [00:00, ?it/s]"
      ]
     },
     "metadata": {},
     "output_type": "display_data"
    },
    {
     "name": "stdout",
     "output_type": "stream",
     "text": [
      "25000\n",
      "condition number threshold: 1.952759\n",
      "layer 1/2,  condition number: 1.8397140978349116\n"
     ]
    },
    {
     "name": "stderr",
     "output_type": "stream",
     "text": [
      "GPU available: False, used: False\n",
      "TPU available: False, using: 0 TPU cores\n",
      "IPU available: False, using: 0 IPUs\n",
      "\n",
      "  | Name    | Type   | Params\n",
      "-----------------------------------\n",
      "0 | linear1 | Linear | 700   \n",
      "1 | act_fn  | ReLU   | 0     \n",
      "2 | linear2 | Linear | 10.1 K\n",
      "3 | act_fn2 | ReLU   | 0     \n",
      "4 | linear3 | Linear | 606   \n",
      "-----------------------------------\n",
      "11.4 K    Trainable params\n",
      "0         Non-trainable params\n",
      "11.4 K    Total params\n",
      "0.046     Total estimated model params size (MB)\n"
     ]
    },
    {
     "name": "stdout",
     "output_type": "stream",
     "text": [
      "layer 2/2,  condition number: 1.9280426170160803\n"
     ]
    },
    {
     "data": {
      "application/vnd.jupyter.widget-view+json": {
       "model_id": "379d9ee4b67043fcb5cd5c3bb9678319",
       "version_major": 2,
       "version_minor": 0
      },
      "text/plain": [
       "Training: 0it [00:00, ?it/s]"
      ]
     },
     "metadata": {},
     "output_type": "display_data"
    },
    {
     "name": "stdout",
     "output_type": "stream",
     "text": [
      "25000\n",
      "condition number threshold: 1.923294\n",
      "layer 1/2,  condition number: 1.8491929345262996\n"
     ]
    },
    {
     "name": "stderr",
     "output_type": "stream",
     "text": [
      "GPU available: False, used: False\n",
      "TPU available: False, using: 0 TPU cores\n",
      "IPU available: False, using: 0 IPUs\n",
      "\n",
      "  | Name    | Type   | Params\n",
      "-----------------------------------\n",
      "0 | linear1 | Linear | 700   \n",
      "1 | act_fn  | ReLU   | 0     \n",
      "2 | linear2 | Linear | 10.1 K\n",
      "3 | act_fn2 | ReLU   | 0     \n",
      "4 | linear3 | Linear | 606   \n",
      "-----------------------------------\n",
      "11.4 K    Trainable params\n",
      "0         Non-trainable params\n",
      "11.4 K    Total params\n",
      "0.046     Total estimated model params size (MB)\n"
     ]
    },
    {
     "name": "stdout",
     "output_type": "stream",
     "text": [
      "layer 2/2,  condition number: 1.7965213709793182\n"
     ]
    },
    {
     "data": {
      "application/vnd.jupyter.widget-view+json": {
       "model_id": "494087b20a97497f9480555d10d22722",
       "version_major": 2,
       "version_minor": 0
      },
      "text/plain": [
       "Training: 0it [00:00, ?it/s]"
      ]
     },
     "metadata": {},
     "output_type": "display_data"
    },
    {
     "name": "stdout",
     "output_type": "stream",
     "text": [
      "25000\n",
      "condition number threshold: 2.309203\n",
      "layer 1/2,  condition number: 2.0426710973137787\n"
     ]
    },
    {
     "name": "stderr",
     "output_type": "stream",
     "text": [
      "GPU available: False, used: False\n",
      "TPU available: False, using: 0 TPU cores\n",
      "IPU available: False, using: 0 IPUs\n",
      "\n",
      "  | Name    | Type   | Params\n",
      "-----------------------------------\n",
      "0 | linear1 | Linear | 700   \n",
      "1 | act_fn  | ReLU   | 0     \n",
      "2 | linear2 | Linear | 10.1 K\n",
      "3 | act_fn2 | ReLU   | 0     \n",
      "4 | linear3 | Linear | 606   \n",
      "-----------------------------------\n",
      "11.4 K    Trainable params\n",
      "0         Non-trainable params\n",
      "11.4 K    Total params\n",
      "0.046     Total estimated model params size (MB)\n"
     ]
    },
    {
     "name": "stdout",
     "output_type": "stream",
     "text": [
      "layer 2/2,  condition number: 2.2826733314285814\n"
     ]
    },
    {
     "data": {
      "application/vnd.jupyter.widget-view+json": {
       "model_id": "0441bfb9d6264c5885650947ab628ad2",
       "version_major": 2,
       "version_minor": 0
      },
      "text/plain": [
       "Training: 0it [00:00, ?it/s]"
      ]
     },
     "metadata": {},
     "output_type": "display_data"
    },
    {
     "name": "stdout",
     "output_type": "stream",
     "text": [
      "25000\n",
      "condition number threshold: 3.805352\n",
      "layer 1/2,  condition number: 3.801909015679934\n"
     ]
    },
    {
     "name": "stderr",
     "output_type": "stream",
     "text": [
      "GPU available: False, used: False\n",
      "TPU available: False, using: 0 TPU cores\n",
      "IPU available: False, using: 0 IPUs\n",
      "\n",
      "  | Name    | Type   | Params\n",
      "-----------------------------------\n",
      "0 | linear1 | Linear | 1.1 K \n",
      "1 | act_fn  | ReLU   | 0     \n",
      "2 | linear2 | Linear | 10.1 K\n",
      "3 | act_fn2 | ReLU   | 0     \n",
      "4 | linear3 | Linear | 1.0 K \n",
      "-----------------------------------\n",
      "12.2 K    Trainable params\n",
      "0         Non-trainable params\n",
      "12.2 K    Total params\n",
      "0.049     Total estimated model params size (MB)\n"
     ]
    },
    {
     "name": "stdout",
     "output_type": "stream",
     "text": [
      "layer 2/2,  condition number: 3.602639116263855\n"
     ]
    },
    {
     "data": {
      "application/vnd.jupyter.widget-view+json": {
       "model_id": "a4abcbedd17c45d18d6b37c7ae7bbfcc",
       "version_major": 2,
       "version_minor": 0
      },
      "text/plain": [
       "Training: 0it [00:00, ?it/s]"
      ]
     },
     "metadata": {},
     "output_type": "display_data"
    },
    {
     "name": "stdout",
     "output_type": "stream",
     "text": [
      "25000\n",
      "condition number threshold: 3.728148\n",
      "layer 1/2,  condition number: 3.7072234907318826\n"
     ]
    },
    {
     "name": "stderr",
     "output_type": "stream",
     "text": [
      "GPU available: False, used: False\n",
      "TPU available: False, using: 0 TPU cores\n",
      "IPU available: False, using: 0 IPUs\n",
      "\n",
      "  | Name    | Type   | Params\n",
      "-----------------------------------\n",
      "0 | linear1 | Linear | 1.1 K \n",
      "1 | act_fn  | ReLU   | 0     \n",
      "2 | linear2 | Linear | 10.1 K\n",
      "3 | act_fn2 | ReLU   | 0     \n",
      "4 | linear3 | Linear | 1.0 K \n",
      "-----------------------------------\n",
      "12.2 K    Trainable params\n",
      "0         Non-trainable params\n",
      "12.2 K    Total params\n",
      "0.049     Total estimated model params size (MB)\n"
     ]
    },
    {
     "name": "stdout",
     "output_type": "stream",
     "text": [
      "layer 2/2,  condition number: 3.639606782952223\n"
     ]
    },
    {
     "data": {
      "application/vnd.jupyter.widget-view+json": {
       "model_id": "a94a1ff37dd34b048ca48b5bb81a5aae",
       "version_major": 2,
       "version_minor": 0
      },
      "text/plain": [
       "Training: 0it [00:00, ?it/s]"
      ]
     },
     "metadata": {},
     "output_type": "display_data"
    },
    {
     "name": "stdout",
     "output_type": "stream",
     "text": [
      "25000\n",
      "condition number threshold: 4.020074\n",
      "layer 1/2,  condition number: 3.632305027326146\n"
     ]
    },
    {
     "name": "stderr",
     "output_type": "stream",
     "text": [
      "GPU available: False, used: False\n",
      "TPU available: False, using: 0 TPU cores\n",
      "IPU available: False, using: 0 IPUs\n",
      "\n",
      "  | Name    | Type   | Params\n",
      "-----------------------------------\n",
      "0 | linear1 | Linear | 1.1 K \n",
      "1 | act_fn  | ReLU   | 0     \n",
      "2 | linear2 | Linear | 10.1 K\n",
      "3 | act_fn2 | ReLU   | 0     \n",
      "4 | linear3 | Linear | 1.0 K \n",
      "-----------------------------------\n",
      "12.2 K    Trainable params\n",
      "0         Non-trainable params\n",
      "12.2 K    Total params\n",
      "0.049     Total estimated model params size (MB)\n"
     ]
    },
    {
     "name": "stdout",
     "output_type": "stream",
     "text": [
      "layer 2/2,  condition number: 3.833362089095647\n"
     ]
    },
    {
     "data": {
      "application/vnd.jupyter.widget-view+json": {
       "model_id": "dc10fd2360ec442aa14a0ddfd58622f0",
       "version_major": 2,
       "version_minor": 0
      },
      "text/plain": [
       "Training: 0it [00:00, ?it/s]"
      ]
     },
     "metadata": {},
     "output_type": "display_data"
    },
    {
     "name": "stdout",
     "output_type": "stream",
     "text": [
      "25000\n",
      "condition number threshold: 3.419734\n",
      "layer 1/2,  condition number: 3.348130661931525\n"
     ]
    },
    {
     "name": "stderr",
     "output_type": "stream",
     "text": [
      "GPU available: False, used: False\n",
      "TPU available: False, using: 0 TPU cores\n",
      "IPU available: False, using: 0 IPUs\n",
      "\n",
      "  | Name    | Type   | Params\n",
      "-----------------------------------\n",
      "0 | linear1 | Linear | 1.1 K \n",
      "1 | act_fn  | ReLU   | 0     \n",
      "2 | linear2 | Linear | 10.1 K\n",
      "3 | act_fn2 | ReLU   | 0     \n",
      "4 | linear3 | Linear | 1.0 K \n",
      "-----------------------------------\n",
      "12.2 K    Trainable params\n",
      "0         Non-trainable params\n",
      "12.2 K    Total params\n",
      "0.049     Total estimated model params size (MB)\n"
     ]
    },
    {
     "name": "stdout",
     "output_type": "stream",
     "text": [
      "layer 2/2,  condition number: 3.3119764890410117\n"
     ]
    },
    {
     "data": {
      "application/vnd.jupyter.widget-view+json": {
       "model_id": "8b2aa7af3b76465bb6d0f3300dc8f812",
       "version_major": 2,
       "version_minor": 0
      },
      "text/plain": [
       "Training: 0it [00:00, ?it/s]"
      ]
     },
     "metadata": {},
     "output_type": "display_data"
    },
    {
     "name": "stdout",
     "output_type": "stream",
     "text": [
      "25000\n",
      "condition number threshold: 4.006154\n",
      "layer 1/2,  condition number: 3.8327581268299546\n"
     ]
    },
    {
     "name": "stderr",
     "output_type": "stream",
     "text": [
      "GPU available: False, used: False\n",
      "TPU available: False, using: 0 TPU cores\n",
      "IPU available: False, using: 0 IPUs\n",
      "\n",
      "  | Name    | Type   | Params\n",
      "-----------------------------------\n",
      "0 | linear1 | Linear | 1.1 K \n",
      "1 | act_fn  | ReLU   | 0     \n",
      "2 | linear2 | Linear | 10.1 K\n",
      "3 | act_fn2 | ReLU   | 0     \n",
      "4 | linear3 | Linear | 1.0 K \n",
      "-----------------------------------\n",
      "12.2 K    Trainable params\n",
      "0         Non-trainable params\n",
      "12.2 K    Total params\n",
      "0.049     Total estimated model params size (MB)\n"
     ]
    },
    {
     "name": "stdout",
     "output_type": "stream",
     "text": [
      "layer 2/2,  condition number: 3.773966385872474\n"
     ]
    },
    {
     "data": {
      "application/vnd.jupyter.widget-view+json": {
       "model_id": "b2be8aebce6b476a96ecb47b9bb2b891",
       "version_major": 2,
       "version_minor": 0
      },
      "text/plain": [
       "Training: 0it [00:00, ?it/s]"
      ]
     },
     "metadata": {},
     "output_type": "display_data"
    },
    {
     "name": "stdout",
     "output_type": "stream",
     "text": [
      "25000\n",
      "condition number threshold: 9.142665\n",
      "layer 1/2,  condition number: 8.795801653063148\n"
     ]
    },
    {
     "name": "stderr",
     "output_type": "stream",
     "text": [
      "GPU available: False, used: False\n",
      "TPU available: False, using: 0 TPU cores\n",
      "IPU available: False, using: 0 IPUs\n",
      "\n",
      "  | Name    | Type   | Params\n",
      "-----------------------------------\n",
      "0 | linear1 | Linear | 2.1 K \n",
      "1 | act_fn  | ReLU   | 0     \n",
      "2 | linear2 | Linear | 10.1 K\n",
      "3 | act_fn2 | ReLU   | 0     \n",
      "4 | linear3 | Linear | 2.0 K \n",
      "-----------------------------------\n",
      "14.2 K    Trainable params\n",
      "0         Non-trainable params\n",
      "14.2 K    Total params\n",
      "0.057     Total estimated model params size (MB)\n"
     ]
    },
    {
     "name": "stdout",
     "output_type": "stream",
     "text": [
      "layer 2/2,  condition number: 8.855033860561482\n"
     ]
    },
    {
     "data": {
      "application/vnd.jupyter.widget-view+json": {
       "model_id": "268bccc15dfc4437be94153b8d237a27",
       "version_major": 2,
       "version_minor": 0
      },
      "text/plain": [
       "Training: 0it [00:00, ?it/s]"
      ]
     },
     "metadata": {},
     "output_type": "display_data"
    },
    {
     "name": "stdout",
     "output_type": "stream",
     "text": [
      "25000\n",
      "condition number threshold: 8.641246\n",
      "layer 1/2,  condition number: 8.041275918932433\n"
     ]
    },
    {
     "name": "stderr",
     "output_type": "stream",
     "text": [
      "GPU available: False, used: False\n",
      "TPU available: False, using: 0 TPU cores\n",
      "IPU available: False, using: 0 IPUs\n",
      "\n",
      "  | Name    | Type   | Params\n",
      "-----------------------------------\n",
      "0 | linear1 | Linear | 2.1 K \n",
      "1 | act_fn  | ReLU   | 0     \n",
      "2 | linear2 | Linear | 10.1 K\n",
      "3 | act_fn2 | ReLU   | 0     \n",
      "4 | linear3 | Linear | 2.0 K \n",
      "-----------------------------------\n",
      "14.2 K    Trainable params\n",
      "0         Non-trainable params\n",
      "14.2 K    Total params\n",
      "0.057     Total estimated model params size (MB)\n"
     ]
    },
    {
     "name": "stdout",
     "output_type": "stream",
     "text": [
      "layer 2/2,  condition number: 8.395607284255044\n"
     ]
    },
    {
     "data": {
      "application/vnd.jupyter.widget-view+json": {
       "model_id": "e4c840597257436eba083bf8eed6ad41",
       "version_major": 2,
       "version_minor": 0
      },
      "text/plain": [
       "Training: 0it [00:00, ?it/s]"
      ]
     },
     "metadata": {},
     "output_type": "display_data"
    },
    {
     "name": "stdout",
     "output_type": "stream",
     "text": [
      "25000\n",
      "condition number threshold: 8.603049\n",
      "layer 1/2,  condition number: 8.338508419731943\n"
     ]
    },
    {
     "name": "stderr",
     "output_type": "stream",
     "text": [
      "GPU available: False, used: False\n",
      "TPU available: False, using: 0 TPU cores\n",
      "IPU available: False, using: 0 IPUs\n",
      "\n",
      "  | Name    | Type   | Params\n",
      "-----------------------------------\n",
      "0 | linear1 | Linear | 2.1 K \n",
      "1 | act_fn  | ReLU   | 0     \n",
      "2 | linear2 | Linear | 10.1 K\n",
      "3 | act_fn2 | ReLU   | 0     \n",
      "4 | linear3 | Linear | 2.0 K \n",
      "-----------------------------------\n",
      "14.2 K    Trainable params\n",
      "0         Non-trainable params\n",
      "14.2 K    Total params\n",
      "0.057     Total estimated model params size (MB)\n"
     ]
    },
    {
     "name": "stdout",
     "output_type": "stream",
     "text": [
      "layer 2/2,  condition number: 8.46006418831842\n"
     ]
    },
    {
     "data": {
      "application/vnd.jupyter.widget-view+json": {
       "model_id": "51896fc2c7f74ad4ba07c472645eaef6",
       "version_major": 2,
       "version_minor": 0
      },
      "text/plain": [
       "Training: 0it [00:00, ?it/s]"
      ]
     },
     "metadata": {},
     "output_type": "display_data"
    },
    {
     "name": "stdout",
     "output_type": "stream",
     "text": [
      "25000\n",
      "condition number threshold: 9.879185\n",
      "layer 1/2,  condition number: 9.588205297992605\n"
     ]
    },
    {
     "name": "stderr",
     "output_type": "stream",
     "text": [
      "GPU available: False, used: False\n",
      "TPU available: False, using: 0 TPU cores\n",
      "IPU available: False, using: 0 IPUs\n",
      "\n",
      "  | Name    | Type   | Params\n",
      "-----------------------------------\n",
      "0 | linear1 | Linear | 2.1 K \n",
      "1 | act_fn  | ReLU   | 0     \n",
      "2 | linear2 | Linear | 10.1 K\n",
      "3 | act_fn2 | ReLU   | 0     \n",
      "4 | linear3 | Linear | 2.0 K \n",
      "-----------------------------------\n",
      "14.2 K    Trainable params\n",
      "0         Non-trainable params\n",
      "14.2 K    Total params\n",
      "0.057     Total estimated model params size (MB)\n"
     ]
    },
    {
     "name": "stdout",
     "output_type": "stream",
     "text": [
      "layer 2/2,  condition number: 9.852912109756812\n"
     ]
    },
    {
     "data": {
      "application/vnd.jupyter.widget-view+json": {
       "model_id": "df3b65a529b8433284046c2fba989215",
       "version_major": 2,
       "version_minor": 0
      },
      "text/plain": [
       "Training: 0it [00:00, ?it/s]"
      ]
     },
     "metadata": {},
     "output_type": "display_data"
    },
    {
     "name": "stdout",
     "output_type": "stream",
     "text": [
      "25000\n",
      "condition number threshold: 8.518820\n",
      "layer 1/2,  condition number: 8.064454771815123\n"
     ]
    },
    {
     "name": "stderr",
     "output_type": "stream",
     "text": [
      "GPU available: False, used: False\n",
      "TPU available: False, using: 0 TPU cores\n",
      "IPU available: False, using: 0 IPUs\n",
      "\n",
      "  | Name    | Type   | Params\n",
      "-----------------------------------\n",
      "0 | linear1 | Linear | 2.1 K \n",
      "1 | act_fn  | ReLU   | 0     \n",
      "2 | linear2 | Linear | 10.1 K\n",
      "3 | act_fn2 | ReLU   | 0     \n",
      "4 | linear3 | Linear | 2.0 K \n",
      "-----------------------------------\n",
      "14.2 K    Trainable params\n",
      "0         Non-trainable params\n",
      "14.2 K    Total params\n",
      "0.057     Total estimated model params size (MB)\n"
     ]
    },
    {
     "name": "stdout",
     "output_type": "stream",
     "text": [
      "layer 2/2,  condition number: 8.085923519774052\n"
     ]
    },
    {
     "data": {
      "application/vnd.jupyter.widget-view+json": {
       "model_id": "7db888d48f034693a01bcb0294b0aadf",
       "version_major": 2,
       "version_minor": 0
      },
      "text/plain": [
       "Training: 0it [00:00, ?it/s]"
      ]
     },
     "metadata": {},
     "output_type": "display_data"
    }
   ],
   "source": [
    "n_trials=5\n",
    "dim_list = [6,10,20]\n",
    "s = len(dim_list)\n",
    "MCC_result = np.zeros((s,n_trials))\n",
    "m=0\n",
    "for d in dim_list:\n",
    "    for trial in range(n_trials):\n",
    "        data_X, data_Z = data_generation_MLP(n=d, n_layers=2, cond_thresh_ratio=0.0, n_iter_cond_thresh=25000, n_data=15000, distribution=\"normal_non_linear\")\n",
    "        k= len(data_X)\n",
    "        train_data_X = []\n",
    "        test_data_X  = []\n",
    "        train_data_Z = []\n",
    "        test_data_Z  = []\n",
    "        train_size = 10000\n",
    "        for i in range(k):\n",
    "            train_data_X.append(data_X[i][:train_size])\n",
    "            train_data_Z.append(data_Z[i][:train_size])\n",
    "            test_data_X.append(data_X[i][train_size:])\n",
    "            test_data_Z.append(data_Z[i][train_size:])  \n",
    "        latent_comparison_model = Latent_comparison_model(d)\n",
    "        train_loader = DataLoader(train_data_X, batch_size=BATCH_SIZE)\n",
    "        trainer = Trainer(\n",
    "            gpus=AVAIL_GPUS,\n",
    "            max_epochs=2000,\n",
    "            progress_bar_refresh_rate=20,\n",
    "        )\n",
    "        trainer.fit(latent_comparison_model, train_loader)\n",
    "        \n",
    "        Zp=latent_comparison_model(test_data_X[0])\n",
    "        Z = test_data_Z[0]\n",
    "        MCC_result[m][trial] = MCC(Z.detach().numpy(),Zp.detach().numpy())\n",
    "    \n",
    "    m=m+1\n",
    "        \n",
    "    \n",
    "        "
   ]
  },
  {
   "cell_type": "code",
   "execution_count": 33,
   "id": "1c3c0515",
   "metadata": {},
   "outputs": [
    {
     "data": {
      "text/plain": [
       "array([[0.99550284, 0.99978071, 0.99997858, 0.99980989, 0.99992914],\n",
       "       [0.99939306, 0.98873421, 0.99890398, 0.96708287, 0.99801805],\n",
       "       [0.85099899, 0.85803685, 0.89064173, 0.9056657 , 0.90340896]])"
      ]
     },
     "execution_count": 33,
     "metadata": {},
     "output_type": "execute_result"
    }
   ],
   "source": [
    "MCC_result"
   ]
  },
  {
   "cell_type": "markdown",
   "id": "ff85cad3",
   "metadata": {},
   "source": [
    "## Generate results (Uniform)\n"
   ]
  },
  {
   "cell_type": "code",
   "execution_count": null,
   "id": "0d5e3d1f",
   "metadata": {},
   "outputs": [],
   "source": [
    "\n",
    "n_trials=5\n",
    "dim_list = [6,10,20]\n",
    "s = len(dim_list)\n",
    "MCC_result = np.zeros((s,n_trials))\n",
    "m=0\n",
    "for d in dim_list:\n",
    "    for trial in range(n_trials):\n",
    "        data_X, data_Z = data_generation_MLP(n=d, n_layers=2, cond_thresh_ratio=0.0, n_iter_cond_thresh=25000, n_data=15000, distribution=\"uniform_non_linear\")\n",
    "        k= len(data_X)\n",
    "        train_data_X = []\n",
    "        test_data_X  = []\n",
    "        train_data_Z = []\n",
    "        test_data_Z  = []\n",
    "        train_size = 10000\n",
    "        for i in range(k):\n",
    "            train_data_X.append(data_X[i][:train_size])\n",
    "            train_data_Z.append(data_Z[i][:train_size])\n",
    "            test_data_X.append(data_X[i][train_size:])\n",
    "            test_data_Z.append(data_Z[i][train_size:])  \n",
    "        latent_comparison_model = Latent_comparison_model(d)\n",
    "        train_loader = DataLoader(train_data_X, batch_size=BATCH_SIZE)\n",
    "        trainer = Trainer(\n",
    "            gpus=AVAIL_GPUS,\n",
    "            max_epochs=2000,\n",
    "            progress_bar_refresh_rate=20,\n",
    "        )\n",
    "        trainer.fit(latent_comparison_model, train_loader)\n",
    "        \n",
    "        Zp=latent_comparison_model(test_data_X[0])\n",
    "        Z = test_data_Z[0]\n",
    "        MCC_result[m][trial] = MCC(Z.detach().numpy(),Zp.detach().numpy())\n",
    "    \n",
    "    m=m+1\n",
    "        \n",
    "    "
   ]
  },
  {
   "cell_type": "code",
   "execution_count": 35,
   "id": "501f92ca",
   "metadata": {},
   "outputs": [
    {
     "data": {
      "text/plain": [
       "array([[0.99717375, 0.99987781, 0.9948852 , 0.99688036, 0.99871283],\n",
       "       [0.99768635, 0.99745497, 0.97646753, 0.9933103 , 0.99606787],\n",
       "       [0.79571477, 0.81059225, 0.84272012, 0.82566834, 0.8039777 ]])"
      ]
     },
     "execution_count": 35,
     "metadata": {},
     "output_type": "execute_result"
    }
   ],
   "source": [
    "MCC_result"
   ]
  }
 ],
 "metadata": {
  "kernelspec": {
   "display_name": "Python 3 (ipykernel)",
   "language": "python",
   "name": "python3"
  },
  "language_info": {
   "codemirror_mode": {
    "name": "ipython",
    "version": 3
   },
   "file_extension": ".py",
   "mimetype": "text/x-python",
   "name": "python",
   "nbconvert_exporter": "python",
   "pygments_lexer": "ipython3",
   "version": "3.7.4"
  }
 },
 "nbformat": 4,
 "nbformat_minor": 5
}
