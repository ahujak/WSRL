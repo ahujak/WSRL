{
 "cells": [
  {
   "cell_type": "code",
   "execution_count": 2,
   "id": "1f4c27a8",
   "metadata": {},
   "outputs": [],
   "source": [
    "\n",
    "import os\n",
    "import numpy as np\n",
    "import torch\n",
    "from torch import nn\n",
    "from scipy.stats import ortho_group\n",
    "from typing import Union\n",
    "from typing_extensions import Literal\n",
    "from pytorch_lightning import LightningModule, Trainer\n",
    "from torch.nn import functional as F\n",
    "from torch.utils.data import DataLoader, random_split\n",
    "from torchmetrics import Accuracy\n",
    "from torchvision import transforms\n",
    "\n",
    "from torchvision.datasets import MNIST\n",
    "PATH_DATASETS = os.environ.get(\"PATH_DATASETS\", \".\")\n",
    "AVAIL_GPUS = min(1, torch.cuda.device_count())\n",
    "BATCH_SIZE = 10000 if AVAIL_GPUS else 64\n",
    "import matplotlib.pyplot as plt\n",
    "from scipy.optimize import linear_sum_assignment\n",
    "from scipy.linalg import block_diag\n",
    "from sklearn.linear_model import LinearRegression\n",
    "from matplotlib import rc\n",
    "#rc('font',**{'family':'sans-serif','sans-serif':['Helvetica']})\n",
    "rc('font',**{'family':'serif','serif':['Times']})\n",
    "rc('text', usetex=True)"
   ]
  },
  {
   "cell_type": "markdown",
   "id": "a6c6cb88",
   "metadata": {},
   "source": [
    "## Standard MCC"
   ]
  },
  {
   "cell_type": "code",
   "execution_count": 3,
   "id": "0343966e",
   "metadata": {},
   "outputs": [],
   "source": [
    "# Input (true Z) (predicted Zp)\n",
    "def MCC(Z,Zp):\n",
    "    n = np.shape(Z)[1]\n",
    "#     print (n)\n",
    "    rho_matrix = np.zeros((n,n))\n",
    "    for i in range(n):\n",
    "        for j in range(n):\n",
    "            rho_matrix[i,j] = np.abs(np.corrcoef(Z[:,i], Zp[:,j])[0,1])\n",
    "    \n",
    "    r,c = linear_sum_assignment(-rho_matrix)\n",
    "    \n",
    "    return np.mean(rho_matrix[r,c])"
   ]
  },
  {
   "cell_type": "markdown",
   "id": "72bfcc61",
   "metadata": {},
   "source": [
    "## Invertible MLP function from CIDGP paper"
   ]
  },
  {
   "cell_type": "code",
   "execution_count": 4,
   "id": "b65ff926",
   "metadata": {},
   "outputs": [],
   "source": [
    "def construct_invertible_mlp(\n",
    "    n: int = 20,\n",
    "    n_layers: int = 2,\n",
    "    n_iter_cond_thresh: int = 10000,\n",
    "    cond_thresh_ratio: float = 0.25,\n",
    "    weight_matrix_init: Union[Literal[\"pcl\"], Literal[\"rvs\"]] = \"pcl\",\n",
    "    act_fct: Union[\n",
    "        Literal[\"relu\"],\n",
    "        Literal[\"leaky_relu\"],\n",
    "        Literal[\"elu\"],\n",
    "        Literal[\"smooth_leaky_relu\"],\n",
    "        Literal[\"softplus\"],\n",
    "    ] = \"leaky_relu\",\n",
    "):\n",
    "   \n",
    "    \"\"\"\n",
    "    Create an (approximately) invertible mixing network based on an MLP.\n",
    "    Based on the mixing code by Hyvarinen et al.\n",
    "    Args:\n",
    "        n: Dimensionality of the input and output data\n",
    "        n_layers: Number of layers in the MLP.\n",
    "        n_iter_cond_thresh: How many random matrices to use as a pool to find weights.\n",
    "        cond_thresh_ratio: Relative threshold how much the invertibility\n",
    "            (based on the condition number) can be violated in each layer.\n",
    "        weight_matrix_init: How to initialize the weight matrices.\n",
    "        act_fct: Activation function for hidden layers.\n",
    "    \"\"\"\n",
    "\n",
    "    class SmoothLeakyReLU(nn.Module):\n",
    "        def __init__(self, alpha=0.2):\n",
    "            super().__init__()\n",
    "            self.alpha = alpha\n",
    "\n",
    "        def forward(self, x):\n",
    "            return self.alpha * x + (1 - self.alpha) * torch.log(1 + torch.exp(x))\n",
    "\n",
    "    def get_act_fct(act_fct):\n",
    "        if act_fct == \"relu\":\n",
    "            return torch.nn.ReLU, {}, 1\n",
    "        if act_fct == \"leaky_relu\":\n",
    "            return torch.nn.LeakyReLU, {\"negative_slope\": 0.2}, 1\n",
    "        elif act_fct == \"elu\":\n",
    "            return torch.nn.ELU, {\"alpha\": 1.0}, 1\n",
    "        elif act_fct == \"max_out\":\n",
    "            raise NotImplemented()\n",
    "        elif act_fct == \"smooth_leaky_relu\":\n",
    "            return SmoothLeakyReLU, {\"alpha\": 0.2}, 1\n",
    "        elif act_fct == \"softplus\":\n",
    "            return torch.nn.Softplus, {\"beta\": 1}, 1\n",
    "        else:\n",
    "            raise Exception(f\"activation function {act_fct} not defined.\")\n",
    "\n",
    "    layers = []\n",
    "    act_fct, act_kwargs, act_fac = get_act_fct(act_fct)\n",
    "\n",
    "    # Subfuction to normalize mixing matrix\n",
    "    def l2_normalize(Amat, axis=0):\n",
    "        # axis: 0=column-normalization, 1=row-normalization\n",
    "        l2norm = np.sqrt(np.sum(Amat * Amat, axis))\n",
    "        Amat = Amat / l2norm\n",
    "        return Amat\n",
    "    print (n_iter_cond_thresh)\n",
    "    condList = np.zeros([n_iter_cond_thresh])\n",
    "    if weight_matrix_init == \"pcl\":\n",
    "        for i in range(n_iter_cond_thresh):\n",
    "            A = np.random.uniform(-1, 1, [n, n])\n",
    "            A = l2_normalize(A, axis=0)\n",
    "            condList[i] = np.linalg.cond(A)\n",
    "        condList.sort()  # Ascending order\n",
    "    condThresh = condList[int(n_iter_cond_thresh * cond_thresh_ratio)]\n",
    "    print(\"condition number threshold: {0:f}\".format(condThresh))\n",
    "\n",
    "    for i in range(n_layers):\n",
    "\n",
    "        lin_layer = nn.Linear(n, n, bias=False)\n",
    "\n",
    "        if weight_matrix_init == \"pcl\":\n",
    "            condA = condThresh + 1\n",
    "            while condA > condThresh:\n",
    "                weight_matrix = np.random.uniform(-1, 1, (n, n))\n",
    "                weight_matrix = l2_normalize(weight_matrix, axis=0)\n",
    "\n",
    "                condA = np.linalg.cond(weight_matrix)\n",
    "                # print(\"    L{0:d}: cond={1:f}\".format(i, condA))\n",
    "            print(\n",
    "                f\"layer {i+1}/{n_layers},  condition number: {np.linalg.cond(weight_matrix)}\"\n",
    "            )\n",
    "            lin_layer.weight.data = torch.tensor(weight_matrix, dtype=torch.float32)\n",
    "\n",
    "        elif weight_matrix_init == \"rvs\":\n",
    "            weight_matrix = ortho_group.rvs(n)\n",
    "            lin_layer.weight.data = torch.tensor(weight_matrix, dtype=torch.float32)\n",
    "        elif weight_matrix_init == \"expand\":\n",
    "            pass\n",
    "        else:\n",
    "            raise Exception(f\"weight matrix {weight_matrix_init} not implemented\")\n",
    "\n",
    "        layers.append(lin_layer)\n",
    "\n",
    "        if i < n_layers - 1:\n",
    "            layers.append(act_fct(**act_kwargs))\n",
    "\n",
    "    mixing_net = nn.Sequential(*layers)\n",
    "\n",
    "    # fix parameters\n",
    "    for p in mixing_net.parameters():\n",
    "        p.requires_grad = False\n",
    "\n",
    "    return mixing_net"
   ]
  },
  {
   "cell_type": "markdown",
   "id": "5ca5eb4e",
   "metadata": {},
   "source": [
    "## Data generation function "
   ]
  },
  {
   "cell_type": "code",
   "execution_count": 5,
   "id": "96731c60",
   "metadata": {},
   "outputs": [],
   "source": [
    "def data_generation_MLP(n, n_layers, cond_thresh_ratio, n_iter_cond_thresh, n_data, distribution):       \n",
    "    if(distribution == \"uniform_non_linear\"): # all components of z are uniform i.i.d.\n",
    "        data_Z        = np.random.rand(n_data, n)*5.0\n",
    "        tensor_Z      = torch.Tensor(data_Z)\n",
    "\n",
    "    if(distribution == \"normal_non_linear\"): # all components of z are uniform i.i.d.\n",
    "        A1 = np.ones((n//2,n//2))\n",
    "        A2 = np.ones((n//2,n//2))\n",
    "        A = block_diag(A1,A2)\n",
    "        data_Z = np.random.multivariate_normal(mean=np.zeros(n), cov=np.eye(n) + A@A.T, size=n_data, check_valid='warn', tol=1e-8)\n",
    "        tensor_Z      = torch.Tensor(data_Z)\n",
    "\n",
    "    g = construct_invertible_mlp(n, n_layers,   n_iter_cond_thresh, cond_thresh_ratio)  \n",
    "    data = g(tensor_Z)\n",
    "    data_Z_list   = [tensor_Z]\n",
    "    data_X_list     = [data]\n",
    "    offset = torch.ones(n_data)\n",
    "    for i in range(n):\n",
    "        tensor_Z_copy = torch.clone(tensor_Z)\n",
    "        tensor_Z_copy[:,i] = tensor_Z_copy[:,i] + offset\n",
    "        data_copy = g(tensor_Z_copy)\n",
    "        data_Z_list.append(tensor_Z_copy)\n",
    "        data_X_list.append(data_copy)\n",
    "        data_X_tuple = tuple(data_X_list)\n",
    "    data_Z_tuple  = tuple(data_Z_list)\n",
    "    return data_X_list, data_Z_list\n",
    "        "
   ]
  },
  {
   "cell_type": "markdown",
   "id": "60b4a5aa",
   "metadata": {},
   "source": [
    "## Construct the model and loss (compares intervened and default latent)"
   ]
  },
  {
   "cell_type": "code",
   "execution_count": 10,
   "id": "27d834a6",
   "metadata": {},
   "outputs": [],
   "source": [
    "class Latent_comparison_model(LightningModule):\n",
    "    def __init__(self,n):\n",
    "        super().__init__()\n",
    "        self.n     = n\n",
    "        num_hidden = 100\n",
    "        self.linear1 = nn.Linear(self.n, num_hidden)\n",
    "        self.act_fn = nn.ReLU()\n",
    "        self.linear2 = nn.Linear(num_hidden, num_hidden)\n",
    "        self.act_fn2 = nn.ReLU()\n",
    "        self.linear3 = nn.Linear(num_hidden, n)\n",
    "              \n",
    "        \n",
    "    def forward(self, x):        \n",
    "        x = self.linear1(x)\n",
    "        x = self.act_fn(x)\n",
    "        x = self.linear2(x)\n",
    "        x = self.act_fn2(x)\n",
    "        x = self.linear3(x)    \n",
    "        \n",
    "        return x\n",
    "\n",
    "    def training_step(self, batch_X_list):\n",
    "        L      = len(batch_X_list)\n",
    "        X_0    = batch_X_list[0]\n",
    "        n_d    = X_0.size()[0]\n",
    "        offset = torch.ones(n_d)\n",
    "        loss   = 0.0\n",
    "        a = np.random.RandomState(1).uniform(1,5, size= (self.n))\n",
    "        a = torch.Tensor(a)\n",
    "        for i in range(1,L):\n",
    "            Z_target  = self(batch_X_list[i])\n",
    "            Z_predict = self(X_0) \n",
    "            Z_predict[:,i-1] = Z_predict[:,i-1] + offset*a[i-1] \n",
    "            loss = loss + F.mse_loss(Z_predict, Z_target)\n",
    "            \n",
    "            \n",
    "        return loss\n",
    "    \n",
    "    def validation_step(self, batch_X_list):\n",
    "        L      = len(batch_X_list)\n",
    "        X_0    = batch_X_list[0]\n",
    "        n_d    = X_0.size()[0]\n",
    "        offset = torch.ones(n_d)\n",
    "        loss   = 0.0\n",
    "        for i in range(1,L):\n",
    "            Z_target  = self(batch_X_list[i])\n",
    "            Z_predict = self(X_0) \n",
    "            Z_predict[:,i-1] = Z_predict[:,i-1] + offset \n",
    "            loss = loss + F.mse_loss(Z_predict, Z_target)\n",
    "            \n",
    "            \n",
    "        return loss\n",
    "\n",
    "    def configure_optimizers(self):\n",
    "        return torch.optim.Adam(self.parameters(), lr=0.005)"
   ]
  },
  {
   "cell_type": "markdown",
   "id": "9cf64428",
   "metadata": {},
   "source": [
    "## Generate data"
   ]
  },
  {
   "cell_type": "code",
   "execution_count": 7,
   "id": "9c19d074",
   "metadata": {},
   "outputs": [
    {
     "name": "stdout",
     "output_type": "stream",
     "text": [
      "25000\n",
      "condition number threshold: 3.611400\n",
      "layer 1/2,  condition number: 3.553797927101477\n",
      "layer 2/2,  condition number: 3.0366572623795407\n"
     ]
    }
   ],
   "source": [
    "n=10\n",
    "data_X, data_Z = data_generation_MLP(n=n, n_layers=2, cond_thresh_ratio=0.0, n_iter_cond_thresh=25000, n_data=15000, distribution=\"normal_non_linear\")\n",
    "\n",
    "k= len(data_X)\n",
    "train_data_X = []\n",
    "test_data_X  = []\n",
    "train_data_Z = []\n",
    "test_data_Z  = []\n",
    "train_size = 10000\n",
    "for i in range(k):\n",
    "    train_data_X.append(data_X[i][:train_size])\n",
    "    train_data_Z.append(data_Z[i][:train_size])\n",
    "    test_data_X.append(data_X[i][train_size:])\n",
    "    test_data_Z.append(data_Z[i][train_size:])   "
   ]
  },
  {
   "cell_type": "markdown",
   "id": "29ca8b7c",
   "metadata": {},
   "source": [
    "## Train model"
   ]
  },
  {
   "cell_type": "code",
   "execution_count": 11,
   "id": "395fe2cd",
   "metadata": {
    "scrolled": true
   },
   "outputs": [
    {
     "name": "stderr",
     "output_type": "stream",
     "text": [
      "GPU available: False, used: False\n",
      "TPU available: False, using: 0 TPU cores\n",
      "IPU available: False, using: 0 IPUs\n",
      "\n",
      "  | Name    | Type   | Params\n",
      "-----------------------------------\n",
      "0 | linear1 | Linear | 1.1 K \n",
      "1 | act_fn  | ReLU   | 0     \n",
      "2 | linear2 | Linear | 10.1 K\n",
      "3 | act_fn2 | ReLU   | 0     \n",
      "4 | linear3 | Linear | 1.0 K \n",
      "-----------------------------------\n",
      "12.2 K    Trainable params\n",
      "0         Non-trainable params\n",
      "12.2 K    Total params\n",
      "0.049     Total estimated model params size (MB)\n"
     ]
    },
    {
     "data": {
      "application/vnd.jupyter.widget-view+json": {
       "model_id": "b4c44fe401f74e92aba690fb2def62a6",
       "version_major": 2,
       "version_minor": 0
      },
      "text/plain": [
       "Training: 0it [00:00, ?it/s]"
      ]
     },
     "metadata": {},
     "output_type": "display_data"
    },
    {
     "name": "stderr",
     "output_type": "stream",
     "text": [
      "/Users/kartik/Desktop/causal_latent_DAG/env_DAG/lib/python3.7/site-packages/pytorch_lightning/trainer/trainer.py:688: UserWarning: Detected KeyboardInterrupt, attempting graceful shutdown...\n",
      "  rank_zero_warn(\"Detected KeyboardInterrupt, attempting graceful shutdown...\")\n"
     ]
    }
   ],
   "source": [
    "latent_comparison_model = Latent_comparison_model(n)\n",
    "train_loader = DataLoader(train_data_X, batch_size=BATCH_SIZE)\n",
    "\n",
    "trainer = Trainer(\n",
    "    gpus=AVAIL_GPUS,\n",
    "    max_epochs=2000,\n",
    "    progress_bar_refresh_rate=20,\n",
    ")\n",
    "trainer.fit(latent_comparison_model, train_loader)"
   ]
  },
  {
   "cell_type": "markdown",
   "id": "fe797dbb",
   "metadata": {},
   "source": [
    "## Output MCC "
   ]
  },
  {
   "cell_type": "code",
   "execution_count": 12,
   "id": "dc277d46",
   "metadata": {},
   "outputs": [
    {
     "data": {
      "text/plain": [
       "0.9999282290889926"
      ]
     },
     "execution_count": 12,
     "metadata": {},
     "output_type": "execute_result"
    }
   ],
   "source": [
    "Zp=latent_comparison_model(test_data_X[0])\n",
    "Z = test_data_Z[0]\n",
    "MCC(Z.detach().numpy(),Zp.detach().numpy())"
   ]
  },
  {
   "cell_type": "code",
   "execution_count": 23,
   "id": "7db00f8b",
   "metadata": {},
   "outputs": [
    {
     "data": {
      "text/plain": [
       "0.9999954467270638"
      ]
     },
     "execution_count": 23,
     "metadata": {},
     "output_type": "execute_result"
    }
   ],
   "source": [
    "Zp=latent_comparison_model(test_data_X[0])\n",
    "Z = test_data_Z[0]\n",
    "MCC(Z.detach().numpy(),Zp.detach().numpy())"
   ]
  },
  {
   "cell_type": "markdown",
   "id": "ab179f56",
   "metadata": {},
   "source": [
    "## Linear regressing predicted and true latent \n",
    "#### dim 2"
   ]
  },
  {
   "cell_type": "code",
   "execution_count": 13,
   "id": "0b9424da",
   "metadata": {},
   "outputs": [],
   "source": [
    "Zp_np = np.array([Zp.detach().numpy()[:,2]]).T\n",
    "Z_np = np.array([Z.detach().numpy()[:,2]]).T\n",
    "reg = LinearRegression().fit(Zp_np, Z_np)\n",
    "m = reg.coef_[0]\n",
    "b = reg.intercept_[0]\n",
    "x = Zp_np"
   ]
  },
  {
   "cell_type": "markdown",
   "id": "7098a1a3",
   "metadata": {},
   "source": [
    "#### dim 1"
   ]
  },
  {
   "cell_type": "code",
   "execution_count": 14,
   "id": "46cc5ce8",
   "metadata": {},
   "outputs": [],
   "source": [
    "Zp_np = np.array([Zp.detach().numpy()[:,1]]).T\n",
    "Z_np = np.array([Z.detach().numpy()[:,1]]).T\n",
    "reg = LinearRegression().fit(Zp_np, Z_np)\n",
    "m1 = reg.coef_[0]\n",
    "b1 = reg.intercept_[0]\n",
    "x1 = Zp_np"
   ]
  },
  {
   "cell_type": "markdown",
   "id": "bb8ab3ca",
   "metadata": {},
   "source": [
    "## Plot regression outputs "
   ]
  },
  {
   "cell_type": "code",
   "execution_count": 25,
   "id": "5bc3f04d",
   "metadata": {},
   "outputs": [
    {
     "data": {
      "text/plain": [
       "Text(-8, 0.4, '$m=2$')"
      ]
     },
     "execution_count": 25,
     "metadata": {},
     "output_type": "execute_result"
    },
    {
     "data": {
      "image/png": "[encoded data removed]",
      "text/plain": [
       "<Figure size 432x288 with 2 Axes>"
      ]
     },
     "metadata": {
      "needs_background": "light"
     },
     "output_type": "display_data"
    }
   ],
   "source": [
    "plt.subplot(1, 2, 1)\n",
    "\n",
    "plt.scatter(Zp.detach().numpy()[:50,2], Z.detach().numpy()[:50,2], c='m', s=150)\n",
    "\n",
    "# plt.plot(x, m*x+b, 'k')\n",
    "plt.xlabel(\"True Z1\", fontsize=16)\n",
    "plt.ylabel(\"Predicted Z\", fontsize=16)\n",
    "plt.text(-20, 0.4, r'$m=0.5$',\n",
    "         fontsize=15)\n",
    "plt.subplot(1, 2, 2)\n",
    "plt.scatter(Zp.detach().numpy()[:50,1], Z.detach().numpy()[:50,1], c='g', s=150)\n",
    "\n",
    "# plt.plot(x1, m1*x1+b1, 'b')\n",
    "plt.xlabel(\"True Z2\", fontsize=16)\n",
    "plt.text(-8, 0.4, r'$m=2$',\n",
    "         fontsize=15)"
   ]
  },
  {
   "cell_type": "markdown",
   "id": "b007b800",
   "metadata": {},
   "source": [
    "## Generate results (Normal)"
   ]
  },
  {
   "cell_type": "code",
   "execution_count": 13,
   "id": "1b52fa6a",
   "metadata": {},
   "outputs": [
    {
     "name": "stdout",
     "output_type": "stream",
     "text": [
      "25000\n",
      "condition number threshold: 2.239037\n",
      "layer 1/2,  condition number: 2.2202537560294786\n"
     ]
    },
    {
     "name": "stderr",
     "output_type": "stream",
     "text": [
      "GPU available: False, used: False\n",
      "TPU available: False, using: 0 TPU cores\n",
      "IPU available: False, using: 0 IPUs\n",
      "\n",
      "  | Name    | Type   | Params\n",
      "-----------------------------------\n",
      "0 | linear1 | Linear | 700   \n",
      "1 | act_fn  | ReLU   | 0     \n",
      "2 | linear2 | Linear | 10.1 K\n",
      "3 | act_fn2 | ReLU   | 0     \n",
      "4 | linear3 | Linear | 606   \n",
      "-----------------------------------\n",
      "11.4 K    Trainable params\n",
      "0         Non-trainable params\n",
      "11.4 K    Total params\n",
      "0.046     Total estimated model params size (MB)\n"
     ]
    },
    {
     "name": "stdout",
     "output_type": "stream",
     "text": [
      "layer 2/2,  condition number: 1.8756013781121936\n"
     ]
    },
    {
     "data": {
      "application/vnd.jupyter.widget-view+json": {
       "model_id": "53f68e95c32f4340ba3021ab93ba6da1",
       "version_major": 2,
       "version_minor": 0
      },
      "text/plain": [
       "Training: 0it [00:00, ?it/s]"
      ]
     },
     "metadata": {},
     "output_type": "display_data"
    },
    {
     "name": "stdout",
     "output_type": "stream",
     "text": [
      "25000\n",
      "condition number threshold: 1.895558\n",
      "layer 1/2,  condition number: 1.857372232833113\n"
     ]
    },
    {
     "name": "stderr",
     "output_type": "stream",
     "text": [
      "GPU available: False, used: False\n",
      "TPU available: False, using: 0 TPU cores\n",
      "IPU available: False, using: 0 IPUs\n",
      "\n",
      "  | Name    | Type   | Params\n",
      "-----------------------------------\n",
      "0 | linear1 | Linear | 700   \n",
      "1 | act_fn  | ReLU   | 0     \n",
      "2 | linear2 | Linear | 10.1 K\n",
      "3 | act_fn2 | ReLU   | 0     \n",
      "4 | linear3 | Linear | 606   \n",
      "-----------------------------------\n",
      "11.4 K    Trainable params\n",
      "0         Non-trainable params\n",
      "11.4 K    Total params\n",
      "0.046     Total estimated model params size (MB)\n"
     ]
    },
    {
     "name": "stdout",
     "output_type": "stream",
     "text": [
      "layer 2/2,  condition number: 1.8675772390482324\n"
     ]
    },
    {
     "data": {
      "application/vnd.jupyter.widget-view+json": {
       "model_id": "3fcabd0f22094348a60085ecd4ed6d2e",
       "version_major": 2,
       "version_minor": 0
      },
      "text/plain": [
       "Training: 0it [00:00, ?it/s]"
      ]
     },
     "metadata": {},
     "output_type": "display_data"
    },
    {
     "name": "stdout",
     "output_type": "stream",
     "text": [
      "25000\n",
      "condition number threshold: 1.849041\n",
      "layer 1/2,  condition number: 1.7663349482123343\n"
     ]
    },
    {
     "name": "stderr",
     "output_type": "stream",
     "text": [
      "GPU available: False, used: False\n",
      "TPU available: False, using: 0 TPU cores\n",
      "IPU available: False, using: 0 IPUs\n",
      "\n",
      "  | Name    | Type   | Params\n",
      "-----------------------------------\n",
      "0 | linear1 | Linear | 700   \n",
      "1 | act_fn  | ReLU   | 0     \n",
      "2 | linear2 | Linear | 10.1 K\n",
      "3 | act_fn2 | ReLU   | 0     \n",
      "4 | linear3 | Linear | 606   \n",
      "-----------------------------------\n",
      "11.4 K    Trainable params\n",
      "0         Non-trainable params\n",
      "11.4 K    Total params\n",
      "0.046     Total estimated model params size (MB)\n"
     ]
    },
    {
     "name": "stdout",
     "output_type": "stream",
     "text": [
      "layer 2/2,  condition number: 1.7680856895871286\n"
     ]
    },
    {
     "data": {
      "application/vnd.jupyter.widget-view+json": {
       "model_id": "1e18a20162334c1c990975bc443b332c",
       "version_major": 2,
       "version_minor": 0
      },
      "text/plain": [
       "Training: 0it [00:00, ?it/s]"
      ]
     },
     "metadata": {},
     "output_type": "display_data"
    },
    {
     "name": "stdout",
     "output_type": "stream",
     "text": [
      "25000\n",
      "condition number threshold: 2.243809\n"
     ]
    },
    {
     "name": "stderr",
     "output_type": "stream",
     "text": [
      "GPU available: False, used: False\n",
      "TPU available: False, using: 0 TPU cores\n",
      "IPU available: False, using: 0 IPUs\n",
      "\n",
      "  | Name    | Type   | Params\n",
      "-----------------------------------\n",
      "0 | linear1 | Linear | 700   \n",
      "1 | act_fn  | ReLU   | 0     \n",
      "2 | linear2 | Linear | 10.1 K\n",
      "3 | act_fn2 | ReLU   | 0     \n",
      "4 | linear3 | Linear | 606   \n",
      "-----------------------------------\n",
      "11.4 K    Trainable params\n",
      "0         Non-trainable params\n",
      "11.4 K    Total params\n",
      "0.046     Total estimated model params size (MB)\n"
     ]
    },
    {
     "name": "stdout",
     "output_type": "stream",
     "text": [
      "layer 1/2,  condition number: 2.0829277993570816\n",
      "layer 2/2,  condition number: 2.0878863987696406\n"
     ]
    },
    {
     "data": {
      "application/vnd.jupyter.widget-view+json": {
       "model_id": "258b2ef2cfaf44dea25f02987cf84acf",
       "version_major": 2,
       "version_minor": 0
      },
      "text/plain": [
       "Training: 0it [00:00, ?it/s]"
      ]
     },
     "metadata": {},
     "output_type": "display_data"
    },
    {
     "name": "stdout",
     "output_type": "stream",
     "text": [
      "25000\n",
      "condition number threshold: 2.203198\n",
      "layer 1/2,  condition number: 2.0794723821594787\n"
     ]
    },
    {
     "name": "stderr",
     "output_type": "stream",
     "text": [
      "GPU available: False, used: False\n",
      "TPU available: False, using: 0 TPU cores\n",
      "IPU available: False, using: 0 IPUs\n",
      "\n",
      "  | Name    | Type   | Params\n",
      "-----------------------------------\n",
      "0 | linear1 | Linear | 700   \n",
      "1 | act_fn  | ReLU   | 0     \n",
      "2 | linear2 | Linear | 10.1 K\n",
      "3 | act_fn2 | ReLU   | 0     \n",
      "4 | linear3 | Linear | 606   \n",
      "-----------------------------------\n",
      "11.4 K    Trainable params\n",
      "0         Non-trainable params\n",
      "11.4 K    Total params\n",
      "0.046     Total estimated model params size (MB)\n"
     ]
    },
    {
     "name": "stdout",
     "output_type": "stream",
     "text": [
      "layer 2/2,  condition number: 2.089591372104892\n"
     ]
    },
    {
     "data": {
      "application/vnd.jupyter.widget-view+json": {
       "model_id": "f2a2567014f3461c994a300b9a55668e",
       "version_major": 2,
       "version_minor": 0
      },
      "text/plain": [
       "Training: 0it [00:00, ?it/s]"
      ]
     },
     "metadata": {},
     "output_type": "display_data"
    },
    {
     "name": "stdout",
     "output_type": "stream",
     "text": [
      "25000\n",
      "condition number threshold: 3.288091\n",
      "layer 1/2,  condition number: 3.148635494528012\n"
     ]
    },
    {
     "name": "stderr",
     "output_type": "stream",
     "text": [
      "GPU available: False, used: False\n",
      "TPU available: False, using: 0 TPU cores\n",
      "IPU available: False, using: 0 IPUs\n",
      "\n",
      "  | Name    | Type   | Params\n",
      "-----------------------------------\n",
      "0 | linear1 | Linear | 1.1 K \n",
      "1 | act_fn  | ReLU   | 0     \n",
      "2 | linear2 | Linear | 10.1 K\n",
      "3 | act_fn2 | ReLU   | 0     \n",
      "4 | linear3 | Linear | 1.0 K \n",
      "-----------------------------------\n",
      "12.2 K    Trainable params\n",
      "0         Non-trainable params\n",
      "12.2 K    Total params\n",
      "0.049     Total estimated model params size (MB)\n"
     ]
    },
    {
     "name": "stdout",
     "output_type": "stream",
     "text": [
      "layer 2/2,  condition number: 3.2451177434204572\n"
     ]
    },
    {
     "data": {
      "application/vnd.jupyter.widget-view+json": {
       "model_id": "f4bb2df4e4434d689df0968be5f8a0f5",
       "version_major": 2,
       "version_minor": 0
      },
      "text/plain": [
       "Training: 0it [00:00, ?it/s]"
      ]
     },
     "metadata": {},
     "output_type": "display_data"
    },
    {
     "name": "stdout",
     "output_type": "stream",
     "text": [
      "25000\n",
      "condition number threshold: 3.540346\n",
      "layer 1/2,  condition number: 3.4316955268837357\n"
     ]
    },
    {
     "name": "stderr",
     "output_type": "stream",
     "text": [
      "GPU available: False, used: False\n",
      "TPU available: False, using: 0 TPU cores\n",
      "IPU available: False, using: 0 IPUs\n",
      "\n",
      "  | Name    | Type   | Params\n",
      "-----------------------------------\n",
      "0 | linear1 | Linear | 1.1 K \n",
      "1 | act_fn  | ReLU   | 0     \n",
      "2 | linear2 | Linear | 10.1 K\n",
      "3 | act_fn2 | ReLU   | 0     \n",
      "4 | linear3 | Linear | 1.0 K \n",
      "-----------------------------------\n",
      "12.2 K    Trainable params\n",
      "0         Non-trainable params\n",
      "12.2 K    Total params\n",
      "0.049     Total estimated model params size (MB)\n"
     ]
    },
    {
     "name": "stdout",
     "output_type": "stream",
     "text": [
      "layer 2/2,  condition number: 3.4076018526780807\n"
     ]
    },
    {
     "data": {
      "application/vnd.jupyter.widget-view+json": {
       "model_id": "af6671f1dd8a4c91a91754ab32a034d9",
       "version_major": 2,
       "version_minor": 0
      },
      "text/plain": [
       "Training: 0it [00:00, ?it/s]"
      ]
     },
     "metadata": {},
     "output_type": "display_data"
    },
    {
     "name": "stdout",
     "output_type": "stream",
     "text": [
      "25000\n",
      "condition number threshold: 3.854760\n",
      "layer 1/2,  condition number: 3.3157080739605447\n"
     ]
    },
    {
     "name": "stderr",
     "output_type": "stream",
     "text": [
      "GPU available: False, used: False\n",
      "TPU available: False, using: 0 TPU cores\n",
      "IPU available: False, using: 0 IPUs\n",
      "\n",
      "  | Name    | Type   | Params\n",
      "-----------------------------------\n",
      "0 | linear1 | Linear | 1.1 K \n",
      "1 | act_fn  | ReLU   | 0     \n",
      "2 | linear2 | Linear | 10.1 K\n",
      "3 | act_fn2 | ReLU   | 0     \n",
      "4 | linear3 | Linear | 1.0 K \n",
      "-----------------------------------\n",
      "12.2 K    Trainable params\n",
      "0         Non-trainable params\n",
      "12.2 K    Total params\n",
      "0.049     Total estimated model params size (MB)\n"
     ]
    },
    {
     "name": "stdout",
     "output_type": "stream",
     "text": [
      "layer 2/2,  condition number: 3.7249265331802963\n"
     ]
    },
    {
     "data": {
      "application/vnd.jupyter.widget-view+json": {
       "model_id": "466894b68413467986f5aacae8a449d4",
       "version_major": 2,
       "version_minor": 0
      },
      "text/plain": [
       "Training: 0it [00:00, ?it/s]"
      ]
     },
     "metadata": {},
     "output_type": "display_data"
    },
    {
     "name": "stdout",
     "output_type": "stream",
     "text": [
      "25000\n",
      "condition number threshold: 3.217307\n",
      "layer 1/2,  condition number: 3.1084508066825842\n"
     ]
    },
    {
     "name": "stderr",
     "output_type": "stream",
     "text": [
      "GPU available: False, used: False\n",
      "TPU available: False, using: 0 TPU cores\n",
      "IPU available: False, using: 0 IPUs\n",
      "\n",
      "  | Name    | Type   | Params\n",
      "-----------------------------------\n",
      "0 | linear1 | Linear | 1.1 K \n",
      "1 | act_fn  | ReLU   | 0     \n",
      "2 | linear2 | Linear | 10.1 K\n",
      "3 | act_fn2 | ReLU   | 0     \n",
      "4 | linear3 | Linear | 1.0 K \n",
      "-----------------------------------\n",
      "12.2 K    Trainable params\n",
      "0         Non-trainable params\n",
      "12.2 K    Total params\n",
      "0.049     Total estimated model params size (MB)\n"
     ]
    },
    {
     "name": "stdout",
     "output_type": "stream",
     "text": [
      "layer 2/2,  condition number: 3.197998077643236\n"
     ]
    },
    {
     "data": {
      "application/vnd.jupyter.widget-view+json": {
       "model_id": "1d2abeeee6bf420f8287b604715cbd23",
       "version_major": 2,
       "version_minor": 0
      },
      "text/plain": [
       "Training: 0it [00:00, ?it/s]"
      ]
     },
     "metadata": {},
     "output_type": "display_data"
    },
    {
     "name": "stdout",
     "output_type": "stream",
     "text": [
      "25000\n",
      "condition number threshold: 3.438439\n",
      "layer 1/2,  condition number: 2.764396257391674\n"
     ]
    },
    {
     "name": "stderr",
     "output_type": "stream",
     "text": [
      "GPU available: False, used: False\n",
      "TPU available: False, using: 0 TPU cores\n",
      "IPU available: False, using: 0 IPUs\n",
      "\n",
      "  | Name    | Type   | Params\n",
      "-----------------------------------\n",
      "0 | linear1 | Linear | 1.1 K \n",
      "1 | act_fn  | ReLU   | 0     \n",
      "2 | linear2 | Linear | 10.1 K\n",
      "3 | act_fn2 | ReLU   | 0     \n",
      "4 | linear3 | Linear | 1.0 K \n",
      "-----------------------------------\n",
      "12.2 K    Trainable params\n",
      "0         Non-trainable params\n",
      "12.2 K    Total params\n",
      "0.049     Total estimated model params size (MB)\n"
     ]
    },
    {
     "name": "stdout",
     "output_type": "stream",
     "text": [
      "layer 2/2,  condition number: 3.328598564889553\n"
     ]
    },
    {
     "data": {
      "application/vnd.jupyter.widget-view+json": {
       "model_id": "88dc07e5486b445287fd05f848d7e82d",
       "version_major": 2,
       "version_minor": 0
      },
      "text/plain": [
       "Training: 0it [00:00, ?it/s]"
      ]
     },
     "metadata": {},
     "output_type": "display_data"
    },
    {
     "name": "stdout",
     "output_type": "stream",
     "text": [
      "25000\n",
      "condition number threshold: 8.989119\n",
      "layer 1/2,  condition number: 8.71471919803647\n"
     ]
    },
    {
     "name": "stderr",
     "output_type": "stream",
     "text": [
      "GPU available: False, used: False\n",
      "TPU available: False, using: 0 TPU cores\n",
      "IPU available: False, using: 0 IPUs\n",
      "\n",
      "  | Name    | Type   | Params\n",
      "-----------------------------------\n",
      "0 | linear1 | Linear | 2.1 K \n",
      "1 | act_fn  | ReLU   | 0     \n",
      "2 | linear2 | Linear | 10.1 K\n",
      "3 | act_fn2 | ReLU   | 0     \n",
      "4 | linear3 | Linear | 2.0 K \n",
      "-----------------------------------\n",
      "14.2 K    Trainable params\n",
      "0         Non-trainable params\n",
      "14.2 K    Total params\n",
      "0.057     Total estimated model params size (MB)\n"
     ]
    },
    {
     "name": "stdout",
     "output_type": "stream",
     "text": [
      "layer 2/2,  condition number: 8.742682210718767\n"
     ]
    },
    {
     "data": {
      "application/vnd.jupyter.widget-view+json": {
       "model_id": "045a48d2854b4824851ffb3cbc55c93e",
       "version_major": 2,
       "version_minor": 0
      },
      "text/plain": [
       "Training: 0it [00:00, ?it/s]"
      ]
     },
     "metadata": {},
     "output_type": "display_data"
    },
    {
     "name": "stdout",
     "output_type": "stream",
     "text": [
      "25000\n",
      "condition number threshold: 9.329017\n",
      "layer 1/2,  condition number: 8.454878371485986\n",
      "layer 2/2,  condition number: 8.735454730033844\n"
     ]
    },
    {
     "name": "stderr",
     "output_type": "stream",
     "text": [
      "GPU available: False, used: False\n",
      "TPU available: False, using: 0 TPU cores\n",
      "IPU available: False, using: 0 IPUs\n",
      "\n",
      "  | Name    | Type   | Params\n",
      "-----------------------------------\n",
      "0 | linear1 | Linear | 2.1 K \n",
      "1 | act_fn  | ReLU   | 0     \n",
      "2 | linear2 | Linear | 10.1 K\n",
      "3 | act_fn2 | ReLU   | 0     \n",
      "4 | linear3 | Linear | 2.0 K \n",
      "-----------------------------------\n",
      "14.2 K    Trainable params\n",
      "0         Non-trainable params\n",
      "14.2 K    Total params\n",
      "0.057     Total estimated model params size (MB)\n"
     ]
    },
    {
     "data": {
      "application/vnd.jupyter.widget-view+json": {
       "model_id": "bde5cb75bfa943a7a88efccb9f1d3a50",
       "version_major": 2,
       "version_minor": 0
      },
      "text/plain": [
       "Training: 0it [00:00, ?it/s]"
      ]
     },
     "metadata": {},
     "output_type": "display_data"
    },
    {
     "name": "stdout",
     "output_type": "stream",
     "text": [
      "25000\n",
      "condition number threshold: 9.123546\n",
      "layer 1/2,  condition number: 8.29511686855954\n"
     ]
    },
    {
     "name": "stderr",
     "output_type": "stream",
     "text": [
      "GPU available: False, used: False\n",
      "TPU available: False, using: 0 TPU cores\n",
      "IPU available: False, using: 0 IPUs\n",
      "\n",
      "  | Name    | Type   | Params\n",
      "-----------------------------------\n",
      "0 | linear1 | Linear | 2.1 K \n",
      "1 | act_fn  | ReLU   | 0     \n",
      "2 | linear2 | Linear | 10.1 K\n",
      "3 | act_fn2 | ReLU   | 0     \n",
      "4 | linear3 | Linear | 2.0 K \n",
      "-----------------------------------\n",
      "14.2 K    Trainable params\n",
      "0         Non-trainable params\n",
      "14.2 K    Total params\n",
      "0.057     Total estimated model params size (MB)\n"
     ]
    },
    {
     "name": "stdout",
     "output_type": "stream",
     "text": [
      "layer 2/2,  condition number: 8.765715391138992\n"
     ]
    },
    {
     "data": {
      "application/vnd.jupyter.widget-view+json": {
       "model_id": "af8cb1ec789b485f89680ffe592478f0",
       "version_major": 2,
       "version_minor": 0
      },
      "text/plain": [
       "Training: 0it [00:00, ?it/s]"
      ]
     },
     "metadata": {},
     "output_type": "display_data"
    },
    {
     "name": "stdout",
     "output_type": "stream",
     "text": [
      "25000\n",
      "condition number threshold: 8.162761\n",
      "layer 1/2,  condition number: 8.108581631528757\n"
     ]
    },
    {
     "name": "stderr",
     "output_type": "stream",
     "text": [
      "GPU available: False, used: False\n",
      "TPU available: False, using: 0 TPU cores\n",
      "IPU available: False, using: 0 IPUs\n",
      "\n",
      "  | Name    | Type   | Params\n",
      "-----------------------------------\n",
      "0 | linear1 | Linear | 2.1 K \n",
      "1 | act_fn  | ReLU   | 0     \n",
      "2 | linear2 | Linear | 10.1 K\n",
      "3 | act_fn2 | ReLU   | 0     \n",
      "4 | linear3 | Linear | 2.0 K \n",
      "-----------------------------------\n",
      "14.2 K    Trainable params\n",
      "0         Non-trainable params\n",
      "14.2 K    Total params\n",
      "0.057     Total estimated model params size (MB)\n"
     ]
    },
    {
     "name": "stdout",
     "output_type": "stream",
     "text": [
      "layer 2/2,  condition number: 7.542482340372601\n"
     ]
    },
    {
     "data": {
      "application/vnd.jupyter.widget-view+json": {
       "model_id": "3faf862999ca404699b3eacd9b2a8383",
       "version_major": 2,
       "version_minor": 0
      },
      "text/plain": [
       "Training: 0it [00:00, ?it/s]"
      ]
     },
     "metadata": {},
     "output_type": "display_data"
    },
    {
     "name": "stdout",
     "output_type": "stream",
     "text": [
      "25000\n",
      "condition number threshold: 9.672207\n",
      "layer 1/2,  condition number: 7.201320457130757\n"
     ]
    },
    {
     "name": "stderr",
     "output_type": "stream",
     "text": [
      "GPU available: False, used: False\n",
      "TPU available: False, using: 0 TPU cores\n",
      "IPU available: False, using: 0 IPUs\n",
      "\n",
      "  | Name    | Type   | Params\n",
      "-----------------------------------\n",
      "0 | linear1 | Linear | 2.1 K \n",
      "1 | act_fn  | ReLU   | 0     \n",
      "2 | linear2 | Linear | 10.1 K\n",
      "3 | act_fn2 | ReLU   | 0     \n",
      "4 | linear3 | Linear | 2.0 K \n",
      "-----------------------------------\n",
      "14.2 K    Trainable params\n",
      "0         Non-trainable params\n",
      "14.2 K    Total params\n",
      "0.057     Total estimated model params size (MB)\n"
     ]
    },
    {
     "name": "stdout",
     "output_type": "stream",
     "text": [
      "layer 2/2,  condition number: 9.160662534999386\n"
     ]
    },
    {
     "data": {
      "application/vnd.jupyter.widget-view+json": {
       "model_id": "5b7f703383984c83b0bbff5ff3cd3e6b",
       "version_major": 2,
       "version_minor": 0
      },
      "text/plain": [
       "Training: 0it [00:00, ?it/s]"
      ]
     },
     "metadata": {},
     "output_type": "display_data"
    }
   ],
   "source": [
    "n_trials=5\n",
    "dim_list = [6, 10,20]\n",
    "s = len(dim_list)\n",
    "MCC_result = np.zeros((s,n_trials))\n",
    "m=0\n",
    "for d in dim_list:\n",
    "    for trial in range(n_trials):\n",
    "        data_X, data_Z = data_generation_MLP(n=d, n_layers=2, cond_thresh_ratio=0.0, n_iter_cond_thresh=25000, n_data=15000, distribution=\"normal_non_linear\")\n",
    "        k= len(data_X)\n",
    "        train_data_X = []\n",
    "        test_data_X  = []\n",
    "        train_data_Z = []\n",
    "        test_data_Z  = []\n",
    "        train_size = 10000\n",
    "        for i in range(k):\n",
    "            train_data_X.append(data_X[i][:train_size])\n",
    "            train_data_Z.append(data_Z[i][:train_size])\n",
    "            test_data_X.append(data_X[i][train_size:])\n",
    "            test_data_Z.append(data_Z[i][train_size:])  \n",
    "        latent_comparison_model = Latent_comparison_model(d)\n",
    "        train_loader = DataLoader(train_data_X, batch_size=BATCH_SIZE)\n",
    "        trainer = Trainer(\n",
    "            gpus=AVAIL_GPUS,\n",
    "            max_epochs=2000,\n",
    "            progress_bar_refresh_rate=20,\n",
    "        )\n",
    "        trainer.fit(latent_comparison_model, train_loader)\n",
    "        \n",
    "        Zp=latent_comparison_model(test_data_X[0])\n",
    "        Z = test_data_Z[0]\n",
    "        MCC_result[m][trial] = MCC(Z.detach().numpy(),Zp.detach().numpy())\n",
    "    \n",
    "    m=m+1\n",
    "        \n",
    "    \n",
    "        "
   ]
  },
  {
   "cell_type": "code",
   "execution_count": 14,
   "id": "49dd8f59",
   "metadata": {},
   "outputs": [
    {
     "data": {
      "text/plain": [
       "array([[0.99994027, 0.999994  , 0.99998758, 0.9999502 , 0.99999815],\n",
       "       [0.99999311, 0.99997979, 0.99997504, 0.99998499, 0.99998408],\n",
       "       [0.99981365, 0.99992054, 0.99988025, 0.99990201, 0.99992855]])"
      ]
     },
     "execution_count": 14,
     "metadata": {},
     "output_type": "execute_result"
    }
   ],
   "source": [
    "MCC_result"
   ]
  },
  {
   "cell_type": "markdown",
   "id": "c1dd0521",
   "metadata": {},
   "source": [
    "## Generate results (Uniform)"
   ]
  },
  {
   "cell_type": "code",
   "execution_count": 15,
   "id": "580c0d9c",
   "metadata": {},
   "outputs": [
    {
     "name": "stdout",
     "output_type": "stream",
     "text": [
      "25000\n",
      "condition number threshold: 2.092929\n",
      "layer 1/2,  condition number: 1.6946382446164847\n"
     ]
    },
    {
     "name": "stderr",
     "output_type": "stream",
     "text": [
      "GPU available: False, used: False\n",
      "TPU available: False, using: 0 TPU cores\n",
      "IPU available: False, using: 0 IPUs\n",
      "\n",
      "  | Name    | Type   | Params\n",
      "-----------------------------------\n",
      "0 | linear1 | Linear | 700   \n",
      "1 | act_fn  | ReLU   | 0     \n",
      "2 | linear2 | Linear | 10.1 K\n",
      "3 | act_fn2 | ReLU   | 0     \n",
      "4 | linear3 | Linear | 606   \n",
      "-----------------------------------\n",
      "11.4 K    Trainable params\n",
      "0         Non-trainable params\n",
      "11.4 K    Total params\n",
      "0.046     Total estimated model params size (MB)\n"
     ]
    },
    {
     "name": "stdout",
     "output_type": "stream",
     "text": [
      "layer 2/2,  condition number: 2.0813403840622824\n"
     ]
    },
    {
     "data": {
      "application/vnd.jupyter.widget-view+json": {
       "model_id": "6a5bdf442aab4c7bb8eb568c6f455297",
       "version_major": 2,
       "version_minor": 0
      },
      "text/plain": [
       "Training: 0it [00:00, ?it/s]"
      ]
     },
     "metadata": {},
     "output_type": "display_data"
    },
    {
     "name": "stdout",
     "output_type": "stream",
     "text": [
      "25000\n",
      "condition number threshold: 1.861238\n",
      "layer 1/2,  condition number: 1.7399384059465737\n"
     ]
    },
    {
     "name": "stderr",
     "output_type": "stream",
     "text": [
      "GPU available: False, used: False\n",
      "TPU available: False, using: 0 TPU cores\n",
      "IPU available: False, using: 0 IPUs\n",
      "\n",
      "  | Name    | Type   | Params\n",
      "-----------------------------------\n",
      "0 | linear1 | Linear | 700   \n",
      "1 | act_fn  | ReLU   | 0     \n",
      "2 | linear2 | Linear | 10.1 K\n",
      "3 | act_fn2 | ReLU   | 0     \n",
      "4 | linear3 | Linear | 606   \n",
      "-----------------------------------\n",
      "11.4 K    Trainable params\n",
      "0         Non-trainable params\n",
      "11.4 K    Total params\n",
      "0.046     Total estimated model params size (MB)\n"
     ]
    },
    {
     "name": "stdout",
     "output_type": "stream",
     "text": [
      "layer 2/2,  condition number: 1.8162371042173246\n"
     ]
    },
    {
     "data": {
      "application/vnd.jupyter.widget-view+json": {
       "model_id": "7cb0bb069c434b1b8837d4fdb57dcae1",
       "version_major": 2,
       "version_minor": 0
      },
      "text/plain": [
       "Training: 0it [00:00, ?it/s]"
      ]
     },
     "metadata": {},
     "output_type": "display_data"
    },
    {
     "name": "stdout",
     "output_type": "stream",
     "text": [
      "25000\n",
      "condition number threshold: 2.121096\n",
      "layer 1/2,  condition number: 1.9238546003198123\n"
     ]
    },
    {
     "name": "stderr",
     "output_type": "stream",
     "text": [
      "GPU available: False, used: False\n",
      "TPU available: False, using: 0 TPU cores\n",
      "IPU available: False, using: 0 IPUs\n",
      "\n",
      "  | Name    | Type   | Params\n",
      "-----------------------------------\n",
      "0 | linear1 | Linear | 700   \n",
      "1 | act_fn  | ReLU   | 0     \n",
      "2 | linear2 | Linear | 10.1 K\n",
      "3 | act_fn2 | ReLU   | 0     \n",
      "4 | linear3 | Linear | 606   \n",
      "-----------------------------------\n",
      "11.4 K    Trainable params\n",
      "0         Non-trainable params\n",
      "11.4 K    Total params\n",
      "0.046     Total estimated model params size (MB)\n"
     ]
    },
    {
     "name": "stdout",
     "output_type": "stream",
     "text": [
      "layer 2/2,  condition number: 2.083434217534239\n"
     ]
    },
    {
     "data": {
      "application/vnd.jupyter.widget-view+json": {
       "model_id": "89e61ae72c2f44238a1d10b97f6d6c08",
       "version_major": 2,
       "version_minor": 0
      },
      "text/plain": [
       "Training: 0it [00:00, ?it/s]"
      ]
     },
     "metadata": {},
     "output_type": "display_data"
    },
    {
     "name": "stdout",
     "output_type": "stream",
     "text": [
      "25000\n",
      "condition number threshold: 2.011473\n",
      "layer 1/2,  condition number: 1.7773455255635993\n"
     ]
    },
    {
     "name": "stderr",
     "output_type": "stream",
     "text": [
      "GPU available: False, used: False\n",
      "TPU available: False, using: 0 TPU cores\n",
      "IPU available: False, using: 0 IPUs\n",
      "\n",
      "  | Name    | Type   | Params\n",
      "-----------------------------------\n",
      "0 | linear1 | Linear | 700   \n",
      "1 | act_fn  | ReLU   | 0     \n",
      "2 | linear2 | Linear | 10.1 K\n",
      "3 | act_fn2 | ReLU   | 0     \n",
      "4 | linear3 | Linear | 606   \n",
      "-----------------------------------\n",
      "11.4 K    Trainable params\n",
      "0         Non-trainable params\n",
      "11.4 K    Total params\n",
      "0.046     Total estimated model params size (MB)\n"
     ]
    },
    {
     "name": "stdout",
     "output_type": "stream",
     "text": [
      "layer 2/2,  condition number: 1.9836706481547415\n"
     ]
    },
    {
     "data": {
      "application/vnd.jupyter.widget-view+json": {
       "model_id": "8aadc5fbcb8d4a528eaabf9fbd641b91",
       "version_major": 2,
       "version_minor": 0
      },
      "text/plain": [
       "Training: 0it [00:00, ?it/s]"
      ]
     },
     "metadata": {},
     "output_type": "display_data"
    },
    {
     "name": "stdout",
     "output_type": "stream",
     "text": [
      "25000\n",
      "condition number threshold: 2.043286\n",
      "layer 1/2,  condition number: 1.8205245723161816\n"
     ]
    },
    {
     "name": "stderr",
     "output_type": "stream",
     "text": [
      "GPU available: False, used: False\n",
      "TPU available: False, using: 0 TPU cores\n",
      "IPU available: False, using: 0 IPUs\n",
      "\n",
      "  | Name    | Type   | Params\n",
      "-----------------------------------\n",
      "0 | linear1 | Linear | 700   \n",
      "1 | act_fn  | ReLU   | 0     \n",
      "2 | linear2 | Linear | 10.1 K\n",
      "3 | act_fn2 | ReLU   | 0     \n",
      "4 | linear3 | Linear | 606   \n",
      "-----------------------------------\n",
      "11.4 K    Trainable params\n",
      "0         Non-trainable params\n",
      "11.4 K    Total params\n",
      "0.046     Total estimated model params size (MB)\n"
     ]
    },
    {
     "name": "stdout",
     "output_type": "stream",
     "text": [
      "layer 2/2,  condition number: 1.9968718749991285\n"
     ]
    },
    {
     "data": {
      "application/vnd.jupyter.widget-view+json": {
       "model_id": "6e1b58277fc847bd9c8b905f7e5f3230",
       "version_major": 2,
       "version_minor": 0
      },
      "text/plain": [
       "Training: 0it [00:00, ?it/s]"
      ]
     },
     "metadata": {},
     "output_type": "display_data"
    },
    {
     "name": "stdout",
     "output_type": "stream",
     "text": [
      "25000\n",
      "condition number threshold: 3.837890\n",
      "layer 1/2,  condition number: 3.4084245914621745\n"
     ]
    },
    {
     "name": "stderr",
     "output_type": "stream",
     "text": [
      "GPU available: False, used: False\n",
      "TPU available: False, using: 0 TPU cores\n",
      "IPU available: False, using: 0 IPUs\n",
      "\n",
      "  | Name    | Type   | Params\n",
      "-----------------------------------\n",
      "0 | linear1 | Linear | 1.1 K \n",
      "1 | act_fn  | ReLU   | 0     \n",
      "2 | linear2 | Linear | 10.1 K\n",
      "3 | act_fn2 | ReLU   | 0     \n",
      "4 | linear3 | Linear | 1.0 K \n",
      "-----------------------------------\n",
      "12.2 K    Trainable params\n",
      "0         Non-trainable params\n",
      "12.2 K    Total params\n",
      "0.049     Total estimated model params size (MB)\n"
     ]
    },
    {
     "name": "stdout",
     "output_type": "stream",
     "text": [
      "layer 2/2,  condition number: 3.7741654006740224\n"
     ]
    },
    {
     "data": {
      "application/vnd.jupyter.widget-view+json": {
       "model_id": "fa03633f5a5f4b789a7f2ca71b2fad33",
       "version_major": 2,
       "version_minor": 0
      },
      "text/plain": [
       "Training: 0it [00:00, ?it/s]"
      ]
     },
     "metadata": {},
     "output_type": "display_data"
    },
    {
     "name": "stdout",
     "output_type": "stream",
     "text": [
      "25000\n",
      "condition number threshold: 4.039048\n"
     ]
    },
    {
     "name": "stderr",
     "output_type": "stream",
     "text": [
      "GPU available: False, used: False\n",
      "TPU available: False, using: 0 TPU cores\n",
      "IPU available: False, using: 0 IPUs\n",
      "\n",
      "  | Name    | Type   | Params\n",
      "-----------------------------------\n",
      "0 | linear1 | Linear | 1.1 K \n",
      "1 | act_fn  | ReLU   | 0     \n",
      "2 | linear2 | Linear | 10.1 K\n",
      "3 | act_fn2 | ReLU   | 0     \n",
      "4 | linear3 | Linear | 1.0 K \n",
      "-----------------------------------\n",
      "12.2 K    Trainable params\n",
      "0         Non-trainable params\n",
      "12.2 K    Total params\n",
      "0.049     Total estimated model params size (MB)\n"
     ]
    },
    {
     "name": "stdout",
     "output_type": "stream",
     "text": [
      "layer 1/2,  condition number: 3.9247352573111027\n",
      "layer 2/2,  condition number: 3.996702737086388\n"
     ]
    },
    {
     "data": {
      "application/vnd.jupyter.widget-view+json": {
       "model_id": "9a7726ff13914bd4b83cdff371b5d204",
       "version_major": 2,
       "version_minor": 0
      },
      "text/plain": [
       "Training: 0it [00:00, ?it/s]"
      ]
     },
     "metadata": {},
     "output_type": "display_data"
    },
    {
     "name": "stdout",
     "output_type": "stream",
     "text": [
      "25000\n",
      "condition number threshold: 3.951830\n",
      "layer 1/2,  condition number: 3.392736033024425\n"
     ]
    },
    {
     "name": "stderr",
     "output_type": "stream",
     "text": [
      "GPU available: False, used: False\n",
      "TPU available: False, using: 0 TPU cores\n",
      "IPU available: False, using: 0 IPUs\n",
      "\n",
      "  | Name    | Type   | Params\n",
      "-----------------------------------\n",
      "0 | linear1 | Linear | 1.1 K \n",
      "1 | act_fn  | ReLU   | 0     \n",
      "2 | linear2 | Linear | 10.1 K\n",
      "3 | act_fn2 | ReLU   | 0     \n",
      "4 | linear3 | Linear | 1.0 K \n",
      "-----------------------------------\n",
      "12.2 K    Trainable params\n",
      "0         Non-trainable params\n",
      "12.2 K    Total params\n",
      "0.049     Total estimated model params size (MB)\n"
     ]
    },
    {
     "name": "stdout",
     "output_type": "stream",
     "text": [
      "layer 2/2,  condition number: 3.7685675747446976\n"
     ]
    },
    {
     "data": {
      "application/vnd.jupyter.widget-view+json": {
       "model_id": "fd95b9ad19c94779be45dab5be0d8a6a",
       "version_major": 2,
       "version_minor": 0
      },
      "text/plain": [
       "Training: 0it [00:00, ?it/s]"
      ]
     },
     "metadata": {},
     "output_type": "display_data"
    },
    {
     "name": "stdout",
     "output_type": "stream",
     "text": [
      "25000\n",
      "condition number threshold: 3.871876\n",
      "layer 1/2,  condition number: 3.573616524326193\n"
     ]
    },
    {
     "name": "stderr",
     "output_type": "stream",
     "text": [
      "GPU available: False, used: False\n",
      "TPU available: False, using: 0 TPU cores\n",
      "IPU available: False, using: 0 IPUs\n",
      "\n",
      "  | Name    | Type   | Params\n",
      "-----------------------------------\n",
      "0 | linear1 | Linear | 1.1 K \n",
      "1 | act_fn  | ReLU   | 0     \n",
      "2 | linear2 | Linear | 10.1 K\n",
      "3 | act_fn2 | ReLU   | 0     \n",
      "4 | linear3 | Linear | 1.0 K \n",
      "-----------------------------------\n",
      "12.2 K    Trainable params\n",
      "0         Non-trainable params\n",
      "12.2 K    Total params\n",
      "0.049     Total estimated model params size (MB)\n"
     ]
    },
    {
     "name": "stdout",
     "output_type": "stream",
     "text": [
      "layer 2/2,  condition number: 3.6159037639054326\n"
     ]
    },
    {
     "data": {
      "application/vnd.jupyter.widget-view+json": {
       "model_id": "7ab4a88bd0244c97886f9521d2f9c47e",
       "version_major": 2,
       "version_minor": 0
      },
      "text/plain": [
       "Training: 0it [00:00, ?it/s]"
      ]
     },
     "metadata": {},
     "output_type": "display_data"
    },
    {
     "name": "stdout",
     "output_type": "stream",
     "text": [
      "25000\n",
      "condition number threshold: 4.144596\n",
      "layer 1/2,  condition number: 3.869814516851981\n"
     ]
    },
    {
     "name": "stderr",
     "output_type": "stream",
     "text": [
      "GPU available: False, used: False\n",
      "TPU available: False, using: 0 TPU cores\n",
      "IPU available: False, using: 0 IPUs\n",
      "\n",
      "  | Name    | Type   | Params\n",
      "-----------------------------------\n",
      "0 | linear1 | Linear | 1.1 K \n",
      "1 | act_fn  | ReLU   | 0     \n",
      "2 | linear2 | Linear | 10.1 K\n",
      "3 | act_fn2 | ReLU   | 0     \n",
      "4 | linear3 | Linear | 1.0 K \n",
      "-----------------------------------\n",
      "12.2 K    Trainable params\n",
      "0         Non-trainable params\n",
      "12.2 K    Total params\n",
      "0.049     Total estimated model params size (MB)\n"
     ]
    },
    {
     "name": "stdout",
     "output_type": "stream",
     "text": [
      "layer 2/2,  condition number: 4.108220868839708\n"
     ]
    },
    {
     "data": {
      "application/vnd.jupyter.widget-view+json": {
       "model_id": "65547a08c08144099454d90bda73afce",
       "version_major": 2,
       "version_minor": 0
      },
      "text/plain": [
       "Training: 0it [00:00, ?it/s]"
      ]
     },
     "metadata": {},
     "output_type": "display_data"
    },
    {
     "name": "stdout",
     "output_type": "stream",
     "text": [
      "25000\n",
      "condition number threshold: 7.202967\n",
      "layer 1/2,  condition number: 7.025763704556807\n"
     ]
    },
    {
     "name": "stderr",
     "output_type": "stream",
     "text": [
      "GPU available: False, used: False\n",
      "TPU available: False, using: 0 TPU cores\n",
      "IPU available: False, using: 0 IPUs\n",
      "\n",
      "  | Name    | Type   | Params\n",
      "-----------------------------------\n",
      "0 | linear1 | Linear | 2.1 K \n",
      "1 | act_fn  | ReLU   | 0     \n",
      "2 | linear2 | Linear | 10.1 K\n",
      "3 | act_fn2 | ReLU   | 0     \n",
      "4 | linear3 | Linear | 2.0 K \n",
      "-----------------------------------\n",
      "14.2 K    Trainable params\n",
      "0         Non-trainable params\n",
      "14.2 K    Total params\n",
      "0.057     Total estimated model params size (MB)\n"
     ]
    },
    {
     "name": "stdout",
     "output_type": "stream",
     "text": [
      "layer 2/2,  condition number: 6.7064483099401295\n"
     ]
    },
    {
     "data": {
      "application/vnd.jupyter.widget-view+json": {
       "model_id": "668cc806b192454d8808eaeea44f83d8",
       "version_major": 2,
       "version_minor": 0
      },
      "text/plain": [
       "Training: 0it [00:00, ?it/s]"
      ]
     },
     "metadata": {},
     "output_type": "display_data"
    },
    {
     "name": "stdout",
     "output_type": "stream",
     "text": [
      "25000\n",
      "condition number threshold: 8.806797\n",
      "layer 1/2,  condition number: 8.239643524302567\n"
     ]
    },
    {
     "name": "stderr",
     "output_type": "stream",
     "text": [
      "GPU available: False, used: False\n",
      "TPU available: False, using: 0 TPU cores\n",
      "IPU available: False, using: 0 IPUs\n",
      "\n",
      "  | Name    | Type   | Params\n",
      "-----------------------------------\n",
      "0 | linear1 | Linear | 2.1 K \n",
      "1 | act_fn  | ReLU   | 0     \n",
      "2 | linear2 | Linear | 10.1 K\n",
      "3 | act_fn2 | ReLU   | 0     \n",
      "4 | linear3 | Linear | 2.0 K \n",
      "-----------------------------------\n",
      "14.2 K    Trainable params\n",
      "0         Non-trainable params\n",
      "14.2 K    Total params\n",
      "0.057     Total estimated model params size (MB)\n"
     ]
    },
    {
     "name": "stdout",
     "output_type": "stream",
     "text": [
      "layer 2/2,  condition number: 8.33534686319042\n"
     ]
    },
    {
     "data": {
      "application/vnd.jupyter.widget-view+json": {
       "model_id": "688c63cb2f3e42539f2e19b417f6cd41",
       "version_major": 2,
       "version_minor": 0
      },
      "text/plain": [
       "Training: 0it [00:00, ?it/s]"
      ]
     },
     "metadata": {},
     "output_type": "display_data"
    },
    {
     "name": "stdout",
     "output_type": "stream",
     "text": [
      "25000\n",
      "condition number threshold: 8.854860\n",
      "layer 1/2,  condition number: 8.694020244594542\n"
     ]
    },
    {
     "name": "stderr",
     "output_type": "stream",
     "text": [
      "GPU available: False, used: False\n",
      "TPU available: False, using: 0 TPU cores\n",
      "IPU available: False, using: 0 IPUs\n",
      "\n",
      "  | Name    | Type   | Params\n",
      "-----------------------------------\n",
      "0 | linear1 | Linear | 2.1 K \n",
      "1 | act_fn  | ReLU   | 0     \n",
      "2 | linear2 | Linear | 10.1 K\n",
      "3 | act_fn2 | ReLU   | 0     \n",
      "4 | linear3 | Linear | 2.0 K \n",
      "-----------------------------------\n",
      "14.2 K    Trainable params\n",
      "0         Non-trainable params\n",
      "14.2 K    Total params\n",
      "0.057     Total estimated model params size (MB)\n"
     ]
    },
    {
     "name": "stdout",
     "output_type": "stream",
     "text": [
      "layer 2/2,  condition number: 8.254054486671615\n"
     ]
    },
    {
     "data": {
      "application/vnd.jupyter.widget-view+json": {
       "model_id": "3d6373627a5c4fc58be2d5a05b738bd9",
       "version_major": 2,
       "version_minor": 0
      },
      "text/plain": [
       "Training: 0it [00:00, ?it/s]"
      ]
     },
     "metadata": {},
     "output_type": "display_data"
    },
    {
     "name": "stdout",
     "output_type": "stream",
     "text": [
      "25000\n",
      "condition number threshold: 9.387527\n",
      "layer 1/2,  condition number: 8.403069298529486\n"
     ]
    },
    {
     "name": "stderr",
     "output_type": "stream",
     "text": [
      "GPU available: False, used: False\n",
      "TPU available: False, using: 0 TPU cores\n",
      "IPU available: False, using: 0 IPUs\n",
      "\n",
      "  | Name    | Type   | Params\n",
      "-----------------------------------\n",
      "0 | linear1 | Linear | 2.1 K \n",
      "1 | act_fn  | ReLU   | 0     \n",
      "2 | linear2 | Linear | 10.1 K\n",
      "3 | act_fn2 | ReLU   | 0     \n",
      "4 | linear3 | Linear | 2.0 K \n",
      "-----------------------------------\n",
      "14.2 K    Trainable params\n",
      "0         Non-trainable params\n",
      "14.2 K    Total params\n",
      "0.057     Total estimated model params size (MB)\n"
     ]
    },
    {
     "name": "stdout",
     "output_type": "stream",
     "text": [
      "layer 2/2,  condition number: 9.361125688881737\n"
     ]
    },
    {
     "data": {
      "application/vnd.jupyter.widget-view+json": {
       "model_id": "412a657491484480869bd7fd900b049b",
       "version_major": 2,
       "version_minor": 0
      },
      "text/plain": [
       "Training: 0it [00:00, ?it/s]"
      ]
     },
     "metadata": {},
     "output_type": "display_data"
    },
    {
     "name": "stdout",
     "output_type": "stream",
     "text": [
      "25000\n",
      "condition number threshold: 6.967724\n",
      "layer 1/2,  condition number: 6.655466154751754\n"
     ]
    },
    {
     "name": "stderr",
     "output_type": "stream",
     "text": [
      "GPU available: False, used: False\n",
      "TPU available: False, using: 0 TPU cores\n",
      "IPU available: False, using: 0 IPUs\n",
      "\n",
      "  | Name    | Type   | Params\n",
      "-----------------------------------\n",
      "0 | linear1 | Linear | 2.1 K \n",
      "1 | act_fn  | ReLU   | 0     \n",
      "2 | linear2 | Linear | 10.1 K\n",
      "3 | act_fn2 | ReLU   | 0     \n",
      "4 | linear3 | Linear | 2.0 K \n",
      "-----------------------------------\n",
      "14.2 K    Trainable params\n",
      "0         Non-trainable params\n",
      "14.2 K    Total params\n",
      "0.057     Total estimated model params size (MB)\n"
     ]
    },
    {
     "name": "stdout",
     "output_type": "stream",
     "text": [
      "layer 2/2,  condition number: 6.89235117887466\n"
     ]
    },
    {
     "data": {
      "application/vnd.jupyter.widget-view+json": {
       "model_id": "7a5876fa436e4a92ac68129b0f6eddef",
       "version_major": 2,
       "version_minor": 0
      },
      "text/plain": [
       "Training: 0it [00:00, ?it/s]"
      ]
     },
     "metadata": {},
     "output_type": "display_data"
    }
   ],
   "source": [
    "n_trials=5\n",
    "dim_list = [6, 10,20]\n",
    "s = len(dim_list)\n",
    "MCC_result = np.zeros((s,n_trials))\n",
    "m=0\n",
    "for d in dim_list:\n",
    "    for trial in range(n_trials):\n",
    "        data_X, data_Z = data_generation_MLP(n=d, n_layers=2, cond_thresh_ratio=0.0, n_iter_cond_thresh=25000, n_data=15000, distribution=\"uniform_non_linear\")\n",
    "        k= len(data_X)\n",
    "        train_data_X = []\n",
    "        test_data_X  = []\n",
    "        train_data_Z = []\n",
    "        test_data_Z  = []\n",
    "        train_size = 10000\n",
    "        for i in range(k):\n",
    "            train_data_X.append(data_X[i][:train_size])\n",
    "            train_data_Z.append(data_Z[i][:train_size])\n",
    "            test_data_X.append(data_X[i][train_size:])\n",
    "            test_data_Z.append(data_Z[i][train_size:])  \n",
    "        latent_comparison_model = Latent_comparison_model(d)\n",
    "        train_loader = DataLoader(train_data_X, batch_size=BATCH_SIZE)\n",
    "        trainer = Trainer(\n",
    "            gpus=AVAIL_GPUS,\n",
    "            max_epochs=2000,\n",
    "            progress_bar_refresh_rate=20,\n",
    "        )\n",
    "        trainer.fit(latent_comparison_model, train_loader)\n",
    "        \n",
    "        Zp=latent_comparison_model(test_data_X[0])\n",
    "        Z = test_data_Z[0]\n",
    "        MCC_result[m][trial] = MCC(Z.detach().numpy(),Zp.detach().numpy())\n",
    "    \n",
    "    m=m+1\n",
    "        \n",
    "    \n",
    "        "
   ]
  },
  {
   "cell_type": "code",
   "execution_count": 16,
   "id": "b9581307",
   "metadata": {},
   "outputs": [
    {
     "data": {
      "text/plain": [
       "array([[0.9999886 , 0.99999541, 0.99997874, 0.99998145, 0.99993658],\n",
       "       [0.9999922 , 0.99979694, 0.99968831, 0.99995207, 0.99991851],\n",
       "       [0.9986362 , 0.99942116, 0.99620637, 0.99541172, 0.99771859]])"
      ]
     },
     "execution_count": 16,
     "metadata": {},
     "output_type": "execute_result"
    }
   ],
   "source": [
    "MCC_result"
   ]
  }
 ],
 "metadata": {
  "kernelspec": {
   "display_name": "Python 3 (ipykernel)",
   "language": "python",
   "name": "python3"
  },
  "language_info": {
   "codemirror_mode": {
    "name": "ipython",
    "version": 3
   },
   "file_extension": ".py",
   "mimetype": "text/x-python",
   "name": "python",
   "nbconvert_exporter": "python",
   "pygments_lexer": "ipython3",
   "version": "3.7.4"
  }
 },
 "nbformat": 4,
 "nbformat_minor": 5
}
